{
  "nbformat": 4,
  "nbformat_minor": 0,
  "metadata": {
    "colab": {
      "name": "AutoEncoder & ROC Curves - ESPRIT.ipynb",
      "version": "0.3.2",
      "provenance": [],
      "collapsed_sections": [],
      "include_colab_link": true
    },
    "kernelspec": {
      "name": "python3",
      "display_name": "Python 3"
    },
    "accelerator": "GPU"
  },
  "cells": [
    {
      "cell_type": "markdown",
      "metadata": {
        "id": "view-in-github",
        "colab_type": "text"
      },
      "source": [
        "[View in Colaboratory](https://colab.research.google.com/github/opooladz/ESPRIT-Autoencoder-Anomaly-Detection/blob/master/AutoEncoder_&_ROC_Curves_ESPRIT.ipynb)"
      ]
    },
    {
      "metadata": {
        "id": "ls_UG_Iv50o5",
        "colab_type": "code",
        "colab": {
          "base_uri": "https://localhost:8080/",
          "height": 201
        },
        "outputId": "8374e90e-d271-42fa-f162-ffbe240d319d"
      },
      "cell_type": "code",
      "source": [
        "!pip3 install numba"
      ],
      "execution_count": 2,
      "outputs": [
        {
          "output_type": "stream",
          "text": [
            "Collecting numba\n",
            "\u001b[?25l  Downloading https://files.pythonhosted.org/packages/24/89/6f1755892d60ddd528090dc313349e7cc491170d6737f6b3a7a5b317ef81/numba-0.39.0-cp36-cp36m-manylinux1_x86_64.whl (1.9MB)\n",
            "\u001b[K    100% |████████████████████████████████| 1.9MB 10.0MB/s \n",
            "\u001b[?25hRequirement already satisfied: numpy in /usr/local/lib/python3.6/dist-packages (from numba) (1.14.5)\n",
            "Collecting llvmlite>=0.24.0dev0 (from numba)\n",
            "\u001b[?25l  Downloading https://files.pythonhosted.org/packages/be/05/c1b933d6b3dd6a234b681605e4154c44d21ee22cbef315c4eb9d64e6ab6a/llvmlite-0.24.0-cp36-cp36m-manylinux1_x86_64.whl (15.8MB)\n",
            "\u001b[K    100% |████████████████████████████████| 15.9MB 1.8MB/s \n",
            "\u001b[?25hInstalling collected packages: llvmlite, numba\n",
            "Successfully installed llvmlite-0.24.0 numba-0.39.0\n"
          ],
          "name": "stdout"
        }
      ]
    },
    {
      "metadata": {
        "id": "32BPXqrHfNrs",
        "colab_type": "code",
        "colab": {}
      },
      "cell_type": "code",
      "source": [
        "import numpy as np\n",
        "from scipy.linalg import toeplitz\n",
        "from numpy import linalg as lg\n",
        "from time import time\n",
        "from typing import Tuple\n",
        "import pandas as pd\n",
        "import pickle\n",
        "import matplotlib.pyplot as plt\n",
        "from scipy import stats\n",
        "import tensorflow as tf\n",
        "import seaborn as sns\n",
        "from pylab import rcParams\n",
        "from sklearn.model_selection import train_test_split\n",
        "from keras.models import Model, load_model\n",
        "from keras.layers import Input, Dense\n",
        "from keras.callbacks import ModelCheckpoint, TensorBoard\n",
        "from keras import regularizers\n",
        "from numba import jit\n",
        "\n",
        "flatten = lambda l: [item for sublist in l for item in sublist]\n",
        "\n",
        "@jit\n",
        "def compute_autocovariance(x: np.ndarray, M: int) -> np.ndarray:\n",
        "    \"\"\"\n",
        "    This function compute the auto-covariance matrix of a numpy signal.\n",
        "    The auto-covariance is computed as follows\n",
        "    .. math:: \\textbf{R}=\\frac{1}{N}\\sum_{M-1}^{N-1}\\textbf{x}_{m}\\textbf{x}_{m}^{H}\n",
        "    where :math:`\\textbf{x}_{m}^{T}=[x[m],x[m-1],x[m-M+1]]`.\n",
        "    :param x: 1-D vector of size N\n",
        "    :param M:  int, optional. Size of signal block.\n",
        "    :returns: NxN ndarray\n",
        "    \"\"\"\n",
        "\n",
        "    # Create covariance matrix for psd estimation\n",
        "    # length of the vector x\n",
        "    x = np.asarray(x).squeeze()\n",
        "    assert x.ndim == 1, '1-D only'\n",
        "    N = x.size\n",
        "\n",
        "    # Create column vector (Nx1) from row array\n",
        "    x_vect = x[None, :].T\n",
        "\n",
        "    # init covariance matrix\n",
        "    yn = x_vect[M-1::-1]  # reverse order from M-1 to 0\n",
        "\n",
        "    R = yn @ yn.conj().T  # zeroth lag\n",
        "    # about 5-8% of computation time\n",
        "    for i in range(1, N-M):  # no zero because we just computed it\n",
        "        # extract the column vector\n",
        "        yn = x_vect[M-1+i:i-1:-1]\n",
        "\n",
        "        R = R + yn @ yn.conj().T\n",
        "\n",
        "    return R / N\n",
        "@jit\n",
        "def wrapper(x):\n",
        "  return np.convolve(x,xc,mode=\"valid\")\n",
        "\n",
        "@jit\n",
        "def esprit1(x: np.ndarray, L: int, M: int=None, fs: int=1,\n",
        "           verbose: bool=False) -> Tuple[np.ndarray, np.ndarray]:\n",
        "    \"\"\"\n",
        "    This function estimate the frequency components based on the ESPRIT algorithm [ROY89]_\n",
        "    The frequencies are related to the roots as :math:`z=e^{-2j\\pi f/Fe}`.\n",
        "    See [STO97]_ section 4.7 for more information about the implementation.\n",
        "    :param x: ndarray, Nsamples\n",
        "    :param L: int. Number of components to be extracted.\n",
        "    :param M:  int, optional. Size of signal block.\n",
        "    :param Fs: float. Sampling Frequency.\n",
        "    :returns: ndarray ndarray containing the L frequencies\n",
        "    >>> import numpy as np\n",
        "    >>> import spectral_analysis.spectral_analysis as sa\n",
        "    >>> Fe=500\n",
        "    >>> t=1.*np.arange(100)/Fe\n",
        "    >>> x=np.exp(2j*np.pi*55.2*t)\n",
        "    >>> f=sa.Esprit(x,1,None,Fe)\n",
        "    >>> print(f)\n",
        "    \"\"\"\n",
        "\n",
        "    x = np.asarray(x).squeeze()\n",
        "    assert x.ndim in (1, 2)\n",
        "    # length of the vector x\n",
        "    if x.ndim == 1:\n",
        "        N = x.size\n",
        "    else:\n",
        "        N = x.shape[1]\n",
        "\n",
        "    if M is None:\n",
        "        M = N // 2\n",
        "# %% extract signal subspace  99.9 % of computation time\n",
        "    tic = time()\n",
        "    if x.ndim == 1 and isinstance(M, int):\n",
        "        R = compute_autocovariance(x, M)  # 75% of computation time        \n",
        "    else:\n",
        "        # the random phase of transmit/receive/target actually helps--need at least 5-6 observations to make useful\n",
        "        R = np.cov(x, rowvar=False)\n",
        "    if verbose:\n",
        "        print('autocov sec.', time()-tic)\n",
        "    # R = subspace.corrmtx(x.astype(complex128),M).astype(float) #f2py fortran\n",
        "\n",
        "    tic = time()\n",
        "    #U, S, V = lg.svd(R)  # 25% of computation time\n",
        "    w, v = lg.eig(R)    \n",
        "    idx = w.argsort()[::-1]   \n",
        "    w = w[idx]\n",
        "    v = v[:,idx]    \n",
        "    if verbose:\n",
        "        print('svd sec.', time()-tic)\n",
        "# %% take eigenvalues and determine sinusoid frequencies\n",
        "    # Remove last row\n",
        "    S1 = v[:-1, :L]\n",
        "    # Remove first row\n",
        "    S2 = v[1:, :L]\n",
        "\n",
        "    # Compute matrix Phi (Stoica 4.7.12)  <0.1 % of computation time\n",
        "    Phi = lg.inv(S1.conj().T @ S1) @ S1.conj().T @ S2\n",
        "\n",
        "    # Perform eigenvalue decomposition <0.1 % of computation time\n",
        "    V, U = lg.eig(Phi)\n",
        "\n",
        "    # extract frequencies ((note that there a minus sign since Yn are defined as [y(n), y(n-1),y(n-2),..].T))\n",
        "    ang = -np.angle(V)\n",
        "\n",
        "    # frequency normalisation\n",
        "    f = fs*ang / (2.*np.pi)\n",
        "    t = np.arange(0, 0.01, 1/fs)\n",
        "    \n",
        "    x2 = np.exp(-1j*2*np.pi*t[::-1])[:,np.newaxis]**f\n",
        "    #display(xc.shape)\n",
        "    #ampCisoid = np.apply_along_axis(lambda q: np.convolve(q,xc,mode=\"valid\"),axis = 0,arr=x2)\n",
        "    ampCisoid = np.apply_along_axis(wrapper,axis = 0,arr=x2)\n",
        "    return f, np.abs(w[:L]), np.abs(ampCisoid)*1./480., np.angle(ampCisoid)\n",
        "  \n",
        "\n",
        "def esprit2(x: np.ndarray, L: int, M: int=None, fs: int=1,\n",
        "           verbose: bool=False) -> Tuple[np.ndarray, np.ndarray]:\n",
        "    \"\"\"\n",
        "    This function estimate the frequency components based on the ESPRIT algorithm [ROY89]_\n",
        "    The frequencies are related to the roots as :math:`z=e^{-2j\\pi f/Fe}`.\n",
        "    See [STO97]_ section 4.7 for more information about the implementation.\n",
        "    :param x: ndarray, Nsamples\n",
        "    :param L: int. Number of components to be extracted.\n",
        "    :param M:  int, optional. Size of signal block.\n",
        "    :param Fs: float. Sampling Frequency.\n",
        "    :returns: ndarray ndarray containing the L frequencies\n",
        "    >>> import numpy as np\n",
        "    >>> import spectral_analysis.spectral_analysis as sa\n",
        "    >>> Fe=500\n",
        "    >>> t=1.*np.arange(100)/Fe\n",
        "    >>> x=np.exp(2j*np.pi*55.2*t)\n",
        "    >>> f=sa.Esprit(x,1,None,Fe)\n",
        "    >>> print(f)\n",
        "    \"\"\"\n",
        "\n",
        "    x = np.asarray(x).squeeze()\n",
        "    assert x.ndim in (1, 2)\n",
        "    # length of the vector x\n",
        "    if x.ndim == 1:\n",
        "        N = x.size\n",
        "    else:\n",
        "        N = x.shape[1]\n",
        "\n",
        "    if M is None:\n",
        "        M = N // 2\n",
        "# %% extract signal subspace  99.9 % of computation time\n",
        "    tic = time()\n",
        "    if x.ndim == 1 and isinstance(M, int):\n",
        "        R = compute_autocovariance(x, M)  # 75% of computation time\n",
        "    else:\n",
        "        # the random phase of transmit/receive/target actually helps--need at least 5-6 observations to make useful\n",
        "        R = np.cov(x, rowvar=False)\n",
        "    if verbose:\n",
        "        print('autocov sec.', time()-tic)\n",
        "    # R = subspace.corrmtx(x.astype(complex128),M).astype(float) #f2py fortran\n",
        "\n",
        "    tic = time()\n",
        "    U, S, V = lg.svd(R)  # 25% of computation time\n",
        "    #w, v = lg.eig(R)    \n",
        "    #idx = w.argsort()[::-1]   \n",
        "    #w = w[idx]\n",
        "    #v = v[:,idx]    \n",
        "    if verbose:\n",
        "        print('svd sec.', time()-tic)\n",
        "# %% take eigenvalues and determine sinusoid frequencies\n",
        "    # Remove last row\n",
        "    S1 = U[:-1, :L]\n",
        "    # Remove first row\n",
        "    S2 = U[1:, :L]\n",
        "\n",
        "    # Compute matrix Phi (Stoica 4.7.12)  <0.1 % of computation time\n",
        "    Phi = lg.inv(S1.conj().T @ S1) @ S1.conj().T @ S2\n",
        "\n",
        "    # Perform eigenvalue decomposition <0.1 % of computation time\n",
        "    V, U = lg.eig(Phi)\n",
        "\n",
        "    # extract frequencies ((note that there a minus sign since Yn are defined as [y(n), y(n-1),y(n-2),..].T))\n",
        "    ang = -np.angle(V)\n",
        "\n",
        "    # frequency normalisation\n",
        "    f = fs*ang / (2.*np.pi)\n",
        "\n",
        "    return f, S[:L]"
      ],
      "execution_count": 0,
      "outputs": []
    },
    {
      "metadata": {
        "id": "CBT1I6cMg4mh",
        "colab_type": "code",
        "colab": {}
      },
      "cell_type": "code",
      "source": [
        "from time import time\n",
        "import numpy as np\n",
        "from pandas import DataFrame\n",
        "\n",
        "# Bool: Needs to be set by user \n",
        "full_anom = 0\n",
        "anom_samples = 143\n",
        "\n",
        "x = np.random.randn(4096).astype(np.complex128)\n",
        "F = 12345.6"
      ],
      "execution_count": 0,
      "outputs": []
    },
    {
      "metadata": {
        "id": "_Puk6vQCg14i",
        "colab_type": "code",
        "colab": {
          "base_uri": "https://localhost:8080/",
          "height": 163
        },
        "outputId": "a68b8e9e-7a0f-4e88-fef1-da19dae7c7c2"
      },
      "cell_type": "code",
      "source": [
        "f2 = 5707.725980363259\n",
        "f1 = 8660.109654293396\n",
        "f0 = 7224.368550884776\n",
        "f3 = 5707.705980363259\n",
        "\n",
        "# f0=np.random.uniform(low=0.,high = 10000.)\n",
        "# f1=np.random.uniform(low=0.,high = 10000.)\n",
        "# f2=np.random.uniform(low=0.,high = 10000.)\n",
        "# f3 = np.random.uniform(low=0.,high = 10000.)\n",
        "display(f0)\n",
        "display(f1)\n",
        "display(f2)\n",
        "display(f3)\n",
        "\n",
        "c2 = 0.23557238741357178\n",
        "c1 = -0.38634056685147433\n",
        "c0 = 0.26936048979391813\n",
        "c3 = 0.25557238741357178\n",
        "# c0= np.random.uniform(low=-1.,high = 1.)\n",
        "# c1= np.random.uniform(low=-1.,high = 1.)\n",
        "# c2= np.random.uniform(low=-1.,high = 1.)\n",
        "# c3 = np.random.uniform(low=-1.,high = 1.)\n",
        "display(c0)\n",
        "display(c1)\n",
        "display(c2)\n",
        "display(c3)"
      ],
      "execution_count": 286,
      "outputs": [
        {
          "output_type": "display_data",
          "data": {
            "text/plain": [
              "7224.368550884776"
            ]
          },
          "metadata": {
            "tags": []
          }
        },
        {
          "output_type": "display_data",
          "data": {
            "text/plain": [
              "8660.109654293396"
            ]
          },
          "metadata": {
            "tags": []
          }
        },
        {
          "output_type": "display_data",
          "data": {
            "text/plain": [
              "5707.725980363259"
            ]
          },
          "metadata": {
            "tags": []
          }
        },
        {
          "output_type": "display_data",
          "data": {
            "text/plain": [
              "5707.705980363259"
            ]
          },
          "metadata": {
            "tags": []
          }
        },
        {
          "output_type": "display_data",
          "data": {
            "text/plain": [
              "0.26936048979391813"
            ]
          },
          "metadata": {
            "tags": []
          }
        },
        {
          "output_type": "display_data",
          "data": {
            "text/plain": [
              "-0.38634056685147433"
            ]
          },
          "metadata": {
            "tags": []
          }
        },
        {
          "output_type": "display_data",
          "data": {
            "text/plain": [
              "0.23557238741357178"
            ]
          },
          "metadata": {
            "tags": []
          }
        },
        {
          "output_type": "display_data",
          "data": {
            "text/plain": [
              "0.2555723874135718"
            ]
          },
          "metadata": {
            "tags": []
          }
        }
      ]
    },
    {
      "metadata": {
        "id": "PmSWmi6K12AP",
        "colab_type": "text"
      },
      "cell_type": "markdown",
      "source": [
        "Just check to see that the random values generated are not \"too close.\"  But I want to make it random so I do not just get lucky on training and testing accuracy on some tunable parameters. "
      ]
    },
    {
      "metadata": {
        "id": "vpUQO1epmo5v",
        "colab_type": "code",
        "colab": {}
      },
      "cell_type": "code",
      "source": [
        "fs = 48e3\n",
        "snr = 20.  # dB\n",
        "Ntone = 6\n",
        "\n",
        "t = np.arange(0, 0.01, 1/fs)\n",
        "\n",
        "nvar = 10**(-snr/10.)\n",
        "\n",
        "\n",
        "\n",
        "M = [100] * 1001  # iterating over block length\n",
        "\n",
        "py = DataFrame(index=M, columns=['err', 'sigma','cisoidAmp','cisoidAngle'])\n",
        "fortreal = DataFrame(index=M, columns=['err', 'sigma','cisoidAmp','cisoidAngle'])\n",
        "fortcmpl = DataFrame(index=M, columns=['err', 'sigma','cisoidAmp','cisoidAngle'])\n",
        "fest = []\n",
        "fest2 = []\n",
        "cisoidAmp = []\n",
        "cisoidAmp2 = []\n",
        "y_test = [] # lable \n",
        "i = 0\n",
        "for m in M:\n",
        "    i = i + 1\n",
        "    for k in range(2):\n",
        "      # Generate fist tripplet of cisoid  \n",
        "      # Train data start\n",
        "      xc = c0*np.exp(1j*2*np.pi*f0*t)+c1*np.exp(1j*2*np.pi*f1*t) +c2*np.exp(1j*2*np.pi*f2*t)\n",
        "      xc1 = xc + np.sqrt(nvar)*(np.random.randn(t.size) + 1j*np.random.randn(t.size))\n",
        "\n",
        "      tmpFest, sigma,tmpAmp,cisoidAngle = esprit1(xc1, Ntone//2, M=m, fs=fs, verbose=False)\n",
        "      fest.append(tmpFest)\n",
        "      tmpAmp = tmpAmp[0]\n",
        "      cisoidAmp.append(tmpAmp)\n",
        "      # Train data end \n",
        "    \n",
        "    # Test section start\n",
        "    \n",
        "    # Inject Anomaly\n",
        "    if not(full_anom or i%40):\n",
        "      #display(i)\n",
        "      for j in np.arange(anom_samples):\n",
        "        #display(i)\n",
        "        AWGN = np.sqrt(nvar)*(np.random.randn(t.size) + 1j*np.random.randn(t.size))\n",
        "        xc2 = c0*np.exp(1j*2*np.pi*f0*t)+c1*np.exp(1j*2*np.pi*f1*t) +c3*np.exp(1j*2*np.pi*f3*t) + AWGN\n",
        "        tmpFest, sigma,tmpAmp,cisoidAngle = esprit1(xc2, Ntone//2, M=m, fs=fs, verbose=False)\n",
        "        fest2.append(tmpFest)\n",
        "        tmpAmp = tmpAmp[0]\n",
        "        cisoidAmp2.append(tmpAmp) \n",
        "        # Anomaly has occured \n",
        "        y_test.append(1.)\n",
        "    # When not Anomaly use xc as baseline signal and add AWGN - Run through esprit\n",
        "    AWGN = np.sqrt(nvar)*(np.random.randn(t.size) + 1j*np.random.randn(t.size))\n",
        "    xc2 = xc + AWGN\n",
        "    if full_anom:\n",
        "      # Anomaly has occured \n",
        "      y_test.append(1.)\n",
        "      AWGN = np.sqrt(nvar)*(np.random.randn(t.size) + 1j*np.random.randn(t.size))\n",
        "      xc2 = c0*np.exp(1j*2*np.pi*f0*t)+c1*np.exp(1j*2*np.pi*f1*t) +c3*np.exp(1j*2*np.pi*f3*t) + AWGN\n",
        "    else:\n",
        "      # Anomaly free sample \n",
        "        y_test.append(0.)\n",
        "    tmpFest, sigma,tmpAmp,cisoidAngle = esprit1(xc2, Ntone//2, M=m, fs=fs, verbose=False)\n",
        "    fest2.append(tmpFest)\n",
        "    tmpAmp = tmpAmp[0]\n",
        "    cisoidAmp2.append(tmpAmp)\n",
        "    \n",
        "    # Test section end \n",
        "\n",
        "# Create train and test set     \n",
        "x_train = np.hstack((cisoidAmp,fest))    \n",
        "x_test = np.hstack((cisoidAmp2,fest2))\n",
        "    "
      ],
      "execution_count": 0,
      "outputs": []
    },
    {
      "metadata": {
        "id": "AT1oSgOHlBur",
        "colab_type": "code",
        "colab": {
          "base_uri": "https://localhost:8080/",
          "height": 35
        },
        "outputId": "04dd51b7-321a-4251-e0de-5fb7bb0a0561"
      },
      "cell_type": "code",
      "source": [
        "x_test3.mean()\n"
      ],
      "execution_count": 288,
      "outputs": [
        {
          "output_type": "execute_result",
          "data": {
            "text/plain": [
              "-0.001262004557360408"
            ]
          },
          "metadata": {
            "tags": []
          },
          "execution_count": 288
        }
      ]
    },
    {
      "metadata": {
        "id": "Iycnb-eMjkXg",
        "colab_type": "text"
      },
      "cell_type": "markdown",
      "source": [
        ""
      ]
    },
    {
      "metadata": {
        "id": "raLBxYlFfsLt",
        "colab_type": "code",
        "colab": {
          "base_uri": "https://localhost:8080/",
          "height": 345
        },
        "outputId": "d80b37f9-a207-4555-ea32-6e8864147244"
      },
      "cell_type": "code",
      "source": [
        "#@title Model 1 - Elu { form-width: \"20%\" }\n",
        "from keras import regularizers\n",
        "from sklearn.preprocessing import StandardScaler\n",
        "from sklearn import preprocessing\n",
        "# Make sure to run this after each new generation of data\n",
        "\n",
        "#1\n",
        "# zero mean and unit var\n",
        "# this makes train and test data zero mean and unit var individually \n",
        "# we should statistics of ideal data(no anomaly) \n",
        "# hense we should standadize both sets of data based on this\n",
        "#x_train2 = StandardScaler().fit_transform(x_train)\n",
        "#x_test2 = StandardScaler().fit_transform(x_test)\n",
        "\n",
        "#2\n",
        "# zero mean and unit var \n",
        "# x_trainScaled = preprocessing.scale(x_train)\n",
        "# scaler = StandardScaler().fit(x_trainScaled)\n",
        "# x_train2 = scaler.transform(x_trainScaled)\n",
        "# x_test2 = scaler.transform(x_test)\n",
        "\n",
        "m1 = np.mean(x_train)\n",
        "s1 = np.std(x_train)\n",
        "\n",
        "x_train2 = (x_train-m1)/s1\n",
        "x_test2 = (x_test-m1)/s1\n",
        "#3\n",
        "#x_train2 = x_train\n",
        "#x_test2 = x_test\n",
        "\n",
        "#4\n",
        "#zero mean and unit var \n",
        "# scaler = StandardScaler().fit(x_test)\n",
        "# x_train2 = scaler.transform(x_train)\n",
        "# x_test2 = scaler.transform(x_test)\n",
        "\n",
        "#x_train2 = x_train2[:,:,np.newaxis]\n",
        "#x_test2 = x_test2[:,:,np.newaxis]\n",
        "\n",
        "#x_train2 = x_train2.astype('float32') / 255.\n",
        "#x_test2 = x_test2.astype('float32') / 255.\n",
        "\n",
        "display(x_train2.shape)\n",
        "\n",
        "input_dim = x_train.shape[1]\n",
        "\n",
        "# set size of autoencoder \n",
        "encoding_dim = 6\n",
        "\n",
        "# use elu because it is leaky tried both net and l1 and l2 : net and l1 worked the best \n",
        "input_layer = Input(shape=(input_dim, ))\n",
        "encoder = Dense(encoding_dim, activation=\"elu\",kernel_initializer= 'he_normal',\n",
        "                activity_regularizer=regularizers.l1_l2(l1=10e-5, l2=75.10e-5))(input_layer)\n",
        "#encoder = Dense(encoding_dim, activation=\"elu\",activity_regularizer=regularizers.l1(10e-5))(input_layer)\n",
        "encoder = Dense(int(encoding_dim / 2), activation=\"elu\",kernel_initializer= 'he_normal')(encoder)\n",
        "decoder = Dense(int(encoding_dim / 2), activation='elu',kernel_initializer= 'he_normal')(encoder)\n",
        "decoder = Dense(input_dim, activation='elu',kernel_initializer= 'he_normal')(decoder)\n",
        "autoencoder = Model(inputs=input_layer, outputs=decoder)\n",
        "\n",
        "autoencoder.summary()  \n"
      ],
      "execution_count": 289,
      "outputs": [
        {
          "output_type": "display_data",
          "data": {
            "text/plain": [
              "(2002, 6)"
            ]
          },
          "metadata": {
            "tags": []
          }
        },
        {
          "output_type": "stream",
          "text": [
            "_________________________________________________________________\n",
            "Layer (type)                 Output Shape              Param #   \n",
            "=================================================================\n",
            "input_19 (InputLayer)        (None, 6)                 0         \n",
            "_________________________________________________________________\n",
            "dense_73 (Dense)             (None, 6)                 42        \n",
            "_________________________________________________________________\n",
            "dense_74 (Dense)             (None, 3)                 21        \n",
            "_________________________________________________________________\n",
            "dense_75 (Dense)             (None, 3)                 12        \n",
            "_________________________________________________________________\n",
            "dense_76 (Dense)             (None, 6)                 24        \n",
            "=================================================================\n",
            "Total params: 99\n",
            "Trainable params: 99\n",
            "Non-trainable params: 0\n",
            "_________________________________________________________________\n"
          ],
          "name": "stdout"
        }
      ]
    },
    {
      "metadata": {
        "id": "0HjRmdZ2FXk0",
        "colab_type": "code",
        "colab": {
          "base_uri": "https://localhost:8080/",
          "height": 490
        },
        "cellView": "both",
        "outputId": "352d8713-d50d-4930-e228-d3dcd97e85e3"
      },
      "cell_type": "code",
      "source": [
        "#@title Model 2 - LeakyRelu { form-width: \"20%\" }\n",
        "import keras\n",
        "from keras import regularizers\n",
        "from sklearn.preprocessing import StandardScaler\n",
        "# Make sure to run this after each new generation of data\n",
        "\n",
        "#1\n",
        "# zero mean and unit var\n",
        "# this makes train and test data zero mean and unit var individually \n",
        "# we should statistics of ideal data(no anomaly) \n",
        "# hense we should standadize both sets of data based on this\n",
        "#x_train2 = StandardScaler().fit_transform(x_train)\n",
        "#x_test2 = StandardScaler().fit_transform(x_test)\n",
        "\n",
        "#2\n",
        "# zero mean and unit var \n",
        "# scaler = StandardScaler().fit(x_train)\n",
        "# x_train2 = scaler.transform(x_train)\n",
        "# x_test2 = scaler.transform(x_test)\n",
        "\n",
        "m1 = np.mean(x_train)\n",
        "s1 = np.std(x_train)\n",
        "\n",
        "x_train2 = (x_train-m1)/s1\n",
        "x_test2 = (x_test-m1)/s1\n",
        "\n",
        "#3\n",
        "#x_train2 = x_train\n",
        "#x_test2 = x_test\n",
        "\n",
        "#4\n",
        "# zero mean and unit var \n",
        "# scaler = StandardScaler().fit(x_test)\n",
        "# x_train2 = scaler.transform(x_train)\n",
        "# x_test2 = scaler.transform(x_test)\n",
        "\n",
        "#x_train2 = x_train2[:,:,np.newaxis]\n",
        "#x_test2 = x_test2[:,:,np.newaxis]\n",
        "\n",
        "#x_train2 = x_train2.astype('float32') \n",
        "#x_test2 = x_test2.astype('float32')\n",
        "\n",
        "display(x_train2.shape)\n",
        "\n",
        "input_dim = x_train.shape[1]\n",
        "\n",
        "# set size of autoencoder \n",
        "encoding_dim = 6\n",
        "elu = keras.layers.ELU(alpha=1.2)\n",
        "lrlu= keras.layers.LeakyReLU(alpha=0.3)\n",
        "\n",
        "\n",
        "# use elu because it is leaky tried both net and l1 and l2 : net and l1 worked the best \n",
        "input_layer = Input(shape=(input_dim, ))\n",
        "encoder = Dense(encoding_dim,kernel_initializer= 'he_normal', \n",
        "                activity_regularizer=regularizers.l1_l2(l1=10e-5, l2=75.10e-5))(input_layer)\n",
        "encoder = keras.layers.LeakyReLU(alpha=0.011)(encoder)\n",
        "#encoder = Dense(encoding_dim, activation=\"elu\",activity_regularizer=regularizers.l1(10e-5))(input_layer)\n",
        "encoder = Dense(int(encoding_dim / 2),kernel_initializer= 'he_normal')(encoder)\n",
        "encoder = keras.layers.LeakyReLU(alpha=0.011)(encoder)\n",
        "decoder = Dense(int(encoding_dim / 2),kernel_initializer= 'he_normal')(encoder)\n",
        "decoder = keras.layers.LeakyReLU(alpha=0.011)(decoder)\n",
        "decoder = Dense(input_dim,kernel_initializer= 'he_normal')(decoder)\n",
        "decoder = keras.layers.LeakyReLU(alpha=0.011)(decoder)\n",
        "autoencoder2 = Model(inputs=input_layer, outputs=decoder)\n",
        "\n",
        "autoencoder2.summary()  \n"
      ],
      "execution_count": 290,
      "outputs": [
        {
          "output_type": "display_data",
          "data": {
            "text/plain": [
              "(2002, 6)"
            ]
          },
          "metadata": {
            "tags": []
          }
        },
        {
          "output_type": "stream",
          "text": [
            "_________________________________________________________________\n",
            "Layer (type)                 Output Shape              Param #   \n",
            "=================================================================\n",
            "input_20 (InputLayer)        (None, 6)                 0         \n",
            "_________________________________________________________________\n",
            "dense_77 (Dense)             (None, 6)                 42        \n",
            "_________________________________________________________________\n",
            "leaky_re_lu_42 (LeakyReLU)   (None, 6)                 0         \n",
            "_________________________________________________________________\n",
            "dense_78 (Dense)             (None, 3)                 21        \n",
            "_________________________________________________________________\n",
            "leaky_re_lu_43 (LeakyReLU)   (None, 3)                 0         \n",
            "_________________________________________________________________\n",
            "dense_79 (Dense)             (None, 3)                 12        \n",
            "_________________________________________________________________\n",
            "leaky_re_lu_44 (LeakyReLU)   (None, 3)                 0         \n",
            "_________________________________________________________________\n",
            "dense_80 (Dense)             (None, 6)                 24        \n",
            "_________________________________________________________________\n",
            "leaky_re_lu_45 (LeakyReLU)   (None, 6)                 0         \n",
            "=================================================================\n",
            "Total params: 99\n",
            "Trainable params: 99\n",
            "Non-trainable params: 0\n",
            "_________________________________________________________________\n"
          ],
          "name": "stdout"
        }
      ]
    },
    {
      "metadata": {
        "id": "h5rNifyftGXf",
        "colab_type": "code",
        "colab": {
          "base_uri": "https://localhost:8080/",
          "height": 3799
        },
        "outputId": "d9734dbc-8bdb-48d2-bdca-eace57b5c317"
      },
      "cell_type": "code",
      "source": [
        "#@title Model 1 - Elu: Train/Test\n",
        "training_set = \"300 samples of anomaly free data \" #@param {type:\"string\"}\n",
        "validation_set = \"Here I use the validation set as the test data. Has 300 anomaly free and 280 instances of of anomoly. \" #@param {type:\"string\"}\n",
        "history = \"Contains both train and validation loss history\" #@param {type:\"string\"}\n",
        "\n",
        "#Results with 40 samples of anomily every 40 samples\n",
        "full_anom = 0\n",
        "anom_samples = 40\n",
        "nb_epoch = 100 # a bit overkill but wanted to see how it progressed w more epochs \n",
        "batch_size = 256\n",
        "import keras\n",
        "autoencoder.compile(optimizer='nadam', \n",
        "                    loss='mean_squared_error', \n",
        "                    #loss='kullback_leibler_divergence',\n",
        "                    metrics=['accuracy'])\n",
        "reduce_lr = keras.callbacks.ReduceLROnPlateau(monitor='acc', factor=0.2,min_lr=1e-6,min_delta=0.00001,\n",
        "                              patience=37,verbose = 1)\n",
        "\n",
        "\n",
        "checkpointer = ModelCheckpoint(filepath=\"model.h5\",\n",
        "                               verbose=0,\n",
        "                               save_best_only=True)\n",
        "tensorboard = TensorBoard(log_dir='./logs',\n",
        "                          histogram_freq=0,\n",
        "                          write_graph=True,\n",
        "                          write_images=True)\n",
        "history = autoencoder.fit(x_train2, x_train2,\n",
        "                    epochs=nb_epoch,\n",
        "                    batch_size=batch_size,\n",
        "                    validation_data=(x_test2, x_test2),\n",
        "                    validation_split=.1,\n",
        "                    shuffle=True,\n",
        "                    verbose=1,callbacks=[reduce_lr, checkpointer, tensorboard]).history \n",
        "\n",
        "score = autoencoder.evaluate(x_test2, x_test2, batch_size=256, verbose=1, sample_weight=None, steps=None)\n",
        "\n",
        "display('[test_loss, test_acc]')\n",
        "display(score)"
      ],
      "execution_count": 291,
      "outputs": [
        {
          "output_type": "stream",
          "text": [
            "Train on 2002 samples, validate on 2001 samples\n",
            "Epoch 1/100\n",
            "2002/2002 [==============================] - 1s 274us/step - loss: 1.5726 - acc: 1.0000 - val_loss: 1.4759 - val_acc: 1.0000\n",
            "Epoch 2/100\n",
            "2002/2002 [==============================] - 0s 42us/step - loss: 1.3963 - acc: 1.0000 - val_loss: 1.3077 - val_acc: 1.0000\n",
            "Epoch 3/100\n",
            "2002/2002 [==============================] - 0s 40us/step - loss: 1.2249 - acc: 1.0000 - val_loss: 1.1464 - val_acc: 1.0000\n",
            "Epoch 4/100\n",
            "2002/2002 [==============================] - 0s 38us/step - loss: 1.0660 - acc: 1.0000 - val_loss: 0.9972 - val_acc: 1.0000\n",
            "Epoch 5/100\n",
            "2002/2002 [==============================] - 0s 38us/step - loss: 0.9217 - acc: 1.0000 - val_loss: 0.8611 - val_acc: 1.0000\n",
            "Epoch 6/100\n",
            "2002/2002 [==============================] - 0s 40us/step - loss: 0.7921 - acc: 1.0000 - val_loss: 0.7382 - val_acc: 1.0000\n",
            "Epoch 7/100\n",
            "2002/2002 [==============================] - 0s 38us/step - loss: 0.6773 - acc: 1.0000 - val_loss: 0.6300 - val_acc: 1.0000\n",
            "Epoch 8/100\n",
            "2002/2002 [==============================] - 0s 37us/step - loss: 0.5766 - acc: 1.0000 - val_loss: 0.5346 - val_acc: 1.0000\n",
            "Epoch 9/100\n",
            "2002/2002 [==============================] - 0s 37us/step - loss: 0.4887 - acc: 1.0000 - val_loss: 0.4538 - val_acc: 1.0000\n",
            "Epoch 10/100\n",
            "2002/2002 [==============================] - 0s 37us/step - loss: 0.4149 - acc: 1.0000 - val_loss: 0.3869 - val_acc: 1.0000\n",
            "Epoch 11/100\n",
            "2002/2002 [==============================] - 0s 36us/step - loss: 0.3539 - acc: 1.0000 - val_loss: 0.3319 - val_acc: 1.0000\n",
            "Epoch 12/100\n",
            "2002/2002 [==============================] - 0s 38us/step - loss: 0.3035 - acc: 1.0000 - val_loss: 0.2867 - val_acc: 1.0000\n",
            "Epoch 13/100\n",
            "2002/2002 [==============================] - 0s 37us/step - loss: 0.2619 - acc: 1.0000 - val_loss: 0.2497 - val_acc: 1.0000\n",
            "Epoch 14/100\n",
            "2002/2002 [==============================] - 0s 45us/step - loss: 0.2273 - acc: 1.0000 - val_loss: 0.2193 - val_acc: 1.0000\n",
            "Epoch 15/100\n",
            "2002/2002 [==============================] - 0s 37us/step - loss: 0.1984 - acc: 1.0000 - val_loss: 0.1940 - val_acc: 1.0000\n",
            "Epoch 16/100\n",
            "2002/2002 [==============================] - 0s 38us/step - loss: 0.1741 - acc: 1.0000 - val_loss: 0.1730 - val_acc: 1.0000\n",
            "Epoch 17/100\n",
            "2002/2002 [==============================] - 0s 37us/step - loss: 0.1534 - acc: 1.0000 - val_loss: 0.1554 - val_acc: 1.0000\n",
            "Epoch 18/100\n",
            "2002/2002 [==============================] - 0s 39us/step - loss: 0.1358 - acc: 1.0000 - val_loss: 0.1405 - val_acc: 1.0000\n",
            "Epoch 19/100\n",
            "2002/2002 [==============================] - 0s 38us/step - loss: 0.1207 - acc: 1.0000 - val_loss: 0.1279 - val_acc: 1.0000\n",
            "Epoch 20/100\n",
            "2002/2002 [==============================] - 0s 36us/step - loss: 0.1076 - acc: 1.0000 - val_loss: 0.1171 - val_acc: 1.0000\n",
            "Epoch 21/100\n",
            "2002/2002 [==============================] - 0s 37us/step - loss: 0.0963 - acc: 1.0000 - val_loss: 0.1078 - val_acc: 1.0000\n",
            "Epoch 22/100\n",
            "2002/2002 [==============================] - 0s 38us/step - loss: 0.0865 - acc: 1.0000 - val_loss: 0.0998 - val_acc: 1.0000\n",
            "Epoch 23/100\n",
            "2002/2002 [==============================] - 0s 37us/step - loss: 0.0780 - acc: 1.0000 - val_loss: 0.0928 - val_acc: 1.0000\n",
            "Epoch 24/100\n",
            "2002/2002 [==============================] - 0s 35us/step - loss: 0.0705 - acc: 1.0000 - val_loss: 0.0868 - val_acc: 1.0000\n",
            "Epoch 25/100\n",
            "2002/2002 [==============================] - 0s 43us/step - loss: 0.0639 - acc: 1.0000 - val_loss: 0.0813 - val_acc: 1.0000\n",
            "Epoch 26/100\n",
            "2002/2002 [==============================] - 0s 45us/step - loss: 0.0581 - acc: 1.0000 - val_loss: 0.0764 - val_acc: 1.0000\n",
            "Epoch 27/100\n",
            "2002/2002 [==============================] - 0s 39us/step - loss: 0.0530 - acc: 1.0000 - val_loss: 0.0722 - val_acc: 1.0000\n",
            "Epoch 28/100\n",
            "2002/2002 [==============================] - 0s 37us/step - loss: 0.0484 - acc: 1.0000 - val_loss: 0.0686 - val_acc: 1.0000\n",
            "Epoch 29/100\n",
            "2002/2002 [==============================] - 0s 39us/step - loss: 0.0444 - acc: 1.0000 - val_loss: 0.0653 - val_acc: 1.0000\n",
            "Epoch 30/100\n",
            "2002/2002 [==============================] - 0s 38us/step - loss: 0.0408 - acc: 1.0000 - val_loss: 0.0622 - val_acc: 1.0000\n",
            "Epoch 31/100\n",
            "2002/2002 [==============================] - 0s 38us/step - loss: 0.0376 - acc: 1.0000 - val_loss: 0.0598 - val_acc: 1.0000\n",
            "Epoch 32/100\n",
            "2002/2002 [==============================] - 0s 36us/step - loss: 0.0347 - acc: 1.0000 - val_loss: 0.0574 - val_acc: 1.0000\n",
            "Epoch 33/100\n",
            "2002/2002 [==============================] - 0s 36us/step - loss: 0.0321 - acc: 1.0000 - val_loss: 0.0554 - val_acc: 1.0000\n",
            "Epoch 34/100\n",
            "2002/2002 [==============================] - 0s 38us/step - loss: 0.0297 - acc: 1.0000 - val_loss: 0.0535 - val_acc: 1.0000\n",
            "Epoch 35/100\n",
            "2002/2002 [==============================] - 0s 37us/step - loss: 0.0276 - acc: 1.0000 - val_loss: 0.0518 - val_acc: 1.0000\n",
            "Epoch 36/100\n",
            "2002/2002 [==============================] - 0s 38us/step - loss: 0.0257 - acc: 1.0000 - val_loss: 0.0504 - val_acc: 1.0000\n",
            "Epoch 37/100\n",
            "2002/2002 [==============================] - 0s 42us/step - loss: 0.0239 - acc: 1.0000 - val_loss: 0.0491 - val_acc: 1.0000\n",
            "Epoch 38/100\n",
            "2002/2002 [==============================] - 0s 38us/step - loss: 0.0224 - acc: 1.0000 - val_loss: 0.0480 - val_acc: 1.0000\n",
            "\n",
            "Epoch 00038: ReduceLROnPlateau reducing learning rate to 0.0004000000189989805.\n",
            "Epoch 39/100\n",
            "2002/2002 [==============================] - 0s 39us/step - loss: 0.0213 - acc: 1.0000 - val_loss: 0.0479 - val_acc: 1.0000\n",
            "Epoch 40/100\n",
            "2002/2002 [==============================] - 0s 39us/step - loss: 0.0210 - acc: 1.0000 - val_loss: 0.0476 - val_acc: 1.0000\n",
            "Epoch 41/100\n",
            "2002/2002 [==============================] - 0s 37us/step - loss: 0.0207 - acc: 1.0000 - val_loss: 0.0474 - val_acc: 1.0000\n",
            "Epoch 42/100\n",
            "2002/2002 [==============================] - 0s 38us/step - loss: 0.0205 - acc: 1.0000 - val_loss: 0.0472 - val_acc: 1.0000\n",
            "Epoch 43/100\n",
            "2002/2002 [==============================] - 0s 39us/step - loss: 0.0202 - acc: 1.0000 - val_loss: 0.0470 - val_acc: 1.0000\n",
            "Epoch 44/100\n",
            "2002/2002 [==============================] - 0s 41us/step - loss: 0.0199 - acc: 1.0000 - val_loss: 0.0468 - val_acc: 1.0000\n",
            "Epoch 45/100\n",
            "2002/2002 [==============================] - 0s 48us/step - loss: 0.0196 - acc: 1.0000 - val_loss: 0.0465 - val_acc: 1.0000\n",
            "Epoch 46/100\n",
            "2002/2002 [==============================] - 0s 40us/step - loss: 0.0194 - acc: 1.0000 - val_loss: 0.0463 - val_acc: 1.0000\n",
            "Epoch 47/100\n",
            "2002/2002 [==============================] - 0s 40us/step - loss: 0.0191 - acc: 1.0000 - val_loss: 0.0461 - val_acc: 1.0000\n",
            "Epoch 48/100\n",
            "2002/2002 [==============================] - 0s 39us/step - loss: 0.0189 - acc: 1.0000 - val_loss: 0.0458 - val_acc: 1.0000\n",
            "Epoch 49/100\n",
            "2002/2002 [==============================] - 0s 40us/step - loss: 0.0186 - acc: 1.0000 - val_loss: 0.0457 - val_acc: 1.0000\n",
            "Epoch 50/100\n",
            "2002/2002 [==============================] - 0s 45us/step - loss: 0.0183 - acc: 1.0000 - val_loss: 0.0454 - val_acc: 1.0000\n",
            "Epoch 51/100\n",
            "2002/2002 [==============================] - 0s 40us/step - loss: 0.0181 - acc: 1.0000 - val_loss: 0.0452 - val_acc: 1.0000\n",
            "Epoch 52/100\n",
            "2002/2002 [==============================] - 0s 39us/step - loss: 0.0178 - acc: 1.0000 - val_loss: 0.0450 - val_acc: 1.0000\n",
            "Epoch 53/100\n",
            "2002/2002 [==============================] - 0s 39us/step - loss: 0.0176 - acc: 1.0000 - val_loss: 0.0448 - val_acc: 1.0000\n",
            "Epoch 54/100\n",
            "2002/2002 [==============================] - 0s 40us/step - loss: 0.0174 - acc: 1.0000 - val_loss: 0.0446 - val_acc: 1.0000\n",
            "Epoch 55/100\n",
            "2002/2002 [==============================] - 0s 39us/step - loss: 0.0171 - acc: 1.0000 - val_loss: 0.0444 - val_acc: 1.0000\n",
            "Epoch 56/100\n",
            "2002/2002 [==============================] - 0s 48us/step - loss: 0.0169 - acc: 1.0000 - val_loss: 0.0442 - val_acc: 1.0000\n",
            "Epoch 57/100\n",
            "2002/2002 [==============================] - 0s 39us/step - loss: 0.0166 - acc: 1.0000 - val_loss: 0.0440 - val_acc: 1.0000\n",
            "Epoch 58/100\n",
            "2002/2002 [==============================] - 0s 38us/step - loss: 0.0164 - acc: 1.0000 - val_loss: 0.0438 - val_acc: 1.0000\n",
            "Epoch 59/100\n",
            "2002/2002 [==============================] - 0s 39us/step - loss: 0.0162 - acc: 1.0000 - val_loss: 0.0436 - val_acc: 1.0000\n",
            "Epoch 60/100\n",
            "2002/2002 [==============================] - 0s 38us/step - loss: 0.0159 - acc: 1.0000 - val_loss: 0.0435 - val_acc: 1.0000\n",
            "Epoch 61/100\n",
            "2002/2002 [==============================] - 0s 39us/step - loss: 0.0157 - acc: 1.0000 - val_loss: 0.0432 - val_acc: 1.0000\n",
            "Epoch 62/100\n",
            "2002/2002 [==============================] - 0s 40us/step - loss: 0.0155 - acc: 1.0000 - val_loss: 0.0431 - val_acc: 1.0000\n",
            "Epoch 63/100\n",
            "2002/2002 [==============================] - 0s 40us/step - loss: 0.0153 - acc: 1.0000 - val_loss: 0.0429 - val_acc: 1.0000\n",
            "Epoch 64/100\n",
            "2002/2002 [==============================] - 0s 39us/step - loss: 0.0151 - acc: 1.0000 - val_loss: 0.0427 - val_acc: 1.0000\n",
            "Epoch 65/100\n",
            "2002/2002 [==============================] - 0s 40us/step - loss: 0.0149 - acc: 1.0000 - val_loss: 0.0426 - val_acc: 1.0000\n",
            "Epoch 66/100\n",
            "2002/2002 [==============================] - 0s 40us/step - loss: 0.0146 - acc: 1.0000 - val_loss: 0.0424 - val_acc: 1.0000\n",
            "Epoch 67/100\n",
            "2002/2002 [==============================] - 0s 49us/step - loss: 0.0144 - acc: 1.0000 - val_loss: 0.0422 - val_acc: 1.0000\n",
            "Epoch 68/100\n",
            "2002/2002 [==============================] - 0s 39us/step - loss: 0.0142 - acc: 1.0000 - val_loss: 0.0420 - val_acc: 1.0000\n",
            "Epoch 69/100\n",
            "2002/2002 [==============================] - 0s 39us/step - loss: 0.0140 - acc: 1.0000 - val_loss: 0.0419 - val_acc: 1.0000\n",
            "Epoch 70/100\n",
            "2002/2002 [==============================] - 0s 39us/step - loss: 0.0138 - acc: 1.0000 - val_loss: 0.0417 - val_acc: 1.0000\n",
            "Epoch 71/100\n",
            "2002/2002 [==============================] - 0s 40us/step - loss: 0.0136 - acc: 1.0000 - val_loss: 0.0415 - val_acc: 1.0000\n",
            "Epoch 72/100\n",
            "2002/2002 [==============================] - 0s 39us/step - loss: 0.0135 - acc: 1.0000 - val_loss: 0.0413 - val_acc: 1.0000\n",
            "Epoch 73/100\n",
            "2002/2002 [==============================] - 0s 39us/step - loss: 0.0133 - acc: 1.0000 - val_loss: 0.0411 - val_acc: 1.0000\n",
            "Epoch 74/100\n",
            "2002/2002 [==============================] - 0s 40us/step - loss: 0.0131 - acc: 1.0000 - val_loss: 0.0410 - val_acc: 1.0000\n",
            "Epoch 75/100\n",
            "2002/2002 [==============================] - 0s 41us/step - loss: 0.0129 - acc: 1.0000 - val_loss: 0.0408 - val_acc: 1.0000\n",
            "\n",
            "Epoch 00075: ReduceLROnPlateau reducing learning rate to 8.000000379979611e-05.\n",
            "Epoch 76/100\n",
            "2002/2002 [==============================] - 0s 40us/step - loss: 0.0128 - acc: 1.0000 - val_loss: 0.0408 - val_acc: 1.0000\n",
            "Epoch 77/100\n",
            "2002/2002 [==============================] - 0s 39us/step - loss: 0.0127 - acc: 1.0000 - val_loss: 0.0408 - val_acc: 1.0000\n",
            "Epoch 78/100\n",
            "2002/2002 [==============================] - 0s 49us/step - loss: 0.0127 - acc: 1.0000 - val_loss: 0.0407 - val_acc: 1.0000\n",
            "Epoch 79/100\n",
            "2002/2002 [==============================] - 0s 40us/step - loss: 0.0127 - acc: 1.0000 - val_loss: 0.0407 - val_acc: 1.0000\n",
            "Epoch 80/100\n",
            "2002/2002 [==============================] - 0s 40us/step - loss: 0.0126 - acc: 1.0000 - val_loss: 0.0407 - val_acc: 1.0000\n",
            "Epoch 81/100\n",
            "2002/2002 [==============================] - 0s 39us/step - loss: 0.0126 - acc: 1.0000 - val_loss: 0.0406 - val_acc: 1.0000\n",
            "Epoch 82/100\n",
            "2002/2002 [==============================] - 0s 40us/step - loss: 0.0126 - acc: 1.0000 - val_loss: 0.0406 - val_acc: 1.0000\n",
            "Epoch 83/100\n",
            "2002/2002 [==============================] - 0s 39us/step - loss: 0.0125 - acc: 1.0000 - val_loss: 0.0406 - val_acc: 1.0000\n",
            "Epoch 84/100\n",
            "2002/2002 [==============================] - 0s 42us/step - loss: 0.0125 - acc: 1.0000 - val_loss: 0.0405 - val_acc: 1.0000\n",
            "Epoch 85/100\n",
            "2002/2002 [==============================] - 0s 39us/step - loss: 0.0124 - acc: 1.0000 - val_loss: 0.0405 - val_acc: 1.0000\n",
            "Epoch 86/100\n",
            "2002/2002 [==============================] - 0s 40us/step - loss: 0.0124 - acc: 1.0000 - val_loss: 0.0404 - val_acc: 1.0000\n",
            "Epoch 87/100\n",
            "2002/2002 [==============================] - 0s 40us/step - loss: 0.0124 - acc: 1.0000 - val_loss: 0.0404 - val_acc: 1.0000\n",
            "Epoch 88/100\n",
            "2002/2002 [==============================] - 0s 39us/step - loss: 0.0124 - acc: 1.0000 - val_loss: 0.0404 - val_acc: 1.0000\n",
            "Epoch 89/100\n",
            "2002/2002 [==============================] - 0s 50us/step - loss: 0.0123 - acc: 1.0000 - val_loss: 0.0403 - val_acc: 1.0000\n",
            "Epoch 90/100\n",
            "2002/2002 [==============================] - 0s 39us/step - loss: 0.0123 - acc: 1.0000 - val_loss: 0.0403 - val_acc: 1.0000\n",
            "Epoch 91/100\n",
            "2002/2002 [==============================] - 0s 39us/step - loss: 0.0122 - acc: 1.0000 - val_loss: 0.0403 - val_acc: 1.0000\n",
            "Epoch 92/100\n",
            "2002/2002 [==============================] - 0s 41us/step - loss: 0.0122 - acc: 1.0000 - val_loss: 0.0402 - val_acc: 1.0000\n",
            "Epoch 93/100\n",
            "2002/2002 [==============================] - 0s 39us/step - loss: 0.0122 - acc: 1.0000 - val_loss: 0.0402 - val_acc: 1.0000\n",
            "Epoch 94/100\n",
            "2002/2002 [==============================] - 0s 39us/step - loss: 0.0121 - acc: 1.0000 - val_loss: 0.0402 - val_acc: 1.0000\n",
            "Epoch 95/100\n",
            "2002/2002 [==============================] - 0s 40us/step - loss: 0.0121 - acc: 1.0000 - val_loss: 0.0401 - val_acc: 1.0000\n",
            "Epoch 96/100\n",
            "2002/2002 [==============================] - 0s 39us/step - loss: 0.0121 - acc: 1.0000 - val_loss: 0.0401 - val_acc: 1.0000\n",
            "Epoch 97/100\n",
            "2002/2002 [==============================] - 0s 40us/step - loss: 0.0120 - acc: 1.0000 - val_loss: 0.0401 - val_acc: 1.0000\n",
            "Epoch 98/100\n",
            "2002/2002 [==============================] - 0s 47us/step - loss: 0.0120 - acc: 1.0000 - val_loss: 0.0400 - val_acc: 1.0000\n",
            "Epoch 99/100\n",
            "2002/2002 [==============================] - 0s 40us/step - loss: 0.0119 - acc: 1.0000 - val_loss: 0.0400 - val_acc: 1.0000\n",
            "Epoch 100/100\n",
            "2002/2002 [==============================] - 0s 52us/step - loss: 0.0119 - acc: 1.0000 - val_loss: 0.0399 - val_acc: 1.0000\n",
            "2001/2001 [==============================] - 0s 12us/step\n"
          ],
          "name": "stdout"
        },
        {
          "output_type": "display_data",
          "data": {
            "text/plain": [
              "'[test_loss, test_acc]'"
            ]
          },
          "metadata": {
            "tags": []
          }
        },
        {
          "output_type": "display_data",
          "data": {
            "text/plain": [
              "[0.03994196738074089, 1.0]"
            ]
          },
          "metadata": {
            "tags": []
          }
        }
      ]
    },
    {
      "metadata": {
        "id": "VJlKTdCIKqA_",
        "colab_type": "text"
      },
      "cell_type": "markdown",
      "source": [
        "Model 1 gives us a good result. We have a large gap (13 units) between the loss of the training set which has no anomalies  and the validation set which has ~50/50 normal/anomaly data.  We also have the training accuracy at 95% and the testing accuracy at 19%. "
      ]
    },
    {
      "metadata": {
        "id": "KKqXDodwih00",
        "colab_type": "code",
        "colab": {
          "base_uri": "https://localhost:8080/",
          "height": 3799
        },
        "cellView": "both",
        "outputId": "4770782d-a0cd-4b63-e0bb-b5c58744f8af"
      },
      "cell_type": "code",
      "source": [
        "#@title Model 2 - LeakyRelu: Train/Test\n",
        "\n",
        "#Results with 40 sample of anomily every 40 samples\n",
        "full_anom = 0\n",
        "anom_samples = 40\n",
        "nb_epoch = 100 # a bit overkill but wanted to see how it progressed w more epochs \n",
        "batch_size = 256\n",
        "import keras\n",
        "autoencoder2.compile(optimizer='nadam', \n",
        "                    loss='mean_squared_error', \n",
        "                    #loss='kullback_leibler_divergence',\n",
        "                    metrics=['accuracy'])\n",
        "reduce_lr = keras.callbacks.ReduceLROnPlateau(monitor='acc', factor=0.2,min_lr=1e-6,min_delta=0.0001,\n",
        "                              patience=37,verbose = 1)\n",
        "\n",
        "checkpointer = ModelCheckpoint(filepath=\"model2.h5\",\n",
        "                               verbose=0,\n",
        "                               save_best_only=True)\n",
        "tensorboard = TensorBoard(log_dir='./logs',\n",
        "                          histogram_freq=0,\n",
        "                          write_graph=True,\n",
        "                          write_images=True)\n",
        "history2 = autoencoder2.fit(x_train2, x_train2,\n",
        "                    epochs=nb_epoch,\n",
        "                    batch_size=batch_size,\n",
        "                    validation_data=(x_test2, x_test2),\n",
        "                    validation_split=.1,\n",
        "                    shuffle=True,\n",
        "                    verbose=1,callbacks=[reduce_lr, checkpointer, tensorboard]).history \n",
        "\n",
        "score2 = autoencoder2.evaluate(x_test2, x_test2, batch_size=256, verbose=1, sample_weight=None, steps=None)\n",
        "\n",
        "display('[test_loss, test_acc]')\n",
        "display(score2)"
      ],
      "execution_count": 292,
      "outputs": [
        {
          "output_type": "stream",
          "text": [
            "Train on 2002 samples, validate on 2001 samples\n",
            "Epoch 1/100\n",
            "2002/2002 [==============================] - 1s 295us/step - loss: 1.7941 - acc: 0.9496 - val_loss: 1.7817 - val_acc: 0.5177\n",
            "Epoch 2/100\n",
            "2002/2002 [==============================] - 0s 45us/step - loss: 1.6015 - acc: 0.9496 - val_loss: 1.6035 - val_acc: 0.5177\n",
            "Epoch 3/100\n",
            "2002/2002 [==============================] - 0s 42us/step - loss: 1.4223 - acc: 0.9496 - val_loss: 1.4368 - val_acc: 0.5177\n",
            "Epoch 4/100\n",
            "2002/2002 [==============================] - 0s 46us/step - loss: 1.2619 - acc: 0.9540 - val_loss: 1.2949 - val_acc: 1.0000\n",
            "Epoch 5/100\n",
            "2002/2002 [==============================] - 0s 45us/step - loss: 1.1302 - acc: 1.0000 - val_loss: 1.1496 - val_acc: 1.0000\n",
            "Epoch 6/100\n",
            "2002/2002 [==============================] - 0s 45us/step - loss: 1.0205 - acc: 1.0000 - val_loss: 1.0414 - val_acc: 1.0000\n",
            "Epoch 7/100\n",
            "2002/2002 [==============================] - 0s 45us/step - loss: 0.9327 - acc: 1.0000 - val_loss: 0.9534 - val_acc: 1.0000\n",
            "Epoch 8/100\n",
            "2002/2002 [==============================] - 0s 42us/step - loss: 0.8624 - acc: 1.0000 - val_loss: 0.8800 - val_acc: 1.0000\n",
            "Epoch 9/100\n",
            "2002/2002 [==============================] - 0s 45us/step - loss: 0.8066 - acc: 1.0000 - val_loss: 0.8207 - val_acc: 1.0000\n",
            "Epoch 10/100\n",
            "2002/2002 [==============================] - 0s 44us/step - loss: 0.7628 - acc: 1.0000 - val_loss: 0.7726 - val_acc: 1.0000\n",
            "Epoch 11/100\n",
            "2002/2002 [==============================] - 0s 41us/step - loss: 0.7259 - acc: 1.0000 - val_loss: 0.7291 - val_acc: 1.0000\n",
            "Epoch 12/100\n",
            "2002/2002 [==============================] - 0s 41us/step - loss: 0.6969 - acc: 1.0000 - val_loss: 0.6986 - val_acc: 1.0000\n",
            "Epoch 13/100\n",
            "2002/2002 [==============================] - 0s 50us/step - loss: 0.6769 - acc: 1.0000 - val_loss: 0.6742 - val_acc: 1.0000\n",
            "Epoch 14/100\n",
            "2002/2002 [==============================] - 0s 44us/step - loss: 0.6535 - acc: 1.0000 - val_loss: 0.6373 - val_acc: 1.0000\n",
            "Epoch 15/100\n",
            "2002/2002 [==============================] - 0s 41us/step - loss: 0.6059 - acc: 1.0000 - val_loss: 0.6063 - val_acc: 1.0000\n",
            "Epoch 16/100\n",
            "2002/2002 [==============================] - 0s 46us/step - loss: 0.5733 - acc: 1.0000 - val_loss: 0.5840 - val_acc: 1.0000\n",
            "Epoch 17/100\n",
            "2002/2002 [==============================] - 0s 47us/step - loss: 0.5490 - acc: 1.0000 - val_loss: 0.5681 - val_acc: 1.0000\n",
            "Epoch 18/100\n",
            "2002/2002 [==============================] - 0s 41us/step - loss: 0.5289 - acc: 1.0000 - val_loss: 0.5535 - val_acc: 1.0000\n",
            "Epoch 19/100\n",
            "2002/2002 [==============================] - 0s 41us/step - loss: 0.5103 - acc: 1.0000 - val_loss: 0.5433 - val_acc: 1.0000\n",
            "Epoch 20/100\n",
            "2002/2002 [==============================] - 0s 41us/step - loss: 0.4964 - acc: 1.0000 - val_loss: 0.5379 - val_acc: 1.0000\n",
            "Epoch 21/100\n",
            "2002/2002 [==============================] - 0s 44us/step - loss: 0.4863 - acc: 1.0000 - val_loss: 0.5357 - val_acc: 1.0000\n",
            "Epoch 22/100\n",
            "2002/2002 [==============================] - 0s 42us/step - loss: 0.4794 - acc: 1.0000 - val_loss: 0.5357 - val_acc: 1.0000\n",
            "Epoch 23/100\n",
            "2002/2002 [==============================] - 0s 51us/step - loss: 0.4746 - acc: 1.0000 - val_loss: 0.5371 - val_acc: 1.0000\n",
            "Epoch 24/100\n",
            "2002/2002 [==============================] - 0s 41us/step - loss: 0.4715 - acc: 1.0000 - val_loss: 0.5389 - val_acc: 1.0000\n",
            "Epoch 25/100\n",
            "2002/2002 [==============================] - 0s 46us/step - loss: 0.4694 - acc: 1.0000 - val_loss: 0.5410 - val_acc: 1.0000\n",
            "Epoch 26/100\n",
            "2002/2002 [==============================] - 0s 42us/step - loss: 0.4679 - acc: 1.0000 - val_loss: 0.5426 - val_acc: 1.0000\n",
            "Epoch 27/100\n",
            "2002/2002 [==============================] - 0s 42us/step - loss: 0.4667 - acc: 1.0000 - val_loss: 0.5427 - val_acc: 1.0000\n",
            "Epoch 28/100\n",
            "2002/2002 [==============================] - 0s 41us/step - loss: 0.4659 - acc: 1.0000 - val_loss: 0.5425 - val_acc: 1.0000\n",
            "Epoch 29/100\n",
            "2002/2002 [==============================] - 0s 41us/step - loss: 0.4652 - acc: 1.0000 - val_loss: 0.5423 - val_acc: 1.0000\n",
            "Epoch 30/100\n",
            "2002/2002 [==============================] - 0s 40us/step - loss: 0.4645 - acc: 1.0000 - val_loss: 0.5417 - val_acc: 1.0000\n",
            "Epoch 31/100\n",
            "2002/2002 [==============================] - 0s 40us/step - loss: 0.4638 - acc: 1.0000 - val_loss: 0.5415 - val_acc: 1.0000\n",
            "Epoch 32/100\n",
            "2002/2002 [==============================] - 0s 40us/step - loss: 0.4631 - acc: 1.0000 - val_loss: 0.5409 - val_acc: 1.0000\n",
            "Epoch 33/100\n",
            "2002/2002 [==============================] - 0s 41us/step - loss: 0.4624 - acc: 1.0000 - val_loss: 0.5386 - val_acc: 1.0000\n",
            "Epoch 34/100\n",
            "2002/2002 [==============================] - 0s 40us/step - loss: 0.4616 - acc: 1.0000 - val_loss: 0.5381 - val_acc: 1.0000\n",
            "Epoch 35/100\n",
            "2002/2002 [==============================] - 0s 40us/step - loss: 0.4609 - acc: 1.0000 - val_loss: 0.5363 - val_acc: 1.0000\n",
            "Epoch 36/100\n",
            "2002/2002 [==============================] - 0s 39us/step - loss: 0.4601 - acc: 1.0000 - val_loss: 0.5354 - val_acc: 1.0000\n",
            "Epoch 37/100\n",
            "2002/2002 [==============================] - 0s 52us/step - loss: 0.4593 - acc: 1.0000 - val_loss: 0.5343 - val_acc: 1.0000\n",
            "Epoch 38/100\n",
            "2002/2002 [==============================] - 0s 41us/step - loss: 0.4584 - acc: 1.0000 - val_loss: 0.5325 - val_acc: 1.0000\n",
            "Epoch 39/100\n",
            "2002/2002 [==============================] - 0s 39us/step - loss: 0.4576 - acc: 1.0000 - val_loss: 0.5316 - val_acc: 1.0000\n",
            "Epoch 40/100\n",
            "2002/2002 [==============================] - 0s 39us/step - loss: 0.4568 - acc: 1.0000 - val_loss: 0.5306 - val_acc: 1.0000\n",
            "Epoch 41/100\n",
            "2002/2002 [==============================] - 0s 41us/step - loss: 0.4558 - acc: 1.0000 - val_loss: 0.5292 - val_acc: 1.0000\n",
            "Epoch 42/100\n",
            "2002/2002 [==============================] - 0s 39us/step - loss: 0.4549 - acc: 1.0000 - val_loss: 0.5275 - val_acc: 1.0000\n",
            "\n",
            "Epoch 00042: ReduceLROnPlateau reducing learning rate to 0.0004000000189989805.\n",
            "Epoch 43/100\n",
            "2002/2002 [==============================] - 0s 39us/step - loss: 0.4541 - acc: 1.0000 - val_loss: 0.5278 - val_acc: 1.0000\n",
            "Epoch 44/100\n",
            "2002/2002 [==============================] - 0s 50us/step - loss: 0.4538 - acc: 1.0000 - val_loss: 0.5274 - val_acc: 1.0000\n",
            "Epoch 45/100\n",
            "2002/2002 [==============================] - 0s 40us/step - loss: 0.4536 - acc: 1.0000 - val_loss: 0.5271 - val_acc: 1.0000\n",
            "Epoch 46/100\n",
            "2002/2002 [==============================] - 0s 39us/step - loss: 0.4534 - acc: 1.0000 - val_loss: 0.5269 - val_acc: 1.0000\n",
            "Epoch 47/100\n",
            "2002/2002 [==============================] - 0s 41us/step - loss: 0.4532 - acc: 1.0000 - val_loss: 0.5265 - val_acc: 1.0000\n",
            "Epoch 48/100\n",
            "2002/2002 [==============================] - 0s 37us/step - loss: 0.4530 - acc: 1.0000 - val_loss: 0.5263 - val_acc: 1.0000\n",
            "Epoch 49/100\n",
            "2002/2002 [==============================] - 0s 38us/step - loss: 0.4528 - acc: 1.0000 - val_loss: 0.5260 - val_acc: 1.0000\n",
            "Epoch 50/100\n",
            "2002/2002 [==============================] - 0s 39us/step - loss: 0.4526 - acc: 1.0000 - val_loss: 0.5257 - val_acc: 1.0000\n",
            "Epoch 51/100\n",
            "2002/2002 [==============================] - 0s 39us/step - loss: 0.4524 - acc: 1.0000 - val_loss: 0.5254 - val_acc: 1.0000\n",
            "Epoch 52/100\n",
            "2002/2002 [==============================] - 0s 39us/step - loss: 0.4522 - acc: 1.0000 - val_loss: 0.5251 - val_acc: 1.0000\n",
            "Epoch 53/100\n",
            "2002/2002 [==============================] - 0s 40us/step - loss: 0.4519 - acc: 1.0000 - val_loss: 0.5248 - val_acc: 1.0000\n",
            "Epoch 54/100\n",
            "2002/2002 [==============================] - 0s 40us/step - loss: 0.4517 - acc: 1.0000 - val_loss: 0.5246 - val_acc: 1.0000\n",
            "Epoch 55/100\n",
            "2002/2002 [==============================] - 0s 49us/step - loss: 0.4515 - acc: 1.0000 - val_loss: 0.5242 - val_acc: 1.0000\n",
            "Epoch 56/100\n",
            "2002/2002 [==============================] - 0s 39us/step - loss: 0.4512 - acc: 1.0000 - val_loss: 0.5238 - val_acc: 1.0000\n",
            "Epoch 57/100\n",
            "2002/2002 [==============================] - 0s 39us/step - loss: 0.4510 - acc: 1.0000 - val_loss: 0.5234 - val_acc: 1.0000\n",
            "Epoch 58/100\n",
            "2002/2002 [==============================] - 0s 39us/step - loss: 0.4507 - acc: 1.0000 - val_loss: 0.5232 - val_acc: 1.0000\n",
            "Epoch 59/100\n",
            "2002/2002 [==============================] - 0s 39us/step - loss: 0.4505 - acc: 1.0000 - val_loss: 0.5229 - val_acc: 1.0000\n",
            "Epoch 60/100\n",
            "2002/2002 [==============================] - 0s 38us/step - loss: 0.4503 - acc: 1.0000 - val_loss: 0.5225 - val_acc: 1.0000\n",
            "Epoch 61/100\n",
            "2002/2002 [==============================] - 0s 41us/step - loss: 0.4501 - acc: 1.0000 - val_loss: 0.5222 - val_acc: 1.0000\n",
            "Epoch 62/100\n",
            "2002/2002 [==============================] - 0s 44us/step - loss: 0.4498 - acc: 1.0000 - val_loss: 0.5219 - val_acc: 1.0000\n",
            "Epoch 63/100\n",
            "2002/2002 [==============================] - 0s 41us/step - loss: 0.4495 - acc: 1.0000 - val_loss: 0.5216 - val_acc: 1.0000\n",
            "Epoch 64/100\n",
            "2002/2002 [==============================] - 0s 39us/step - loss: 0.4493 - acc: 1.0000 - val_loss: 0.5212 - val_acc: 1.0000\n",
            "Epoch 65/100\n",
            "2002/2002 [==============================] - 0s 40us/step - loss: 0.4489 - acc: 1.0000 - val_loss: 0.5207 - val_acc: 1.0000\n",
            "Epoch 66/100\n",
            "2002/2002 [==============================] - 0s 50us/step - loss: 0.4488 - acc: 1.0000 - val_loss: 0.5205 - val_acc: 1.0000\n",
            "Epoch 67/100\n",
            "2002/2002 [==============================] - 0s 39us/step - loss: 0.4486 - acc: 1.0000 - val_loss: 0.5201 - val_acc: 1.0000\n",
            "Epoch 68/100\n",
            "2002/2002 [==============================] - 0s 39us/step - loss: 0.4483 - acc: 1.0000 - val_loss: 0.5198 - val_acc: 1.0000\n",
            "Epoch 69/100\n",
            "2002/2002 [==============================] - 0s 40us/step - loss: 0.4480 - acc: 1.0000 - val_loss: 0.5194 - val_acc: 1.0000\n",
            "Epoch 70/100\n",
            "2002/2002 [==============================] - 0s 40us/step - loss: 0.4477 - acc: 1.0000 - val_loss: 0.5190 - val_acc: 1.0000\n",
            "Epoch 71/100\n",
            "2002/2002 [==============================] - 0s 41us/step - loss: 0.4475 - acc: 1.0000 - val_loss: 0.5187 - val_acc: 1.0000\n",
            "Epoch 72/100\n",
            "2002/2002 [==============================] - 0s 44us/step - loss: 0.4472 - acc: 1.0000 - val_loss: 0.5182 - val_acc: 1.0000\n",
            "Epoch 73/100\n",
            "2002/2002 [==============================] - 0s 42us/step - loss: 0.4469 - acc: 1.0000 - val_loss: 0.5179 - val_acc: 1.0000\n",
            "Epoch 74/100\n",
            "2002/2002 [==============================] - 0s 44us/step - loss: 0.4465 - acc: 1.0000 - val_loss: 0.5175 - val_acc: 1.0000\n",
            "Epoch 75/100\n",
            "2002/2002 [==============================] - 0s 41us/step - loss: 0.4463 - acc: 1.0000 - val_loss: 0.5171 - val_acc: 1.0000\n",
            "Epoch 76/100\n",
            "2002/2002 [==============================] - 0s 44us/step - loss: 0.4461 - acc: 1.0000 - val_loss: 0.5168 - val_acc: 1.0000\n",
            "Epoch 77/100\n",
            "2002/2002 [==============================] - 0s 48us/step - loss: 0.4458 - acc: 1.0000 - val_loss: 0.5164 - val_acc: 1.0000\n",
            "Epoch 78/100\n",
            "2002/2002 [==============================] - 0s 42us/step - loss: 0.4454 - acc: 1.0000 - val_loss: 0.5160 - val_acc: 1.0000\n",
            "Epoch 79/100\n",
            "2002/2002 [==============================] - 0s 41us/step - loss: 0.4452 - acc: 1.0000 - val_loss: 0.5156 - val_acc: 1.0000\n",
            "\n",
            "Epoch 00079: ReduceLROnPlateau reducing learning rate to 8.000000379979611e-05.\n",
            "Epoch 80/100\n",
            "2002/2002 [==============================] - 0s 41us/step - loss: 0.4449 - acc: 1.0000 - val_loss: 0.5155 - val_acc: 1.0000\n",
            "Epoch 81/100\n",
            "2002/2002 [==============================] - 0s 44us/step - loss: 0.4449 - acc: 1.0000 - val_loss: 0.5155 - val_acc: 1.0000\n",
            "Epoch 82/100\n",
            "2002/2002 [==============================] - 0s 44us/step - loss: 0.4448 - acc: 1.0000 - val_loss: 0.5154 - val_acc: 1.0000\n",
            "Epoch 83/100\n",
            "2002/2002 [==============================] - 0s 45us/step - loss: 0.4448 - acc: 1.0000 - val_loss: 0.5153 - val_acc: 1.0000\n",
            "Epoch 84/100\n",
            "2002/2002 [==============================] - 0s 45us/step - loss: 0.4447 - acc: 1.0000 - val_loss: 0.5152 - val_acc: 1.0000\n",
            "Epoch 85/100\n",
            "2002/2002 [==============================] - 0s 42us/step - loss: 0.4446 - acc: 1.0000 - val_loss: 0.5151 - val_acc: 1.0000\n",
            "Epoch 86/100\n",
            "2002/2002 [==============================] - 0s 42us/step - loss: 0.4446 - acc: 1.0000 - val_loss: 0.5150 - val_acc: 1.0000\n",
            "Epoch 87/100\n",
            "2002/2002 [==============================] - 0s 51us/step - loss: 0.4445 - acc: 1.0000 - val_loss: 0.5150 - val_acc: 1.0000\n",
            "Epoch 88/100\n",
            "2002/2002 [==============================] - 0s 44us/step - loss: 0.4444 - acc: 1.0000 - val_loss: 0.5149 - val_acc: 1.0000\n",
            "Epoch 89/100\n",
            "2002/2002 [==============================] - 0s 44us/step - loss: 0.4444 - acc: 1.0000 - val_loss: 0.5148 - val_acc: 1.0000\n",
            "Epoch 90/100\n",
            "2002/2002 [==============================] - 0s 44us/step - loss: 0.4444 - acc: 1.0000 - val_loss: 0.5147 - val_acc: 1.0000\n",
            "Epoch 91/100\n",
            "2002/2002 [==============================] - 0s 44us/step - loss: 0.4443 - acc: 1.0000 - val_loss: 0.5146 - val_acc: 1.0000\n",
            "Epoch 92/100\n",
            "2002/2002 [==============================] - 0s 44us/step - loss: 0.4442 - acc: 1.0000 - val_loss: 0.5146 - val_acc: 1.0000\n",
            "Epoch 93/100\n",
            "2002/2002 [==============================] - 0s 44us/step - loss: 0.4441 - acc: 1.0000 - val_loss: 0.5145 - val_acc: 1.0000\n",
            "Epoch 94/100\n",
            "2002/2002 [==============================] - 0s 45us/step - loss: 0.4441 - acc: 1.0000 - val_loss: 0.5144 - val_acc: 1.0000\n",
            "Epoch 95/100\n",
            "2002/2002 [==============================] - 0s 45us/step - loss: 0.4440 - acc: 1.0000 - val_loss: 0.5143 - val_acc: 1.0000\n",
            "Epoch 96/100\n",
            "2002/2002 [==============================] - 0s 46us/step - loss: 0.4440 - acc: 1.0000 - val_loss: 0.5142 - val_acc: 1.0000\n",
            "Epoch 97/100\n",
            "2002/2002 [==============================] - 0s 51us/step - loss: 0.4439 - acc: 1.0000 - val_loss: 0.5141 - val_acc: 1.0000\n",
            "Epoch 98/100\n",
            "2002/2002 [==============================] - 0s 42us/step - loss: 0.4438 - acc: 1.0000 - val_loss: 0.5140 - val_acc: 1.0000\n",
            "Epoch 99/100\n",
            "2002/2002 [==============================] - 0s 41us/step - loss: 0.4438 - acc: 1.0000 - val_loss: 0.5139 - val_acc: 1.0000\n",
            "Epoch 100/100\n",
            "2002/2002 [==============================] - 0s 42us/step - loss: 0.4437 - acc: 1.0000 - val_loss: 0.5139 - val_acc: 1.0000\n",
            "2001/2001 [==============================] - 0s 11us/step\n"
          ],
          "name": "stdout"
        },
        {
          "output_type": "display_data",
          "data": {
            "text/plain": [
              "'[test_loss, test_acc]'"
            ]
          },
          "metadata": {
            "tags": []
          }
        },
        {
          "output_type": "display_data",
          "data": {
            "text/plain": [
              "[0.5138615785033509, 1.0]"
            ]
          },
          "metadata": {
            "tags": []
          }
        }
      ]
    },
    {
      "metadata": {
        "id": "ver4uGl7ROSu",
        "colab_type": "text"
      },
      "cell_type": "markdown",
      "source": [
        "Model 2 gives us a good result. We have a large gap (30 units) between the loss of the training set which has no anomalies  and the validation set which has ~50/50 normal/anomaly data.  We also have the training accuracy at 95% and the testing accuracy at 27%. \n",
        "\n",
        "We  see that the second model has a much larger gap in the loss but a smaller gap between the accuracies. "
      ]
    },
    {
      "metadata": {
        "id": "e8QD5MuQX-xc",
        "colab_type": "text"
      },
      "cell_type": "markdown",
      "source": [
        "## **Model Evaluations**"
      ]
    },
    {
      "metadata": {
        "id": "AVeSq6nUqU-a",
        "colab_type": "code",
        "colab": {
          "base_uri": "https://localhost:8080/",
          "height": 376
        },
        "cellView": "code",
        "outputId": "2ca6bb3c-0184-4a2c-c812-4225e7555343"
      },
      "cell_type": "code",
      "source": [
        "#@title Default title text\n",
        "plt.plot(history['loss'][0:100])\n",
        "plt.plot(history['val_loss'][0:100])\n",
        "plt.plot(history2['loss'][0:100])\n",
        "plt.plot(history2['val_loss'][0:100])\n",
        "plt.title('model losses')\n",
        "plt.ylabel('loss')\n",
        "plt.xlabel('epoch')\n",
        "plt.legend(['train', 'test','train2', 'test2'], loc='upper right');\n",
        "\n"
      ],
      "execution_count": 293,
      "outputs": [
        {
          "output_type": "display_data",
          "data": {
            "image/png": "[encoded data removed]",
            "text/plain": [
              "<matplotlib.figure.Figure at 0x7f971ac46908>"
            ]
          },
          "metadata": {
            "tags": []
          }
        }
      ]
    },
    {
      "metadata": {
        "id": "7nn-OSP4PI1d",
        "colab_type": "text"
      },
      "cell_type": "markdown",
      "source": [
        "Here we usually see a large(separable) gap in model losses. When the random starting cisoid parameters are not ideal the training set can actually have a higer loss than the test set. This is something  that needs to be fixed. Of all the times I have ran the code though I have not seen an instance where the test accuracy is consistantly higher than the train accuracy. It may be higher on the first eopch. "
      ]
    },
    {
      "metadata": {
        "id": "VvWWkhcGmzKK",
        "colab_type": "code",
        "colab": {
          "base_uri": "https://localhost:8080/",
          "height": 376
        },
        "outputId": "df38f5b4-d765-4b60-8d79-cec6a202c124"
      },
      "cell_type": "code",
      "source": [
        "#@title Default title text\n",
        "plt.plot(history['acc'][0:100])\n",
        "plt.plot(history['val_acc'][0:100])\n",
        "plt.plot(history2['acc'][0:100])\n",
        "plt.plot(history2['val_acc'][0:100])\n",
        "plt.title('model accuracies')\n",
        "plt.ylabel('acc')\n",
        "plt.xlabel('epoch')\n",
        "plt.legend(['train', 'test','train2', 'test2'], loc='upper right');"
      ],
      "execution_count": 294,
      "outputs": [
        {
          "output_type": "display_data",
          "data": {
            "image/png": "[encoded data removed]",
            "text/plain": [
              "<matplotlib.figure.Figure at 0x7f971eefebe0>"
            ]
          },
          "metadata": {
            "tags": []
          }
        }
      ]
    },
    {
      "metadata": {
        "id": "MO_MwWZozZZa",
        "colab_type": "text"
      },
      "cell_type": "markdown",
      "source": [
        "Here we see the large(separable) gap in model losses. "
      ]
    },
    {
      "metadata": {
        "id": "6g2xPivClyfH",
        "colab_type": "code",
        "colab": {
          "base_uri": "https://localhost:8080/",
          "height": 288
        },
        "cellView": "both",
        "outputId": "541ec9e6-c09d-4c9f-ddef-542474c7be98"
      },
      "cell_type": "code",
      "source": [
        "#@title Data Statistics\n",
        "\n",
        "# Model 1 \n",
        "predictions = autoencoder.predict(x_test2,batch_size=32)\n",
        "mse = np.mean(np.power(x_test2 - predictions, 2), axis=1)\n",
        "#acc = K.categorical_accuracy(x_test,predictions)\n",
        "error_df = pd.DataFrame({'reconstruction_error': mse,\n",
        "                         'true_class': np.array(y_test)})\n",
        "\n",
        "display(error_df.describe())\n",
        "\n",
        "# # Model 2 \n",
        "\n",
        "# predictions2 = autoencoder2.predict(x_test2,batch_size=32)\n",
        "# mse2 = np.mean(np.power(x_test2 - predictions2, 2), axis=1)\n",
        "# error_df2 = pd.DataFrame({'reconstruction_error': mse2,\n",
        "#                          'true_class': np.array(y_test)})\n",
        "\n",
        "# error_df2.describe()"
      ],
      "execution_count": 295,
      "outputs": [
        {
          "output_type": "display_data",
          "data": {
            "text/html": [
              "<div>\n",
              "<style scoped>\n",
              "    .dataframe tbody tr th:only-of-type {\n",
              "        vertical-align: middle;\n",
              "    }\n",
              "\n",
              "    .dataframe tbody tr th {\n",
              "        vertical-align: top;\n",
              "    }\n",
              "\n",
              "    .dataframe thead th {\n",
              "        text-align: right;\n",
              "    }\n",
              "</style>\n",
              "<table border=\"1\" class=\"dataframe\">\n",
              "  <thead>\n",
              "    <tr style=\"text-align: right;\">\n",
              "      <th></th>\n",
              "      <th>reconstruction_error</th>\n",
              "      <th>true_class</th>\n",
              "    </tr>\n",
              "  </thead>\n",
              "  <tbody>\n",
              "    <tr>\n",
              "      <th>count</th>\n",
              "      <td>2001.000000</td>\n",
              "      <td>2001.000000</td>\n",
              "    </tr>\n",
              "    <tr>\n",
              "      <th>mean</th>\n",
              "      <td>0.026579</td>\n",
              "      <td>0.499750</td>\n",
              "    </tr>\n",
              "    <tr>\n",
              "      <th>std</th>\n",
              "      <td>0.018708</td>\n",
              "      <td>0.500125</td>\n",
              "    </tr>\n",
              "    <tr>\n",
              "      <th>min</th>\n",
              "      <td>0.008502</td>\n",
              "      <td>0.000000</td>\n",
              "    </tr>\n",
              "    <tr>\n",
              "      <th>25%</th>\n",
              "      <td>0.008527</td>\n",
              "      <td>0.000000</td>\n",
              "    </tr>\n",
              "    <tr>\n",
              "      <th>50%</th>\n",
              "      <td>0.008543</td>\n",
              "      <td>0.000000</td>\n",
              "    </tr>\n",
              "    <tr>\n",
              "      <th>75%</th>\n",
              "      <td>0.045957</td>\n",
              "      <td>1.000000</td>\n",
              "    </tr>\n",
              "    <tr>\n",
              "      <th>max</th>\n",
              "      <td>0.046078</td>\n",
              "      <td>1.000000</td>\n",
              "    </tr>\n",
              "  </tbody>\n",
              "</table>\n",
              "</div>"
            ],
            "text/plain": [
              "       reconstruction_error   true_class\n",
              "count           2001.000000  2001.000000\n",
              "mean               0.026579     0.499750\n",
              "std                0.018708     0.500125\n",
              "min                0.008502     0.000000\n",
              "25%                0.008527     0.000000\n",
              "50%                0.008543     0.000000\n",
              "75%                0.045957     1.000000\n",
              "max                0.046078     1.000000"
            ]
          },
          "metadata": {
            "tags": []
          }
        }
      ]
    },
    {
      "metadata": {
        "id": "tpGDX1NGiNda",
        "colab_type": "text"
      },
      "cell_type": "markdown",
      "source": [
        "**Reconstruction error without Anomaly**"
      ]
    },
    {
      "metadata": {
        "id": "Jnx1SYsdXKjA",
        "colab_type": "code",
        "colab": {
          "base_uri": "https://localhost:8080/",
          "height": 35
        },
        "outputId": "47ce9f2e-74e9-454f-a32e-3594f7569e57"
      },
      "cell_type": "code",
      "source": [
        "import tensorflow as tf\n",
        "from tensorflow.python.keras import backend as K\n",
        "\n",
        "\n",
        "acc = keras.metrics.categorical_accuracy(x_test2,predictions)\n",
        "sess = K.get_session()\n",
        "array = sess.run(acc)\n",
        "\n",
        "test_accuracy = np.logical_xor(array,np.array(y_test))\n",
        "np.sum(test_accuracy)\n",
        "\n"
      ],
      "execution_count": 296,
      "outputs": [
        {
          "output_type": "execute_result",
          "data": {
            "text/plain": [
              "1001"
            ]
          },
          "metadata": {
            "tags": []
          },
          "execution_count": 296
        }
      ]
    },
    {
      "metadata": {
        "id": "xk24UhdciE0y",
        "colab_type": "code",
        "colab": {
          "base_uri": "https://localhost:8080/",
          "height": 347
        },
        "outputId": "4e26b6fe-ec63-401b-dc8f-7ab4cece0289"
      },
      "cell_type": "code",
      "source": [
        "fig = plt.figure()\n",
        "ax = fig.add_subplot(111)\n",
        "normal_error_df = error_df[(error_df['true_class']== 0) & (error_df['reconstruction_error'] < 100000000000000000000000)]\n",
        "_ = ax.hist(normal_error_df.reconstruction_error.values, bins=10)"
      ],
      "execution_count": 297,
      "outputs": [
        {
          "output_type": "display_data",
          "data": {
            "image/png": "[encoded data removed]",
            "text/plain": [
              "<matplotlib.figure.Figure at 0x7f971ef14eb8>"
            ]
          },
          "metadata": {
            "tags": []
          }
        }
      ]
    },
    {
      "metadata": {
        "id": "7MeL-vqSiQ6t",
        "colab_type": "text"
      },
      "cell_type": "markdown",
      "source": [
        "**Reconstruction error with Anomaly**"
      ]
    },
    {
      "metadata": {
        "id": "EHz1hj1GiTyF",
        "colab_type": "code",
        "colab": {
          "base_uri": "https://localhost:8080/",
          "height": 347
        },
        "outputId": "9bfb6238-3ea7-4501-f14d-6cdfb268578e"
      },
      "cell_type": "code",
      "source": [
        "fig = plt.figure()\n",
        "ax = fig.add_subplot(111)\n",
        "anomaly_error_df = error_df[error_df['true_class'] == 1]\n",
        "_ = ax.hist(anomaly_error_df.reconstruction_error.values, bins=10)"
      ],
      "execution_count": 298,
      "outputs": [
        {
          "output_type": "display_data",
          "data": {
            "image/png": "[encoded data removed]",
            "text/plain": [
              "<matplotlib.figure.Figure at 0x7f97219f2470>"
            ]
          },
          "metadata": {
            "tags": []
          }
        }
      ]
    },
    {
      "metadata": {
        "id": "uvO2DOR1T7O3",
        "colab_type": "code",
        "colab": {}
      },
      "cell_type": "code",
      "source": [
        "threshold1 = (np.max(normal_error_df)['reconstruction_error'] + np.min(anomaly_error_df['reconstruction_error']))/2"
      ],
      "execution_count": 0,
      "outputs": []
    },
    {
      "metadata": {
        "id": "YHjJFFSCoZLD",
        "colab_type": "code",
        "colab": {
          "base_uri": "https://localhost:8080/",
          "height": 376
        },
        "outputId": "7e99ee9a-1452-433c-b632-b9b2fa326da7"
      },
      "cell_type": "code",
      "source": [
        "from sklearn.metrics import (confusion_matrix, precision_recall_curve, auc,\n",
        "                             roc_curve, recall_score, classification_report, f1_score,\n",
        "                             precision_recall_fscore_support)\n",
        "\n",
        "fpr, tpr, thresholds = roc_curve(error_df.true_class, error_df.reconstruction_error)\n",
        "roc_auc = auc(fpr, tpr)\n",
        "\n",
        "#fpr2, tpr2, thresholds2 = roc_curve(error_df2.true_class, error_df2.reconstruction_error)\n",
        "#roc_auc2 = auc(fpr2, tpr2)\n",
        "\n",
        "plt.title('Receiver Operating Characteristic')\n",
        "plt.plot(fpr, tpr, label='AUC = %0.4f'% roc_auc)\n",
        "#plt.plot(fpr2, tpr2, 'go',label='AUC 2 = %0.4f'% roc_auc2)\n",
        "\n",
        "plt.legend(loc='lower right')\n",
        "plt.plot([0,1],[0,1],'r--')\n",
        "plt.xlim([-0.001, 1])\n",
        "plt.ylim([0, 1.001])\n",
        "plt.ylabel('True Positive Rate')\n",
        "plt.xlabel('False Positive Rate')\n",
        "plt.show();\n"
      ],
      "execution_count": 300,
      "outputs": [
        {
          "output_type": "display_data",
          "data": {
            "image/png": "[encoded data removed]",
            "text/plain": [
              "<matplotlib.figure.Figure at 0x7f971f718f98>"
            ]
          },
          "metadata": {
            "tags": []
          }
        }
      ]
    },
    {
      "metadata": {
        "id": "8FrDrdHcY7jP",
        "colab_type": "text"
      },
      "cell_type": "markdown",
      "source": [
        "# **Precision vs Recall**\n",
        "\n",
        "Ideally one would have a system with both precision and recall equal to one. This would result in a unity plot. We want to maximize the area under the graph given that the range of values is 0 to 1. "
      ]
    },
    {
      "metadata": {
        "id": "WbYf-y-zcEeZ",
        "colab_type": "text"
      },
      "cell_type": "markdown",
      "source": [
        "**Model 1**"
      ]
    },
    {
      "metadata": {
        "id": "7tJcX5FsoxfV",
        "colab_type": "code",
        "colab": {
          "base_uri": "https://localhost:8080/",
          "height": 376
        },
        "cellView": "code",
        "outputId": "f8b039b4-91ca-40c1-8def-3a9f7cf58dd2"
      },
      "cell_type": "code",
      "source": [
        "#@title Default title text\n",
        "precision, recall, th = precision_recall_curve(error_df.true_class, error_df.reconstruction_error)\n",
        "plt.plot(recall, precision, 'b', label='Precision-Recall curve')\n",
        "#precision2, recall2, th2 = precision_recall_curve(error_df2.true_class, error_df2.reconstruction_error)\n",
        "#plt.plot(recall2, precision2, 'r--', label='Precision-Recall curve 2')\n",
        "plt.title('Recall vs Precision')\n",
        "plt.xlabel('Recall')\n",
        "plt.ylabel('Precision')\n",
        "plt.legend(loc='lower right')\n",
        "plt.show()"
      ],
      "execution_count": 301,
      "outputs": [
        {
          "output_type": "display_data",
          "data": {
            "image/png": "[encoded data removed]",
            "text/plain": [
              "<matplotlib.figure.Figure at 0x7f97218f6dd8>"
            ]
          },
          "metadata": {
            "tags": []
          }
        }
      ]
    },
    {
      "metadata": {
        "id": "08sSOlaGa4QW",
        "colab_type": "text"
      },
      "cell_type": "markdown",
      "source": [
        "high precision ~ low false positives \\\\\n",
        "high recall ~ low false negatives "
      ]
    },
    {
      "metadata": {
        "id": "I321pp_8o0_n",
        "colab_type": "code",
        "colab": {
          "base_uri": "https://localhost:8080/",
          "height": 376
        },
        "outputId": "2748a997-8b02-4c00-e11a-a571f3a4e1cc"
      },
      "cell_type": "code",
      "source": [
        "plt.plot(th, precision[1:], 'b', label='Threshold-Precision curve')\n",
        "plt.title('Precision for different threshold values')\n",
        "plt.xlabel('Threshold')\n",
        "plt.ylabel('Precision')\n",
        "plt.show()"
      ],
      "execution_count": 302,
      "outputs": [
        {
          "output_type": "display_data",
          "data": {
            "image/png": "[encoded data removed]",
            "text/plain": [
              "<matplotlib.figure.Figure at 0x7f972133d898>"
            ]
          },
          "metadata": {
            "tags": []
          }
        }
      ]
    },
    {
      "metadata": {
        "id": "wFVt_drhXz9U",
        "colab_type": "text"
      },
      "cell_type": "markdown",
      "source": [
        "This run of the code shows near ideal retults. Here precision is not a function of reconstruction error.\n",
        "\n"
      ]
    },
    {
      "metadata": {
        "id": "xuK0aMo5o4kQ",
        "colab_type": "code",
        "colab": {
          "base_uri": "https://localhost:8080/",
          "height": 376
        },
        "outputId": "7c00dcd6-90ed-402d-f467-266394f66b18"
      },
      "cell_type": "code",
      "source": [
        "plt.plot(th, recall[1:], 'b', label='Threshold-Recall curve')\n",
        "plt.title('Recall for different threshold values')\n",
        "plt.xlabel('Reconstruction error')\n",
        "plt.ylabel('Recall')\n",
        "plt.show()"
      ],
      "execution_count": 303,
      "outputs": [
        {
          "output_type": "display_data",
          "data": {
            "image/png": "[encoded data removed]",
            "text/plain": [
              "<matplotlib.figure.Figure at 0x7f972384f5f8>"
            ]
          },
          "metadata": {
            "tags": []
          }
        }
      ]
    },
    {
      "metadata": {
        "id": "9k4dHi-NZ37U",
        "colab_type": "text"
      },
      "cell_type": "markdown",
      "source": [
        "Here we see that as reconstruction error increases recall decreases. \n",
        "\n",
        "\n",
        "\n"
      ]
    },
    {
      "metadata": {
        "id": "KTbeVkqraC_G",
        "colab_type": "text"
      },
      "cell_type": "markdown",
      "source": [
        "**Model 2**"
      ]
    },
    {
      "metadata": {
        "id": "p_eOCwO4I3h7",
        "colab_type": "code",
        "colab": {
          "base_uri": "https://localhost:8080/",
          "height": 288
        },
        "outputId": "6633c0d7-6307-4eb7-c53c-cc8f6d135b72"
      },
      "cell_type": "code",
      "source": [
        "predictions2 = autoencoder2.predict(x_test2,batch_size=32)\n",
        "mse = np.mean(np.power(x_test2 - predictions2, 2), axis=1)\n",
        "error_df2 = pd.DataFrame({'reconstruction_error': mse,\n",
        "                         'true_class': np.array(y_test)})\n",
        "\n",
        "error_df2.describe()"
      ],
      "execution_count": 304,
      "outputs": [
        {
          "output_type": "execute_result",
          "data": {
            "text/html": [
              "<div>\n",
              "<style scoped>\n",
              "    .dataframe tbody tr th:only-of-type {\n",
              "        vertical-align: middle;\n",
              "    }\n",
              "\n",
              "    .dataframe tbody tr th {\n",
              "        vertical-align: top;\n",
              "    }\n",
              "\n",
              "    .dataframe thead th {\n",
              "        text-align: right;\n",
              "    }\n",
              "</style>\n",
              "<table border=\"1\" class=\"dataframe\">\n",
              "  <thead>\n",
              "    <tr style=\"text-align: right;\">\n",
              "      <th></th>\n",
              "      <th>reconstruction_error</th>\n",
              "      <th>true_class</th>\n",
              "    </tr>\n",
              "  </thead>\n",
              "  <tbody>\n",
              "    <tr>\n",
              "      <th>count</th>\n",
              "      <td>2001.000000</td>\n",
              "      <td>2001.000000</td>\n",
              "    </tr>\n",
              "    <tr>\n",
              "      <th>mean</th>\n",
              "      <td>0.461238</td>\n",
              "      <td>0.499750</td>\n",
              "    </tr>\n",
              "    <tr>\n",
              "      <th>std</th>\n",
              "      <td>0.026754</td>\n",
              "      <td>0.500125</td>\n",
              "    </tr>\n",
              "    <tr>\n",
              "      <th>min</th>\n",
              "      <td>0.435419</td>\n",
              "      <td>0.000000</td>\n",
              "    </tr>\n",
              "    <tr>\n",
              "      <th>25%</th>\n",
              "      <td>0.435423</td>\n",
              "      <td>0.000000</td>\n",
              "    </tr>\n",
              "    <tr>\n",
              "      <th>50%</th>\n",
              "      <td>0.435428</td>\n",
              "      <td>0.000000</td>\n",
              "    </tr>\n",
              "    <tr>\n",
              "      <th>75%</th>\n",
              "      <td>0.488948</td>\n",
              "      <td>1.000000</td>\n",
              "    </tr>\n",
              "    <tr>\n",
              "      <th>max</th>\n",
              "      <td>0.489110</td>\n",
              "      <td>1.000000</td>\n",
              "    </tr>\n",
              "  </tbody>\n",
              "</table>\n",
              "</div>"
            ],
            "text/plain": [
              "       reconstruction_error   true_class\n",
              "count           2001.000000  2001.000000\n",
              "mean               0.461238     0.499750\n",
              "std                0.026754     0.500125\n",
              "min                0.435419     0.000000\n",
              "25%                0.435423     0.000000\n",
              "50%                0.435428     0.000000\n",
              "75%                0.488948     1.000000\n",
              "max                0.489110     1.000000"
            ]
          },
          "metadata": {
            "tags": []
          },
          "execution_count": 304
        }
      ]
    },
    {
      "metadata": {
        "id": "7_3nWxqqk6y7",
        "colab_type": "code",
        "colab": {
          "base_uri": "https://localhost:8080/",
          "height": 35
        },
        "outputId": "742da1be-c8bc-41a1-8883-eee6401dbe3b"
      },
      "cell_type": "code",
      "source": [
        "acc = keras.metrics.categorical_accuracy(x_test2,predictions2)\n",
        "sess = K.get_session()\n",
        "array = sess.run(acc)\n",
        "\n",
        "test_accuracy = np.logical_xor(array,np.array(y_test))\n",
        "np.sum(test_accuracy)"
      ],
      "execution_count": 305,
      "outputs": [
        {
          "output_type": "execute_result",
          "data": {
            "text/plain": [
              "1001"
            ]
          },
          "metadata": {
            "tags": []
          },
          "execution_count": 305
        }
      ]
    },
    {
      "metadata": {
        "id": "w_mw7uR5-9ei",
        "colab_type": "code",
        "colab": {
          "base_uri": "https://localhost:8080/",
          "height": 347
        },
        "outputId": "6fde6e57-ac98-4bc3-c75e-23d9daf170e2"
      },
      "cell_type": "code",
      "source": [
        "fig = plt.figure()\n",
        "ax = fig.add_subplot(111)\n",
        "normal_error_df2 = error_df2[(error_df2['true_class']== 0) & (error_df2['reconstruction_error'] < 1000000000000)]\n",
        "_ = ax.hist(normal_error_df2.reconstruction_error.values, bins=10)"
      ],
      "execution_count": 306,
      "outputs": [
        {
          "output_type": "display_data",
          "data": {
            "image/png": "[encoded data removed]",
            "text/plain": [
              "<matplotlib.figure.Figure at 0x7f9720d07cf8>"
            ]
          },
          "metadata": {
            "tags": []
          }
        }
      ]
    },
    {
      "metadata": {
        "id": "NROgqg6p_GcH",
        "colab_type": "code",
        "colab": {
          "base_uri": "https://localhost:8080/",
          "height": 347
        },
        "outputId": "f9f0e3ec-0859-4061-e497-332ff48682a5"
      },
      "cell_type": "code",
      "source": [
        "fig = plt.figure()\n",
        "ax = fig.add_subplot(111)\n",
        "anomaly_error_df2 = error_df2[error_df2['true_class'] == 1]\n",
        "_ = ax.hist(anomaly_error_df2.reconstruction_error.values, bins=10)"
      ],
      "execution_count": 307,
      "outputs": [
        {
          "output_type": "display_data",
          "data": {
            "image/png": "[encoded data removed]",
            "text/plain": [
              "<matplotlib.figure.Figure at 0x7f9720cd5518>"
            ]
          },
          "metadata": {
            "tags": []
          }
        }
      ]
    },
    {
      "metadata": {
        "id": "wWvXg9sLBira",
        "colab_type": "code",
        "colab": {}
      },
      "cell_type": "code",
      "source": [
        "threshold2 = (np.max(normal_error_df2)['reconstruction_error'] + np.min(anomaly_error_df2['reconstruction_error']))/2"
      ],
      "execution_count": 0,
      "outputs": []
    },
    {
      "metadata": {
        "id": "t_hSQlo4MHez",
        "colab_type": "code",
        "colab": {
          "base_uri": "https://localhost:8080/",
          "height": 376
        },
        "outputId": "53a81c8b-0c7a-46b0-9ce0-44058625cd24"
      },
      "cell_type": "code",
      "source": [
        "from sklearn.metrics import (confusion_matrix, precision_recall_curve, auc,\n",
        "                             roc_curve, recall_score, classification_report, f1_score,\n",
        "                             precision_recall_fscore_support)\n",
        "\n",
        "fpr2, tpr2, thresholds = roc_curve(error_df2.true_class, error_df2.reconstruction_error)\n",
        "roc_auc2 = auc(fpr2, tpr2)\n",
        "\n",
        "plt.title('Receiver Operating Characteristic')\n",
        "plt.plot(fpr2, tpr2, label='AUC = %0.4f'% roc_auc2)\n",
        "plt.legend(loc='lower right')\n",
        "plt.plot([0,1],[0,1],'r--')\n",
        "plt.xlim([-0.001, 1])\n",
        "plt.ylim([0, 1.001])\n",
        "plt.ylabel('True Positive Rate')\n",
        "plt.xlabel('False Positive Rate')\n",
        "plt.show();"
      ],
      "execution_count": 309,
      "outputs": [
        {
          "output_type": "display_data",
          "data": {
            "image/png": "[encoded data removed]",
            "text/plain": [
              "<matplotlib.figure.Figure at 0x7f971ab9b630>"
            ]
          },
          "metadata": {
            "tags": []
          }
        }
      ]
    },
    {
      "metadata": {
        "id": "o1aszNDgPTiR",
        "colab_type": "code",
        "colab": {
          "base_uri": "https://localhost:8080/",
          "height": 376
        },
        "outputId": "6fc1bc41-9b55-4fe0-b459-7676f01ba43c"
      },
      "cell_type": "code",
      "source": [
        "precision2, recall2, th2 = precision_recall_curve(error_df2.true_class, error_df2.reconstruction_error)\n",
        "plt.plot(recall2, precision2, 'b', label='Precision-Recall curve')\n",
        "plt.title('Recall vs Precision')\n",
        "plt.xlabel('Recall')\n",
        "plt.ylabel('Precision')\n",
        "plt.show()\n",
        "\n"
      ],
      "execution_count": 310,
      "outputs": [
        {
          "output_type": "display_data",
          "data": {
            "image/png": "[encoded data removed]",
            "text/plain": [
              "<matplotlib.figure.Figure at 0x7f972119b438>"
            ]
          },
          "metadata": {
            "tags": []
          }
        }
      ]
    },
    {
      "metadata": {
        "id": "0dj2F34KR-TB",
        "colab_type": "code",
        "colab": {
          "base_uri": "https://localhost:8080/",
          "height": 376
        },
        "outputId": "718aba9f-d8d7-40df-b7d4-25621233e672"
      },
      "cell_type": "code",
      "source": [
        "plt.plot(th2, precision2[1:], 'b', label='Threshold-Precision curve')\n",
        "plt.title('Precision for different threshold values')\n",
        "plt.xlabel('Threshold')\n",
        "plt.ylabel('Precision')\n",
        "plt.show()\n",
        "\n"
      ],
      "execution_count": 311,
      "outputs": [
        {
          "output_type": "display_data",
          "data": {
            "image/png": "[encoded data removed]",
            "text/plain": [
              "<matplotlib.figure.Figure at 0x7f9720cb4208>"
            ]
          },
          "metadata": {
            "tags": []
          }
        }
      ]
    },
    {
      "metadata": {
        "id": "O6Yj0uQvSCgB",
        "colab_type": "code",
        "colab": {
          "base_uri": "https://localhost:8080/",
          "height": 376
        },
        "outputId": "1e6407e8-23ef-42f5-cf58-f712e16dd424"
      },
      "cell_type": "code",
      "source": [
        "plt.plot(th2, recall2[1:], 'b', label='Threshold-Recall curve')\n",
        "#plt.plot(th, recall[1:], 'r.', label='Threshold-Recall curve')\n",
        "plt.title('Recall for different threshold values')\n",
        "plt.xlabel('Reconstruction error')\n",
        "plt.ylabel('Recall')\n",
        "plt.show()"
      ],
      "execution_count": 312,
      "outputs": [
        {
          "output_type": "display_data",
          "data": {
            "image/png": "[encoded data removed]",
            "text/plain": [
              "<matplotlib.figure.Figure at 0x7f97196e4c18>"
            ]
          },
          "metadata": {
            "tags": []
          }
        }
      ]
    },
    {
      "metadata": {
        "id": "bp6G4eLwbU3v",
        "colab_type": "text"
      },
      "cell_type": "markdown",
      "source": [
        "As in model 1 we see that as reconstruction error increases recall decreases. But it occurs at a much higher value here."
      ]
    },
    {
      "metadata": {
        "id": "vxiiffcdb9MR",
        "colab_type": "text"
      },
      "cell_type": "markdown",
      "source": [
        "# **Prediction**"
      ]
    },
    {
      "metadata": {
        "id": "jfKE-s-jlTsP",
        "colab_type": "code",
        "colab": {
          "base_uri": "https://localhost:8080/",
          "height": 376
        },
        "outputId": "263f575e-bf7b-4603-9e07-337b89449290"
      },
      "cell_type": "code",
      "source": [
        "threshold = threshold1\n",
        "\n",
        "groups = error_df.groupby('true_class')\n",
        "fig, ax = plt.subplots()\n",
        "\n",
        "for name, group in groups:\n",
        "    ax.plot(group.index, group.reconstruction_error, marker='o', ms=3.5, linestyle='',\n",
        "            label= \"Anomaly\" if name == 1 else \"Normal\")\n",
        "ax.hlines(threshold, ax.get_xlim()[0], ax.get_xlim()[1], colors=\"r\", zorder=100, label='Threshold')\n",
        "ax.legend()\n",
        "plt.title(\"Reconstruction error for different classes\")\n",
        "plt.ylabel(\"Reconstruction error\")\n",
        "plt.xlabel(\"Data point index\")\n",
        "plt.show();"
      ],
      "execution_count": 313,
      "outputs": [
        {
          "output_type": "display_data",
          "data": {
            "image/png": "[encoded data removed]",
            "text/plain": [
              "<matplotlib.figure.Figure at 0x7f971bb78c88>"
            ]
          },
          "metadata": {
            "tags": []
          }
        }
      ]
    },
    {
      "metadata": {
        "id": "SROlKStTVzuK",
        "colab_type": "code",
        "colab": {
          "base_uri": "https://localhost:8080/",
          "height": 729
        },
        "outputId": "6a0fd797-8ddf-4870-ea45-1f9794e09a55"
      },
      "cell_type": "code",
      "source": [
        "LABELS = [\"Normal\", \"Anomaly\"]\n",
        "y_pred = [1 if e > threshold else 0 for e in error_df.reconstruction_error.values]\n",
        "conf_matrix = confusion_matrix(error_df.true_class, y_pred)\n",
        "\n",
        "plt.figure(figsize=(12, 12))\n",
        "sns.heatmap(conf_matrix, xticklabels=LABELS, yticklabels=LABELS, annot=True, fmt=\"d\");\n",
        "plt.title(\"Confusion matrix\")\n",
        "plt.ylabel('True class')\n",
        "plt.xlabel('Predicted class')\n",
        "plt.show()\n",
        "\n"
      ],
      "execution_count": 314,
      "outputs": [
        {
          "output_type": "display_data",
          "data": {
            "image/png": "[encoded data removed]",
            "text/plain": [
              "<matplotlib.figure.Figure at 0x7f971ee270f0>"
            ]
          },
          "metadata": {
            "tags": []
          }
        }
      ]
    },
    {
      "metadata": {
        "id": "f2mHfg2HsEXA",
        "colab_type": "code",
        "colab": {
          "base_uri": "https://localhost:8080/",
          "height": 376
        },
        "outputId": "8c479903-8b5a-45fc-e68a-bc4d198707ea"
      },
      "cell_type": "code",
      "source": [
        "threshold = threshold2\n",
        "\n",
        "groups = error_df2.groupby('true_class')\n",
        "fig, ax = plt.subplots()\n",
        "\n",
        "for name, group in groups:\n",
        "    ax.plot(group.index, group.reconstruction_error, marker='o', ms=3.5, linestyle='',\n",
        "            label= \"Anomaly\" if name == 1 else \"Normal\")\n",
        "ax.hlines(threshold, ax.get_xlim()[0], ax.get_xlim()[1], colors=\"r\", zorder=100, label='Threshold')\n",
        "ax.legend()\n",
        "plt.title(\"Reconstruction error for different classes\")\n",
        "plt.ylabel(\"Reconstruction error\")\n",
        "plt.xlabel(\"Data point index\")\n",
        "plt.show();"
      ],
      "execution_count": 315,
      "outputs": [
        {
          "output_type": "display_data",
          "data": {
            "image/png": "[encoded data removed]",
            "text/plain": [
              "<matplotlib.figure.Figure at 0x7f971962d0f0>"
            ]
          },
          "metadata": {
            "tags": []
          }
        }
      ]
    },
    {
      "metadata": {
        "id": "EQyPGCFasHSR",
        "colab_type": "code",
        "colab": {
          "base_uri": "https://localhost:8080/",
          "height": 729
        },
        "outputId": "823a3449-8bc0-4ab1-dc17-cc2aac212511"
      },
      "cell_type": "code",
      "source": [
        "LABELS = [\"Normal\", \"Anomaly\"]\n",
        "y_pred = [1 if e > threshold else 0 for e in error_df2.reconstruction_error.values]\n",
        "conf_matrix = confusion_matrix(error_df.true_class, y_pred)\n",
        "\n",
        "plt.figure(figsize=(12, 12))\n",
        "sns.heatmap(conf_matrix, xticklabels=LABELS, yticklabels=LABELS, annot=True, fmt=\"d\");\n",
        "plt.title(\"Confusion matrix\")\n",
        "plt.ylabel('True class')\n",
        "plt.xlabel('Predicted class')\n",
        "plt.show()\n",
        "\n"
      ],
      "execution_count": 316,
      "outputs": [
        {
          "output_type": "display_data",
          "data": {
            "image/png": "[encoded data removed]",
            "text/plain": [
              "<matplotlib.figure.Figure at 0x7f97194d9cc0>"
            ]
          },
          "metadata": {
            "tags": []
          }
        }
      ]
    }
  ]
}