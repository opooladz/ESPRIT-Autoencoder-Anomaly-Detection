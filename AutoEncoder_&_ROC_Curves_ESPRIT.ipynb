{
  "nbformat": 4,
  "nbformat_minor": 0,
  "metadata": {
    "colab": {
      "name": "AutoEncoder & ROC Curves - ESPRIT.ipynb",
      "version": "0.3.2",
      "provenance": [],
      "collapsed_sections": [],
      "include_colab_link": true
    },
    "kernelspec": {
      "name": "python3",
      "display_name": "Python 3"
    },
    "accelerator": "GPU"
  },
  "cells": [
    {
      "cell_type": "markdown",
      "metadata": {
        "id": "view-in-github",
        "colab_type": "text"
      },
      "source": [
        "[View in Colaboratory](https://colab.research.google.com/github/opooladz/ESPRIT-Autoencoder-Anomaly-Detection/blob/master/AutoEncoder_&_ROC_Curves_ESPRIT.ipynb)"
      ]
    },
    {
      "metadata": {
        "id": "ls_UG_Iv50o5",
        "colab_type": "code",
        "colab": {
          "base_uri": "https://localhost:8080/",
          "height": 176
        },
        "outputId": "cc8d884d-9787-4d2e-f87d-90cdd1d1cb9f"
      },
      "cell_type": "code",
      "source": [
        "!pip3 install numba"
      ],
      "execution_count": 1,
      "outputs": [
        {
          "output_type": "stream",
          "text": [
            "Collecting numba\n",
            "\u001b[?25l  Downloading https://files.pythonhosted.org/packages/24/89/6f1755892d60ddd528090dc313349e7cc491170d6737f6b3a7a5b317ef81/numba-0.39.0-cp36-cp36m-manylinux1_x86_64.whl (1.9MB)\n",
            "\u001b[K    100% |████████████████████████████████| 1.9MB 9.2MB/s \n",
            "\u001b[?25hRequirement already satisfied: numpy in /usr/local/lib/python3.6/dist-packages (from numba) (1.14.5)\n",
            "Collecting llvmlite>=0.24.0dev0 (from numba)\n",
            "\u001b[?25l  Downloading https://files.pythonhosted.org/packages/be/05/c1b933d6b3dd6a234b681605e4154c44d21ee22cbef315c4eb9d64e6ab6a/llvmlite-0.24.0-cp36-cp36m-manylinux1_x86_64.whl (15.8MB)\n",
            "\u001b[K    100% |████████████████████████████████| 15.9MB 2.6MB/s \n",
            "\u001b[?25hInstalling collected packages: llvmlite, numba\n",
            "Successfully installed llvmlite-0.24.0 numba-0.39.0\n"
          ],
          "name": "stdout"
        }
      ]
    },
    {
      "metadata": {
        "id": "32BPXqrHfNrs",
        "colab_type": "code",
        "colab": {
          "base_uri": "https://localhost:8080/",
          "height": 34
        },
        "outputId": "d638219d-cb8a-4577-d445-8722c0ef1c4d"
      },
      "cell_type": "code",
      "source": [
        "import numpy as np\n",
        "from scipy.linalg import toeplitz\n",
        "from numpy import linalg as lg\n",
        "from time import time\n",
        "from typing import Tuple\n",
        "import pandas as pd\n",
        "import pickle\n",
        "import matplotlib.pyplot as plt\n",
        "from scipy import stats\n",
        "import tensorflow as tf\n",
        "import seaborn as sns\n",
        "from pylab import rcParams\n",
        "from sklearn.model_selection import train_test_split\n",
        "from keras.models import Model, load_model\n",
        "from keras.layers import Input, Dense\n",
        "from keras.callbacks import ModelCheckpoint, TensorBoard\n",
        "from keras import regularizers\n",
        "from numba import jit\n",
        "\n",
        "flatten = lambda l: [item for sublist in l for item in sublist]\n",
        "\n",
        "@jit\n",
        "def compute_autocovariance(x: np.ndarray, M: int) -> np.ndarray:\n",
        "    \"\"\"\n",
        "    This function compute the auto-covariance matrix of a numpy signal.\n",
        "    The auto-covariance is computed as follows\n",
        "    .. math:: \\textbf{R}=\\frac{1}{N}\\sum_{M-1}^{N-1}\\textbf{x}_{m}\\textbf{x}_{m}^{H}\n",
        "    where :math:`\\textbf{x}_{m}^{T}=[x[m],x[m-1],x[m-M+1]]`.\n",
        "    :param x: 1-D vector of size N\n",
        "    :param M:  int, optional. Size of signal block.\n",
        "    :returns: NxN ndarray\n",
        "    \"\"\"\n",
        "\n",
        "    # Create covariance matrix for psd estimation\n",
        "    # length of the vector x\n",
        "    x = np.asarray(x).squeeze()\n",
        "    assert x.ndim == 1, '1-D only'\n",
        "    N = x.size\n",
        "\n",
        "    # Create column vector (Nx1) from row array\n",
        "    x_vect = x[None, :].T\n",
        "\n",
        "    # init covariance matrix\n",
        "    yn = x_vect[M-1::-1]  # reverse order from M-1 to 0\n",
        "\n",
        "    R = yn @ yn.conj().T  # zeroth lag\n",
        "    # about 5-8% of computation time\n",
        "    for i in range(1, N-M):  # no zero because we just computed it\n",
        "        # extract the column vector\n",
        "        yn = x_vect[M-1+i:i-1:-1]\n",
        "\n",
        "        R = R + yn @ yn.conj().T\n",
        "\n",
        "    return R / N\n",
        "@jit\n",
        "def wrapper(x):\n",
        "  return np.convolve(x,xc,mode=\"valid\")\n",
        "\n",
        "@jit\n",
        "def esprit1(x: np.ndarray, L: int, M: int=None, fs: int=1,\n",
        "           verbose: bool=False) -> Tuple[np.ndarray, np.ndarray]:\n",
        "    \"\"\"\n",
        "    This function estimate the frequency components based on the ESPRIT algorithm [ROY89]_\n",
        "    The frequencies are related to the roots as :math:`z=e^{-2j\\pi f/Fe}`.\n",
        "    See [STO97]_ section 4.7 for more information about the implementation.\n",
        "    :param x: ndarray, Nsamples\n",
        "    :param L: int. Number of components to be extracted.\n",
        "    :param M:  int, optional. Size of signal block.\n",
        "    :param Fs: float. Sampling Frequency.\n",
        "    :returns: ndarray ndarray containing the L frequencies\n",
        "    >>> import numpy as np\n",
        "    >>> import spectral_analysis.spectral_analysis as sa\n",
        "    >>> Fe=500\n",
        "    >>> t=1.*np.arange(100)/Fe\n",
        "    >>> x=np.exp(2j*np.pi*55.2*t)\n",
        "    >>> f=sa.Esprit(x,1,None,Fe)\n",
        "    >>> print(f)\n",
        "    \"\"\"\n",
        "\n",
        "    x = np.asarray(x).squeeze()\n",
        "    assert x.ndim in (1, 2)\n",
        "    # length of the vector x\n",
        "    if x.ndim == 1:\n",
        "        N = x.size\n",
        "    else:\n",
        "        N = x.shape[1]\n",
        "\n",
        "    if M is None:\n",
        "        M = N // 2\n",
        "# %% extract signal subspace  99.9 % of computation time\n",
        "    tic = time()\n",
        "    if x.ndim == 1 and isinstance(M, int):\n",
        "        R = compute_autocovariance(x, M)  # 75% of computation time        \n",
        "    else:\n",
        "        # the random phase of transmit/receive/target actually helps--need at least 5-6 observations to make useful\n",
        "        R = np.cov(x, rowvar=False)\n",
        "    if verbose:\n",
        "        print('autocov sec.', time()-tic)\n",
        "    # R = subspace.corrmtx(x.astype(complex128),M).astype(float) #f2py fortran\n",
        "\n",
        "    tic = time()\n",
        "    #U, S, V = lg.svd(R)  # 25% of computation time\n",
        "    w, v = lg.eig(R)    \n",
        "    idx = w.argsort()[::-1]   \n",
        "    w = w[idx]\n",
        "    v = v[:,idx]    \n",
        "    if verbose:\n",
        "        print('svd sec.', time()-tic)\n",
        "# %% take eigenvalues and determine sinusoid frequencies\n",
        "    # Remove last row\n",
        "    S1 = v[:-1, :L]\n",
        "    # Remove first row\n",
        "    S2 = v[1:, :L]\n",
        "\n",
        "    # Compute matrix Phi (Stoica 4.7.12)  <0.1 % of computation time\n",
        "    Phi = lg.inv(S1.conj().T @ S1) @ S1.conj().T @ S2\n",
        "\n",
        "    # Perform eigenvalue decomposition <0.1 % of computation time\n",
        "    V, U = lg.eig(Phi)\n",
        "\n",
        "    # extract frequencies ((note that there a minus sign since Yn are defined as [y(n), y(n-1),y(n-2),..].T))\n",
        "    ang = -np.angle(V)\n",
        "\n",
        "    # frequency normalisation\n",
        "    f = fs*ang / (2.*np.pi)\n",
        "    t = np.arange(0, 0.01, 1/fs)\n",
        "    \n",
        "    x2 = np.exp(-1j*2*np.pi*t[::-1])[:,np.newaxis]**f\n",
        "    #display(xc.shape)\n",
        "    #ampCisoid = np.apply_along_axis(lambda q: np.convolve(q,xc,mode=\"valid\"),axis = 0,arr=x2)\n",
        "    ampCisoid = np.apply_along_axis(wrapper,axis = 0,arr=x2)\n",
        "    return f, np.abs(w[:L]), np.abs(ampCisoid)*1./480., np.angle(ampCisoid)\n",
        "  \n",
        "\n",
        "def esprit2(x: np.ndarray, L: int, M: int=None, fs: int=1,\n",
        "           verbose: bool=False) -> Tuple[np.ndarray, np.ndarray]:\n",
        "    \"\"\"\n",
        "    This function estimate the frequency components based on the ESPRIT algorithm [ROY89]_\n",
        "    The frequencies are related to the roots as :math:`z=e^{-2j\\pi f/Fe}`.\n",
        "    See [STO97]_ section 4.7 for more information about the implementation.\n",
        "    :param x: ndarray, Nsamples\n",
        "    :param L: int. Number of components to be extracted.\n",
        "    :param M:  int, optional. Size of signal block.\n",
        "    :param Fs: float. Sampling Frequency.\n",
        "    :returns: ndarray ndarray containing the L frequencies\n",
        "    >>> import numpy as np\n",
        "    >>> import spectral_analysis.spectral_analysis as sa\n",
        "    >>> Fe=500\n",
        "    >>> t=1.*np.arange(100)/Fe\n",
        "    >>> x=np.exp(2j*np.pi*55.2*t)\n",
        "    >>> f=sa.Esprit(x,1,None,Fe)\n",
        "    >>> print(f)\n",
        "    \"\"\"\n",
        "\n",
        "    x = np.asarray(x).squeeze()\n",
        "    assert x.ndim in (1, 2)\n",
        "    # length of the vector x\n",
        "    if x.ndim == 1:\n",
        "        N = x.size\n",
        "    else:\n",
        "        N = x.shape[1]\n",
        "\n",
        "    if M is None:\n",
        "        M = N // 2\n",
        "# %% extract signal subspace  99.9 % of computation time\n",
        "    tic = time()\n",
        "    if x.ndim == 1 and isinstance(M, int):\n",
        "        R = compute_autocovariance(x, M)  # 75% of computation time\n",
        "    else:\n",
        "        # the random phase of transmit/receive/target actually helps--need at least 5-6 observations to make useful\n",
        "        R = np.cov(x, rowvar=False)\n",
        "    if verbose:\n",
        "        print('autocov sec.', time()-tic)\n",
        "    # R = subspace.corrmtx(x.astype(complex128),M).astype(float) #f2py fortran\n",
        "\n",
        "    tic = time()\n",
        "    U, S, V = lg.svd(R)  # 25% of computation time\n",
        "    #w, v = lg.eig(R)    \n",
        "    #idx = w.argsort()[::-1]   \n",
        "    #w = w[idx]\n",
        "    #v = v[:,idx]    \n",
        "    if verbose:\n",
        "        print('svd sec.', time()-tic)\n",
        "# %% take eigenvalues and determine sinusoid frequencies\n",
        "    # Remove last row\n",
        "    S1 = U[:-1, :L]\n",
        "    # Remove first row\n",
        "    S2 = U[1:, :L]\n",
        "\n",
        "    # Compute matrix Phi (Stoica 4.7.12)  <0.1 % of computation time\n",
        "    Phi = lg.inv(S1.conj().T @ S1) @ S1.conj().T @ S2\n",
        "\n",
        "    # Perform eigenvalue decomposition <0.1 % of computation time\n",
        "    V, U = lg.eig(Phi)\n",
        "\n",
        "    # extract frequencies ((note that there a minus sign since Yn are defined as [y(n), y(n-1),y(n-2),..].T))\n",
        "    ang = -np.angle(V)\n",
        "\n",
        "    # frequency normalisation\n",
        "    f = fs*ang / (2.*np.pi)\n",
        "\n",
        "    return f, S[:L]"
      ],
      "execution_count": 2,
      "outputs": [
        {
          "output_type": "stream",
          "text": [
            "Using TensorFlow backend.\n"
          ],
          "name": "stderr"
        }
      ]
    },
    {
      "metadata": {
        "id": "CBT1I6cMg4mh",
        "colab_type": "code",
        "colab": {}
      },
      "cell_type": "code",
      "source": [
        "from time import time\n",
        "import numpy as np\n",
        "from pandas import DataFrame\n",
        "\n",
        "# Bool: Needs to be set by user \n",
        "full_anom = 0\n",
        "anom_samples = 43\n",
        "\n",
        "x = np.random.randn(4096).astype(np.complex128)\n",
        "F = 12345.6"
      ],
      "execution_count": 0,
      "outputs": []
    },
    {
      "metadata": {
        "id": "_Puk6vQCg14i",
        "colab_type": "code",
        "colab": {
          "base_uri": "https://localhost:8080/",
          "height": 158
        },
        "outputId": "4ee249df-692d-4fe6-e5ad-016c526b0186"
      },
      "cell_type": "code",
      "source": [
        "f0 = 12345.6\n",
        "f1 = 1000.6\n",
        "f2 = 726.6\n",
        "f3 = 57.3\n",
        "\n",
        "f0=np.random.uniform(low=0.,high = 10000.)\n",
        "f1=np.random.uniform(low=0.,high = 10000.)\n",
        "f2=np.random.uniform(low=0.,high = 10000.)\n",
        "f3 = np.random.uniform(low=0.,high = 10000.)\n",
        "display(f0)\n",
        "display(f1)\n",
        "display(f2)\n",
        "display(f3)\n",
        "\n",
        "c0 = 15.\n",
        "c1 = 7.\n",
        "c2 = 10.\n",
        "c0= np.random.uniform(low=3.,high = 100.)\n",
        "c1= np.random.uniform(low=3.,high = 100.)\n",
        "c2= np.random.uniform(low=3.,high = 100.)\n",
        "c3 = np.random.uniform(low=3.,high = 100.)\n",
        "display(c0)\n",
        "display(c1)\n",
        "display(c2)\n",
        "display(c3)"
      ],
      "execution_count": 3,
      "outputs": [
        {
          "output_type": "display_data",
          "data": {
            "text/plain": [
              "1541.3393921775842"
            ]
          },
          "metadata": {
            "tags": []
          }
        },
        {
          "output_type": "display_data",
          "data": {
            "text/plain": [
              "5166.118363149034"
            ]
          },
          "metadata": {
            "tags": []
          }
        },
        {
          "output_type": "display_data",
          "data": {
            "text/plain": [
              "7379.14489896736"
            ]
          },
          "metadata": {
            "tags": []
          }
        },
        {
          "output_type": "display_data",
          "data": {
            "text/plain": [
              "8975.33329695861"
            ]
          },
          "metadata": {
            "tags": []
          }
        },
        {
          "output_type": "display_data",
          "data": {
            "text/plain": [
              "27.838132490215898"
            ]
          },
          "metadata": {
            "tags": []
          }
        },
        {
          "output_type": "display_data",
          "data": {
            "text/plain": [
              "64.68603074222807"
            ]
          },
          "metadata": {
            "tags": []
          }
        },
        {
          "output_type": "display_data",
          "data": {
            "text/plain": [
              "86.3150600883311"
            ]
          },
          "metadata": {
            "tags": []
          }
        },
        {
          "output_type": "display_data",
          "data": {
            "text/plain": [
              "48.76457053147328"
            ]
          },
          "metadata": {
            "tags": []
          }
        }
      ]
    },
    {
      "metadata": {
        "id": "PmSWmi6K12AP",
        "colab_type": "text"
      },
      "cell_type": "markdown",
      "source": [
        "Just check to see that the random values generated are not \"too close.\"  But I want to make it random so I do not just get lucky on training and testing accuracy on some tunable parameters. "
      ]
    },
    {
      "metadata": {
        "id": "vpUQO1epmo5v",
        "colab_type": "code",
        "colab": {}
      },
      "cell_type": "code",
      "source": [
        "fs = 48e3\n",
        "snr = 20.  # dB\n",
        "Ntone = 6\n",
        "\n",
        "t = np.arange(0, 0.01, 1/fs)\n",
        "\n",
        "nvar = 10**(-snr/10.)\n",
        "\n",
        "\n",
        "\n",
        "M = [100] * 301  # iterating over block length\n",
        "\n",
        "py = DataFrame(index=M, columns=['err', 'sigma','cisoidAmp','cisoidAngle'])\n",
        "fortreal = DataFrame(index=M, columns=['err', 'sigma','cisoidAmp','cisoidAngle'])\n",
        "fortcmpl = DataFrame(index=M, columns=['err', 'sigma','cisoidAmp','cisoidAngle'])\n",
        "fest = []\n",
        "fest2 = []\n",
        "cisoidAmp = []\n",
        "cisoidAmp2 = []\n",
        "y_test = [] # lable \n",
        "i = 0\n",
        "for m in M:\n",
        "    i = i + 1\n",
        "    for k in range(2):\n",
        "      # Generate fist tripplet of cisoid  \n",
        "      # Train data start\n",
        "      xc = c0*np.exp(1j*2*np.pi*f0*t)+c1*np.exp(1j*2*np.pi*f1*t) +c2*np.exp(1j*2*np.pi*f2*t)\n",
        "      xc1 = xc + np.sqrt(nvar)*(np.random.randn(t.size) + 1j*np.random.randn(t.size))\n",
        "\n",
        "      tmpFest, sigma,tmpAmp,cisoidAngle = esprit1(xc1, Ntone//2, M=m, fs=fs, verbose=False)\n",
        "      fest.append(tmpFest)\n",
        "      tmpAmp = tmpAmp[0]\n",
        "      cisoidAmp.append(tmpAmp)\n",
        "      # Train data end \n",
        "    \n",
        "    # Test section start\n",
        "    \n",
        "    # Inject Anomaly\n",
        "    if not(full_anom or i%40):\n",
        "      #display(i)\n",
        "      for j in np.arange(anom_samples):\n",
        "        #display(i)\n",
        "        AWGN = np.sqrt(nvar)*(np.random.randn(t.size) + 1j*np.random.randn(t.size))\n",
        "        xc2 = c0*np.exp(1j*2*np.pi*f0*t)+c1*np.exp(1j*2*np.pi*f1*t) +c3*np.exp(1j*2*np.pi*f3*t) + AWGN\n",
        "        tmpFest, sigma,tmpAmp,cisoidAngle = esprit1(xc2, Ntone//2, M=m, fs=fs, verbose=False)\n",
        "        fest2.append(tmpFest)\n",
        "        tmpAmp = tmpAmp[0]\n",
        "        cisoidAmp2.append(tmpAmp) \n",
        "        # Anomaly has occured \n",
        "        y_test.append(1.)\n",
        "    # When not Anomaly use xc as baseline signal and add AWGN - Run through esprit\n",
        "    AWGN = np.sqrt(nvar)*(np.random.randn(t.size) + 1j*np.random.randn(t.size))\n",
        "    xc2 = xc + AWGN\n",
        "    if full_anom:\n",
        "      # Anomaly has occured \n",
        "      y_test.append(1.)\n",
        "      AWGN = np.sqrt(nvar)*(np.random.randn(t.size) + 1j*np.random.randn(t.size))\n",
        "      xc2 = c0*np.exp(1j*2*np.pi*f0*t)+c1*np.exp(1j*2*np.pi*f1*t) +c3*np.exp(1j*2*np.pi*f3*t) + AWGN\n",
        "    else:\n",
        "      # Anomaly free sample \n",
        "        y_test.append(0.)\n",
        "    tmpFest, sigma,tmpAmp,cisoidAngle = esprit1(xc2, Ntone//2, M=m, fs=fs, verbose=False)\n",
        "    fest2.append(tmpFest)\n",
        "    tmpAmp = tmpAmp[0]\n",
        "    cisoidAmp2.append(tmpAmp)\n",
        "    \n",
        "    # Test section end \n",
        "\n",
        "# Create train and test set     \n",
        "x_train = np.hstack((cisoidAmp,fest))    \n",
        "x_test = np.hstack((cisoidAmp2,fest2))\n",
        "    "
      ],
      "execution_count": 0,
      "outputs": []
    },
    {
      "metadata": {
        "id": "hrV3Bo41yEzj",
        "colab_type": "code",
        "colab": {}
      },
      "cell_type": "code",
      "source": [
        "\n"
      ],
      "execution_count": 0,
      "outputs": []
    },
    {
      "metadata": {
        "id": "raLBxYlFfsLt",
        "colab_type": "code",
        "colab": {
          "base_uri": "https://localhost:8080/",
          "height": 345
        },
        "outputId": "24a6c8e3-2bda-4281-b4e1-0112a19fc4d6"
      },
      "cell_type": "code",
      "source": [
        "#@title Model 1 - Elu { form-width: \"20%\" }\n",
        "from keras import regularizers\n",
        "from sklearn.preprocessing import StandardScaler\n",
        "# Make sure to run this after each new generation of data\n",
        "\n",
        "#1\n",
        "# zero mean and unit var\n",
        "# this makes train and test data zero mean and unit var individually \n",
        "# we should statistics of ideal data(no anomaly) \n",
        "# hense we should standadize both sets of data based on this\n",
        "#x_train2 = StandardScaler().fit_transform(x_train)\n",
        "#x_test2 = StandardScaler().fit_transform(x_test)\n",
        "\n",
        "#2\n",
        "# zero mean and unit var \n",
        "# scaler = StandardScaler().fit(x_train)\n",
        "# x_train2 = scaler.transform(x_train)\n",
        "# x_test2 = scaler.transform(x_test)\n",
        "\n",
        "#3\n",
        "#x_train2 = x_train\n",
        "#x_test2 = x_test\n",
        "\n",
        "#4\n",
        "#zero mean and unit var \n",
        "scaler = StandardScaler().fit(x_test)\n",
        "x_train2 = scaler.transform(x_train)\n",
        "x_test2 = scaler.transform(x_test)\n",
        "\n",
        "#x_train2 = x_train2[:,:,np.newaxis]\n",
        "#x_test2 = x_test2[:,:,np.newaxis]\n",
        "\n",
        "#x_train2 = x_train2.astype('float32') / 255.\n",
        "#x_test2 = x_test2.astype('float32') / 255.\n",
        "\n",
        "display(x_train2.shape)\n",
        "\n",
        "input_dim = x_train.shape[1]\n",
        "\n",
        "# set size of autoencoder \n",
        "encoding_dim = 6\n",
        "\n",
        "# use elu because it is leaky tried both net and l1 and l2 : net and l1 worked the best \n",
        "input_layer = Input(shape=(input_dim, ))\n",
        "encoder = Dense(encoding_dim, activation=\"elu\",kernel_initializer= 'he_normal',\n",
        "                activity_regularizer=regularizers.l1_l2(l1=10e-5, l2=75.10e-5))(input_layer)\n",
        "#encoder = Dense(encoding_dim, activation=\"elu\",activity_regularizer=regularizers.l1(10e-5))(input_layer)\n",
        "encoder = Dense(int(encoding_dim / 2), activation=\"elu\",kernel_initializer= 'he_normal')(encoder)\n",
        "decoder = Dense(int(encoding_dim / 2), activation='elu',kernel_initializer= 'he_normal')(encoder)\n",
        "decoder = Dense(input_dim, activation='elu',kernel_initializer= 'he_normal')(decoder)\n",
        "autoencoder = Model(inputs=input_layer, outputs=decoder)\n",
        "\n",
        "autoencoder.summary()  \n"
      ],
      "execution_count": 343,
      "outputs": [
        {
          "output_type": "display_data",
          "data": {
            "text/plain": [
              "(602, 6)"
            ]
          },
          "metadata": {
            "tags": []
          }
        },
        {
          "output_type": "stream",
          "text": [
            "_________________________________________________________________\n",
            "Layer (type)                 Output Shape              Param #   \n",
            "=================================================================\n",
            "input_13 (InputLayer)        (None, 6)                 0         \n",
            "_________________________________________________________________\n",
            "dense_49 (Dense)             (None, 6)                 42        \n",
            "_________________________________________________________________\n",
            "dense_50 (Dense)             (None, 3)                 21        \n",
            "_________________________________________________________________\n",
            "dense_51 (Dense)             (None, 3)                 12        \n",
            "_________________________________________________________________\n",
            "dense_52 (Dense)             (None, 6)                 24        \n",
            "=================================================================\n",
            "Total params: 99\n",
            "Trainable params: 99\n",
            "Non-trainable params: 0\n",
            "_________________________________________________________________\n"
          ],
          "name": "stdout"
        }
      ]
    },
    {
      "metadata": {
        "id": "0HjRmdZ2FXk0",
        "colab_type": "code",
        "colab": {
          "base_uri": "https://localhost:8080/",
          "height": 490
        },
        "cellView": "both",
        "outputId": "a199dd7a-6f3d-42d3-d33d-4f6413699c59"
      },
      "cell_type": "code",
      "source": [
        "#@title Model 2 - LeakyRelu { form-width: \"20%\" }\n",
        "import keras\n",
        "from keras import regularizers\n",
        "from sklearn.preprocessing import StandardScaler\n",
        "# Make sure to run this after each new generation of data\n",
        "\n",
        "#1\n",
        "# zero mean and unit var\n",
        "# this makes train and test data zero mean and unit var individually \n",
        "# we should statistics of ideal data(no anomaly) \n",
        "# hense we should standadize both sets of data based on this\n",
        "#x_train2 = StandardScaler().fit_transform(x_train)\n",
        "#x_test2 = StandardScaler().fit_transform(x_test)\n",
        "\n",
        "#2\n",
        "# zero mean and unit var \n",
        "# scaler = StandardScaler().fit(x_train)\n",
        "# x_train2 = scaler.transform(x_train)\n",
        "# x_test2 = scaler.transform(x_test)\n",
        "\n",
        "#3\n",
        "#x_train2 = x_train\n",
        "#x_test2 = x_test\n",
        "\n",
        "#4\n",
        "# zero mean and unit var \n",
        "scaler = StandardScaler().fit(x_test)\n",
        "x_train2 = scaler.transform(x_train)\n",
        "x_test2 = scaler.transform(x_test)\n",
        "\n",
        "#x_train2 = x_train2[:,:,np.newaxis]\n",
        "#x_test2 = x_test2[:,:,np.newaxis]\n",
        "\n",
        "#x_train2 = x_train2.astype('float32') \n",
        "#x_test2 = x_test2.astype('float32')\n",
        "\n",
        "display(x_train2.shape)\n",
        "\n",
        "input_dim = x_train.shape[1]\n",
        "\n",
        "# set size of autoencoder \n",
        "encoding_dim = 6\n",
        "elu = keras.layers.ELU(alpha=1.2)\n",
        "lrlu= keras.layers.LeakyReLU(alpha=0.3)\n",
        "\n",
        "\n",
        "# use elu because it is leaky tried both net and l1 and l2 : net and l1 worked the best \n",
        "input_layer = Input(shape=(input_dim, ))\n",
        "encoder = Dense(encoding_dim,kernel_initializer= 'he_normal', \n",
        "                activity_regularizer=regularizers.l1_l2(l1=10e-5, l2=75.10e-5))(input_layer)\n",
        "encoder = keras.layers.LeakyReLU(alpha=0.011)(encoder)\n",
        "#encoder = Dense(encoding_dim, activation=\"elu\",activity_regularizer=regularizers.l1(10e-5))(input_layer)\n",
        "encoder = Dense(int(encoding_dim / 2),kernel_initializer= 'he_normal')(encoder)\n",
        "encoder = keras.layers.LeakyReLU(alpha=0.011)(encoder)\n",
        "decoder = Dense(int(encoding_dim / 2),kernel_initializer= 'he_normal')(encoder)\n",
        "decoder = keras.layers.LeakyReLU(alpha=0.011)(decoder)\n",
        "decoder = Dense(input_dim,kernel_initializer= 'he_normal')(decoder)\n",
        "decoder = keras.layers.LeakyReLU(alpha=0.011)(decoder)\n",
        "autoencoder2 = Model(inputs=input_layer, outputs=decoder)\n",
        "\n",
        "autoencoder2.summary()  \n"
      ],
      "execution_count": 344,
      "outputs": [
        {
          "output_type": "display_data",
          "data": {
            "text/plain": [
              "(602, 6)"
            ]
          },
          "metadata": {
            "tags": []
          }
        },
        {
          "output_type": "stream",
          "text": [
            "_________________________________________________________________\n",
            "Layer (type)                 Output Shape              Param #   \n",
            "=================================================================\n",
            "input_14 (InputLayer)        (None, 6)                 0         \n",
            "_________________________________________________________________\n",
            "dense_53 (Dense)             (None, 6)                 42        \n",
            "_________________________________________________________________\n",
            "leaky_re_lu_22 (LeakyReLU)   (None, 6)                 0         \n",
            "_________________________________________________________________\n",
            "dense_54 (Dense)             (None, 3)                 21        \n",
            "_________________________________________________________________\n",
            "leaky_re_lu_23 (LeakyReLU)   (None, 3)                 0         \n",
            "_________________________________________________________________\n",
            "dense_55 (Dense)             (None, 3)                 12        \n",
            "_________________________________________________________________\n",
            "leaky_re_lu_24 (LeakyReLU)   (None, 3)                 0         \n",
            "_________________________________________________________________\n",
            "dense_56 (Dense)             (None, 6)                 24        \n",
            "_________________________________________________________________\n",
            "leaky_re_lu_25 (LeakyReLU)   (None, 6)                 0         \n",
            "=================================================================\n",
            "Total params: 99\n",
            "Trainable params: 99\n",
            "Non-trainable params: 0\n",
            "_________________________________________________________________\n"
          ],
          "name": "stdout"
        }
      ]
    },
    {
      "metadata": {
        "id": "h5rNifyftGXf",
        "colab_type": "code",
        "colab": {
          "base_uri": "https://localhost:8080/",
          "height": 3763
        },
        "outputId": "54abfaae-af4d-423c-c973-c5235652702b"
      },
      "cell_type": "code",
      "source": [
        "#@title Model 1 - Elu: Train/Test\n",
        "training_set = \"300 samples of anomaly free data \" #@param {type:\"string\"}\n",
        "validation_set = \"Here I use the validation set as the test data. Has 300 anomaly free and 280 instances of of anomoly. \" #@param {type:\"string\"}\n",
        "history = \"Contains both train and validation loss history\" #@param {type:\"string\"}\n",
        "\n",
        "#Results with 40 samples of anomily every 40 samples\n",
        "full_anom = 0\n",
        "anom_samples = 40\n",
        "nb_epoch = 100 # a bit overkill but wanted to see how it progressed w more epochs \n",
        "batch_size = 32\n",
        "import keras\n",
        "autoencoder.compile(optimizer='nadam', \n",
        "                    loss='mean_squared_error', \n",
        "                    #loss='kullback_leibler_divergence',\n",
        "                    metrics=['accuracy'])\n",
        "reduce_lr = keras.callbacks.ReduceLROnPlateau(monitor='acc', factor=0.2,min_lr=1e-6,min_delta=0.00001,\n",
        "                              patience=37,verbose = 1)\n",
        "\n",
        "\n",
        "checkpointer = ModelCheckpoint(filepath=\"model.h5\",\n",
        "                               verbose=0,\n",
        "                               save_best_only=True)\n",
        "tensorboard = TensorBoard(log_dir='./logs',\n",
        "                          histogram_freq=0,\n",
        "                          write_graph=True,\n",
        "                          write_images=True)\n",
        "history = autoencoder.fit(x_train2, x_train2,\n",
        "                    epochs=nb_epoch,\n",
        "                    batch_size=batch_size,\n",
        "                    validation_data=(x_test2, x_test2),\n",
        "                    validation_split=.1,\n",
        "                    shuffle=True,\n",
        "                    verbose=1,callbacks=[reduce_lr, checkpointer, tensorboard]).history \n",
        "\n",
        "score = autoencoder.evaluate(x_test2, x_test2, batch_size=32, verbose=1, sample_weight=None, steps=None)\n",
        "\n",
        "display('[test_loss, test_acc]')\n",
        "display(score)"
      ],
      "execution_count": 341,
      "outputs": [
        {
          "output_type": "stream",
          "text": [
            "Train on 602 samples, validate on 602 samples\n",
            "Epoch 1/100\n",
            "602/602 [==============================] - 1s 1ms/step - loss: 0.0016 - acc: 0.1578 - val_loss: 1.4253 - val_acc: 0.1528\n",
            "Epoch 2/100\n",
            "602/602 [==============================] - 0s 310us/step - loss: 0.0013 - acc: 0.1412 - val_loss: 1.4317 - val_acc: 0.0000e+00\n",
            "Epoch 3/100\n",
            "602/602 [==============================] - 0s 322us/step - loss: 0.0011 - acc: 0.1445 - val_loss: 1.4289 - val_acc: 0.1528\n",
            "Epoch 4/100\n",
            "602/602 [==============================] - 0s 313us/step - loss: 9.1187e-04 - acc: 0.1512 - val_loss: 1.4283 - val_acc: 0.0000e+00\n",
            "Epoch 5/100\n",
            "602/602 [==============================] - 0s 334us/step - loss: 7.7813e-04 - acc: 0.1395 - val_loss: 1.4327 - val_acc: 0.1528\n",
            "Epoch 6/100\n",
            "602/602 [==============================] - 0s 315us/step - loss: 6.7059e-04 - acc: 0.1528 - val_loss: 1.4366 - val_acc: 0.0000e+00\n",
            "Epoch 7/100\n",
            "602/602 [==============================] - 0s 325us/step - loss: 5.8984e-04 - acc: 0.1279 - val_loss: 1.4437 - val_acc: 0.1528\n",
            "Epoch 8/100\n",
            "602/602 [==============================] - 0s 322us/step - loss: 5.2533e-04 - acc: 0.1262 - val_loss: 1.4420 - val_acc: 0.0000e+00\n",
            "Epoch 9/100\n",
            "602/602 [==============================] - 0s 313us/step - loss: 4.6287e-04 - acc: 0.1445 - val_loss: 1.4520 - val_acc: 0.1528\n",
            "Epoch 10/100\n",
            "602/602 [==============================] - 0s 324us/step - loss: 4.1595e-04 - acc: 0.1395 - val_loss: 1.4516 - val_acc: 0.0000e+00\n",
            "Epoch 11/100\n",
            "602/602 [==============================] - 0s 341us/step - loss: 3.9372e-04 - acc: 0.2525 - val_loss: 1.4561 - val_acc: 0.1528\n",
            "Epoch 12/100\n",
            "602/602 [==============================] - 0s 311us/step - loss: 3.3250e-04 - acc: 0.1346 - val_loss: 1.4578 - val_acc: 0.0000e+00\n",
            "Epoch 13/100\n",
            "602/602 [==============================] - 0s 316us/step - loss: 3.1531e-04 - acc: 0.1894 - val_loss: 1.4646 - val_acc: 0.1528\n",
            "Epoch 14/100\n",
            "602/602 [==============================] - 0s 312us/step - loss: 2.8990e-04 - acc: 0.1561 - val_loss: 1.4654 - val_acc: 0.0000e+00\n",
            "Epoch 15/100\n",
            "602/602 [==============================] - 0s 319us/step - loss: 2.9058e-04 - acc: 0.2625 - val_loss: 1.4776 - val_acc: 0.1528\n",
            "Epoch 16/100\n",
            "602/602 [==============================] - 0s 314us/step - loss: 2.8498e-04 - acc: 0.1412 - val_loss: 1.4913 - val_acc: 0.0000e+00\n",
            "Epoch 17/100\n",
            "602/602 [==============================] - 0s 315us/step - loss: 2.5078e-04 - acc: 0.1379 - val_loss: 1.5025 - val_acc: 0.1528\n",
            "Epoch 18/100\n",
            "602/602 [==============================] - 0s 344us/step - loss: 2.1863e-04 - acc: 0.1528 - val_loss: 1.5068 - val_acc: 0.0000e+00\n",
            "Epoch 19/100\n",
            "602/602 [==============================] - 0s 307us/step - loss: 2.3460e-04 - acc: 0.1860 - val_loss: 1.5154 - val_acc: 0.1279\n",
            "Epoch 20/100\n",
            "602/602 [==============================] - 0s 313us/step - loss: 2.1330e-04 - acc: 0.2027 - val_loss: 1.5295 - val_acc: 0.0000e+00\n",
            "Epoch 21/100\n",
            "602/602 [==============================] - 0s 320us/step - loss: 2.0832e-04 - acc: 0.1229 - val_loss: 1.5369 - val_acc: 0.1528\n",
            "Epoch 22/100\n",
            "602/602 [==============================] - 0s 306us/step - loss: 1.9397e-04 - acc: 0.2525 - val_loss: 1.5378 - val_acc: 0.1279\n",
            "Epoch 23/100\n",
            "602/602 [==============================] - 0s 320us/step - loss: 1.8304e-04 - acc: 0.2741 - val_loss: 1.5460 - val_acc: 0.1528\n",
            "Epoch 24/100\n",
            "602/602 [==============================] - 0s 340us/step - loss: 1.5832e-04 - acc: 0.2143 - val_loss: 1.5581 - val_acc: 0.0000e+00\n",
            "Epoch 25/100\n",
            "602/602 [==============================] - 0s 321us/step - loss: 1.5298e-04 - acc: 0.1910 - val_loss: 1.5692 - val_acc: 0.1329\n",
            "Epoch 26/100\n",
            "602/602 [==============================] - 0s 310us/step - loss: 1.4744e-04 - acc: 0.2110 - val_loss: 1.5823 - val_acc: 0.0864\n",
            "Epoch 27/100\n",
            "602/602 [==============================] - 0s 318us/step - loss: 1.5687e-04 - acc: 0.2442 - val_loss: 1.5922 - val_acc: 0.1528\n",
            "Epoch 28/100\n",
            "602/602 [==============================] - 0s 314us/step - loss: 1.5316e-04 - acc: 0.2957 - val_loss: 1.5957 - val_acc: 0.1279\n",
            "Epoch 29/100\n",
            "602/602 [==============================] - 0s 315us/step - loss: 1.4706e-04 - acc: 0.2907 - val_loss: 1.6042 - val_acc: 0.1528\n",
            "Epoch 30/100\n",
            "602/602 [==============================] - 0s 342us/step - loss: 1.3965e-04 - acc: 0.2907 - val_loss: 1.6100 - val_acc: 0.1279\n",
            "Epoch 31/100\n",
            "602/602 [==============================] - 0s 316us/step - loss: 1.3569e-04 - acc: 0.2940 - val_loss: 1.6186 - val_acc: 0.1528\n",
            "Epoch 32/100\n",
            "602/602 [==============================] - 0s 314us/step - loss: 1.2961e-04 - acc: 0.2841 - val_loss: 1.6245 - val_acc: 0.1279\n",
            "Epoch 33/100\n",
            "602/602 [==============================] - 0s 317us/step - loss: 1.2635e-04 - acc: 0.3007 - val_loss: 1.6324 - val_acc: 0.1528\n",
            "Epoch 34/100\n",
            "602/602 [==============================] - 0s 316us/step - loss: 1.2128e-04 - acc: 0.2973 - val_loss: 1.6381 - val_acc: 0.1279\n",
            "Epoch 35/100\n",
            "602/602 [==============================] - 0s 321us/step - loss: 1.1853e-04 - acc: 0.2741 - val_loss: 1.6453 - val_acc: 0.1528\n",
            "Epoch 36/100\n",
            "602/602 [==============================] - 0s 317us/step - loss: 1.1423e-04 - acc: 0.2857 - val_loss: 1.6509 - val_acc: 0.1279\n",
            "Epoch 37/100\n",
            "602/602 [==============================] - 0s 340us/step - loss: 1.1187e-04 - acc: 0.2757 - val_loss: 1.6574 - val_acc: 0.1528\n",
            "Epoch 38/100\n",
            "602/602 [==============================] - 0s 309us/step - loss: 1.0819e-04 - acc: 0.3056 - val_loss: 1.6628 - val_acc: 0.1279\n",
            "Epoch 39/100\n",
            "602/602 [==============================] - 0s 319us/step - loss: 1.0615e-04 - acc: 0.2575 - val_loss: 1.6687 - val_acc: 0.1528\n",
            "Epoch 40/100\n",
            "602/602 [==============================] - 0s 321us/step - loss: 1.0297e-04 - acc: 0.2890 - val_loss: 1.6739 - val_acc: 0.1279\n",
            "Epoch 41/100\n",
            "602/602 [==============================] - 0s 322us/step - loss: 1.0118e-04 - acc: 0.2542 - val_loss: 1.6794 - val_acc: 0.1528\n",
            "Epoch 42/100\n",
            "602/602 [==============================] - 0s 325us/step - loss: 9.8435e-05 - acc: 0.2791 - val_loss: 1.6844 - val_acc: 0.1279\n",
            "Epoch 43/100\n",
            "602/602 [==============================] - 0s 348us/step - loss: 9.6848e-05 - acc: 0.2724 - val_loss: 1.6894 - val_acc: 0.1528\n",
            "Epoch 44/100\n",
            "602/602 [==============================] - 0s 317us/step - loss: 9.4453e-05 - acc: 0.2508 - val_loss: 1.6943 - val_acc: 0.1279\n",
            "Epoch 45/100\n",
            "602/602 [==============================] - 0s 318us/step - loss: 9.3051e-05 - acc: 0.2990 - val_loss: 1.6988 - val_acc: 0.1528\n",
            "Epoch 46/100\n",
            "602/602 [==============================] - 0s 318us/step - loss: 9.0955e-05 - acc: 0.2774 - val_loss: 1.7036 - val_acc: 0.1279\n",
            "Epoch 47/100\n",
            "602/602 [==============================] - 0s 314us/step - loss: 8.9673e-05 - acc: 0.3073 - val_loss: 1.7076 - val_acc: 0.1528\n",
            "Epoch 48/100\n",
            "602/602 [==============================] - 0s 316us/step - loss: 8.7911e-05 - acc: 0.2774 - val_loss: 1.7124 - val_acc: 0.1279\n",
            "Epoch 49/100\n",
            "602/602 [==============================] - 0s 343us/step - loss: 8.6896e-05 - acc: 0.2392 - val_loss: 1.7166 - val_acc: 0.1528\n",
            "Epoch 50/100\n",
            "602/602 [==============================] - 0s 308us/step - loss: 8.5993e-05 - acc: 0.1877 - val_loss: 1.7184 - val_acc: 0.0000e+00\n",
            "Epoch 51/100\n",
            "602/602 [==============================] - 0s 321us/step - loss: 1.0465e-04 - acc: 0.1329 - val_loss: 1.7122 - val_acc: 0.1528\n",
            "Epoch 52/100\n",
            "602/602 [==============================] - 0s 312us/step - loss: 2.0286e-04 - acc: 0.1495 - val_loss: 1.7139 - val_acc: 0.1528\n",
            "Epoch 53/100\n",
            "602/602 [==============================] - 0s 319us/step - loss: 9.6535e-05 - acc: 0.1794 - val_loss: 1.7096 - val_acc: 0.1329\n",
            "Epoch 54/100\n",
            "602/602 [==============================] - 0s 317us/step - loss: 8.4175e-05 - acc: 0.2159 - val_loss: 1.7085 - val_acc: 0.0864\n",
            "Epoch 55/100\n",
            "602/602 [==============================] - 0s 314us/step - loss: 8.3388e-05 - acc: 0.2176 - val_loss: 1.7098 - val_acc: 0.1329\n",
            "Epoch 56/100\n",
            "602/602 [==============================] - 0s 337us/step - loss: 8.2408e-05 - acc: 0.2060 - val_loss: 1.7091 - val_acc: 0.0864\n",
            "Epoch 57/100\n",
            "602/602 [==============================] - 0s 317us/step - loss: 8.1602e-05 - acc: 0.1960 - val_loss: 1.7103 - val_acc: 0.1329\n",
            "Epoch 58/100\n",
            "602/602 [==============================] - 0s 316us/step - loss: 8.0832e-05 - acc: 0.2276 - val_loss: 1.7094 - val_acc: 0.0864\n",
            "Epoch 59/100\n",
            "602/602 [==============================] - 0s 304us/step - loss: 8.0174e-05 - acc: 0.2243 - val_loss: 1.7106 - val_acc: 0.1329\n",
            "Epoch 60/100\n",
            "602/602 [==============================] - 0s 303us/step - loss: 7.9511e-05 - acc: 0.2226 - val_loss: 1.7097 - val_acc: 0.0864\n",
            "Epoch 61/100\n",
            "602/602 [==============================] - 0s 302us/step - loss: 7.8930e-05 - acc: 0.2292 - val_loss: 1.7108 - val_acc: 0.1329\n",
            "Epoch 62/100\n",
            "602/602 [==============================] - 0s 318us/step - loss: 7.8339e-05 - acc: 0.2209 - val_loss: 1.7099 - val_acc: 0.0864\n",
            "Epoch 63/100\n",
            "602/602 [==============================] - 0s 292us/step - loss: 7.7806e-05 - acc: 0.2126 - val_loss: 1.7111 - val_acc: 0.1329\n",
            "Epoch 64/100\n",
            "602/602 [==============================] - 0s 295us/step - loss: 7.7272e-05 - acc: 0.2143 - val_loss: 1.7101 - val_acc: 0.0864\n",
            "Epoch 65/100\n",
            "602/602 [==============================] - 0s 298us/step - loss: 7.6787e-05 - acc: 0.2193 - val_loss: 1.7113 - val_acc: 0.1329\n",
            "Epoch 66/100\n",
            "602/602 [==============================] - 0s 295us/step - loss: 7.6297e-05 - acc: 0.2010 - val_loss: 1.7104 - val_acc: 0.0864\n",
            "Epoch 67/100\n",
            "602/602 [==============================] - 0s 289us/step - loss: 7.5847e-05 - acc: 0.2176 - val_loss: 1.7115 - val_acc: 0.1329\n",
            "Epoch 68/100\n",
            "602/602 [==============================] - 0s 296us/step - loss: 7.5399e-05 - acc: 0.2226 - val_loss: 1.7106 - val_acc: 0.0864\n",
            "Epoch 69/100\n",
            "602/602 [==============================] - 0s 318us/step - loss: 7.4978e-05 - acc: 0.1960 - val_loss: 1.7118 - val_acc: 0.1329\n",
            "Epoch 70/100\n",
            "602/602 [==============================] - 0s 303us/step - loss: 7.4567e-05 - acc: 0.2342 - val_loss: 1.7108 - val_acc: 0.0864\n",
            "Epoch 71/100\n",
            "602/602 [==============================] - 0s 289us/step - loss: 7.4169e-05 - acc: 0.2475 - val_loss: 1.7119 - val_acc: 0.1329\n",
            "Epoch 72/100\n",
            "602/602 [==============================] - 0s 290us/step - loss: 7.3788e-05 - acc: 0.2060 - val_loss: 1.7110 - val_acc: 0.0864\n",
            "Epoch 73/100\n",
            "602/602 [==============================] - 0s 290us/step - loss: 7.3418e-05 - acc: 0.1794 - val_loss: 1.7121 - val_acc: 0.1329\n",
            "Epoch 74/100\n",
            "602/602 [==============================] - 0s 295us/step - loss: 7.3056e-05 - acc: 0.2342 - val_loss: 1.7111 - val_acc: 0.0864\n",
            "Epoch 75/100\n",
            "602/602 [==============================] - 0s 293us/step - loss: 7.2712e-05 - acc: 0.2159 - val_loss: 1.7123 - val_acc: 0.1329\n",
            "Epoch 76/100\n",
            "602/602 [==============================] - 0s 306us/step - loss: 7.2359e-05 - acc: 0.2110 - val_loss: 1.7113 - val_acc: 0.0864\n",
            "Epoch 77/100\n",
            "602/602 [==============================] - 0s 297us/step - loss: 7.2072e-05 - acc: 0.2126 - val_loss: 1.7126 - val_acc: 0.1329\n",
            "Epoch 78/100\n",
            "602/602 [==============================] - 0s 295us/step - loss: 7.1894e-05 - acc: 0.2409 - val_loss: 1.7119 - val_acc: 0.0864\n",
            "Epoch 79/100\n",
            "602/602 [==============================] - 0s 296us/step - loss: 7.4296e-05 - acc: 0.1827 - val_loss: 1.7102 - val_acc: 0.0000e+00\n",
            "Epoch 80/100\n",
            "602/602 [==============================] - 0s 297us/step - loss: 9.0378e-05 - acc: 0.1512 - val_loss: 1.7076 - val_acc: 0.0000e+00\n",
            "Epoch 81/100\n",
            "602/602 [==============================] - 0s 300us/step - loss: 1.1981e-04 - acc: 0.1312 - val_loss: 1.7158 - val_acc: 0.0000e+00\n",
            "Epoch 82/100\n",
            "602/602 [==============================] - 0s 323us/step - loss: 9.9569e-05 - acc: 0.1578 - val_loss: 1.7122 - val_acc: 0.0864\n",
            "Epoch 83/100\n",
            "602/602 [==============================] - 0s 282us/step - loss: 7.4449e-05 - acc: 0.1611 - val_loss: 1.7147 - val_acc: 0.1329\n",
            "Epoch 84/100\n",
            "602/602 [==============================] - 0s 297us/step - loss: 6.9868e-05 - acc: 0.2143 - val_loss: 1.7141 - val_acc: 0.1528\n",
            "\n",
            "Epoch 00084: ReduceLROnPlateau reducing learning rate to 0.0004000000189989805.\n",
            "Epoch 85/100\n",
            "602/602 [==============================] - 0s 341us/step - loss: 2.4340e-05 - acc: 0.1993 - val_loss: 1.7150 - val_acc: 0.1329\n",
            "Epoch 86/100\n",
            "602/602 [==============================] - 0s 303us/step - loss: 2.2097e-05 - acc: 0.2940 - val_loss: 1.7148 - val_acc: 0.0864\n",
            "Epoch 87/100\n",
            "602/602 [==============================] - 0s 313us/step - loss: 2.2244e-05 - acc: 0.3023 - val_loss: 1.7149 - val_acc: 0.1329\n",
            "Epoch 88/100\n",
            "602/602 [==============================] - 0s 310us/step - loss: 2.2186e-05 - acc: 0.3023 - val_loss: 1.7147 - val_acc: 0.1528\n",
            "Epoch 89/100\n",
            "602/602 [==============================] - 0s 318us/step - loss: 2.2110e-05 - acc: 0.2525 - val_loss: 1.7149 - val_acc: 0.1329\n",
            "Epoch 90/100\n",
            "602/602 [==============================] - 0s 316us/step - loss: 2.2008e-05 - acc: 0.2708 - val_loss: 1.7147 - val_acc: 0.1528\n",
            "Epoch 91/100\n",
            "602/602 [==============================] - 0s 315us/step - loss: 2.1976e-05 - acc: 0.2243 - val_loss: 1.7149 - val_acc: 0.1329\n",
            "Epoch 92/100\n",
            "602/602 [==============================] - 0s 336us/step - loss: 2.1972e-05 - acc: 0.3023 - val_loss: 1.7148 - val_acc: 0.1528\n",
            "Epoch 93/100\n",
            "602/602 [==============================] - 0s 315us/step - loss: 2.1886e-05 - acc: 0.2691 - val_loss: 1.7150 - val_acc: 0.1329\n",
            "Epoch 94/100\n",
            "602/602 [==============================] - 0s 310us/step - loss: 2.1903e-05 - acc: 0.2973 - val_loss: 1.7149 - val_acc: 0.1528\n",
            "Epoch 95/100\n",
            "602/602 [==============================] - 0s 317us/step - loss: 2.1796e-05 - acc: 0.2708 - val_loss: 1.7151 - val_acc: 0.1329\n",
            "Epoch 96/100\n",
            "602/602 [==============================] - 0s 312us/step - loss: 2.1826e-05 - acc: 0.2957 - val_loss: 1.7149 - val_acc: 0.1528\n",
            "Epoch 97/100\n",
            "602/602 [==============================] - 0s 313us/step - loss: 2.1715e-05 - acc: 0.2674 - val_loss: 1.7152 - val_acc: 0.1329\n",
            "Epoch 98/100\n",
            "602/602 [==============================] - 0s 340us/step - loss: 2.1742e-05 - acc: 0.3206 - val_loss: 1.7150 - val_acc: 0.1528\n",
            "Epoch 99/100\n",
            "602/602 [==============================] - 0s 318us/step - loss: 2.1628e-05 - acc: 0.2359 - val_loss: 1.7152 - val_acc: 0.1329\n",
            "Epoch 100/100\n",
            "602/602 [==============================] - 0s 311us/step - loss: 2.1661e-05 - acc: 0.2957 - val_loss: 1.7151 - val_acc: 0.1528\n",
            "602/602 [==============================] - 0s 76us/step\n"
          ],
          "name": "stdout"
        },
        {
          "output_type": "display_data",
          "data": {
            "text/plain": [
              "'[test_loss, test_acc]'"
            ]
          },
          "metadata": {
            "tags": []
          }
        },
        {
          "output_type": "display_data",
          "data": {
            "text/plain": [
              "[1.7150949596774887, 0.15282392085984695]"
            ]
          },
          "metadata": {
            "tags": []
          }
        }
      ]
    },
    {
      "metadata": {
        "id": "VJlKTdCIKqA_",
        "colab_type": "text"
      },
      "cell_type": "markdown",
      "source": [
        "Model 1 gives us a good result. We have a large gap (13 units) between the loss of the training set which has no anomalies  and the validation set which has ~50/50 normal/anomaly data.  We also have the training accuracy at 95% and the testing accuracy at 19%. "
      ]
    },
    {
      "metadata": {
        "id": "KKqXDodwih00",
        "colab_type": "code",
        "colab": {
          "base_uri": "https://localhost:8080/",
          "height": 3799
        },
        "cellView": "both",
        "outputId": "1ed0134c-b1a3-4805-c9c5-c07e5d6afa51"
      },
      "cell_type": "code",
      "source": [
        "#@title Model 2 - LeakyRelu: Train/Test\n",
        "\n",
        "#Results with 40 sample of anomily every 40 samples\n",
        "full_anom = 0\n",
        "anom_samples = 40\n",
        "nb_epoch = 100 # a bit overkill but wanted to see how it progressed w more epochs \n",
        "batch_size = 32\n",
        "import keras\n",
        "autoencoder2.compile(optimizer='nadam', \n",
        "                    loss='mean_squared_error', \n",
        "                    #loss='kullback_leibler_divergence',\n",
        "                    metrics=['accuracy'])\n",
        "reduce_lr = keras.callbacks.ReduceLROnPlateau(monitor='acc', factor=0.2,min_lr=1e-6,min_delta=0.0001,\n",
        "                              patience=37,verbose = 1)\n",
        "\n",
        "checkpointer = ModelCheckpoint(filepath=\"model2.h5\",\n",
        "                               verbose=0,\n",
        "                               save_best_only=True)\n",
        "tensorboard = TensorBoard(log_dir='./logs',\n",
        "                          histogram_freq=0,\n",
        "                          write_graph=True,\n",
        "                          write_images=True)\n",
        "history2 = autoencoder2.fit(x_train2, x_train2,\n",
        "                    epochs=nb_epoch,\n",
        "                    batch_size=batch_size,\n",
        "                    validation_data=(x_test2, x_test2),\n",
        "                    validation_split=.1,\n",
        "                    shuffle=True,\n",
        "                    verbose=1,callbacks=[reduce_lr, checkpointer, tensorboard]).history \n",
        "\n",
        "score2 = autoencoder2.evaluate(x_test2, x_test2, batch_size=32, verbose=1, sample_weight=None, steps=None)\n",
        "\n",
        "display('[test_loss, test_acc]')\n",
        "display(score2)"
      ],
      "execution_count": 345,
      "outputs": [
        {
          "output_type": "stream",
          "text": [
            "Train on 602 samples, validate on 602 samples\n",
            "Epoch 1/100\n",
            "602/602 [==============================] - 1s 1ms/step - loss: 0.7723 - acc: 0.0000e+00 - val_loss: 0.9357 - val_acc: 0.0000e+00\n",
            "Epoch 2/100\n",
            "602/602 [==============================] - 0s 350us/step - loss: 0.7273 - acc: 0.0000e+00 - val_loss: 0.8966 - val_acc: 0.0000e+00\n",
            "Epoch 3/100\n",
            "602/602 [==============================] - 0s 324us/step - loss: 0.7039 - acc: 0.0000e+00 - val_loss: 0.8927 - val_acc: 0.0000e+00\n",
            "Epoch 4/100\n",
            "602/602 [==============================] - 0s 319us/step - loss: 0.6911 - acc: 0.0000e+00 - val_loss: 0.8980 - val_acc: 0.0000e+00\n",
            "Epoch 5/100\n",
            "602/602 [==============================] - 0s 329us/step - loss: 0.6837 - acc: 0.0000e+00 - val_loss: 0.9067 - val_acc: 0.0000e+00\n",
            "Epoch 6/100\n",
            "602/602 [==============================] - 0s 325us/step - loss: 0.6790 - acc: 0.0000e+00 - val_loss: 0.9154 - val_acc: 0.0000e+00\n",
            "Epoch 7/100\n",
            "602/602 [==============================] - 0s 321us/step - loss: 0.6754 - acc: 0.0000e+00 - val_loss: 0.9372 - val_acc: 0.0000e+00\n",
            "Epoch 8/100\n",
            "602/602 [==============================] - 0s 358us/step - loss: 0.6725 - acc: 0.0000e+00 - val_loss: 0.9593 - val_acc: 0.0000e+00\n",
            "Epoch 9/100\n",
            "602/602 [==============================] - 0s 321us/step - loss: 0.6699 - acc: 0.0000e+00 - val_loss: 0.9980 - val_acc: 0.0000e+00\n",
            "Epoch 10/100\n",
            "602/602 [==============================] - 0s 332us/step - loss: 0.6676 - acc: 0.0000e+00 - val_loss: 1.0370 - val_acc: 0.0000e+00\n",
            "Epoch 11/100\n",
            "602/602 [==============================] - 0s 324us/step - loss: 0.6067 - acc: 0.0116 - val_loss: 1.0185 - val_acc: 0.0000e+00\n",
            "Epoch 12/100\n",
            "602/602 [==============================] - 0s 329us/step - loss: 0.2894 - acc: 0.0000e+00 - val_loss: 1.2075 - val_acc: 0.0000e+00\n",
            "Epoch 13/100\n",
            "602/602 [==============================] - 0s 337us/step - loss: 0.1999 - acc: 0.0000e+00 - val_loss: 1.3441 - val_acc: 0.0000e+00\n",
            "Epoch 14/100\n",
            "602/602 [==============================] - 0s 352us/step - loss: 0.1783 - acc: 0.0000e+00 - val_loss: 1.4368 - val_acc: 0.0000e+00\n",
            "Epoch 15/100\n",
            "602/602 [==============================] - 0s 319us/step - loss: 0.1697 - acc: 0.0000e+00 - val_loss: 1.4828 - val_acc: 0.0000e+00\n",
            "Epoch 16/100\n",
            "602/602 [==============================] - 0s 327us/step - loss: 0.1663 - acc: 0.0000e+00 - val_loss: 1.5164 - val_acc: 0.0000e+00\n",
            "Epoch 17/100\n",
            "602/602 [==============================] - 0s 323us/step - loss: 0.1646 - acc: 0.0000e+00 - val_loss: 1.5438 - val_acc: 0.0000e+00\n",
            "Epoch 18/100\n",
            "602/602 [==============================] - 0s 327us/step - loss: 0.1636 - acc: 0.0000e+00 - val_loss: 1.5663 - val_acc: 0.0000e+00\n",
            "Epoch 19/100\n",
            "602/602 [==============================] - 0s 328us/step - loss: 0.1630 - acc: 0.0000e+00 - val_loss: 1.5822 - val_acc: 0.0000e+00\n",
            "Epoch 20/100\n",
            "602/602 [==============================] - 0s 361us/step - loss: 0.1626 - acc: 0.0000e+00 - val_loss: 1.5984 - val_acc: 0.0000e+00\n",
            "Epoch 21/100\n",
            "602/602 [==============================] - 0s 329us/step - loss: 0.1622 - acc: 0.0332 - val_loss: 1.6084 - val_acc: 0.0000e+00\n",
            "Epoch 22/100\n",
            "602/602 [==============================] - 0s 329us/step - loss: 0.1619 - acc: 0.2110 - val_loss: 1.6100 - val_acc: 0.1528\n",
            "Epoch 23/100\n",
            "602/602 [==============================] - 0s 326us/step - loss: 0.1616 - acc: 0.2807 - val_loss: 1.6111 - val_acc: 0.1528\n",
            "Epoch 24/100\n",
            "602/602 [==============================] - 0s 331us/step - loss: 0.1614 - acc: 0.2807 - val_loss: 1.6122 - val_acc: 0.1528\n",
            "Epoch 25/100\n",
            "602/602 [==============================] - 0s 338us/step - loss: 0.1611 - acc: 0.2807 - val_loss: 1.6110 - val_acc: 0.1528\n",
            "Epoch 26/100\n",
            "602/602 [==============================] - 0s 349us/step - loss: 0.1608 - acc: 0.2807 - val_loss: 1.6114 - val_acc: 0.1528\n",
            "Epoch 27/100\n",
            "602/602 [==============================] - 0s 325us/step - loss: 0.1606 - acc: 0.2807 - val_loss: 1.6112 - val_acc: 0.1528\n",
            "Epoch 28/100\n",
            "602/602 [==============================] - 0s 327us/step - loss: 0.1603 - acc: 0.2807 - val_loss: 1.6124 - val_acc: 0.1528\n",
            "Epoch 29/100\n",
            "602/602 [==============================] - 0s 328us/step - loss: 0.1600 - acc: 0.2807 - val_loss: 1.6124 - val_acc: 0.1528\n",
            "Epoch 30/100\n",
            "602/602 [==============================] - 0s 331us/step - loss: 0.1597 - acc: 0.2807 - val_loss: 1.6125 - val_acc: 0.1528\n",
            "Epoch 31/100\n",
            "602/602 [==============================] - 0s 338us/step - loss: 0.1594 - acc: 0.2807 - val_loss: 1.6120 - val_acc: 0.1528\n",
            "Epoch 32/100\n",
            "602/602 [==============================] - 0s 357us/step - loss: 0.1592 - acc: 0.2807 - val_loss: 1.6140 - val_acc: 0.1528\n",
            "Epoch 33/100\n",
            "602/602 [==============================] - 0s 326us/step - loss: 0.1589 - acc: 0.2807 - val_loss: 1.6165 - val_acc: 0.1528\n",
            "Epoch 34/100\n",
            "602/602 [==============================] - 0s 331us/step - loss: 0.1586 - acc: 0.2807 - val_loss: 1.6143 - val_acc: 0.1528\n",
            "Epoch 35/100\n",
            "602/602 [==============================] - 0s 351us/step - loss: 0.1583 - acc: 0.2807 - val_loss: 1.6138 - val_acc: 0.1528\n",
            "Epoch 36/100\n",
            "602/602 [==============================] - 0s 331us/step - loss: 0.1580 - acc: 0.2807 - val_loss: 1.6151 - val_acc: 0.1528\n",
            "Epoch 37/100\n",
            "602/602 [==============================] - 0s 333us/step - loss: 0.1577 - acc: 0.2807 - val_loss: 1.6166 - val_acc: 0.1528\n",
            "Epoch 38/100\n",
            "602/602 [==============================] - 0s 363us/step - loss: 0.1574 - acc: 0.2807 - val_loss: 1.6127 - val_acc: 0.1528\n",
            "Epoch 39/100\n",
            "602/602 [==============================] - 0s 321us/step - loss: 0.1571 - acc: 0.2807 - val_loss: 1.6191 - val_acc: 0.1528\n",
            "Epoch 40/100\n",
            "602/602 [==============================] - 0s 328us/step - loss: 0.1568 - acc: 0.2807 - val_loss: 1.6169 - val_acc: 0.1528\n",
            "Epoch 41/100\n",
            "602/602 [==============================] - 0s 341us/step - loss: 0.1565 - acc: 0.2807 - val_loss: 1.6173 - val_acc: 0.1528\n",
            "Epoch 42/100\n",
            "602/602 [==============================] - 0s 326us/step - loss: 0.1561 - acc: 0.2807 - val_loss: 1.6187 - val_acc: 0.1528\n",
            "Epoch 43/100\n",
            "602/602 [==============================] - 0s 324us/step - loss: 0.1558 - acc: 0.2807 - val_loss: 1.6175 - val_acc: 0.1528\n",
            "Epoch 44/100\n",
            "602/602 [==============================] - 0s 351us/step - loss: 0.1555 - acc: 0.2807 - val_loss: 1.6190 - val_acc: 0.1528\n",
            "Epoch 45/100\n",
            "602/602 [==============================] - 0s 323us/step - loss: 0.1551 - acc: 0.2807 - val_loss: 1.6219 - val_acc: 0.1528\n",
            "Epoch 46/100\n",
            "602/602 [==============================] - 0s 331us/step - loss: 0.1548 - acc: 0.2807 - val_loss: 1.6186 - val_acc: 0.1528\n",
            "Epoch 47/100\n",
            "602/602 [==============================] - 0s 337us/step - loss: 0.1544 - acc: 0.2807 - val_loss: 1.6222 - val_acc: 0.1528\n",
            "Epoch 48/100\n",
            "602/602 [==============================] - 0s 331us/step - loss: 0.1540 - acc: 0.2807 - val_loss: 1.6231 - val_acc: 0.1528\n",
            "Epoch 49/100\n",
            "602/602 [==============================] - 0s 326us/step - loss: 0.1537 - acc: 0.2807 - val_loss: 1.6238 - val_acc: 0.1528\n",
            "Epoch 50/100\n",
            "602/602 [==============================] - 0s 365us/step - loss: 0.1533 - acc: 0.2807 - val_loss: 1.6248 - val_acc: 0.1528\n",
            "Epoch 51/100\n",
            "602/602 [==============================] - 0s 327us/step - loss: 0.1528 - acc: 0.2807 - val_loss: 1.6202 - val_acc: 0.1528\n",
            "Epoch 52/100\n",
            "602/602 [==============================] - 0s 330us/step - loss: 0.1524 - acc: 0.2807 - val_loss: 1.6210 - val_acc: 0.1528\n",
            "Epoch 53/100\n",
            "602/602 [==============================] - 0s 325us/step - loss: 0.1520 - acc: 0.2807 - val_loss: 1.6220 - val_acc: 0.1528\n",
            "Epoch 54/100\n",
            "602/602 [==============================] - 0s 333us/step - loss: 0.1515 - acc: 0.2807 - val_loss: 1.6224 - val_acc: 0.1528\n",
            "Epoch 55/100\n",
            "602/602 [==============================] - 0s 356us/step - loss: 0.1510 - acc: 0.2807 - val_loss: 1.6240 - val_acc: 0.1528\n",
            "Epoch 56/100\n",
            "602/602 [==============================] - 0s 351us/step - loss: 0.1505 - acc: 0.2807 - val_loss: 1.6227 - val_acc: 0.1528\n",
            "Epoch 57/100\n",
            "602/602 [==============================] - 0s 324us/step - loss: 0.1500 - acc: 0.2807 - val_loss: 1.6226 - val_acc: 0.1528\n",
            "Epoch 58/100\n",
            "602/602 [==============================] - 0s 337us/step - loss: 0.1494 - acc: 0.2807 - val_loss: 1.6214 - val_acc: 0.1528\n",
            "Epoch 59/100\n",
            "602/602 [==============================] - 0s 336us/step - loss: 0.1488 - acc: 0.2807 - val_loss: 1.6271 - val_acc: 0.1528\n",
            "Epoch 60/100\n",
            "602/602 [==============================] - 0s 329us/step - loss: 0.1482 - acc: 0.2807 - val_loss: 1.6234 - val_acc: 0.1528\n",
            "\n",
            "Epoch 00060: ReduceLROnPlateau reducing learning rate to 0.0004000000189989805.\n",
            "Epoch 61/100\n",
            "602/602 [==============================] - 0s 325us/step - loss: 0.1477 - acc: 0.2807 - val_loss: 1.6248 - val_acc: 0.1528\n",
            "Epoch 62/100\n",
            "602/602 [==============================] - 0s 326us/step - loss: 0.1476 - acc: 0.2807 - val_loss: 1.6256 - val_acc: 0.1528\n",
            "Epoch 63/100\n",
            "602/602 [==============================] - 0s 327us/step - loss: 0.1474 - acc: 0.2807 - val_loss: 1.6245 - val_acc: 0.1528\n",
            "Epoch 64/100\n",
            "602/602 [==============================] - 0s 324us/step - loss: 0.1473 - acc: 0.2807 - val_loss: 1.6241 - val_acc: 0.1528\n",
            "Epoch 65/100\n",
            "602/602 [==============================] - 0s 359us/step - loss: 0.1472 - acc: 0.2807 - val_loss: 1.6230 - val_acc: 0.1528\n",
            "Epoch 66/100\n",
            "602/602 [==============================] - 0s 323us/step - loss: 0.1470 - acc: 0.2807 - val_loss: 1.6234 - val_acc: 0.1528\n",
            "Epoch 67/100\n",
            "602/602 [==============================] - 0s 327us/step - loss: 0.1468 - acc: 0.2807 - val_loss: 1.6221 - val_acc: 0.1528\n",
            "Epoch 68/100\n",
            "602/602 [==============================] - 0s 332us/step - loss: 0.1467 - acc: 0.2807 - val_loss: 1.6219 - val_acc: 0.1528\n",
            "Epoch 69/100\n",
            "602/602 [==============================] - 0s 334us/step - loss: 0.1465 - acc: 0.2807 - val_loss: 1.6215 - val_acc: 0.1528\n",
            "Epoch 70/100\n",
            "602/602 [==============================] - 0s 329us/step - loss: 0.1464 - acc: 0.2807 - val_loss: 1.6207 - val_acc: 0.1528\n",
            "Epoch 71/100\n",
            "602/602 [==============================] - 0s 356us/step - loss: 0.1462 - acc: 0.2807 - val_loss: 1.6202 - val_acc: 0.1528\n",
            "Epoch 72/100\n",
            "602/602 [==============================] - 0s 310us/step - loss: 0.1460 - acc: 0.2807 - val_loss: 1.6193 - val_acc: 0.1528\n",
            "Epoch 73/100\n",
            "602/602 [==============================] - 0s 310us/step - loss: 0.1458 - acc: 0.2807 - val_loss: 1.6187 - val_acc: 0.1528\n",
            "Epoch 74/100\n",
            "602/602 [==============================] - 0s 311us/step - loss: 0.1456 - acc: 0.2807 - val_loss: 1.6187 - val_acc: 0.1528\n",
            "Epoch 75/100\n",
            "602/602 [==============================] - 0s 313us/step - loss: 0.1455 - acc: 0.2807 - val_loss: 1.6175 - val_acc: 0.1528\n",
            "Epoch 76/100\n",
            "602/602 [==============================] - 0s 314us/step - loss: 0.1453 - acc: 0.2807 - val_loss: 1.6164 - val_acc: 0.1528\n",
            "Epoch 77/100\n",
            "602/602 [==============================] - 0s 334us/step - loss: 0.1451 - acc: 0.2807 - val_loss: 1.6154 - val_acc: 0.1528\n",
            "Epoch 78/100\n",
            "602/602 [==============================] - 0s 304us/step - loss: 0.1449 - acc: 0.2807 - val_loss: 1.6146 - val_acc: 0.1528\n",
            "Epoch 79/100\n",
            "602/602 [==============================] - 0s 310us/step - loss: 0.1447 - acc: 0.2807 - val_loss: 1.6141 - val_acc: 0.1528\n",
            "Epoch 80/100\n",
            "602/602 [==============================] - 0s 319us/step - loss: 0.1444 - acc: 0.2807 - val_loss: 1.6137 - val_acc: 0.1528\n",
            "Epoch 81/100\n",
            "602/602 [==============================] - 0s 310us/step - loss: 0.1442 - acc: 0.2807 - val_loss: 1.6124 - val_acc: 0.1528\n",
            "Epoch 82/100\n",
            "602/602 [==============================] - 0s 318us/step - loss: 0.1440 - acc: 0.2807 - val_loss: 1.6117 - val_acc: 0.1528\n",
            "Epoch 83/100\n",
            "602/602 [==============================] - 0s 312us/step - loss: 0.1438 - acc: 0.2807 - val_loss: 1.6106 - val_acc: 0.1528\n",
            "Epoch 84/100\n",
            "602/602 [==============================] - 0s 336us/step - loss: 0.1435 - acc: 0.2807 - val_loss: 1.6081 - val_acc: 0.1528\n",
            "Epoch 85/100\n",
            "602/602 [==============================] - 0s 314us/step - loss: 0.1433 - acc: 0.2807 - val_loss: 1.6071 - val_acc: 0.1528\n",
            "Epoch 86/100\n",
            "602/602 [==============================] - 0s 318us/step - loss: 0.1430 - acc: 0.2807 - val_loss: 1.6061 - val_acc: 0.1528\n",
            "Epoch 87/100\n",
            "602/602 [==============================] - 0s 315us/step - loss: 0.1427 - acc: 0.2807 - val_loss: 1.6050 - val_acc: 0.1528\n",
            "Epoch 88/100\n",
            "602/602 [==============================] - 0s 313us/step - loss: 0.1425 - acc: 0.2807 - val_loss: 1.6035 - val_acc: 0.1528\n",
            "Epoch 89/100\n",
            "602/602 [==============================] - 0s 308us/step - loss: 0.1422 - acc: 0.2807 - val_loss: 1.6014 - val_acc: 0.1528\n",
            "Epoch 90/100\n",
            "602/602 [==============================] - 0s 337us/step - loss: 0.1419 - acc: 0.2807 - val_loss: 1.5997 - val_acc: 0.1528\n",
            "Epoch 91/100\n",
            "602/602 [==============================] - 0s 314us/step - loss: 0.1416 - acc: 0.2807 - val_loss: 1.5985 - val_acc: 0.1528\n",
            "Epoch 92/100\n",
            "602/602 [==============================] - 0s 326us/step - loss: 0.1413 - acc: 0.2807 - val_loss: 1.5961 - val_acc: 0.1528\n",
            "Epoch 93/100\n",
            "602/602 [==============================] - 0s 320us/step - loss: 0.1409 - acc: 0.2807 - val_loss: 1.5934 - val_acc: 0.1528\n",
            "Epoch 94/100\n",
            "602/602 [==============================] - 0s 317us/step - loss: 0.1406 - acc: 0.2807 - val_loss: 1.5907 - val_acc: 0.1528\n",
            "Epoch 95/100\n",
            "602/602 [==============================] - 0s 319us/step - loss: 0.1402 - acc: 0.2807 - val_loss: 1.5889 - val_acc: 0.1528\n",
            "Epoch 96/100\n",
            "602/602 [==============================] - 0s 347us/step - loss: 0.1398 - acc: 0.2807 - val_loss: 1.5860 - val_acc: 0.1528\n",
            "Epoch 97/100\n",
            "602/602 [==============================] - 0s 334us/step - loss: 0.1394 - acc: 0.2807 - val_loss: 1.5833 - val_acc: 0.1528\n",
            "\n",
            "Epoch 00097: ReduceLROnPlateau reducing learning rate to 8.000000379979611e-05.\n",
            "Epoch 98/100\n",
            "602/602 [==============================] - 0s 328us/step - loss: 0.1392 - acc: 0.2807 - val_loss: 1.5823 - val_acc: 0.1528\n",
            "Epoch 99/100\n",
            "602/602 [==============================] - 0s 325us/step - loss: 0.1391 - acc: 0.2807 - val_loss: 1.5815 - val_acc: 0.1528\n",
            "Epoch 100/100\n",
            "602/602 [==============================] - 0s 320us/step - loss: 0.1390 - acc: 0.2807 - val_loss: 1.5808 - val_acc: 0.1528\n",
            "602/602 [==============================] - 0s 103us/step\n"
          ],
          "name": "stdout"
        },
        {
          "output_type": "display_data",
          "data": {
            "text/plain": [
              "'[test_loss, test_acc]'"
            ]
          },
          "metadata": {
            "tags": []
          }
        },
        {
          "output_type": "display_data",
          "data": {
            "text/plain": [
              "[1.5807784209615765, 0.15282392085984695]"
            ]
          },
          "metadata": {
            "tags": []
          }
        }
      ]
    },
    {
      "metadata": {
        "id": "ver4uGl7ROSu",
        "colab_type": "text"
      },
      "cell_type": "markdown",
      "source": [
        "Model 2 gives us a good result. We have a large gap (30 units) between the loss of the training set which has no anomalies  and the validation set which has ~50/50 normal/anomaly data.  We also have the training accuracy at 95% and the testing accuracy at 27%. \n",
        "\n",
        "We  see that the second model has a much larger gap in the loss but a smaller gap between the accuracies. "
      ]
    },
    {
      "metadata": {
        "id": "e8QD5MuQX-xc",
        "colab_type": "text"
      },
      "cell_type": "markdown",
      "source": [
        "## **Model Evaluations**"
      ]
    },
    {
      "metadata": {
        "id": "AVeSq6nUqU-a",
        "colab_type": "code",
        "colab": {
          "base_uri": "https://localhost:8080/",
          "height": 376
        },
        "cellView": "code",
        "outputId": "8641a9ba-c084-4506-cefb-1fe6e54c3da1"
      },
      "cell_type": "code",
      "source": [
        "#@title Default title text\n",
        "plt.plot(history['loss'][0:100])\n",
        "plt.plot(history['val_loss'][0:100])\n",
        "plt.plot(history2['loss'][0:100])\n",
        "plt.plot(history2['val_loss'][0:100])\n",
        "plt.title('model losses')\n",
        "plt.ylabel('loss')\n",
        "plt.xlabel('epoch')\n",
        "plt.legend(['train', 'test','train2', 'test2'], loc='upper right');\n",
        "\n"
      ],
      "execution_count": 346,
      "outputs": [
        {
          "output_type": "display_data",
          "data": {
            "image/png": "[encoded data removed]",
            "text/plain": [
              "<matplotlib.figure.Figure at 0x7f4df37a7c88>"
            ]
          },
          "metadata": {
            "tags": []
          }
        }
      ]
    },
    {
      "metadata": {
        "id": "7nn-OSP4PI1d",
        "colab_type": "text"
      },
      "cell_type": "markdown",
      "source": [
        "Here we usually see a large(separable) gap in model losses. When the random starting cisoid parameters are not ideal the training set can actually have a higer loss than the test set. This is something  that needs to be fixed. Of all the times I have ran the code though I have not seen an instance where the test accuracy is consistantly higher than the train accuracy. It may be higher on the first eopch. "
      ]
    },
    {
      "metadata": {
        "id": "VvWWkhcGmzKK",
        "colab_type": "code",
        "colab": {
          "base_uri": "https://localhost:8080/",
          "height": 376
        },
        "outputId": "ce8f61a7-7303-42a6-de10-250be642bb6f"
      },
      "cell_type": "code",
      "source": [
        "#@title Default title text\n",
        "plt.plot(history['acc'][0:100])\n",
        "plt.plot(history['val_acc'][0:100])\n",
        "plt.plot(history2['acc'][0:100])\n",
        "plt.plot(history2['val_acc'][0:100])\n",
        "plt.title('model accuracies')\n",
        "plt.ylabel('acc')\n",
        "plt.xlabel('epoch')\n",
        "plt.legend(['train', 'test','train2', 'test2'], loc='upper right');\n",
        "\n"
      ],
      "execution_count": 173,
      "outputs": [
        {
          "output_type": "display_data",
          "data": {
            "image/png": "[encoded data removed]",
            "text/plain": [
              "<matplotlib.figure.Figure at 0x7f4e0467eda0>"
            ]
          },
          "metadata": {
            "tags": []
          }
        }
      ]
    },
    {
      "metadata": {
        "id": "CD-1sYbPWMRr",
        "colab_type": "code",
        "colab": {
          "base_uri": "https://localhost:8080/",
          "height": 376
        },
        "outputId": "437a4293-9d3d-475a-a3a8-cffe0855e8ac"
      },
      "cell_type": "code",
      "source": [
        "#@title Default title text\n",
        "plt.plot(history['mean_absolute_error'][0:100])\n",
        "plt.plot(history['val_mean_absolute_error'][0:100])\n",
        "plt.title('model accuracies')\n",
        "plt.ylabel('acc')\n",
        "plt.xlabel('epoch')\n",
        "plt.legend(['train', 'test','train2', 'test2'], loc='upper right');\n",
        "\n"
      ],
      "execution_count": 129,
      "outputs": [
        {
          "output_type": "display_data",
          "data": {
            "image/png": "[encoded data removed]",
            "text/plain": [
              "<matplotlib.figure.Figure at 0x7f4e0438f0b8>"
            ]
          },
          "metadata": {
            "tags": []
          }
        }
      ]
    },
    {
      "metadata": {
        "id": "MO_MwWZozZZa",
        "colab_type": "text"
      },
      "cell_type": "markdown",
      "source": [
        "Here we see the large(separable) gap in model losses. "
      ]
    },
    {
      "metadata": {
        "id": "Zkad4SUHYRyy",
        "colab_type": "code",
        "colab": {}
      },
      "cell_type": "code",
      "source": [
        "acc = keras.metrics.categorical_accuracy(x_test2,predictions)\n",
        "\n",
        "import tensorflow as tf\n",
        "from tensorflow.python.keras import backend as K\n",
        "sess = K.get_session()\n",
        "array = sess.run(acc)\n",
        "#array = acc.eval(session=sess)\n"
      ],
      "execution_count": 0,
      "outputs": []
    },
    {
      "metadata": {
        "id": "6g2xPivClyfH",
        "colab_type": "code",
        "colab": {
          "base_uri": "https://localhost:8080/",
          "height": 288
        },
        "cellView": "both",
        "outputId": "29c6ed5a-3eac-427b-877a-bfcf68acc558"
      },
      "cell_type": "code",
      "source": [
        "#@title Data Statistics\n",
        "\n",
        "# Model 1 \n",
        "predictions = autoencoder.predict(x_test2,batch_size=32)\n",
        "mse = np.mean(np.power(x_test2 - predictions, 2), axis=1)\n",
        "#acc = K.categorical_accuracy(x_test,predictions)\n",
        "error_df = pd.DataFrame({'reconstruction_error': mse,\n",
        "                         'true_class': np.array(y_test)})\n",
        "\n",
        "display(error_df.describe())\n",
        "\n",
        "# # Model 2 \n",
        "\n",
        "# predictions2 = autoencoder2.predict(x_test2,batch_size=32)\n",
        "# mse2 = np.mean(np.power(x_test2 - predictions2, 2), axis=1)\n",
        "# error_df2 = pd.DataFrame({'reconstruction_error': mse2,\n",
        "#                          'true_class': np.array(y_test)})\n",
        "\n",
        "# error_df2.describe()"
      ],
      "execution_count": 347,
      "outputs": [
        {
          "output_type": "display_data",
          "data": {
            "text/html": [
              "<div>\n",
              "<style scoped>\n",
              "    .dataframe tbody tr th:only-of-type {\n",
              "        vertical-align: middle;\n",
              "    }\n",
              "\n",
              "    .dataframe tbody tr th {\n",
              "        vertical-align: top;\n",
              "    }\n",
              "\n",
              "    .dataframe thead th {\n",
              "        text-align: right;\n",
              "    }\n",
              "</style>\n",
              "<table border=\"1\" class=\"dataframe\">\n",
              "  <thead>\n",
              "    <tr style=\"text-align: right;\">\n",
              "      <th></th>\n",
              "      <th>reconstruction_error</th>\n",
              "      <th>true_class</th>\n",
              "    </tr>\n",
              "  </thead>\n",
              "  <tbody>\n",
              "    <tr>\n",
              "      <th>count</th>\n",
              "      <td>602.000000</td>\n",
              "      <td>602.000000</td>\n",
              "    </tr>\n",
              "    <tr>\n",
              "      <th>mean</th>\n",
              "      <td>0.836703</td>\n",
              "      <td>0.500000</td>\n",
              "    </tr>\n",
              "    <tr>\n",
              "      <th>std</th>\n",
              "      <td>0.056076</td>\n",
              "      <td>0.500416</td>\n",
              "    </tr>\n",
              "    <tr>\n",
              "      <th>min</th>\n",
              "      <td>0.780662</td>\n",
              "      <td>0.000000</td>\n",
              "    </tr>\n",
              "    <tr>\n",
              "      <th>25%</th>\n",
              "      <td>0.780674</td>\n",
              "      <td>0.000000</td>\n",
              "    </tr>\n",
              "    <tr>\n",
              "      <th>50%</th>\n",
              "      <td>0.836707</td>\n",
              "      <td>0.500000</td>\n",
              "    </tr>\n",
              "    <tr>\n",
              "      <th>75%</th>\n",
              "      <td>0.892733</td>\n",
              "      <td>1.000000</td>\n",
              "    </tr>\n",
              "    <tr>\n",
              "      <th>max</th>\n",
              "      <td>0.892742</td>\n",
              "      <td>1.000000</td>\n",
              "    </tr>\n",
              "  </tbody>\n",
              "</table>\n",
              "</div>"
            ],
            "text/plain": [
              "       reconstruction_error  true_class\n",
              "count            602.000000  602.000000\n",
              "mean               0.836703    0.500000\n",
              "std                0.056076    0.500416\n",
              "min                0.780662    0.000000\n",
              "25%                0.780674    0.000000\n",
              "50%                0.836707    0.500000\n",
              "75%                0.892733    1.000000\n",
              "max                0.892742    1.000000"
            ]
          },
          "metadata": {
            "tags": []
          }
        }
      ]
    },
    {
      "metadata": {
        "id": "tpGDX1NGiNda",
        "colab_type": "text"
      },
      "cell_type": "markdown",
      "source": [
        "**Reconstruction error without Anomaly**"
      ]
    },
    {
      "metadata": {
        "id": "Jnx1SYsdXKjA",
        "colab_type": "code",
        "colab": {
          "base_uri": "https://localhost:8080/",
          "height": 35
        },
        "outputId": "64839262-408a-4cbd-bce0-808ede3f7b35"
      },
      "cell_type": "code",
      "source": [
        "import tensorflow as tf\n",
        "from tensorflow.python.keras import backend as K\n",
        "\n",
        "\n",
        "acc = keras.metrics.categorical_accuracy(x_test2,predictions)\n",
        "sess = K.get_session()\n",
        "array = sess.run(acc)\n",
        "\n",
        "test_accuracy = np.logical_xor(array,np.array(y_test))\n",
        "np.sum(test_accuracy)\n",
        "\n"
      ],
      "execution_count": 348,
      "outputs": [
        {
          "output_type": "execute_result",
          "data": {
            "text/plain": [
              "392"
            ]
          },
          "metadata": {
            "tags": []
          },
          "execution_count": 348
        }
      ]
    },
    {
      "metadata": {
        "id": "xk24UhdciE0y",
        "colab_type": "code",
        "colab": {
          "base_uri": "https://localhost:8080/",
          "height": 360
        },
        "outputId": "78bedb71-d7ee-499a-9367-19699f306bd9"
      },
      "cell_type": "code",
      "source": [
        "fig = plt.figure()\n",
        "ax = fig.add_subplot(111)\n",
        "normal_error_df = error_df[(error_df['true_class']== 0) & (error_df['reconstruction_error'] < 100000000000000000000000)]\n",
        "_ = ax.hist(normal_error_df.reconstruction_error.values, bins=10)"
      ],
      "execution_count": 351,
      "outputs": [
        {
          "output_type": "display_data",
          "data": {
            "image/png": "[encoded data removed]",
            "text/plain": [
              "<matplotlib.figure.Figure at 0x7f4de237a278>"
            ]
          },
          "metadata": {
            "tags": []
          }
        }
      ]
    },
    {
      "metadata": {
        "id": "7MeL-vqSiQ6t",
        "colab_type": "text"
      },
      "cell_type": "markdown",
      "source": [
        "**Reconstruction error with Anomaly**"
      ]
    },
    {
      "metadata": {
        "id": "EHz1hj1GiTyF",
        "colab_type": "code",
        "colab": {
          "base_uri": "https://localhost:8080/",
          "height": 360
        },
        "outputId": "5ace15df-557e-4a74-a8e3-58d7e1fe8a7c"
      },
      "cell_type": "code",
      "source": [
        "fig = plt.figure()\n",
        "ax = fig.add_subplot(111)\n",
        "anomaly_error_df = error_df[error_df['true_class'] == 1]\n",
        "_ = ax.hist(anomaly_error_df.reconstruction_error.values, bins=10)"
      ],
      "execution_count": 352,
      "outputs": [
        {
          "output_type": "display_data",
          "data": {
            "image/png": "[encoded data removed]",
            "text/plain": [
              "<matplotlib.figure.Figure at 0x7f4de230fa58>"
            ]
          },
          "metadata": {
            "tags": []
          }
        }
      ]
    },
    {
      "metadata": {
        "id": "uvO2DOR1T7O3",
        "colab_type": "code",
        "colab": {}
      },
      "cell_type": "code",
      "source": [
        "threshold1 = (np.max(normal_error_df)['reconstruction_error'] + np.min(anomaly_error_df['reconstruction_error']))/2"
      ],
      "execution_count": 0,
      "outputs": []
    },
    {
      "metadata": {
        "id": "YHjJFFSCoZLD",
        "colab_type": "code",
        "colab": {
          "base_uri": "https://localhost:8080/",
          "height": 376
        },
        "outputId": "01a215ed-2d41-4b96-96fe-2038cb748fef"
      },
      "cell_type": "code",
      "source": [
        "from sklearn.metrics import (confusion_matrix, precision_recall_curve, auc,\n",
        "                             roc_curve, recall_score, classification_report, f1_score,\n",
        "                             precision_recall_fscore_support)\n",
        "\n",
        "fpr, tpr, thresholds = roc_curve(error_df.true_class, error_df.reconstruction_error)\n",
        "roc_auc = auc(fpr, tpr)\n",
        "\n",
        "#fpr2, tpr2, thresholds2 = roc_curve(error_df2.true_class, error_df2.reconstruction_error)\n",
        "#roc_auc2 = auc(fpr2, tpr2)\n",
        "\n",
        "plt.title('Receiver Operating Characteristic')\n",
        "plt.plot(fpr, tpr, label='AUC = %0.4f'% roc_auc)\n",
        "#plt.plot(fpr2, tpr2, 'go',label='AUC 2 = %0.4f'% roc_auc2)\n",
        "\n",
        "plt.legend(loc='lower right')\n",
        "plt.plot([0,1],[0,1],'r--')\n",
        "plt.xlim([-0.001, 1])\n",
        "plt.ylim([0, 1.001])\n",
        "plt.ylabel('True Positive Rate')\n",
        "plt.xlabel('False Positive Rate')\n",
        "plt.show();\n"
      ],
      "execution_count": 354,
      "outputs": [
        {
          "output_type": "display_data",
          "data": {
            "image/png": "[encoded data removed]",
            "text/plain": [
              "<matplotlib.figure.Figure at 0x7f4de23236a0>"
            ]
          },
          "metadata": {
            "tags": []
          }
        }
      ]
    },
    {
      "metadata": {
        "id": "8FrDrdHcY7jP",
        "colab_type": "text"
      },
      "cell_type": "markdown",
      "source": [
        "# **Precision vs Recall**\n",
        "\n",
        "Ideally one would have a system with both precision and recall equal to one. This would result in a unity plot. We want to maximize the area under the graph given that the range of values is 0 to 1. "
      ]
    },
    {
      "metadata": {
        "id": "WbYf-y-zcEeZ",
        "colab_type": "text"
      },
      "cell_type": "markdown",
      "source": [
        "**Model 1**"
      ]
    },
    {
      "metadata": {
        "id": "7tJcX5FsoxfV",
        "colab_type": "code",
        "colab": {
          "base_uri": "https://localhost:8080/",
          "height": 376
        },
        "cellView": "code",
        "outputId": "1df5abb3-aa5d-41c7-b738-2c07982431f0"
      },
      "cell_type": "code",
      "source": [
        "#@title Default title text\n",
        "precision, recall, th = precision_recall_curve(error_df.true_class, error_df.reconstruction_error)\n",
        "plt.plot(recall, precision, 'b', label='Precision-Recall curve')\n",
        "#precision2, recall2, th2 = precision_recall_curve(error_df2.true_class, error_df2.reconstruction_error)\n",
        "#plt.plot(recall2, precision2, 'r--', label='Precision-Recall curve 2')\n",
        "plt.title('Recall vs Precision')\n",
        "plt.xlabel('Recall')\n",
        "plt.ylabel('Precision')\n",
        "plt.legend(loc='lower right')\n",
        "plt.show()"
      ],
      "execution_count": 355,
      "outputs": [
        {
          "output_type": "display_data",
          "data": {
            "image/png": "[encoded data removed]",
            "text/plain": [
              "<matplotlib.figure.Figure at 0x7f4de23ec860>"
            ]
          },
          "metadata": {
            "tags": []
          }
        }
      ]
    },
    {
      "metadata": {
        "id": "08sSOlaGa4QW",
        "colab_type": "text"
      },
      "cell_type": "markdown",
      "source": [
        "high precision ~ low false positives \\\\\n",
        "high recall ~ low false negatives "
      ]
    },
    {
      "metadata": {
        "id": "I321pp_8o0_n",
        "colab_type": "code",
        "colab": {
          "base_uri": "https://localhost:8080/",
          "height": 376
        },
        "outputId": "9f9690c6-9fa8-4f84-9f64-df05bcd9bf4a"
      },
      "cell_type": "code",
      "source": [
        "plt.plot(th, precision[1:], 'b', label='Threshold-Precision curve')\n",
        "plt.title('Precision for different threshold values')\n",
        "plt.xlabel('Threshold')\n",
        "plt.ylabel('Precision')\n",
        "plt.show()"
      ],
      "execution_count": 356,
      "outputs": [
        {
          "output_type": "display_data",
          "data": {
            "image/png": "[encoded data removed]",
            "text/plain": [
              "<matplotlib.figure.Figure at 0x7f4de2406f98>"
            ]
          },
          "metadata": {
            "tags": []
          }
        }
      ]
    },
    {
      "metadata": {
        "id": "wFVt_drhXz9U",
        "colab_type": "text"
      },
      "cell_type": "markdown",
      "source": [
        "This run of the code shows near ideal retults. Here precision is not a function of reconstruction error.\n",
        "\n"
      ]
    },
    {
      "metadata": {
        "id": "xuK0aMo5o4kQ",
        "colab_type": "code",
        "colab": {
          "base_uri": "https://localhost:8080/",
          "height": 376
        },
        "outputId": "8a029d1f-51c2-40a4-cf5a-09e4037d3f80"
      },
      "cell_type": "code",
      "source": [
        "plt.plot(th, recall[1:], 'b', label='Threshold-Recall curve')\n",
        "plt.title('Recall for different threshold values')\n",
        "plt.xlabel('Reconstruction error')\n",
        "plt.ylabel('Recall')\n",
        "plt.show()"
      ],
      "execution_count": 357,
      "outputs": [
        {
          "output_type": "display_data",
          "data": {
            "image/png": "[encoded data removed]",
            "text/plain": [
              "<matplotlib.figure.Figure at 0x7f4de23ec9e8>"
            ]
          },
          "metadata": {
            "tags": []
          }
        }
      ]
    },
    {
      "metadata": {
        "id": "9k4dHi-NZ37U",
        "colab_type": "text"
      },
      "cell_type": "markdown",
      "source": [
        "Here we see that as reconstruction error increases recall decreases. \n",
        "\n",
        "\n",
        "\n"
      ]
    },
    {
      "metadata": {
        "id": "KTbeVkqraC_G",
        "colab_type": "text"
      },
      "cell_type": "markdown",
      "source": [
        "**Model 2**"
      ]
    },
    {
      "metadata": {
        "id": "p_eOCwO4I3h7",
        "colab_type": "code",
        "colab": {
          "base_uri": "https://localhost:8080/",
          "height": 288
        },
        "outputId": "9dabc322-2bc2-431a-9f90-9c21bf7a63b9"
      },
      "cell_type": "code",
      "source": [
        "predictions2 = autoencoder2.predict(x_test2,batch_size=32)\n",
        "mse = np.mean(np.power(x_test2 - predictions2, 2), axis=1)\n",
        "error_df2 = pd.DataFrame({'reconstruction_error': mse,\n",
        "                         'true_class': np.array(y_test)})\n",
        "\n",
        "error_df2.describe()"
      ],
      "execution_count": 358,
      "outputs": [
        {
          "output_type": "execute_result",
          "data": {
            "text/html": [
              "<div>\n",
              "<style scoped>\n",
              "    .dataframe tbody tr th:only-of-type {\n",
              "        vertical-align: middle;\n",
              "    }\n",
              "\n",
              "    .dataframe tbody tr th {\n",
              "        vertical-align: top;\n",
              "    }\n",
              "\n",
              "    .dataframe thead th {\n",
              "        text-align: right;\n",
              "    }\n",
              "</style>\n",
              "<table border=\"1\" class=\"dataframe\">\n",
              "  <thead>\n",
              "    <tr style=\"text-align: right;\">\n",
              "      <th></th>\n",
              "      <th>reconstruction_error</th>\n",
              "      <th>true_class</th>\n",
              "    </tr>\n",
              "  </thead>\n",
              "  <tbody>\n",
              "    <tr>\n",
              "      <th>count</th>\n",
              "      <td>602.000000</td>\n",
              "      <td>602.000000</td>\n",
              "    </tr>\n",
              "    <tr>\n",
              "      <th>mean</th>\n",
              "      <td>1.575242</td>\n",
              "      <td>0.500000</td>\n",
              "    </tr>\n",
              "    <tr>\n",
              "      <th>std</th>\n",
              "      <td>1.438955</td>\n",
              "      <td>0.500416</td>\n",
              "    </tr>\n",
              "    <tr>\n",
              "      <th>min</th>\n",
              "      <td>0.137480</td>\n",
              "      <td>0.000000</td>\n",
              "    </tr>\n",
              "    <tr>\n",
              "      <th>25%</th>\n",
              "      <td>0.137482</td>\n",
              "      <td>0.000000</td>\n",
              "    </tr>\n",
              "    <tr>\n",
              "      <th>50%</th>\n",
              "      <td>1.575192</td>\n",
              "      <td>0.500000</td>\n",
              "    </tr>\n",
              "    <tr>\n",
              "      <th>75%</th>\n",
              "      <td>3.013003</td>\n",
              "      <td>1.000000</td>\n",
              "    </tr>\n",
              "    <tr>\n",
              "      <th>max</th>\n",
              "      <td>3.013102</td>\n",
              "      <td>1.000000</td>\n",
              "    </tr>\n",
              "  </tbody>\n",
              "</table>\n",
              "</div>"
            ],
            "text/plain": [
              "       reconstruction_error  true_class\n",
              "count            602.000000  602.000000\n",
              "mean               1.575242    0.500000\n",
              "std                1.438955    0.500416\n",
              "min                0.137480    0.000000\n",
              "25%                0.137482    0.000000\n",
              "50%                1.575192    0.500000\n",
              "75%                3.013003    1.000000\n",
              "max                3.013102    1.000000"
            ]
          },
          "metadata": {
            "tags": []
          },
          "execution_count": 358
        }
      ]
    },
    {
      "metadata": {
        "id": "7_3nWxqqk6y7",
        "colab_type": "code",
        "colab": {
          "base_uri": "https://localhost:8080/",
          "height": 35
        },
        "outputId": "90f25301-9509-4bae-93cd-4c99e8b74b50"
      },
      "cell_type": "code",
      "source": [
        "acc = keras.metrics.categorical_accuracy(x_test2,predictions2)\n",
        "sess = K.get_session()\n",
        "array = sess.run(acc)\n",
        "\n",
        "test_accuracy = np.logical_xor(array,np.array(y_test))\n",
        "np.sum(test_accuracy)"
      ],
      "execution_count": 359,
      "outputs": [
        {
          "output_type": "execute_result",
          "data": {
            "text/plain": [
              "392"
            ]
          },
          "metadata": {
            "tags": []
          },
          "execution_count": 359
        }
      ]
    },
    {
      "metadata": {
        "id": "w_mw7uR5-9ei",
        "colab_type": "code",
        "colab": {
          "base_uri": "https://localhost:8080/",
          "height": 360
        },
        "outputId": "120e4cf3-d669-45b4-a2fa-e4d1baec12ad"
      },
      "cell_type": "code",
      "source": [
        "fig = plt.figure()\n",
        "ax = fig.add_subplot(111)\n",
        "normal_error_df2 = error_df2[(error_df2['true_class']== 0) & (error_df2['reconstruction_error'] < 1000000000000)]\n",
        "_ = ax.hist(normal_error_df2.reconstruction_error.values, bins=10)"
      ],
      "execution_count": 360,
      "outputs": [
        {
          "output_type": "display_data",
          "data": {
            "image/png": "[encoded data removed]",
            "text/plain": [
              "<matplotlib.figure.Figure at 0x7f4de2441978>"
            ]
          },
          "metadata": {
            "tags": []
          }
        }
      ]
    },
    {
      "metadata": {
        "id": "NROgqg6p_GcH",
        "colab_type": "code",
        "colab": {
          "base_uri": "https://localhost:8080/",
          "height": 347
        },
        "outputId": "5b32c6dd-ed4d-426e-9288-62b0c4a53523"
      },
      "cell_type": "code",
      "source": [
        "fig = plt.figure()\n",
        "ax = fig.add_subplot(111)\n",
        "anomaly_error_df2 = error_df2[error_df2['true_class'] == 1]\n",
        "_ = ax.hist(anomaly_error_df2.reconstruction_error.values, bins=10)"
      ],
      "execution_count": 361,
      "outputs": [
        {
          "output_type": "display_data",
          "data": {
            "image/png": "[encoded data removed]",
            "text/plain": [
              "<matplotlib.figure.Figure at 0x7f4def7d0a20>"
            ]
          },
          "metadata": {
            "tags": []
          }
        }
      ]
    },
    {
      "metadata": {
        "id": "wWvXg9sLBira",
        "colab_type": "code",
        "colab": {}
      },
      "cell_type": "code",
      "source": [
        "threshold2 = (np.max(normal_error_df2)['reconstruction_error'] + np.min(anomaly_error_df2['reconstruction_error']))/2"
      ],
      "execution_count": 0,
      "outputs": []
    },
    {
      "metadata": {
        "id": "t_hSQlo4MHez",
        "colab_type": "code",
        "colab": {
          "base_uri": "https://localhost:8080/",
          "height": 376
        },
        "outputId": "23f75b71-3b46-4211-ad29-b557bdd62aca"
      },
      "cell_type": "code",
      "source": [
        "from sklearn.metrics import (confusion_matrix, precision_recall_curve, auc,\n",
        "                             roc_curve, recall_score, classification_report, f1_score,\n",
        "                             precision_recall_fscore_support)\n",
        "\n",
        "fpr2, tpr2, thresholds = roc_curve(error_df2.true_class, error_df2.reconstruction_error)\n",
        "roc_auc2 = auc(fpr2, tpr2)\n",
        "\n",
        "plt.title('Receiver Operating Characteristic')\n",
        "plt.plot(fpr2, tpr2, label='AUC = %0.4f'% roc_auc2)\n",
        "plt.legend(loc='lower right')\n",
        "plt.plot([0,1],[0,1],'r--')\n",
        "plt.xlim([-0.001, 1])\n",
        "plt.ylim([0, 1.001])\n",
        "plt.ylabel('True Positive Rate')\n",
        "plt.xlabel('False Positive Rate')\n",
        "plt.show();"
      ],
      "execution_count": 363,
      "outputs": [
        {
          "output_type": "display_data",
          "data": {
            "image/png": "[encoded data removed]",
            "text/plain": [
              "<matplotlib.figure.Figure at 0x7f4de2357ba8>"
            ]
          },
          "metadata": {
            "tags": []
          }
        }
      ]
    },
    {
      "metadata": {
        "id": "o1aszNDgPTiR",
        "colab_type": "code",
        "colab": {
          "base_uri": "https://localhost:8080/",
          "height": 376
        },
        "outputId": "dd34ed12-2478-4f46-da39-e847c6aef087"
      },
      "cell_type": "code",
      "source": [
        "precision2, recall2, th2 = precision_recall_curve(error_df2.true_class, error_df2.reconstruction_error)\n",
        "plt.plot(recall2, precision2, 'b', label='Precision-Recall curve')\n",
        "plt.title('Recall vs Precision')\n",
        "plt.xlabel('Recall')\n",
        "plt.ylabel('Precision')\n",
        "plt.show()\n",
        "\n"
      ],
      "execution_count": 364,
      "outputs": [
        {
          "output_type": "display_data",
          "data": {
            "image/png": "[encoded data removed]",
            "text/plain": [
              "<matplotlib.figure.Figure at 0x7f4de231ebe0>"
            ]
          },
          "metadata": {
            "tags": []
          }
        }
      ]
    },
    {
      "metadata": {
        "id": "0dj2F34KR-TB",
        "colab_type": "code",
        "colab": {
          "base_uri": "https://localhost:8080/",
          "height": 376
        },
        "outputId": "30a84f93-13fa-464e-8075-061790b46e9e"
      },
      "cell_type": "code",
      "source": [
        "plt.plot(th2, precision2[1:], 'b', label='Threshold-Precision curve')\n",
        "plt.title('Precision for different threshold values')\n",
        "plt.xlabel('Threshold')\n",
        "plt.ylabel('Precision')\n",
        "plt.show()\n",
        "\n"
      ],
      "execution_count": 365,
      "outputs": [
        {
          "output_type": "display_data",
          "data": {
            "image/png": "[encoded data removed]",
            "text/plain": [
              "<matplotlib.figure.Figure at 0x7f4de231e588>"
            ]
          },
          "metadata": {
            "tags": []
          }
        }
      ]
    },
    {
      "metadata": {
        "id": "O6Yj0uQvSCgB",
        "colab_type": "code",
        "colab": {
          "base_uri": "https://localhost:8080/",
          "height": 376
        },
        "outputId": "8d516704-5ddb-4239-cd2c-c5548503df73"
      },
      "cell_type": "code",
      "source": [
        "plt.plot(th2, recall2[1:], 'b', label='Threshold-Recall curve')\n",
        "#plt.plot(th, recall[1:], 'r.', label='Threshold-Recall curve')\n",
        "plt.title('Recall for different threshold values')\n",
        "plt.xlabel('Reconstruction error')\n",
        "plt.ylabel('Recall')\n",
        "plt.show()"
      ],
      "execution_count": 366,
      "outputs": [
        {
          "output_type": "display_data",
          "data": {
            "image/png": "[encoded data removed]",
            "text/plain": [
              "<matplotlib.figure.Figure at 0x7f4def75e6d8>"
            ]
          },
          "metadata": {
            "tags": []
          }
        }
      ]
    },
    {
      "metadata": {
        "id": "bp6G4eLwbU3v",
        "colab_type": "text"
      },
      "cell_type": "markdown",
      "source": [
        "As in model 1 we see that as reconstruction error increases recall decreases. But it occurs at a much higher value here."
      ]
    },
    {
      "metadata": {
        "id": "vxiiffcdb9MR",
        "colab_type": "text"
      },
      "cell_type": "markdown",
      "source": [
        "# **Prediction**"
      ]
    },
    {
      "metadata": {
        "id": "jfKE-s-jlTsP",
        "colab_type": "code",
        "colab": {
          "base_uri": "https://localhost:8080/",
          "height": 376
        },
        "outputId": "61e9095c-526c-4909-ff32-4c047c629ceb"
      },
      "cell_type": "code",
      "source": [
        "threshold = threshold1\n",
        "\n",
        "groups = error_df.groupby('true_class')\n",
        "fig, ax = plt.subplots()\n",
        "\n",
        "for name, group in groups:\n",
        "    ax.plot(group.index, group.reconstruction_error, marker='o', ms=3.5, linestyle='',\n",
        "            label= \"Anomaly\" if name == 1 else \"Normal\")\n",
        "ax.hlines(threshold, ax.get_xlim()[0], ax.get_xlim()[1], colors=\"r\", zorder=100, label='Threshold')\n",
        "ax.legend()\n",
        "plt.title(\"Reconstruction error for different classes\")\n",
        "plt.ylabel(\"Reconstruction error\")\n",
        "plt.xlabel(\"Data point index\")\n",
        "plt.show();"
      ],
      "execution_count": 367,
      "outputs": [
        {
          "output_type": "display_data",
          "data": {
            "image/png": "[encoded data removed]",
            "text/plain": [
              "<matplotlib.figure.Figure at 0x7f4df2ebbc88>"
            ]
          },
          "metadata": {
            "tags": []
          }
        }
      ]
    },
    {
      "metadata": {
        "id": "SROlKStTVzuK",
        "colab_type": "code",
        "colab": {
          "base_uri": "https://localhost:8080/",
          "height": 729
        },
        "outputId": "2a7d5e9c-ccc7-46e1-8e13-e2eafba472d4"
      },
      "cell_type": "code",
      "source": [
        "LABELS = [\"Normal\", \"Anomaly\"]\n",
        "y_pred = [1 if e > threshold else 0 for e in error_df.reconstruction_error.values]\n",
        "conf_matrix = confusion_matrix(error_df.true_class, y_pred)\n",
        "\n",
        "plt.figure(figsize=(12, 12))\n",
        "sns.heatmap(conf_matrix, xticklabels=LABELS, yticklabels=LABELS, annot=True, fmt=\"d\");\n",
        "plt.title(\"Confusion matrix\")\n",
        "plt.ylabel('True class')\n",
        "plt.xlabel('Predicted class')\n",
        "plt.show()\n",
        "\n"
      ],
      "execution_count": 368,
      "outputs": [
        {
          "output_type": "display_data",
          "data": {
            "image/png": "[encoded data removed]",
            "text/plain": [
              "<matplotlib.figure.Figure at 0x7f4def697cc0>"
            ]
          },
          "metadata": {
            "tags": []
          }
        }
      ]
    },
    {
      "metadata": {
        "id": "f2mHfg2HsEXA",
        "colab_type": "code",
        "colab": {
          "base_uri": "https://localhost:8080/",
          "height": 376
        },
        "outputId": "c4e53a72-9694-4b53-b55d-e0d9f3a8c9af"
      },
      "cell_type": "code",
      "source": [
        "threshold = threshold2\n",
        "\n",
        "groups = error_df2.groupby('true_class')\n",
        "fig, ax = plt.subplots()\n",
        "\n",
        "for name, group in groups:\n",
        "    ax.plot(group.index, group.reconstruction_error, marker='o', ms=3.5, linestyle='',\n",
        "            label= \"Anomaly\" if name == 1 else \"Normal\")\n",
        "ax.hlines(threshold, ax.get_xlim()[0], ax.get_xlim()[1], colors=\"r\", zorder=100, label='Threshold')\n",
        "ax.legend()\n",
        "plt.title(\"Reconstruction error for different classes\")\n",
        "plt.ylabel(\"Reconstruction error\")\n",
        "plt.xlabel(\"Data point index\")\n",
        "plt.show();"
      ],
      "execution_count": 369,
      "outputs": [
        {
          "output_type": "display_data",
          "data": {
            "image/png": "[encoded data removed]",
            "text/plain": [
              "<matplotlib.figure.Figure at 0x7f4def2744e0>"
            ]
          },
          "metadata": {
            "tags": []
          }
        }
      ]
    },
    {
      "metadata": {
        "id": "EQyPGCFasHSR",
        "colab_type": "code",
        "colab": {
          "base_uri": "https://localhost:8080/",
          "height": 729
        },
        "outputId": "1d8e5a46-6b17-4583-c0b3-f296993348e9"
      },
      "cell_type": "code",
      "source": [
        "LABELS = [\"Normal\", \"Anomaly\"]\n",
        "y_pred = [1 if e > threshold else 0 for e in error_df2.reconstruction_error.values]\n",
        "conf_matrix = confusion_matrix(error_df.true_class, y_pred)\n",
        "\n",
        "plt.figure(figsize=(12, 12))\n",
        "sns.heatmap(conf_matrix, xticklabels=LABELS, yticklabels=LABELS, annot=True, fmt=\"d\");\n",
        "plt.title(\"Confusion matrix\")\n",
        "plt.ylabel('True class')\n",
        "plt.xlabel('Predicted class')\n",
        "plt.show()\n",
        "\n"
      ],
      "execution_count": 370,
      "outputs": [
        {
          "output_type": "display_data",
          "data": {
            "image/png": "[encoded data removed]",
            "text/plain": [
              "<matplotlib.figure.Figure at 0x7f4de231eef0>"
            ]
          },
          "metadata": {
            "tags": []
          }
        }
      ]
    },
    {
      "metadata": {
        "id": "Sd_rNfitJMBN",
        "colab_type": "code",
        "colab": {}
      },
      "cell_type": "code",
      "source": [
        ""
      ],
      "execution_count": 0,
      "outputs": []
    }
  ]
}