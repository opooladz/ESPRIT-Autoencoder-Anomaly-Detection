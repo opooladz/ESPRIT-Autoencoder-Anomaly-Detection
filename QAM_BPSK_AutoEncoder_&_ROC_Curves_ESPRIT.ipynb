{
  "nbformat": 4,
  "nbformat_minor": 0,
  "metadata": {
    "colab": {
      "name": "QAM-BPSK-AutoEncoder & ROC Curves - ESPRIT.ipynb",
      "version": "0.3.2",
      "provenance": [],
      "collapsed_sections": [],
      "include_colab_link": true
    },
    "kernelspec": {
      "name": "python3",
      "display_name": "Python 3"
    },
    "accelerator": "GPU"
  },
  "cells": [
    {
      "cell_type": "markdown",
      "metadata": {
        "id": "view-in-github",
        "colab_type": "text"
      },
      "source": [
        "[View in Colaboratory](https://colab.research.google.com/github/opooladz/ESPRIT-Autoencoder-Anomaly-Detection/blob/master/QAM_BPSK_AutoEncoder_&_ROC_Curves_ESPRIT.ipynb)"
      ]
    },
    {
      "metadata": {
        "id": "ls_UG_Iv50o5",
        "colab_type": "code",
        "colab": {
          "base_uri": "https://localhost:8080/",
          "height": 181
        },
        "outputId": "7c9907d4-e930-442b-df76-7781fae1992d"
      },
      "cell_type": "code",
      "source": [
        "!pip3 install numba"
      ],
      "execution_count": 0,
      "outputs": [
        {
          "output_type": "stream",
          "text": [
            "Collecting numba\n",
            "\u001b[?25l  Downloading https://files.pythonhosted.org/packages/24/89/6f1755892d60ddd528090dc313349e7cc491170d6737f6b3a7a5b317ef81/numba-0.39.0-cp36-cp36m-manylinux1_x86_64.whl (1.9MB)\n",
            "\u001b[K    100% |████████████████████████████████| 1.9MB 2.4MB/s \n",
            "\u001b[?25hCollecting llvmlite>=0.24.0dev0 (from numba)\n",
            "\u001b[?25l  Downloading https://files.pythonhosted.org/packages/be/05/c1b933d6b3dd6a234b681605e4154c44d21ee22cbef315c4eb9d64e6ab6a/llvmlite-0.24.0-cp36-cp36m-manylinux1_x86_64.whl (15.8MB)\n",
            "\u001b[K    100% |████████████████████████████████| 15.9MB 927kB/s \n",
            "\u001b[?25hRequirement already satisfied: numpy in /usr/local/lib/python3.6/dist-packages (from numba) (1.14.5)\n",
            "Installing collected packages: llvmlite, numba\n",
            "Successfully installed llvmlite-0.24.0 numba-0.39.0\n"
          ],
          "name": "stdout"
        }
      ]
    },
    {
      "metadata": {
        "id": "32BPXqrHfNrs",
        "colab_type": "code",
        "colab": {}
      },
      "cell_type": "code",
      "source": [
        "import numpy as np\n",
        "from scipy.linalg import toeplitz\n",
        "from numpy import linalg as lg\n",
        "from time import time\n",
        "from typing import Tuple\n",
        "import pandas as pd\n",
        "import pickle\n",
        "import matplotlib.pyplot as plt\n",
        "from scipy import stats\n",
        "import tensorflow as tf\n",
        "import seaborn as sns\n",
        "from pylab import rcParams\n",
        "from sklearn.model_selection import train_test_split\n",
        "from keras.models import Model, load_model\n",
        "from keras.layers import Input, Dense\n",
        "from keras.callbacks import ModelCheckpoint, TensorBoard\n",
        "from keras import regularizers\n",
        "from numba import jit\n",
        "\n",
        "flatten = lambda l: [item for sublist in l for item in sublist]\n",
        "\n",
        "@jit\n",
        "def compute_autocovariance(x: np.ndarray, M: int) -> np.ndarray:\n",
        "    \"\"\"\n",
        "    This function compute the auto-covariance matrix of a numpy signal.\n",
        "    The auto-covariance is computed as follows\n",
        "    .. math:: \\textbf{R}=\\frac{1}{N}\\sum_{M-1}^{N-1}\\textbf{x}_{m}\\textbf{x}_{m}^{H}\n",
        "    where :math:`\\textbf{x}_{m}^{T}=[x[m],x[m-1],x[m-M+1]]`.\n",
        "    :param x: 1-D vector of size N\n",
        "    :param M:  int, optional. Size of signal block.\n",
        "    :returns: NxN ndarray\n",
        "    \"\"\"\n",
        "\n",
        "    # Create covariance matrix for psd estimation\n",
        "    # length of the vector x\n",
        "    x = np.asarray(x).squeeze()\n",
        "    assert x.ndim == 1, '1-D only'\n",
        "    N = x.size\n",
        "\n",
        "    # Create column vector (Nx1) from row array\n",
        "    x_vect = x[None, :].T\n",
        "\n",
        "    # init covariance matrix\n",
        "    yn = x_vect[M-1::-1]  # reverse order from M-1 to 0\n",
        "\n",
        "    R = yn @ yn.conj().T  # zeroth lag\n",
        "    # about 5-8% of computation time\n",
        "    for i in range(1, N-M):  # no zero because we just computed it\n",
        "        # extract the column vector\n",
        "        yn = x_vect[M-1+i:i-1:-1]\n",
        "\n",
        "        R = R + yn @ yn.conj().T\n",
        "\n",
        "    return R / N\n",
        "\n",
        "\n",
        "@jit\n",
        "def wrapper(x):\n",
        "  return np.convolve(x,xc,mode=\"valid\")\n",
        "\n",
        "@jit\n",
        "def esprit1(x: np.ndarray, L: int, M: int=None, fs: int=1,\n",
        "           verbose: bool=False) -> Tuple[np.ndarray, np.ndarray]:\n",
        "    \"\"\"\n",
        "    This function estimate the frequency components based on the ESPRIT algorithm [ROY89]_\n",
        "    The frequencies are related to the roots as :math:`z=e^{-2j\\pi f/Fe}`.\n",
        "    See [STO97]_ section 4.7 for more information about the implementation.\n",
        "    :param x: ndarray, Nsamples\n",
        "    :param L: int. Number of components to be extracted.\n",
        "    :param M:  int, optional. Size of signal block.\n",
        "    :param Fs: float. Sampling Frequency.\n",
        "    :returns: ndarray ndarray containing the L frequencies\n",
        "    >>> import numpy as np\n",
        "    >>> import spectral_analysis.spectral_analysis as sa\n",
        "    >>> Fe=500\n",
        "    >>> t=1.*np.arange(100)/Fe\n",
        "    >>> x=np.exp(2j*np.pi*55.2*t)\n",
        "    >>> f=sa.Esprit(x,1,None,Fe)\n",
        "    >>> print(f)\n",
        "    \"\"\"\n",
        "\n",
        "    x = np.asarray(x).squeeze()\n",
        "    assert x.ndim in (1, 2)\n",
        "    # length of the vector x\n",
        "    if x.ndim == 1:\n",
        "        N = x.size\n",
        "    else:\n",
        "        N = x.shape[1]\n",
        "\n",
        "    if M is None:\n",
        "        M = N // 2\n",
        "# %% extract signal subspace  99.9 % of computation time\n",
        "    #tic = time()\n",
        "    if x.ndim == 1 and isinstance(M, int):\n",
        "        R = compute_autocovariance(x, M)  # 75% of computation time        \n",
        "    else:\n",
        "        # the random phase of transmit/receive/target actually helps--need at least 5-6 observations to make useful\n",
        "        R = np.cov(x, rowvar=False)\n",
        "#     if verbose:\n",
        "#         print('autocov sec.', time()-tic)\n",
        "    # R = subspace.corrmtx(x.astype(complex128),M).astype(float) #f2py fortran\n",
        "\n",
        "    #tic = time()\n",
        "    #U, S, V = lg.svd(R)  # 25% of computation time\n",
        "    w, v = lg.eig(R)    \n",
        "    idx = w.argsort()[::-1]   \n",
        "    w = w[idx]\n",
        "    v = v[:,idx]    \n",
        "#     if verbose:\n",
        "#         print('svd sec.', time()-tic)\n",
        "# %% take eigenvalues and determine sinusoid frequencies\n",
        "    # Remove last row\n",
        "    S1 = v[:-1, :L]\n",
        "    # Remove first row\n",
        "    S2 = v[1:, :L]\n",
        "\n",
        "    # Compute matrix Phi (Stoica 4.7.12)  <0.1 % of computation time\n",
        "    Phi = lg.inv(S1.conj().T @ S1) @ S1.conj().T @ S2\n",
        "\n",
        "    # Perform eigenvalue decomposition <0.1 % of computation time\n",
        "    V, U = lg.eig(Phi)\n",
        "\n",
        "    # extract frequencies ((note that there a minus sign since Yn are defined as [y(n), y(n-1),y(n-2),..].T))\n",
        "    ang = -np.angle(V)\n",
        "\n",
        "    # frequency normalisation\n",
        "    f = fs*ang / (2.*np.pi)\n",
        "    t = np.arange(0, 0.01, 1/fs)\n",
        "    \n",
        "    x2 = np.exp(-1j*2*np.pi*t[::-1])[:,np.newaxis]**f\n",
        "    #display(xc.shape)\n",
        "    #ampCisoid = np.apply_along_axis(lambda q: np.convolve(q,xc,mode=\"valid\"),axis = 0,arr=x2)\n",
        "    ampCisoid = np.apply_along_axis(wrapper,axis = 0,arr=x2)\n",
        "    return f, np.abs(w[:L]), np.abs(ampCisoid)*1./480., np.angle(ampCisoid)\n",
        "  \n",
        "\n",
        "def esprit2(x: np.ndarray, L: int, M: int=None, fs: int=1,\n",
        "           verbose: bool=False) -> Tuple[np.ndarray, np.ndarray]:\n",
        "    \"\"\"\n",
        "    This function estimate the frequency components based on the ESPRIT algorithm [ROY89]_\n",
        "    The frequencies are related to the roots as :math:`z=e^{-2j\\pi f/Fe}`.\n",
        "    See [STO97]_ section 4.7 for more information about the implementation.\n",
        "    :param x: ndarray, Nsamples\n",
        "    :param L: int. Number of components to be extracted.\n",
        "    :param M:  int, optional. Size of signal block.\n",
        "    :param Fs: float. Sampling Frequency.\n",
        "    :returns: ndarray ndarray containing the L frequencies\n",
        "    >>> import numpy as np\n",
        "    >>> import spectral_analysis.spectral_analysis as sa\n",
        "    >>> Fe=500\n",
        "    >>> t=1.*np.arange(100)/Fe\n",
        "    >>> x=np.exp(2j*np.pi*55.2*t)\n",
        "    >>> f=sa.Esprit(x,1,None,Fe)\n",
        "    >>> print(f)\n",
        "    \"\"\"\n",
        "\n",
        "    x = np.asarray(x).squeeze()\n",
        "    assert x.ndim in (1, 2)\n",
        "    # length of the vector x\n",
        "    if x.ndim == 1:\n",
        "        N = x.size\n",
        "    else:\n",
        "        N = x.shape[1]\n",
        "\n",
        "    if M is None:\n",
        "        M = N // 2\n",
        "# %% extract signal subspace  99.9 % of computation time\n",
        "    #tic = time()\n",
        "    if x.ndim == 1 and isinstance(M, int):\n",
        "        R = compute_autocovariance(x, M)  # 75% of computation time\n",
        "    else:\n",
        "        # the random phase of transmit/receive/target actually helps--need at least 5-6 observations to make useful\n",
        "        R = np.cov(x, rowvar=False)\n",
        "    #if verbose:\n",
        "    #    print('autocov sec.', time()-tic)\n",
        "    # R = subspace.corrmtx(x.astype(complex128),M).astype(float) #f2py fortran\n",
        "\n",
        "   #tic = time()\n",
        "    U, S, V = lg.svd(R)  # 25% of computation time\n",
        "    #w, v = lg.eig(R)    \n",
        "    #idx = w.argsort()[::-1]   \n",
        "    #w = w[idx]\n",
        "    #v = v[:,idx]    \n",
        "    #if verbose:\n",
        "    #    print('svd sec.', time()-tic)\n",
        "# %% take eigenvalues and determine sinusoid frequencies\n",
        "    # Remove last row\n",
        "    S1 = U[:-1, :L]\n",
        "    # Remove first row\n",
        "    S2 = U[1:, :L]\n",
        "\n",
        "    # Compute matrix Phi (Stoica 4.7.12)  <0.1 % of computation time\n",
        "    Phi = lg.inv(S1.conj().T @ S1) @ S1.conj().T @ S2\n",
        "\n",
        "    # Perform eigenvalue decomposition <0.1 % of computation time\n",
        "    V, U = lg.eig(Phi)\n",
        "\n",
        "    # extract frequencies ((note that there a minus sign since Yn are defined as [y(n), y(n-1),y(n-2),..].T))\n",
        "    ang = -np.angle(V)\n",
        "\n",
        "    # frequency normalisation\n",
        "    f = fs*ang / (2.*np.pi)\n",
        "\n",
        "    return f, S[:L]\n",
        "  \n",
        "def removeOutliers(x, outlierConstant):\n",
        "    a = np.array(x)\n",
        "    upper_quartile = np.percentile(a, 75)\n",
        "    lower_quartile = np.percentile(a, 25)\n",
        "    IQR = (upper_quartile - lower_quartile) * outlierConstant\n",
        "    quartileSet = (lower_quartile - IQR, upper_quartile + IQR)\n",
        "    resultList = []\n",
        "    for y in a.tolist():\n",
        "        if y >= quartileSet[0] and y <= quartileSet[1]:\n",
        "            resultList.append(y)\n",
        "    return resultList\n",
        "      "
      ],
      "execution_count": 0,
      "outputs": []
    },
    {
      "metadata": {
        "id": "xs66dCKDkEZN",
        "colab_type": "code",
        "colab": {}
      },
      "cell_type": "code",
      "source": [
        "# Comms Stuff Will add more later\n",
        "import math\n",
        "\n",
        "def qammod(m,y):\n",
        "  if(np.all(y>=m)):\n",
        "    print('qammod: all elements of X must be in range [0,M-1]')\n",
        "  \n",
        "  if (~np.all(y == np.fix(y) ) ):\n",
        "    print(\"qammod: all elements of X must be integers\");\n",
        "  \n",
        "  c = np.sqrt(m);\n",
        "  if( ~(np.all(c == np.fix(c)) and np.all(np.math.log(c, 2) == np.fix(np.math.log(c, 2))) ) ):\n",
        "    print(\"qammod: M must be a square of a power of 2\");\n",
        "  \n",
        "  b = -2*np.fmod(y,c) + c - 1.;\n",
        "  a = 2*np.floor(y *1./c) - c + 1.;\n",
        "  x = a + 1.*1j*b\n",
        "  # lets hold x in a np array([real,imag])\n",
        "  # x = np.array([a,1.*b]).T\n",
        "  return [x , y] \n",
        "\n",
        "def qammod2(m,size,trials):\n",
        "  \"\"\"\n",
        "  m - highest integer for the randint\n",
        "  \"\"\"\n",
        "  y = np.random.randint(m,size=(trials,size))\n",
        "  if(np.all(y>=m)):\n",
        "    print('qammod: all elements of X must be in range [0,M-1]')\n",
        "  \n",
        "  if (~np.all(y == np.fix(y) ) ):\n",
        "    print(\"qammod: all elements of X must be integers\");\n",
        "  \n",
        "  c = np.sqrt(m);\n",
        "  if( ~(np.all(c == np.fix(c)) and np.all(np.math.log(c, 2) == np.fix(np.math.log(c, 2))) ) ):\n",
        "    print(\"qammod: M must be a square of a power of 2\");\n",
        "  \n",
        "  b = -2*np.fmod(y,c) + c - 1.;\n",
        "  a = 2*np.floor(y *1./c) - c + 1.;\n",
        "  #x = a + 1.*1j*b\n",
        "  # lets hold x in a dp array([real,imag])\n",
        "  #x = np.array([a,1.*b])\n",
        "  x = np.dstack((a,b))\n",
        "  return [x , y]                        \n",
        "\n",
        "def sim_channel(m,sequenceLen,trials,Noise,SNRdB,h):\n",
        "  \"\"\"\n",
        "  Simulates a channel\n",
        "  Input:\n",
        "    m - order of modulation\n",
        "    sequenceLen - lenght of sequence\n",
        "    trials - number trials\n",
        "    Noise - Boolean, if noise should be added\n",
        "    SNRdB - Ratio of signal to noise\n",
        "    h- channel parameters\n",
        "  \"\"\"\n",
        "  [x,y] = qammod2(m,sequenceLen,trials)\n",
        "  \n",
        "  xh = np.apply_along_axis(lambda q: np.convolve(q,h,mode=\"full\"),axis = 1,arr=x)\n",
        "  display(len(xh))\n",
        "  ## this added for phase offset 7/3/18\n",
        "  # Phase Offset \n",
        "  Ts = 1/(4e6);\n",
        "  fc1 = 2e6;\n",
        "  fc2 = 3e6\n",
        "  fc3 = 4e6\n",
        "  CP1 = np.exp(np.arange(0,len(xh))*2*1j*math.pi*Ts*fc1)\n",
        "  #CP2 = np.exp(np.arange(0,len(xh))*2*1j*math.pi*Ts*fc2)\n",
        "  #CP3 = np.exp(np.arange(0,len(xh))*2*1j*math.pi*Ts*fc3)\n",
        "  #CP = (CP1 + CP2 + CP3)\n",
        "  CP = CP1\n",
        "  CP = CP[:,np.newaxis]\n",
        "  CP = np.transpose(CP,(1,0))\n",
        "  xh = np.transpose(xh,(2,1,0))\n",
        "  display(xh.shape)\n",
        "  display(CP.shape)\n",
        "  xh =  xh*CP\n",
        "  xh = np.transpose(xh,(2,1,0))\n",
        "  display(xh.shape)  \n",
        "  ## edit ends \n",
        "  \n",
        "  if(Noise):\n",
        "    SNR = 10**(SNRdB/10)\n",
        "    sym_noise_pow = np.var(xh)/SNR\n",
        "    sym_noise_scale_fact = np.sqrt(sym_noise_pow/2)\n",
        "    AWGN = sym_noise_scale_fact*np.random.normal(1, size=xh.shape) \n",
        "    xh = xh + AWGN\n",
        "  return [xh ,y ]\n",
        "  \n",
        "  \n",
        "def generateData(m,sequenceLen,trials,Noise,SNRdB,h,padding= True):\n",
        "  \"\"\"\n",
        "  Generates training, testing, and validation data for time invariant channels\n",
        "  Does one-hot encoding and padding\n",
        "  m - symbol alphabet\n",
        "  sequenceLen - length of data sequence\n",
        "  trials - number of samples\n",
        "  Noise- Boolean of whether to use AWGN\n",
        "  SNRdB - amount of noise\n",
        "  h - channel parameters\n",
        "  \"\"\"\n",
        "  data={}\n",
        "  [data['x_train'],data['y_train']] = sim_channel(m=m,sequenceLen=sequenceLen,trials=trials,Noise=Noise,SNRdB=SNRdB,h=h)\n",
        "  [data['x_val'],data['y_val']] = sim_channel(m=m,sequenceLen=sequenceLen,trials=int(trials*0.25),Noise= Noise,SNRdB=SNRdB,h=h)\n",
        "  [data['x_test'],data['y_test']] = sim_channel(m=m,sequenceLen=sequenceLen,trials=trials,Noise=Noise,SNRdB=SNRdB,h=h)\n",
        "  \n",
        "  print(\"x_train shape: \",data['x_train'].shape) # data, expected seqlen+chanelLen-1\n",
        "  print(\"y_train shape: \",data['y_train'].shape) # labels\n",
        "  \n",
        "  #One hot encoding\n",
        "  y_train = keras.utils.to_categorical(data['y_train'] , num_classes=m)\n",
        "  y_val = keras.utils.to_categorical(data['y_val'] , num_classes=m)\n",
        "  y_test = keras.utils.to_categorical(data['y_test'] , num_classes=m)\n",
        "  print(\"y_train shape, one-hot: \",y_train.shape)\n",
        "\n",
        "  #Padding \n",
        "  if(padding):\n",
        "    y_train = np.pad(y_train,((0,0),(0,chanelLen-1),(0,0)),\"constant\")\n",
        "    y_val = np.pad(y_val,((0,0),(0,chanelLen-1),(0,0)),\"constant\")\n",
        "    y_test = np.pad(y_test,((0,0),(0,chanelLen-1),(0,0)),\"constant\")\n",
        "\n",
        "  print(\"y_train shape, one-hot, padding: \",y_train.shape)\n",
        "\n",
        "  default_data = {\n",
        "    'x_train': data['x_train'],\n",
        "    'x_val': data['x_val'],\n",
        "    'x_test': data['x_test'],\n",
        "    'y_train': y_train,\n",
        "    'y_val': y_val,\n",
        "    'y_test': y_test,\n",
        "  }\n",
        "  return default_data\n",
        "  \n",
        "  \n",
        "  \n",
        "  \n",
        "def generateData2(m,sequenceLen,trials,Noise,SNRdB,h,padding= True):\n",
        "  \"\"\"\n",
        "  Generates training, testing, and validation data for time invariant channels\n",
        "  Does one-hot encoding and padding\n",
        "  m - symbol alphabet\n",
        "  sequenceLen - length of data sequence\n",
        "  trials - number of samples\n",
        "  Noise- Boolean of whether to use AWGN\n",
        "  SNRdB - amount of noise\n",
        "  h - channel parameters\n",
        "  \"\"\"\n",
        "  data={}\n",
        "  [data['x_train'],data['y_train']] = sim_channel(m=m,sequenceLen=sequenceLen,trials=trials,Noise=Noise,SNRdB=SNRdB,h=h)\n",
        "#  [data['x_val'],data['y_val']] = sim_channel(m=m,sequenceLen=sequenceLen,trials=int(trials*0.25),Noise= Noise,SNRdB=SNRdB,h=h)\n",
        "  [data['x_test'],data['y_test']] = sim_channel(m=m,sequenceLen=sequenceLen,trials=trials,Noise=Noise,SNRdB=SNRdB,h=h)\n",
        "  \n",
        "  print(\"x_train shape: \",data['x_train'].shape) # data, expected seqlen+chanelLen-1\n",
        "  print(\"y_train shape: \",data['y_train'].shape) # labels\n",
        "  \n",
        "  default_data = {\n",
        "    'x_train': data['x_train'],\n",
        "#    'x_val': data['x_val'],\n",
        "    'x_test': data['x_test'],\n",
        "  }\n",
        "  return default_data\n",
        "    "
      ],
      "execution_count": 0,
      "outputs": []
    },
    {
      "metadata": {
        "id": "2CDb7Rm-WGyR",
        "colab_type": "code",
        "colab": {}
      },
      "cell_type": "code",
      "source": [
        "\"\"\"\n",
        "Digital Communications Function Module\n",
        "\n",
        "Mark Wickert November 2013 - September 2014\n",
        "\n",
        "Development continues!\n",
        "\"\"\"\n",
        "\n",
        "\"\"\"\n",
        "This program is free software: you can redistribute it and/or modify\n",
        "it under the terms of the GNU General Public License as published by\n",
        "the Free Software Foundation, either version 3 of the License, or\n",
        "(at your option) any later version.\n",
        "\n",
        "This program is distributed in the hope that it will be useful,\n",
        "but WITHOUT ANY WARRANTY; without even the implied warranty of\n",
        "MERCHANTABILITY or FITNESS FOR A PARTICULAR PURPOSE.  See the\n",
        "GNU General Public License for more details.\n",
        "\n",
        "You should have received a copy of the GNU General Public License\n",
        "along with this program.  If not, see <http://www.gnu.org/licenses/>.\n",
        "\"\"\"\n",
        "\n",
        "from matplotlib import pylab\n",
        "from matplotlib import mlab\n",
        "import numpy as np\n",
        "from numpy import fft\n",
        "import matplotlib.pyplot as plt\n",
        "from scipy import signal\n",
        "from scipy.special import erfc\n",
        "from sys import exit\n",
        "\n",
        "def farrow_resample(x, fs_old, fs_new):\n",
        "    \"\"\"\n",
        "    ==========================================================================\n",
        "     farrow_resample\n",
        "    ==========================================================================\n",
        "    y = farrow_resample(x,fs_old, fs_new)\n",
        "    \n",
        "    An cubic interpolator using a Farrow structure is used resample the\n",
        "    input data at a new sampling rate that may be an irrational multiple of\n",
        "    the input sampling rate.\n",
        "    \n",
        "     x = Input signal vector needing resampling\n",
        "     y = Output signal vector\n",
        "    \n",
        "    The filter coefficients used here and a more comprehensive listing can be \n",
        "    found in H. Meyr, M. Moeneclaey, & S. Fechtel, \"Digital Communication \n",
        "    Receivers,\" Wiley, 1998, Chapter 9, pp. 521-523.\n",
        "    \n",
        "    Another good paper on variable interpolators is: L. Erup, F. Gardner, &\n",
        "    R. Harris, \"Interpolation in Digital Modems--Part II: Implementation\n",
        "    and Performance,\" IEEE Comm. Trans., June 1993, pp. 998-1008.\n",
        "    \n",
        "    A founding paper on the subject of interpolators is: C. W. Farrow, \"A\n",
        "    Continuously variable Digital Delay Element,\" Proceedings of the IEEE\n",
        "    Intern. Symp. on Circuits Syst., pp. 2641-2645, June 1988.\n",
        "    \n",
        "    Mark Wickert April 2003, recoded to Python November 2013\n",
        "    \"\"\"\n",
        "    \n",
        "    #Cubic interpolator over 4 samples.\n",
        "    #The base point receives a two sample delay.\n",
        "    v3 = signal.lfilter([1/6., -1/2., 1/2., -1/6.],1,x)\n",
        "    v2 = signal.lfilter([0, 1/2., -1, 1/2.],1,x)\n",
        "    v1 = signal.lfilter([-1/6., 1, -1/2., -1/3.],1,x)\n",
        "    v0 = signal.lfilter([0, 0, 1],1,x)\n",
        "    \n",
        "    Ts_old = 1/float(fs_old)\n",
        "    Ts_new = 1/float(fs_new)\n",
        "    \n",
        "    T_end = Ts_old*(len(x)-3)\n",
        "    t_old = np.arange(0,T_end+Ts_old,Ts_old)\n",
        "    t_new = np.arange(0,T_end+Ts_old,Ts_new)\n",
        "    if x.dtype == np.dtype('complex128') or x.dtype == np.dtype('complex64'):\n",
        "        y = np.zeros(len(t_new)) + 1j*np.zeros(len(t_new))\n",
        "    else:\n",
        "        y = np.zeros(len(t_new))\n",
        "\n",
        "    for n in xrange(len(t_new)):\n",
        "        n_old = np.floor(n*Ts_new/Ts_old)\n",
        "        mu = (n*Ts_new - n_old*Ts_old)/Ts_old;\n",
        "        #Combine outputs\n",
        "        #y(n) = ((v3(n_old+2)*mu + v2(n_old+2))*mu + v1(n_old+2))*mu + v0(n_old+2);\n",
        "        y[n] = ((v3[n_old+1]*mu + v2[n_old+1])*mu \n",
        "                + v1[n_old+1])*mu + v0[n_old+1]\n",
        "    return y\n",
        "\n",
        "def upsample(x,L):\n",
        "    \"\"\"\n",
        "    Upsample by factor L\n",
        "    \n",
        "    Insert L - 1 zero samples in between each input sample.\n",
        "    \n",
        "    Parameters\n",
        "    ----------\n",
        "    x : ndarray of input signal values\n",
        "    L : upsample factor\n",
        "    \n",
        "    Returns\n",
        "    -------\n",
        "    y : ndarray of the output signal values\n",
        "    \n",
        "    Examples\n",
        "    --------\n",
        "    >>> y = upsample(x,3)\n",
        "    \"\"\"\n",
        "    N_input = len(x)\n",
        "    y = np.hstack((x.reshape(N_input,1),np.zeros((N_input,L-1))))\n",
        "    y = y.flatten()\n",
        "    return y\n",
        "    \n",
        "def downsample(x,M,p=0):\n",
        "    \"\"\"\n",
        "    Downsample by factor M\n",
        "\n",
        "    Keep every Mth sample of the input. The phase of the input samples\n",
        "    kept can be selected.\n",
        "\n",
        "    Parameters\n",
        "    ----------\n",
        "    x : ndarray of input signal values\n",
        "    M : upsample factor\n",
        "    p : phase of decimated value, 0 (default), 1, ..., M-1\n",
        "\n",
        "    Returns\n",
        "    -------\n",
        "    y : ndarray of the output signal values\n",
        "\n",
        "    Examples\n",
        "    --------\n",
        "    >>> y = downsample(x,3)\n",
        "    >>> y = downsample(x,3,1)\n",
        "    \"\"\"\n",
        "    x = x[0:np.floor(len(x)/M)*M]\n",
        "    x = x.reshape((len(x)/M,M))\n",
        "    y = x[:,p]\n",
        "    return y\n",
        "    \n",
        "def eye_plot(x,L,S=0):\n",
        "    \"\"\"\n",
        "    Eye pattern plot of a baseband digital communications waveform.\n",
        "\n",
        "    The signal must be real, but can be multivalued in terms of the underlying\n",
        "    modulation scheme. Used for BPSK eye plots in the Case Study article.\n",
        "\n",
        "    Parameters\n",
        "    ----------\n",
        "    x : ndarray of the real input data vector/array\n",
        "    L : display length in samples (usually two symbols)\n",
        "    S : start index\n",
        "\n",
        "    Returns\n",
        "    -------\n",
        "    Nothing : A plot window opens containing the eye plot\n",
        "    \n",
        "    Notes\n",
        "    -----\n",
        "    Increase S to eliminate filter transients.\n",
        "    \n",
        "    Examples\n",
        "    --------\n",
        "    >>> # 1000 bits at 10 samples per bit with 'rc' shaping\n",
        "    >>> x,b, data = NRZ_bits(1000,10,'rc')\n",
        "    >>> eye_plot(x,20,60)\n",
        "    \"\"\"\n",
        "    plt.figure(figsize=(6,4))\n",
        "    idx = np.arange(0,L+1)\n",
        "    plt.plot(idx,x[S:S+L+1],'b')\n",
        "    k_max = int((len(x) - S)/L)-1\n",
        "    for k in range(1,k_max):\n",
        "         plt.plot(idx,x[S+k*L:S+L+1+k*L],'b')\n",
        "    plt.grid()\n",
        "    plt.xlabel('Time Index - n')\n",
        "    plt.ylabel('Amplitude')\n",
        "    plt.title('Eye Plot')\n",
        "    return 0\n",
        "\n",
        "def scatter(x,Ns,start):\n",
        "    \"\"\"\n",
        "    Sample a baseband digital communications waveform at the symbol spacing.\n",
        "\n",
        "    Parameters\n",
        "    ----------\n",
        "    x : ndarray of the input digital comm signal\n",
        "    Ns : number of samples per symbol (bit)\n",
        "    start : the array index to start the sampling\n",
        "\n",
        "    Returns\n",
        "    -------\n",
        "    xI : ndarray of the real part of x following sampling\n",
        "    xQ : ndarray of the imaginary part of x following sampling\n",
        "\n",
        "    Notes\n",
        "    -----\n",
        "    Normally the signal is complex, so the scatter plot contains \n",
        "    clusters at point  in the complex plane. For a binary signal \n",
        "    such as BPSK, the point centers are nominally +/-1 on the real\n",
        "    axis. Start is used to eliminate transients from the FIR\n",
        "    pulse shaping filters from appearing in the scatter plot.\n",
        "\n",
        "    Examples\n",
        "    --------\n",
        "    >>> x,b, data = NRZ_bits(1000,10,'rc')\n",
        "    >>> # add some noise so points are now scattered about +/-1\n",
        "    >>>  y = cpx_AWGN(x,20,10)\n",
        "    >>>  yI,yQ = scatter(y,10,60)\n",
        "    >>> plot(yI,yQ,'.')\n",
        "    >>> axis('equal')\n",
        "    \"\"\"\n",
        "    xI = np.real(x[start::Ns])\n",
        "    xQ = np.imag(x[start::Ns])\n",
        "    return xI, xQ\n",
        "\n",
        "def strips(x,Nx,fig_size=(6,4)):\n",
        "    \"\"\"\n",
        "    Plots the contents of real ndarray x as a vertical stacking of\n",
        "    strips, each of length Nx. The default figure size is (6,4) inches.\n",
        "    The yaxis tick labels are the starting index of each strip. The red\n",
        "    dashed lines correspond to zero amplitude in each strip.\n",
        "\n",
        "    strips(x,Nx,my_figsize=(6,4))\n",
        "\n",
        "    Mark Wickert April 2014\n",
        "    \"\"\"\n",
        "    plt.figure(figsize=fig_size)\n",
        "    #ax = fig.add_subplot(111)\n",
        "    N = len(x)\n",
        "    Mx = int(np.ceil(N/float(Nx)))\n",
        "    x_max = np.max(np.abs(x))\n",
        "    for kk in range(Mx):\n",
        "        plt.plot(np.array([0,Nx]),-kk*Nx*np.array([1,1]),'r-.')\n",
        "        plt.plot(x[kk*Nx:(kk+1)*Nx]/x_max*0.4*Nx-kk*Nx,'b')\n",
        "    plt.axis([0,Nx,-Nx*(Mx-0.5),Nx*0.5])\n",
        "    plt.yticks(np.arange(0,-Nx*Mx,-Nx),np.arange(0,Nx*Mx,Nx))\n",
        "    plt.xlabel('Index')\n",
        "    plt.ylabel('Strip Amplitude and Starting Index')\n",
        "    return 0\n",
        "\n",
        "def bit_errors(tx_data,rx_data,Ncorr = 1024,Ntransient = 0):\n",
        "    \"\"\"\n",
        "    Count bit errors between a transmitted and received BPSK signal.\n",
        "    Time delay between streams is detected as well as ambiquity resolution\n",
        "    due to carrier phase lock offsets of k*pi, k=0,1.\n",
        "    The ndarray tx_data is Tx 0/1 bits as real numbers I.\n",
        "    The ndarray rx_data is Rx 0/1 bits as real numbers I.\n",
        "    Note: Ncorr needs to be even\n",
        "    \"\"\"\n",
        "    \n",
        "    #Remove Ntransient symbols and level shift to {-1,+1}\n",
        "    tx_data = 2*tx_data[Ntransient:]-1\n",
        "    rx_data = 2*rx_data[Ntransient:]-1\n",
        "    #Correlate the first Ncorr symbols at four possible phase rotations\n",
        "    R0 = np.fft.ifft(np.fft.fft(rx_data,Ncorr)*\n",
        "                     np.conj(np.fft.fft(tx_data,Ncorr)))\n",
        "    R1 = np.fft.ifft(np.fft.fft(-1*rx_data,Ncorr)*\n",
        "                     np.conj(np.fft.fft(tx_data,Ncorr)))\n",
        "    #Place the zero lag value in the center of the array\n",
        "    R0 = np.fft.fftshift(R0)\n",
        "    R1 = np.fft.fftshift(R1)\n",
        "    R0max = np.max(R0.real)\n",
        "    R1max = np.max(R1.real)\n",
        "    R = np.array([R0max,R1max])\n",
        "    Rmax = np.max(R)\n",
        "    kphase_max = np.where(R == Rmax)[0]\n",
        "    kmax = kphase_max[0]\n",
        "    #Correlation lag value is zero at the center of the array\n",
        "    if kmax == 0:\n",
        "        lagmax = np.where(R0.real == Rmax)[0] - Ncorr/2\n",
        "    elif kmax == 1:\n",
        "        lagmax = np.where(R1.real == Rmax)[0] - Ncorr/2\n",
        "    taumax = lagmax[0]\n",
        "    print('kmax =  %d, taumax = %d' % (kmax, taumax))\n",
        "    #return R0,R1,R2,R3\n",
        "    #Count bit and symbol errors over the entire input ndarrays\n",
        "    #Begin by making tx and rx length equal and apply phase rotation to rx\n",
        "    if taumax < 0:\n",
        "        tx_data = tx_data[-taumax:]\n",
        "        tx_data = tx_data[:min(len(tx_data),len(rx_data))]\n",
        "        rx_data = (-1)**kmax*rx_data[:len(tx_data)]\n",
        "    else:\n",
        "        rx_data = (-1)**kmax*rx_data[taumax:]\n",
        "        rx_data = rx_data[:min(len(tx_data),len(rx_data))]\n",
        "        tx_data = tx_data[:len(rx_data)]\n",
        "    #Convert to 0's and 1's\n",
        "    Bit_count = len(tx_data)\n",
        "    tx_I = np.int16((tx_data.real + 1)/2)\n",
        "    rx_I = np.int16((rx_data.real + 1)/2)\n",
        "    Bit_errors = tx_I ^ rx_I\n",
        "    return Bit_count,np.sum(Bit_errors)\n",
        "\n",
        "def cpx_AWGN(x,EsN0,Ns):\n",
        "    \"\"\"\n",
        "    Apply white Gaussian noise to a digital communications signal.\n",
        "\n",
        "    This function represents a complex baseband white Gaussian noise\n",
        "    digital communications channel. The input signal array may be real\n",
        "    or complex.\n",
        "\n",
        "    Parameters\n",
        "    ----------\n",
        "    x : ndarray noise free complex baseband input signal.\n",
        "    EsNO : set the channel Es/N0 (Eb/N0 for binary) level in dB\n",
        "    Ns : number of samples per symbol (bit)\n",
        "\n",
        "    Returns\n",
        "    -------\n",
        "    y : ndarray x with additive noise added.\n",
        "\n",
        "    Notes\n",
        "    -----\n",
        "    Set the channel energy per symbol-to-noise power spectral \n",
        "    density ratio (Es/N0) in dB.\n",
        "\n",
        "    Examples\n",
        "    --------\n",
        "    >>> x,b, data = NRZ_bits(1000,10)\n",
        "    >>> # set Eb/N0 = 10 dB\n",
        "    >>> y = cpx_AWGN(x,10,10)\n",
        "    \"\"\"\n",
        "    w = np.sqrt(Ns*np.var(x)*10**(-EsN0/10.)/2.)\n",
        "    w *= (np.random.randn(len(x)) + 1j*np.random.randn(len(x)))                         \n",
        "    return x+w\n",
        "    \n",
        "def CIC(M,K):\n",
        "    \"\"\"\n",
        "    b = CIC(M,K)\n",
        "    A functional form implementation of a cascade of integrator comb (CIC) \n",
        "    filters. Commonly used in multirate signal processing digital\n",
        "    down-converters and digital up-converters. A true CIC filter requires no\n",
        "    multiplies, only add and subtract operations. The functional form created\n",
        "    here is a simple FIR requiring real coefficient multiplies via filter()\n",
        "    ========================================================================\n",
        "      M = Effective number of taps per section (typically the decimation\n",
        "          factor).\n",
        "      K = The number of CIC sections cascaded (larger K gives the filter a\n",
        "          wider image rejection bandwidth.\n",
        "      b = FIR filter coefficients for a simple direct form implementation\n",
        "          using the filter() function.\n",
        "    ========================================================================\n",
        "    Mark Wickert July 2013\n",
        "    \"\"\"\n",
        "    \n",
        "    if K == 1:\n",
        "        b = np.ones(M)\n",
        "    else:\n",
        "        h = np.ones(M)\n",
        "        b = h\n",
        "        for i in range(1,K):\n",
        "            b = signal.convolve(b,h) # cascade by convolving impulse responses\n",
        "    \n",
        "    # Make filter have unity gain at DC\n",
        "    return b/np.sum(b)\n",
        "\n",
        "def QAM_bb(N_symb,Ns,mod_type='16qam',pulse='rect',alpha=0.35):\n",
        "    \"\"\"\n",
        "    QAM_BB_TX: A complex baseband transmitter \n",
        "    x,b,tx_data = QAM_bb(K,Ns,M)\n",
        "\n",
        "    //////////// Inputs //////////////////////////////////////////////////\n",
        "      N_symb = the number of symbols to process\n",
        "          Ns = number of samples per symbol\n",
        "    mod_type = modulation type: qpsk, 16qam, 64qam, or 256qam\n",
        "       alpha = squareroot raised codine pulse shape bandwidth factor.\n",
        "               For DOCSIS alpha = 0.12 to 0.18. In general alpha can \n",
        "               range over 0 < alpha < 1.\n",
        "         SRC = pulse shape: 0-> rect, 1-> SRC\n",
        "    //////////// Outputs /////////////////////////////////////////////////\n",
        "           x = complex baseband digital modulation\n",
        "           b = transmitter shaping filter, rectangle or SRC\n",
        "     tx_data = xI+1j*xQ = inphase symbol sequence + \n",
        "               1j*quadrature symbol sequence\n",
        "\n",
        "    Mark Wickert November 2014\n",
        "    \"\"\"\n",
        "    # Filter the impulse train waveform with a square root raised\n",
        "    # cosine pulse shape designed as follows:\n",
        "\n",
        "    # Design the filter to be of duration 12 symbols and\n",
        "    # fix the excess bandwidth factor at alpha = 0.35\n",
        "    # If SRC = 0 use a simple rectangle pulse shape\n",
        "    if pulse.lower() == 'src':\n",
        "        b = sqrt_rc_imp(Ns,alpha,6)\n",
        "    elif pulse.lower() == 'rc':\n",
        "        b = rc_imp(Ns,alpha,6)    \n",
        "    elif pulse.lower() == 'rect':\n",
        "        b = np.ones(Ns) #alt. rect. pulse shape\n",
        "    else:\n",
        "        print('pulse shape must be src, rc, or rect')\n",
        "        \n",
        "    if mod_type.lower() == 'qpsk':\n",
        "        M = 2 # bits per symbol\n",
        "    elif mod_type.lower() == '16qam':\n",
        "        M = 4\n",
        "    elif mod_type.lower() == '64qam':\n",
        "        M = 8\n",
        "    elif mod_type.lower() == '256qam':\n",
        "        M = 16\n",
        "    else:\n",
        "        print('Unknown mod_type')\n",
        "\n",
        "    # Create random symbols for the I & Q channels\n",
        "    xI = np.random.randint(0,M,N_symb)\n",
        "    xI = 2*xI - (M-1)\n",
        "    xQ = np.random.randint(0,M,N_symb)\n",
        "    xQ = 2*xQ - (M-1)\n",
        "    # Employ differential encoding to counter phase ambiquities\n",
        "    #y = mod(lfilter(1,[1 -1],yi),M);\n",
        "\n",
        "    # Create a zero padded (interpolated by Ns) symbol sequence.\n",
        "    # This prepares the symbol sequence for arbitrary pulse shaping.\n",
        "    symbI = np.hstack((xI.reshape(N_symb,1),np.zeros((N_symb,Ns-1))))\n",
        "    symbI = symbI.flatten()\n",
        "    symbQ = np.hstack((xQ.reshape(N_symb,1),np.zeros((N_symb,Ns-1))))\n",
        "    symbQ = symbQ.flatten()\n",
        "    symb = symbI + 1j*symbQ\n",
        "    if M > 2:\n",
        "        symb /= (M-1)\n",
        "    \n",
        "    #The impulse train waveform contains one pulse per Ns (or Ts) samples\n",
        "    #imp_train = [ones(K,1) zeros(K,Ns-1)]';\n",
        "    #imp_train = reshape(imp_train,Ns*K,1);\n",
        "\n",
        "    # Filter the impulse train signal\n",
        "    x = signal.lfilter(b,1,symb)\n",
        "    x = x.flatten() # out is a 1D vector\n",
        "    # Scale shaping filter to have unity DC gain\n",
        "    b = b/sum(b)\n",
        "    return x, b, xI+1j*xQ\n",
        "\n",
        "def QAM_SEP(tx_data,rx_data,mod_type,Ncorr = 1024,Ntransient = 0,SEP_disp=True):\n",
        "    \"\"\"\n",
        "    Nsymb, Nerr, SEP_hat =\n",
        "    QAM_symb_errors(tx_data,rx_data,mod_type,Ncorr = 1024,Ntransient = 0)\n",
        "    \n",
        "    Count symbol errors between a transmitted and received QAM signal.\n",
        "    The received symbols are assumed to be soft values on a unit square.\n",
        "    Time delay between streams is detected.\n",
        "    The ndarray tx_data is Tx complex symbols.\n",
        "    The ndarray rx_data is Rx complex symbols.\n",
        "    Note: Ncorr needs to be even\n",
        "    \"\"\"\n",
        "    #Remove Ntransient symbols and makes lengths equal\n",
        "    tx_data = tx_data[Ntransient:]\n",
        "    rx_data = rx_data[Ntransient:]\n",
        "    Nmin = min([len(tx_data),len(rx_data)])\n",
        "    tx_data = tx_data[:Nmin]\n",
        "    rx_data = rx_data[:Nmin]\n",
        "    \n",
        "    # Perform level translation and quantize the soft symbol values\n",
        "    if mod_type.lower() == 'qpsk':\n",
        "        M = 2 # bits per symbol\n",
        "    elif mod_type.lower() == '16qam':\n",
        "        M = 4\n",
        "    elif mod_type.lower() == '64qam':\n",
        "        M = 8\n",
        "    elif mod_type.lower() == '256qam':\n",
        "        M = 16\n",
        "    else:\n",
        "        print('Unknown mod_type')\n",
        "    rx_data = np.rint((M-1)*(rx_data + (1+1j))/2.)\n",
        "    # Fix-up edge points real part\n",
        "    s1r = mlab.find(rx_data.real > M - 1)\n",
        "    s2r = mlab.find(rx_data.real < 0)\n",
        "    rx_data.real[s1r] = (M - 1)*np.ones(len(s1r))\n",
        "    rx_data.real[s2r] = np.zeros(len(s2r))\n",
        "    # Fix-up edge points imag part\n",
        "    s1i = mlab.find(rx_data.imag > M - 1)\n",
        "    s2i = mlab.find(rx_data.imag < 0)\n",
        "    rx_data.imag[s1i] = (M - 1)*np.ones(len(s1i))\n",
        "    rx_data.imag[s2i] = np.zeros(len(s2i))\n",
        "    #plot(rx_data.real,rx_data.imag,'.')\n",
        "    rx_data = 2*rx_data - (M - 1)*(1 + 1j)\n",
        "    #plot(rx_data.real,rx_data.imag,'.')\n",
        "    #plot(tx_data.real,tx_data.imag,'.')\n",
        "    #axis('equal')\n",
        "    #grid();\n",
        "    #Correlate the first Ncorr symbols at four possible phase rotations\n",
        "    R0,lags = xcorr(rx_data,tx_data,Ncorr)\n",
        "    R1,lags = xcorr(rx_data*(1j)**1,tx_data,Ncorr) \n",
        "    R2,lags = xcorr(rx_data*(1j)**2,tx_data,Ncorr) \n",
        "    R3,lags = xcorr(rx_data*(1j)**3,tx_data,Ncorr) \n",
        "    #Place the zero lag value in the center of the array\n",
        "    R0max = np.max(R0.real)\n",
        "    R1max = np.max(R1.real)\n",
        "    R2max = np.max(R2.real)\n",
        "    R3max = np.max(R3.real)\n",
        "    R = np.array([R0max,R1max,R2max,R3max])\n",
        "    Rmax = np.max(R)\n",
        "    kphase_max = np.where(R == Rmax)[0]\n",
        "    kmax = kphase_max[0]\n",
        "    #Find correlation lag value is zero at the center of the array\n",
        "    if kmax == 0:\n",
        "        lagmax = lags[np.where(R0.real == Rmax)[0]]\n",
        "    elif kmax == 1:\n",
        "        lagmax = lags[np.where(R1.real == Rmax)[0]]\n",
        "    elif kmax == 2:\n",
        "        lagmax = lags[np.where(R2.real == Rmax)[0]]\n",
        "    elif kmax == 3:\n",
        "        lagmax = lags[np.where(R3.real == Rmax)[0]]\n",
        "    taumax = lagmax[0]\n",
        "    if SEP_disp:\n",
        "        print('Phase ambiquity = (1j)**%d, taumax = %d' % (kmax, taumax))\n",
        "    #Count symbol errors over the entire input ndarrays\n",
        "    #Begin by making tx and rx length equal and apply \n",
        "    #phase rotation to rx_data\n",
        "    if taumax < 0:\n",
        "        tx_data = tx_data[-taumax:]\n",
        "        tx_data = tx_data[:min(len(tx_data),len(rx_data))]\n",
        "        rx_data = (1j)**kmax*rx_data[:len(tx_data)]\n",
        "    else:\n",
        "        rx_data = (1j)**kmax*rx_data[taumax:]\n",
        "        rx_data = rx_data[:min(len(tx_data),len(rx_data))]\n",
        "        tx_data = tx_data[:len(rx_data)]\n",
        "    #Convert QAM symbol difference to symbol errors\n",
        "    errors = np.int16(abs(rx_data-tx_data))\n",
        "    # Detect symbols errors\n",
        "    # Could decode bit errors from symbol index difference\n",
        "    idx = mlab.find(errors != 0)\n",
        "    if SEP_disp:\n",
        "        print('Symbols = %d, Errors %d, SEP = %1.2e' \\\n",
        "               % (len(errors), len(idx), len(idx)/float(len(errors))))\n",
        "    return  len(errors), len(idx), len(idx)/float(len(errors))\n",
        "\n",
        "def GMSK_bb(N_bits, Ns, MSK = 0,BT = 0.35):\n",
        "    \"\"\"\n",
        "    MSK/GMSK COoplex Beband Modulation\n",
        "    x,data = gmsk(N_bits, Ns, BT = 0.35, MSK = 0)\n",
        "    \n",
        "    N_bits = number of symbols processed\n",
        "       Ns  = the number of samples per bit\n",
        "       MSK = 0 for no shaping which is standard MSK,\n",
        "             MSK <> 0 --> GMSK is generated.\n",
        "       BT  = premodulation Bb*T product which sets\n",
        "             the bandwidth of the Gaussian lowpass filter   \n",
        "    Mark Wickert Python version November 2014\n",
        "    \"\"\"\n",
        "    x, b, data = NRZ_bits(N_bits,Ns)\n",
        "    # pulse length 2*M*Ns\n",
        "    M = 4\n",
        "    n = np.arange(-M*Ns,M*Ns+1)\n",
        "    p = np.exp(-2*np.pi**2*BT**2/np.log(2)*(n/Ns)**2);\n",
        "    p = p/np.sum(p);\n",
        "\n",
        "    # Gaussian pulse shape if MSK not zero\n",
        "    if MSK != 0:\n",
        "        x = signal.lfilter(p,1,x)\n",
        "    y = np.exp(1j*np.pi/2*np.cumsum(x)/Ns)\n",
        "    return y, data\n",
        "\n",
        "def MPSK_bb(N_symb,Ns,M,pulse='rect',alpha = 0.25,MM=6):\n",
        "    \"\"\"\n",
        "    Generate non-return-to-zero (NRZ) data bits with pulse shaping.\n",
        "\n",
        "    A baseband digital data signal using +/-1 amplitude signal values\n",
        "    and including pulse shaping.\n",
        "\n",
        "    Parameters\n",
        "    ----------\n",
        "    N_bits : number of NRZ +/-1 data bits to produce\n",
        "    Ns : the number of samples per bit,\n",
        "    pulse_type : 'rect' , 'rc', 'src' (default 'rect')\n",
        "    alpha : excess bandwidth factor(default 0.25)\n",
        "    M : single sided pulse duration (default = 6) \n",
        "\n",
        "    Returns\n",
        "    -------\n",
        "    x : ndarray of the NRZ signal values\n",
        "    b : ndarray of the pulse shape\n",
        "    data : ndarray of the underlying data bits\n",
        "\n",
        "    Notes\n",
        "    -----\n",
        "    Pulse shapes include 'rect' (rectangular), 'rc' (raised cosine), \n",
        "    'src' (root raised cosine). The actual pulse length is 2*M+1 samples.\n",
        "    This function is used by BPSK_tx in the Case Study article.\n",
        "\n",
        "    Examples\n",
        "    --------\n",
        "    >>> x,b,data = NRZ_bits(100,10)\n",
        "    >>> t = arange(len(x))\n",
        "    >>> plot(t,x)\n",
        "    \"\"\"\n",
        "    data = np.random.randint(0,M,N_symb) \n",
        "    xs = np.exp(1j*2*np.pi/M*data)\n",
        "    x = np.hstack((xs.reshape(N_symb,1),np.zeros((N_symb,Ns-1))))\n",
        "    x =x.flatten()\n",
        "    if pulse.lower() == 'rect':\n",
        "        b = np.ones(Ns)\n",
        "    elif pulse.lower() == 'rc':\n",
        "        b = rc_imp(Ns,alpha,MM)\n",
        "    elif pulse.lower() == 'src':\n",
        "        b = sqrt_rc_imp(Ns,alpha,MM)\n",
        "    else:\n",
        "        print ('pulse type must be rec, rc, or src')\n",
        "    x = signal.lfilter(b,1,x)\n",
        "    if M == 4:\n",
        "        x = x*np.exp(1j*np.pi/4); # For QPSK points in quadrants\n",
        "    return x,b/float(Ns),data\n",
        "\n",
        "def QPSK_rx(fc,N_symb,Rs,EsN0=100,fs=125,lfsr_len=10,phase=0,pulse='src'):\n",
        "    \"\"\"\n",
        "    This function generates\n",
        "    \"\"\"\n",
        "    Ns = int(np.round(fs/Rs))\n",
        "    print ('Ns = ', Ns)\n",
        "    print ('Rs = ', fs/float(Ns))\n",
        "    print ('EsN0 = ', EsN0, 'dB')\n",
        "    print ('phase = ', phase, 'degrees')\n",
        "    print ('pulse = ', pulse)\n",
        "    x, b, data = QPSK_bb(N_symb,Ns,lfsr_len,pulse)\n",
        "    # Add AWGN to x\n",
        "    x = cpx_AWGN(x,EsN0,Ns)\n",
        "    n = np.arange(len(x))\n",
        "    xc = x*np.exp(1j*2*np.pi*fc/float(fs)*n) * np.exp(1j*phase)\n",
        "    return xc, b, data\n",
        "\n",
        "def QPSK_tx(fc,N_symb,Rs,fs=125,lfsr_len=10,pulse='src'):\n",
        "    \"\"\"\n",
        "\n",
        "    \"\"\"\n",
        "    Ns = int(np.round(fs/Rs))\n",
        "    print ('Ns = ', Ns)\n",
        "    print ('Rs = ', fs/float(Ns))\n",
        "    print ('pulse = ', pulse)\n",
        "    x, b, data = QPSK_bb(N_symb,Ns,lfsr_len,pulse)\n",
        "    n = np.arange(len(x))\n",
        "    xc = x*np.exp(1j*2*np.pi*fc/float(fs)*n)\n",
        "    return xc, b, data \n",
        "\n",
        "def QPSK_bb(N_symb,Ns,lfsr_len=5,pulse='src',alpha=0.25,M=6):\n",
        "    \"\"\"\n",
        "    \n",
        "    \"\"\"\n",
        "    if lfsr_len > 0:  # LFSR data\n",
        "        data = PN_gen(2*N_symb,lfsr_len)\n",
        "        dataI = data[0::2]\n",
        "        dataQ = data[1::2]\n",
        "        xI, b = NRZ_bits2(dataI,Ns,pulse,alpha,M)\n",
        "        xQ, b = NRZ_bits2(dataQ,Ns,pulse,alpha,M)\n",
        "    else:             # Random data\n",
        "        data = np.zeros(2*N_symb)\n",
        "        xI, b, data[0::2] = NRZ_bits(N_symb,Ns,pulse,alpha,M)\n",
        "        xQ, b, data[1::2] = NRZ_bits(N_symb,Ns,pulse,alpha,M)        \n",
        "    #print 'P_I: ',np.var(xI), 'P_Q: ',np.var(xQ)\n",
        "    x = (xI + 1j*xQ)/np.sqrt(2.)\n",
        "    return x, b, data\n",
        "\n",
        "def QPSK_BEP(tx_data,rx_data,Ncorr = 1024,Ntransient = 0):\n",
        "    \"\"\"\n",
        "    Count bit errors between a transmitted and received QPSK signal.\n",
        "    Time delay between streams is detected as well as ambiquity resolution\n",
        "    due to carrier phase lock offsets of k*pi/4, k=0,1,2,3.\n",
        "    The ndarray sdata is Tx +/-1 symbols as complex numbers I + j*Q.\n",
        "    The ndarray data is Rx +/-1 symbols as complex numbers I + j*Q.\n",
        "    Note: Ncorr needs to be even\n",
        "    \"\"\"\n",
        "    \n",
        "    #Remove Ntransient symbols\n",
        "    tx_data = tx_data[Ntransient:]\n",
        "    rx_data = rx_data[Ntransient:]\n",
        "    #Correlate the first Ncorr symbols at four possible phase rotations\n",
        "    R0 = np.fft.ifft(np.fft.fft(rx_data,Ncorr)*\n",
        "                     np.conj(np.fft.fft(tx_data,Ncorr)))\n",
        "    R1 = np.fft.ifft(np.fft.fft(1j*rx_data,Ncorr)*\n",
        "                     np.conj(np.fft.fft(tx_data,Ncorr)))\n",
        "    R2 = np.fft.ifft(np.fft.fft(-1*rx_data,Ncorr)*\n",
        "                     np.conj(np.fft.fft(tx_data,Ncorr)))\n",
        "    R3 = np.fft.ifft(np.fft.fft(-1j*rx_data,Ncorr)*\n",
        "                     np.conj(np.fft.fft(tx_data,Ncorr)))\n",
        "    #Place the zero lag value in the center of the array\n",
        "    R0 = np.fft.fftshift(R0)\n",
        "    R1 = np.fft.fftshift(R1)\n",
        "    R2 = np.fft.fftshift(R2)\n",
        "    R3 = np.fft.fftshift(R3)\n",
        "    R0max = np.max(R0.real)\n",
        "    R1max = np.max(R1.real)\n",
        "    R2max = np.max(R2.real)\n",
        "    R3max = np.max(R3.real)\n",
        "    R = np.array([R0max,R1max,R2max,R3max])\n",
        "    Rmax = np.max(R)\n",
        "    kphase_max = np.where(R == Rmax)[0]\n",
        "    kmax = kphase_max[0]\n",
        "    #Correlation lag value is zero at the center of the array\n",
        "    if kmax == 0:\n",
        "        lagmax = np.where(R0.real == Rmax)[0] - Ncorr/2\n",
        "    elif kmax == 1:\n",
        "        lagmax = np.where(R1.real == Rmax)[0] - Ncorr/2\n",
        "    elif kmax == 2: \n",
        "        lagmax = np.where(R2.real == Rmax)[0] - Ncorr/2\n",
        "    elif kmax == 3:\n",
        "        lagmax = np.where(R3.real == Rmax)[0] - Ncorr/2\n",
        "    taumax = lagmax[0]\n",
        "    print('kmax =  %d, taumax = %d' % (kmax, taumax))\n",
        "    #return R0,R1,R2,R3\n",
        "    #Count bit and symbol errors over the entire input ndarrays\n",
        "    #Begin by making tx and rx length equal and apply phase rotation to rx\n",
        "    if taumax < 0:\n",
        "        tx_data = tx_data[-taumax:]\n",
        "        tx_data = tx_data[:min(len(tx_data),len(rx_data))]\n",
        "        rx_data = 1j**kmax*rx_data[:len(tx_data)]\n",
        "    else:\n",
        "        rx_data = 1j**kmax*rx_data[taumax:]\n",
        "        rx_data = rx_data[:min(len(tx_data),len(rx_data))]\n",
        "        tx_data = tx_data[:len(rx_data)]\n",
        "    #Convert to 0's and 1's\n",
        "    S_count = len(tx_data)\n",
        "    tx_I = np.int16((tx_data.real + 1)/2)\n",
        "    tx_Q = np.int16((tx_data.imag + 1)/2)\n",
        "    rx_I = np.int16((rx_data.real + 1)/2)\n",
        "    rx_Q = np.int16((rx_data.imag + 1)/2)\n",
        "    I_errors = tx_I ^ rx_I\n",
        "    Q_errors = tx_Q ^ rx_Q\n",
        "    #A symbol errors occurs when I or Q or both are in error\n",
        "    S_errors = I_errors | Q_errors\n",
        "    #return 0\n",
        "    return S_count,np.sum(I_errors),np.sum(Q_errors),np.sum(S_errors)\n",
        "\n",
        "def BPSK_BEP(tx_data,rx_data,Ncorr = 1024,Ntransient = 0):\n",
        "    \"\"\"\n",
        "    Count bit errors between a transmitted and received BPSK signal.\n",
        "    Time delay between streams is detected as well as ambiquity resolution\n",
        "    due to carrier phase lock offsets of k*pi, k=0,1.\n",
        "    The ndarray tx_data is Tx +/-1 symbols as real numbers I.\n",
        "    The ndarray rx_data is Rx +/-1 symbols as real numbers I.\n",
        "    Note: Ncorr needs to be even\n",
        "    \"\"\"\n",
        "    \n",
        "    #Remove Ntransient symbols\n",
        "    tx_data = tx_data[Ntransient:]\n",
        "    rx_data = rx_data[Ntransient:]\n",
        "    #Correlate the first Ncorr symbols at four possible phase rotations\n",
        "    R0 = np.fft.ifft(np.fft.fft(rx_data,Ncorr)*\n",
        "                     np.conj(np.fft.fft(tx_data,Ncorr)))\n",
        "    R1 = np.fft.ifft(np.fft.fft(-1*rx_data,Ncorr)*\n",
        "                     np.conj(np.fft.fft(tx_data,Ncorr)))\n",
        "    #Place the zero lag value in the center of the array\n",
        "    R0 = np.fft.fftshift(R0)\n",
        "    R1 = np.fft.fftshift(R1)\n",
        "    R0max = np.max(R0.real)\n",
        "    R1max = np.max(R1.real)\n",
        "    R = np.array([R0max,R1max])\n",
        "    Rmax = np.max(R)\n",
        "    kphase_max = np.where(R == Rmax)[0]\n",
        "    kmax = kphase_max[0]\n",
        "    #Correlation lag value is zero at the center of the array\n",
        "    if kmax == 0:\n",
        "        lagmax = np.where(R0.real == Rmax)[0] - Ncorr/2\n",
        "    elif kmax == 1:\n",
        "        lagmax = np.where(R1.real == Rmax)[0] - Ncorr/2\n",
        "    taumax = lagmax[0]\n",
        "    print('kmax =  %d, taumax = %d' % (kmax, taumax))\n",
        "    #return R0,R1,R2,R3\n",
        "    #Count bit and symbol errors over the entire input ndarrays\n",
        "    #Begin by making tx and rx length equal and apply phase rotation to rx\n",
        "    if taumax < 0:\n",
        "        tx_data = tx_data[-taumax:]\n",
        "        tx_data = tx_data[:min(len(tx_data),len(rx_data))]\n",
        "        rx_data = (-1)**kmax*rx_data[:len(tx_data)]\n",
        "    else:\n",
        "        rx_data = (-1)**kmax*rx_data[taumax:]\n",
        "        rx_data = rx_data[:min(len(tx_data),len(rx_data))]\n",
        "        tx_data = tx_data[:len(rx_data)]\n",
        "    #Convert to 0's and 1's\n",
        "    S_count = len(tx_data)\n",
        "    tx_I = np.int16((tx_data.real + 1)/2)\n",
        "    rx_I = np.int16((rx_data.real + 1)/2)\n",
        "    I_errors = tx_I ^ rx_I\n",
        "    #Symbol errors and bit errors are equivalent\n",
        "    S_errors = I_errors\n",
        "    #return tx_data, rx_data\n",
        "    return S_count,np.sum(S_errors)\n",
        "        \n",
        "def BPSK_tx(N_bits,Ns,ach_fc=2.0,ach_lvl_dB=-100,pulse='rect',alpha = 0.25,M=6):\n",
        "    \"\"\"\n",
        "    Generates biphase shift keyed (BPSK) transmitter with adjacent channel interference.\n",
        "\n",
        "    Generates three BPSK signals with rectangular or square root raised cosine (SRC) \n",
        "    pulse shaping of duration N_bits and Ns samples per bit. The desired signal is\n",
        "    centered on f = 0, which the adjacent channel signals to the left and right\n",
        "    are also generated at dB level relative to the desired signal. Used in the \n",
        "    digital communications Case Study supplement.\n",
        "\n",
        "    Parameters\n",
        "    ----------\n",
        "    N_bits : the number of bits to simulate\n",
        "    Ns : the number of samples per bit\n",
        "    ach_fc : the frequency offset of the adjacent channel signals (default 2.0)\n",
        "    ach_lvl_dB : the level of the adjacent channel signals in dB (default -100)\n",
        "    pulse :the pulse shape 'rect' or 'src'\n",
        "    alpha : square root raised cosine pulse shape factor (default = 0.25)\n",
        "    M : square root raised cosine pulse truncation factor (default = 6)\n",
        "\n",
        "    Returns\n",
        "    -------\n",
        "    x : ndarray of the composite signal x0 + ach_lvl*(x1p + x1m)\n",
        "    b : the transmit pulse shape \n",
        "    data0 : the data bits used to form the desired signal; used for error checking\n",
        "\n",
        "    Notes\n",
        "    -----\n",
        "\n",
        "    Examples\n",
        "    --------\n",
        "    >>> x,b,data0 = BPSK_tx(1000,10,'src')\n",
        "    \"\"\"\n",
        "    x0,b,data0 = NRZ_bits(N_bits,Ns,pulse,alpha,M)\n",
        "    x1p,b,data1p = NRZ_bits(N_bits,Ns,pulse,alpha,M)\n",
        "    x1m,b,data1m = NRZ_bits(N_bits,Ns,pulse,alpha,M)\n",
        "    n = np.arange(len(x0))\n",
        "    x1p = x1p*np.exp(1j*2*np.pi*ach_fc/float(Ns)*n)\n",
        "    x1m = x1m*np.exp(-1j*2*np.pi*ach_fc/float(Ns)*n)\n",
        "    ach_lvl = 10**(ach_lvl_dB/20.)\n",
        "    return x0 + ach_lvl*(x1p + x1m), b, data0\n",
        "\n",
        "\n",
        "def rc_imp(Ns,alpha,M=6):\n",
        "    \"\"\"\n",
        "    A truncated raised cosine pulse used in digital communications.\n",
        "\n",
        "    The pulse shaping factor 0< alpha < 1 is required as well as the \n",
        "    truncation factor M which sets the pulse duration to be 2*M*Tsymbol.\n",
        "\n",
        "    Parameters\n",
        "    ----------\n",
        "    Ns : number of samples per symbol\n",
        "    alpha : excess bandwidth factor on (0, 1), e.g., 0.35\n",
        "    M : equals RC one-sided symbol truncation factor\n",
        "\n",
        "    Returns\n",
        "    -------\n",
        "    b : ndarray containing the pulse shape\n",
        "\n",
        "    Notes\n",
        "    -----\n",
        "    The pulse shape b is typically used as the FIR filter coefficients\n",
        "    when forming a pulse shaped digital communications waveform.\n",
        "\n",
        "    Examples\n",
        "    --------\n",
        "    >>> # ten samples per symbol and alpha = 0.35\n",
        "    >>> b = rc_imp(10,0.35)\n",
        "    >>> n = arange(-10*6,10*6+1)\n",
        "    >>> stem(n,b)\n",
        "    \"\"\"\n",
        "    # Design the filter\n",
        "    n = np.arange(-M*Ns,M*Ns+1)\n",
        "    b = np.zeros(len(n));\n",
        "    a = alpha;\n",
        "    Ns *= 1.0\n",
        "    for i in range(len(n)):\n",
        "        if (1 - 4*(a*n[i]/Ns)**2) == 0:\n",
        "            b[i] = np.pi/4*np.sinc(1/(2.*a))\n",
        "        else:\n",
        "            b[i] = np.sinc(n[i]/Ns)*np.cos(np.pi*a*n[i]/Ns)/(1 - 4*(a*n[i]/Ns)**2)\n",
        "    return b\n",
        "\n",
        "def sqrt_rc_imp(Ns,alpha,M=6):\n",
        "    \"\"\"\n",
        "    A truncated square root raised cosine pulse used in digital communications.\n",
        "\n",
        "    The pulse shaping factor 0< alpha < 1 is required as well as the \n",
        "    truncation factor M which sets the pulse duration to be 2*M*Tsymbol.\n",
        "     \n",
        "\n",
        "    Parameters\n",
        "    ----------\n",
        "    Ns : number of samples per symbol\n",
        "    alpha : excess bandwidth factor on (0, 1), e.g., 0.35\n",
        "    M : equals RC one-sided symbol truncation factor\n",
        "\n",
        "    Returns\n",
        "    -------\n",
        "    b : ndarray containing the pulse shape\n",
        "\n",
        "    Notes\n",
        "    -----\n",
        "    The pulse shape b is typically used as the FIR filter coefficients\n",
        "    when forming a pulse shaped digital communications waveform. When \n",
        "    square root raised cosine (SRC) pulse is used generate Tx signals and \n",
        "    at the receiver used as a matched filter (receiver FIR filter), the \n",
        "    received signal is now raised cosine shaped, this having zero \n",
        "    intersymbol interference and the optimum removal of additive white \n",
        "    noise if present at the receiver input.\n",
        "\n",
        "    Examples\n",
        "    --------\n",
        "    >>> # ten samples per symbol and alpha = 0.35\n",
        "    >>> b = sqrt_rc_imp(10,0.35)\n",
        "    >>> n = arange(-10*6,10*6+1)\n",
        "    >>> stem(n,b)\n",
        "    \"\"\"\n",
        "    # Design the filter\n",
        "    n = np.arange(-M*Ns,M*Ns+1)\n",
        "    b = np.zeros(len(n))\n",
        "    Ns *= 1.0\n",
        "    a = alpha\n",
        "    for i in range(len(n)):\n",
        "       if abs(1 - 16*a**2*(n[i]/Ns)**2) <= np.finfo(np.float).eps/2:\n",
        "           b[i] = 1/2.*((1+a)*np.sin((1+a)*np.pi/(4.*a))-(1-a)*np.cos((1-a)*np.pi/(4.*a))+(4*a)/np.pi*np.sin((1-a)*np.pi/(4.*a)))\n",
        "       else:\n",
        "           b[i] = 4*a/(np.pi*(1 - 16*a**2*(n[i]/Ns)**2))\n",
        "           b[i] = b[i]*(np.cos((1+a)*np.pi*n[i]/Ns) + np.sinc((1-a)*n[i]/Ns)*(1-a)*np.pi/(4.*a))\n",
        "    return b    \n",
        "\n",
        "def RZ_bits(N_bits,Ns,pulse='rect',alpha = 0.25,M=6):\n",
        "    \"\"\"\n",
        "    Generate return-to-zero (RZ) data bits with pulse shaping.\n",
        "\n",
        "    A baseband digital data signal using +/-1 amplitude signal values\n",
        "    and including pulse shaping.\n",
        "\n",
        "    Parameters\n",
        "    ----------\n",
        "    N_bits : number of RZ {0,1} data bits to produce\n",
        "    Ns : the number of samples per bit,\n",
        "    pulse_type : 'rect' , 'rc', 'src' (default 'rect')\n",
        "    alpha : excess bandwidth factor(default 0.25)\n",
        "    M : single sided pulse duration (default = 6) \n",
        "\n",
        "    Returns\n",
        "    -------\n",
        "    x : ndarray of the RZ signal values\n",
        "    b : ndarray of the pulse shape\n",
        "    data : ndarray of the underlying data bits\n",
        "\n",
        "    Notes\n",
        "    -----\n",
        "    Pulse shapes include 'rect' (rectangular), 'rc' (raised cosine), \n",
        "    'src' (root raised cosine). The actual pulse length is 2*M+1 samples.\n",
        "    This function is used by BPSK_tx in the Case Study article.\n",
        "\n",
        "    Examples\n",
        "    --------\n",
        "    >>> x,b,data = RZ_bits(100,10)\n",
        "    >>> t = arange(len(x))\n",
        "    >>> plot(t,x)\n",
        "    \"\"\"\n",
        "    data = np.random.randint(0,2,N_bits) \n",
        "    x = np.hstack((data.reshape(N_bits,1),np.zeros((N_bits,Ns-1))))\n",
        "    x =x.flatten()\n",
        "    if pulse.lower() == 'rect':\n",
        "        b = np.ones(Ns)\n",
        "    elif pulse.lower() == 'rc':\n",
        "        b = rc_imp(Ns,alpha,M)\n",
        "    elif pulse.lower() == 'src':\n",
        "        b = sqrt_rc_imp(Ns,alpha,M)\n",
        "    else:\n",
        "        print ('pulse type must be rec, rc, or src')\n",
        "    x = signal.lfilter(b,1,x)\n",
        "    return x,b/float(Ns),data\n",
        "\n",
        "def NRZ_bits(N_bits,Ns,pulse='rect',alpha = 0.25,M=6):\n",
        "    \"\"\"\n",
        "    Generate non-return-to-zero (NRZ) data bits with pulse shaping.\n",
        "\n",
        "    A baseband digital data signal using +/-1 amplitude signal values\n",
        "    and including pulse shaping.\n",
        "\n",
        "    Parameters\n",
        "    ----------\n",
        "    N_bits : number of NRZ +/-1 data bits to produce\n",
        "    Ns : the number of samples per bit,\n",
        "    pulse_type : 'rect' , 'rc', 'src' (default 'rect')\n",
        "    alpha : excess bandwidth factor(default 0.25)\n",
        "    M : single sided pulse duration (default = 6) \n",
        "\n",
        "    Returnsbp\n",
        "    -------\n",
        "    x : ndarray of the NRZ signal values\n",
        "    b : ndarray of the pulse shape\n",
        "    data : ndarray of the underlying data bits\n",
        "\n",
        "    Notes\n",
        "    -----\n",
        "    Pulse shapes include 'rect' (rectangular), 'rc' (raised cosine), \n",
        "    'src' (root raised cosine). The actual pulse length is 2*M+1 samples.\n",
        "    This function is used by BPSK_tx in the Case Study article.\n",
        "\n",
        "    Examples\n",
        "    --------\n",
        "    >>> x,b,data = NRZ_bits(100,10)\n",
        "    >>> t = arange(len(x))\n",
        "    >>> plot(t,x)\n",
        "    \"\"\"\n",
        "    data = np.random.randint(0,2,N_bits) \n",
        "    x = np.hstack((2*data.reshape(N_bits,1)-1,np.zeros((N_bits,Ns-1))))\n",
        "    x =x.flatten()\n",
        "    if pulse.lower() == 'rect':\n",
        "        b = np.ones(Ns)\n",
        "    elif pulse.lower() == 'rc':\n",
        "        b = rc_imp(Ns,alpha,M)\n",
        "    elif pulse.lower() == 'src':\n",
        "        b = sqrt_rc_imp(Ns,alpha,M)\n",
        "    else:\n",
        "        print ('pulse type must be rec, rc, or src')\n",
        "    x = signal.lfilter(b,1,x)\n",
        "    return x,b/float(Ns),data\n",
        "\n",
        "def NRZ_bits2(data,Ns,pulse='rect',alpha = 0.25,M=6):\n",
        "    \"\"\"\n",
        "    Generate non-return-to-zero (NRZ) data bits with pulse shaping with user data\n",
        "\n",
        "    A baseband digital data signal using +/-1 amplitude signal values\n",
        "    and including pulse shaping. The data sequence is user supplied.\n",
        "\n",
        "    Parameters\n",
        "    ----------\n",
        "    data : ndarray of the data bits as 0/1 values\n",
        "    Ns : the number of samples per bit,\n",
        "    pulse_type : 'rect' , 'rc', 'src' (default 'rect')\n",
        "    alpha : excess bandwidth factor(default 0.25)\n",
        "    M : single sided pulse duration (default = 6) \n",
        "\n",
        "    Returns\n",
        "    -------\n",
        "    x : ndarray of the NRZ signal values\n",
        "    b : ndarray of the pulse shape\n",
        "\n",
        "    Notes\n",
        "    -----\n",
        "    Pulse shapes include 'rect' (rectangular), 'rc' (raised cosine), \n",
        "    'src' (root raised cosine). The actual pulse length is 2*M+1 samples.\n",
        "\n",
        "    Examples\n",
        "    --------\n",
        "    >>> x,b = NRZ_bits2([m_seq(5),10)\n",
        "    >>> t = arange(len(x))\n",
        "    >>> plot(t,x)\n",
        "    \"\"\"\n",
        "    N_bits = len(data)\n",
        "    x = np.hstack((2*data.reshape(N_bits,1)-1,np.zeros((N_bits,Ns-1))))\n",
        "    x = x.flatten()\n",
        "    if pulse.lower() == 'rect':\n",
        "        b = np.ones(Ns)\n",
        "    elif pulse.lower() == 'rc':\n",
        "        b = rc_imp(Ns,alpha,M)\n",
        "    elif pulse.lower() == 'src':\n",
        "        b = sqrt_rc_imp(Ns,alpha,M)\n",
        "    else:\n",
        "        print ('pulse type must be rec, rc, or src')\n",
        "    x = signal.lfilter(b,1,x)\n",
        "    return x,b/float(Ns)\n",
        "    \n",
        "def PN_gen(N_bits,m=5):\n",
        "    \"\"\"\n",
        "    Maximal length sequence signal generator.\n",
        "\n",
        "    Generates a sequence 0/1 bits of N_bit duration. The bits themselves\n",
        "    are obtained from an m-sequence of length m. Available m-sequence\n",
        "    (PN generators) include m = 2,3,...,12, & 16.\n",
        "            \n",
        "    Parameters\n",
        "    ----------\n",
        "    N_bits : the number of bits to generate\n",
        "    m : the number of shift registers. 2,3, .., 12, & 16\n",
        "\n",
        "    Returns\n",
        "    -------\n",
        "    PN : ndarray of the generator output over N_bits\n",
        "\n",
        "    Notes\n",
        "    -----\n",
        "    The sequence is periodic having period 2**m - 1 (2^m - 1).\n",
        "\n",
        "    Examples\n",
        "    --------\n",
        "    >>> # A 15 bit period signal nover 50 bits\n",
        "    >>> PN = PN_gen(50,4)\n",
        "    \"\"\"\n",
        "    c = m_seq(m)\n",
        "    Q = len(c)\n",
        "    max_periods = int(np.ceil(N_bits/float(Q)))\n",
        "    PN = np.zeros(max_periods*Q)\n",
        "    for k in range(max_periods):\n",
        "        PN[k*Q:(k+1)*Q] = c\n",
        "    PN = np.resize(PN, (1,N_bits))\n",
        "    return PN.flatten()\n",
        "\n",
        "def m_seq(m):\n",
        "    \"\"\"\n",
        "    Generate an m-sequence ndarray using an all-ones initialization.\n",
        "\n",
        "    Available m-sequence (PN generators) include m = 2,3,...,12, & 16.\n",
        "\n",
        "    Parameters\n",
        "    ----------\n",
        "    m : the number of shift registers. 2,3, .., 12, & 16\n",
        "\n",
        "    Returns\n",
        "    -------\n",
        "    c : ndarray of one period of the m-sequence\n",
        "\n",
        "    Notes\n",
        "    -----\n",
        "    The sequence period is 2**m - 1 (2^m - 1).    \n",
        "\n",
        "    Examples\n",
        "    --------\n",
        "    >>> c = m_seq(5)\n",
        "    \"\"\"\n",
        "    # Load shift register with all ones to start\n",
        "    sr = np.ones(m)\n",
        "    # M-squence length is:\n",
        "    Q = 2**m - 1\n",
        "    c = np.zeros(Q)\n",
        "\n",
        "    if m == 2:\n",
        "        taps = np.array([1, 1, 1])\n",
        "    elif m == 3:\n",
        "        taps = np.array([1, 0, 1, 1])\n",
        "    elif m == 4:\n",
        "        taps = np.array([1, 0, 0, 1, 1])\n",
        "    elif m == 5:\n",
        "        taps = np.array([1, 0, 0, 1, 0, 1])\n",
        "    elif m == 6:\n",
        "        taps = np.array([1, 0, 0, 0, 0, 1, 1])\n",
        "    elif m == 7:\n",
        "        taps = np.array([1, 0, 0, 0, 1, 0, 0, 1])\n",
        "    elif m == 8:\n",
        "        taps = np.array([1, 0, 0, 0, 1, 1, 1, 0, 1])\n",
        "    elif m == 9:\n",
        "        taps = np.array([1, 0, 0, 0, 0, 1, 0, 0, 0, 1])\n",
        "    elif m == 10:\n",
        "        taps = np.array([1, 0, 0, 0, 0, 0, 0, 1, 0, 0, 1])\n",
        "    elif m == 11:\n",
        "        taps = np.array([1, 0, 0, 0, 0, 0, 0, 0, 0, 1, 0, 1])\n",
        "    elif m == 12:\n",
        "        taps = np.array([1, 0, 0, 0, 0, 0, 1, 0, 1, 0, 0, 1, 1])\n",
        "    elif m == 16:\n",
        "        taps = np.array([1, 0, 1, 0, 0, 0, 0, 0, 0, 0, 0, 1, 0, 0, 0, 1, 1])\n",
        "    else:\n",
        "        print ('Invalid length specified')\n",
        "    for n in range(Q):\n",
        "        tap_xor = 0\n",
        "        c[n] = sr[-1]\n",
        "        for k in range(1,m):\n",
        "            if taps[k] == 1:\n",
        "                tap_xor = np.bitwise_xor(tap_xor,np.bitwise_xor(int(sr[-1]),int(sr[m-1-k])))\n",
        "        sr[1:] = sr[:-1]\n",
        "        sr[0] = tap_xor\n",
        "    return c\n",
        "    \n",
        "def my_psd(x,NFFT=2**10,Fs=1):\n",
        "    \"\"\"\n",
        "    A local version of NumPy's PSD function that returns the plot arrays.\n",
        "\n",
        "    A mlab.psd wrapper function that returns two ndarrays;\n",
        "    makes no attempt to auto plot anything.\n",
        "\n",
        "    Parameters\n",
        "    ----------\n",
        "    x : ndarray input signal\n",
        "    NFFT : a power of two, e.g., 2**10 = 1024\n",
        "    Fs : the sampling rate in Hz\n",
        "\n",
        "    Returns\n",
        "    -------\n",
        "    Px : ndarray of the power spectrum estimate\n",
        "    f : ndarray of frequency values\n",
        "    \n",
        "    Notes\n",
        "    -----\n",
        "    This function makes it easier to overlay spectrum plots because\n",
        "    you have better control over the axis scaling than when using psd()\n",
        "    in the autoscale mode.\n",
        "    \n",
        "    Examples\n",
        "    --------\n",
        "    >>> x,b, data = NRZ_bits(10000,10)\n",
        "    >>> Px,f = my_psd(x,2**10,10)\n",
        "    >>> plot(f, 10*log10(Px))\n",
        "\n",
        "    \"\"\"\n",
        "    Px,f = pylab.mlab.psd(x,NFFT,Fs)\n",
        "    return Px.flatten(), f\n",
        "    \n",
        "def time_delay(x,D,N=4):\n",
        "    \"\"\"\n",
        "    A time varying time delay which takes advantage of the Farrow structure\n",
        "    for cubic interpolation:\n",
        "\n",
        "    y = time_delay(x,D,N = 3)\n",
        "\n",
        "    Note that D is an array of the same length as the input signal x. This\n",
        "    allows you to make the delay a function of time. If you want a constant \n",
        "    delay just use D*zeros(len(x)). The minimum delay allowable is one sample\n",
        "    or D = 1.0. This is due to the causal system nature of the Farrow \n",
        "    structure.\n",
        "\n",
        "    A founding paper on the subject of interpolators is: C. W. Farrow, \"A\n",
        "    Continuously variable Digital Delay Element,\" Proceedings of the IEEE\n",
        "    Intern. Symp. on Circuits Syst., pp. 2641-2645, June 1988.\n",
        "\n",
        "    Mark Wickert, February 2014\n",
        "    \"\"\"\n",
        "\n",
        "    if type(D) == float or type(D) == int:\n",
        "        #Make sure D stays with in the tapped delay line bounds\n",
        "        if int(np.fix(D)) < 1:\n",
        "            print('D has integer part less than one')\n",
        "            exit(1)\n",
        "        if int(np.fix(D)) > N-2:\n",
        "            print('D has integer part greater than N - 2')\n",
        "            exit(1)\n",
        "        # Filter 4-tap input with four Farrow FIR filters\n",
        "        # Since the time delay is a constant, the LTI filter\n",
        "        # function from scipy.signal is convenient.\n",
        "        D_frac = D - np.fix(D)\n",
        "        Nd = int(np.fix(D))\n",
        "        b = np.zeros(Nd + 4)\n",
        "        # Load Lagrange coefficients into the last four FIR taps\n",
        "        b[Nd] = -(D_frac-1)*(D_frac-2)*(D_frac-3)/6.\n",
        "        b[Nd + 1] = D_frac*(D_frac-2)*(D_frac-3)/2.\n",
        "        b[Nd + 2] = -D_frac*(D_frac-1)*(D_frac-3)/2.\n",
        "        b[Nd + 3] = D_frac*(D_frac-1)*(D_frac-2)/6.\n",
        "        # Do all of the filtering in one step for this special case\n",
        "        # of a fixed delay.\n",
        "        y = signal.lfilter(b,1,x)\n",
        "    else:\n",
        "        #Make sure D stays with in the tapped delay line bounds\n",
        "        if np.fix(np.min(D)) < 1:\n",
        "            print('D has integer part less than one')\n",
        "            exit(1)\n",
        "        if np.fix(np.max(D)) > N-2:\n",
        "            print('D has integer part greater than N - 2')\n",
        "            exit(1)\n",
        "        y = np.zeros(len(x))\n",
        "        X = np.zeros(N+1)\n",
        "        # Farrow filter tap weights\n",
        "        W3 = np.array([[1./6, -1./2, 1./2, -1./6]])\n",
        "        W2 = np.array([[0, 1./2, -1., 1./2]])\n",
        "        W1 = np.array([[-1./6, 1., -1./2, -1./3]])\n",
        "        W0 = np.array([[0, 0, 1., 0]])\n",
        "        for k in range(len(x)):\n",
        "            Nd = int(np.fix(D[k]))\n",
        "            mu = 1 - (D[k]-np.fix(D[k]))\n",
        "            # Form a row vector of signal samples, present and past values\n",
        "            X = np.hstack((np.array(x[k]), X[:-1]))\n",
        "            # Filter 4-tap input with four Farrow FIR filters\n",
        "            # Here numpy dot(A,B) performs the matrix multiply\n",
        "            # since the filter has time-varying coefficients\n",
        "            v3 = np.dot(W3,np.array(X[Nd-1:Nd+3]).T)\n",
        "            v2 = np.dot(W2,np.array(X[Nd-1:Nd+3]).T)\n",
        "            v1 = np.dot(W1,np.array(X[Nd-1:Nd+3]).T)\n",
        "            v0 = np.dot(W0,np.array(X[Nd-1:Nd+3]).T)\n",
        "            #Combine sub-filter outputs using mu = 1 - d\n",
        "            y[k] = ((v3[0]*mu + v2[0])*mu + v1[0])*mu + v0[0]\n",
        "    return y\n",
        "\n",
        "def xcorr(x1,x2,Nlags):\n",
        "    \"\"\"\n",
        "    r12, k = xcorr(x1,x2,Nlags), r12 and k are ndarray's\n",
        "    Compute the energy normalized cross correlation between the sequences\n",
        "    x1 and x2. If x1 = x2 the cross correlation is the autocorrelation.\n",
        "    The number of lags sets how many lags to return centered about zero\n",
        "    \"\"\"\n",
        "    K = 2*(len(x1)/2)\n",
        "    X1 = fft.fft(x1[:K])\n",
        "    X2 = fft.fft(x2[:K])\n",
        "    E1 = sum(abs(x1[:K])**2)\n",
        "    E2 = sum(abs(x2[:K])**2)\n",
        "    r12 = np.fft.ifft(X1*np.conj(X2))/np.sqrt(E1*E2)\n",
        "    k = np.arange(K) - K/2\n",
        "    r12 = np.fft.fftshift(r12)\n",
        "    idx = mlab.find(abs(k) <= Nlags)\n",
        "    return r12[idx], k[idx]\n",
        "\n",
        "def Q_fctn(x):\n",
        "    \"\"\"\n",
        "    Gaussian Q-function\n",
        "    \"\"\"\n",
        "    return 1./2*erfc(x/np.sqrt(2.))\n",
        "\n",
        "# if __name__ == '__main__':\n",
        "#     w = np.random.randn(100) + 1j*np.random.randn(100)\n",
        "#     b = signal.firwin(20,2*.1)\n",
        "#     wf = signal.lfilter(b,1,w)\n",
        "    \n",
        "#     print(wf)\n",
        "    "
      ],
      "execution_count": 0,
      "outputs": []
    },
    {
      "metadata": {
        "id": "pgKE3eEbWxpQ",
        "colab_type": "code",
        "colab": {
          "base_uri": "https://localhost:8080/",
          "height": 221
        },
        "outputId": "82010fcd-32ed-4552-c1c8-2bfb52274e19"
      },
      "cell_type": "code",
      "source": [
        "from time import time\n",
        "import numpy as np\n",
        "from pandas import DataFrame\n",
        "# Instantiating Comms Data \n",
        "\n",
        "m = 4         # order of modulation\n",
        "trials = 602 # number of trials \n",
        "Noise = False\n",
        "SNRdB = 20\n",
        "seqLen = 1\n",
        "print(seqLen)\n",
        "#h = [1,0.4,0.3,0.2,0.25]\n",
        "chanelLen = 1\n",
        "h = np.random.rand(chanelLen)\n",
        "h[0] = 1\n",
        "data = generateData2(m,seqLen,trials,Noise,SNRdB,h,padding= True)\n",
        "commsDataTrain = data['x_train'][:,0,:].dot(np.array([1 ,1j ])).tolist()\n",
        "commsDataTrain.reverse()\n",
        "commsDataTest = data['x_test'][:,0,:].dot(np.array([1 ,1j ])).tolist()\n",
        "commsDataTest.reverse()"
      ],
      "execution_count": 0,
      "outputs": [
        {
          "output_type": "stream",
          "text": [
            "1\n"
          ],
          "name": "stdout"
        },
        {
          "output_type": "display_data",
          "data": {
            "text/plain": [
              "602"
            ]
          },
          "metadata": {
            "tags": []
          }
        },
        {
          "output_type": "display_data",
          "data": {
            "text/plain": [
              "(2, 1, 602)"
            ]
          },
          "metadata": {
            "tags": []
          }
        },
        {
          "output_type": "display_data",
          "data": {
            "text/plain": [
              "(1, 602)"
            ]
          },
          "metadata": {
            "tags": []
          }
        },
        {
          "output_type": "display_data",
          "data": {
            "text/plain": [
              "(602, 1, 2)"
            ]
          },
          "metadata": {
            "tags": []
          }
        },
        {
          "output_type": "display_data",
          "data": {
            "text/plain": [
              "602"
            ]
          },
          "metadata": {
            "tags": []
          }
        },
        {
          "output_type": "display_data",
          "data": {
            "text/plain": [
              "(2, 1, 602)"
            ]
          },
          "metadata": {
            "tags": []
          }
        },
        {
          "output_type": "display_data",
          "data": {
            "text/plain": [
              "(1, 602)"
            ]
          },
          "metadata": {
            "tags": []
          }
        },
        {
          "output_type": "display_data",
          "data": {
            "text/plain": [
              "(602, 1, 2)"
            ]
          },
          "metadata": {
            "tags": []
          }
        },
        {
          "output_type": "stream",
          "text": [
            "x_train shape:  (602, 1, 2)\n",
            "y_train shape:  (602, 1)\n"
          ],
          "name": "stdout"
        },
        {
          "output_type": "execute_result",
          "data": {
            "text/plain": [
              "(602,)"
            ]
          },
          "metadata": {
            "tags": []
          },
          "execution_count": 566
        }
      ]
    },
    {
      "metadata": {
        "id": "5MU_eldiWz64",
        "colab_type": "code",
        "colab": {}
      },
      "cell_type": "code",
      "source": [
        "commsDataTrain = BPSK_tx(602,1,ach_fc=2.0,ach_lvl_dB=-100,pulse='rect',alpha = 0,M=6)\n",
        "commsDataTrain = commsDataTrain[0].tolist()\n",
        "commsDataTest = BPSK_tx(602,1,ach_fc=2.0,ach_lvl_dB=-100,pulse='rect',alpha = 0,M=6)\n",
        "commsDataTest = commsDataTest[0].tolist()"
      ],
      "execution_count": 0,
      "outputs": []
    },
    {
      "metadata": {
        "id": "CP-oJ7kjkReV",
        "colab_type": "code",
        "colab": {
          "base_uri": "https://localhost:8080/",
          "height": 153
        },
        "outputId": "73be43d1-fd4c-4e0e-89d8-6bef16c59f09"
      },
      "cell_type": "code",
      "source": [
        "# Bool: Needs to be set by user \n",
        "full_anom = 0\n",
        "anom_samples = 43\n",
        "\n",
        "x = np.random.randn(4096).astype(np.complex128)\n",
        "F = 12345.6\n",
        "f2 = 5707.725980363259\n",
        "f1 = 8660.109654293396\n",
        "f0 = 7224.368550884776\n",
        "f3 = 5707.705980363259\n",
        "\n",
        "# f0=np.random.uniform(low=0.,high = 10000.)\n",
        "# f1=np.random.uniform(low=0.,high = 10000.)\n",
        "# f2=np.random.uniform(low=0.,high = 10000.)\n",
        "# f3 = np.random.uniform(low=0.,high = 10000.)\n",
        "display(f0)\n",
        "display(f1)\n",
        "display(f2)\n",
        "display(f3)\n",
        "\n",
        "c2 = 0.23557238741357178\n",
        "c1 = -0.38634056685147433\n",
        "c0 = 0.26936048979391813\n",
        "c3 = 0.45557238741357178\n",
        "# c0= np.random.uniform(low=-1.,high = 1.)\n",
        "# c1= np.random.uniform(low=-1.,high = 1.)\n",
        "# c2= np.random.uniform(low=-1.,high = 1.)\n",
        "# c3 = np.random.uniform(low=-1.,high = 1.)\n",
        "display(c0)\n",
        "display(c1)\n",
        "display(c2)\n",
        "display(c3)"
      ],
      "execution_count": 923,
      "outputs": [
        {
          "output_type": "display_data",
          "data": {
            "text/plain": [
              "7224.368550884776"
            ]
          },
          "metadata": {
            "tags": []
          }
        },
        {
          "output_type": "display_data",
          "data": {
            "text/plain": [
              "8660.109654293396"
            ]
          },
          "metadata": {
            "tags": []
          }
        },
        {
          "output_type": "display_data",
          "data": {
            "text/plain": [
              "5707.725980363259"
            ]
          },
          "metadata": {
            "tags": []
          }
        },
        {
          "output_type": "display_data",
          "data": {
            "text/plain": [
              "5707.705980363259"
            ]
          },
          "metadata": {
            "tags": []
          }
        },
        {
          "output_type": "display_data",
          "data": {
            "text/plain": [
              "0.26936048979391813"
            ]
          },
          "metadata": {
            "tags": []
          }
        },
        {
          "output_type": "display_data",
          "data": {
            "text/plain": [
              "-0.38634056685147433"
            ]
          },
          "metadata": {
            "tags": []
          }
        },
        {
          "output_type": "display_data",
          "data": {
            "text/plain": [
              "0.23557238741357178"
            ]
          },
          "metadata": {
            "tags": []
          }
        },
        {
          "output_type": "display_data",
          "data": {
            "text/plain": [
              "0.45557238741357176"
            ]
          },
          "metadata": {
            "tags": []
          }
        }
      ]
    },
    {
      "metadata": {
        "id": "PmSWmi6K12AP",
        "colab_type": "text"
      },
      "cell_type": "markdown",
      "source": [
        "Just check to see that the random values generated are not \"too close.\"  But I want to make it random so I do not just get lucky on training and testing accuracy on some tunable parameters. "
      ]
    },
    {
      "metadata": {
        "id": "vpUQO1epmo5v",
        "colab_type": "code",
        "colab": {}
      },
      "cell_type": "code",
      "source": [
        "fs = 48e3\n",
        "snr = 20.  # dB\n",
        "Ntone = 8\n",
        "\n",
        "t = np.arange(0, 0.01, 1/fs)\n",
        "\n",
        "nvar = 10**(-snr/10.)\n",
        "samples = 40\n",
        "\n",
        "\n",
        "M = [100] * 301  # iterating over block length\n",
        "\n",
        "py = DataFrame(index=M, columns=['err', 'sigma','cisoidAmp','cisoidAngle'])\n",
        "fortreal = DataFrame(index=M, columns=['err', 'sigma','cisoidAmp','cisoidAngle'])\n",
        "fortcmpl = DataFrame(index=M, columns=['err', 'sigma','cisoidAmp','cisoidAngle'])\n",
        "fest = []\n",
        "fest2 = []\n",
        "cisoidAmp = []\n",
        "cisoidAmp2 = []\n",
        "y_test = [] # lable \n",
        "i = 0\n",
        "z = 0\n",
        "f = 0\n",
        "for m in M:\n",
        "    i = i + 1\n",
        "    for k in range(2):\n",
        "      # Generate fist tripplet of cisoid  \n",
        "      # Train data start\n",
        "      xc = c0*np.exp(1j*2*np.pi*f0*t)+c1*np.exp(1j*2*np.pi*f1*t) +c2*np.exp(1j*2*np.pi*f2*t)\n",
        "      AWGN  = np.sqrt(nvar)*(np.random.randn(t.size) + 1j*np.random.randn(t.size))\n",
        "      commsData = commsDataTrain.pop()\n",
        "      z = z + 1\n",
        "      xc1 = xc + AWGN + commsData\n",
        "      \n",
        "      tmpFest, sigma,tmpAmp,cisoidAngle = esprit1(xc1, Ntone//2, M=m, fs=fs, verbose=False)\n",
        "      fest.append(tmpFest)\n",
        "      tmpAmp = tmpAmp[0]\n",
        "      cisoidAmp.append(tmpAmp)\n",
        "      # Train data end \n",
        "    \n",
        "    # Test section start\n",
        "    \n",
        "          \n",
        "    if i%samples:\n",
        "      # Anomaly free sample \n",
        "      y_test.append(0.)\n",
        "      # When not Anomaly use xc as baseline signal and add AWGN - Run through esprit\n",
        "      AWGN = np.sqrt(nvar)*(np.random.randn(t.size) + 1j*np.random.randn(t.size))\n",
        "      f = f + 1\n",
        "      commsData2 = commsDataTest.pop()\n",
        "      xc2 = xc + AWGN + commsData2 \n",
        "      tmpFest, sigma,tmpAmp,cisoidAngle = esprit1(xc2, Ntone//2, M=m, fs=fs, verbose=False)\n",
        "      fest2.append(tmpFest)\n",
        "      tmpAmp = tmpAmp[0]\n",
        "      cisoidAmp2.append(tmpAmp)\n",
        "    else:\n",
        "      # Anomaly has occured will repeat anom_samples times \n",
        "      for j in np.arange(anom_samples+1):\n",
        "        y_test.append(1.)        \n",
        "        AWGN = np.sqrt(nvar)*(np.random.randn(t.size) + 1j*np.random.randn(t.size))\n",
        "        commsData2 = commsDataTest.pop()\n",
        "        xc2 = c0*np.exp(1j*2*np.pi*f0*t)+c1*np.exp(1j*2*np.pi*f1*t) +c3*np.exp(1j*2*np.pi*f3*t) + AWGN + commsData2\n",
        "        f = f + 1 \n",
        "        tmpFest, sigma,tmpAmp,cisoidAngle = esprit1(xc2, Ntone//2, M=m, fs=fs, verbose=False)\n",
        "        fest2.append(tmpFest)\n",
        "        tmpAmp = tmpAmp[0]\n",
        "        cisoidAmp2.append(tmpAmp) \n",
        "\n",
        "     \n",
        "    \n",
        "    # Test section end \n",
        "\n",
        "# Create train and test set     \n",
        "tmpAmp = [cisoidAmp[x][1:] for x in np.arange(602)]\n",
        "tmpFest = [fest[x][1:] for x in np.arange(602)]\n",
        "x_train = np.hstack((tmpAmp,tmpFest))    \n",
        "\n",
        "tmpAmp = [cisoidAmp2[x][1:] for x in np.arange(602)]\n",
        "tmpFest = [fest2[x][1:] for x in np.arange(602)]\n",
        "x_test = np.hstack((tmpAmp,tmpFest))    \n",
        "    "
      ],
      "execution_count": 0,
      "outputs": []
    },
    {
      "metadata": {
        "id": "AT1oSgOHlBur",
        "colab_type": "code",
        "colab": {}
      },
      "cell_type": "code",
      "source": [
        "tmpAmp = [cisoidAmp[x][1:] for x in np.arange(602)]\n",
        "tmpFest = [fest[x][1:] for x in np.arange(602)]\n",
        "x_train = np.hstack((tmpAmp,tmpFest))    \n",
        "\n",
        "tmpAmp = [cisoidAmp2[x][1:] for x in np.arange(602)]\n",
        "tmpFest = [fest2[x][1:] for x in np.arange(602)]\n",
        "x_test = np.hstack((tmpAmp,tmpFest))   "
      ],
      "execution_count": 0,
      "outputs": []
    },
    {
      "metadata": {
        "id": "lAtSEeOx7eBI",
        "colab_type": "code",
        "colab": {
          "base_uri": "https://localhost:8080/",
          "height": 34
        },
        "outputId": "ac177a2a-3e41-4546-c1d7-3575a0957500"
      },
      "cell_type": "code",
      "source": [
        "f"
      ],
      "execution_count": 0,
      "outputs": [
        {
          "output_type": "execute_result",
          "data": {
            "text/plain": [
              "602"
            ]
          },
          "metadata": {
            "tags": []
          },
          "execution_count": 572
        }
      ]
    },
    {
      "metadata": {
        "id": "Iycnb-eMjkXg",
        "colab_type": "text"
      },
      "cell_type": "markdown",
      "source": [
        ""
      ]
    },
    {
      "metadata": {
        "id": "raLBxYlFfsLt",
        "colab_type": "code",
        "colab": {
          "base_uri": "https://localhost:8080/",
          "height": 323
        },
        "outputId": "46821b20-08de-4394-cb7c-47497e2a432b"
      },
      "cell_type": "code",
      "source": [
        "#@title Model 1 - Elu { form-width: \"20%\" }\n",
        "from keras import regularizers\n",
        "from sklearn.preprocessing import StandardScaler\n",
        "from sklearn import preprocessing\n",
        "# Make sure to run this after each new generation of data\n",
        "\n",
        "#1\n",
        "# zero mean and unit var\n",
        "# this makes train and test data zero mean and unit var individually \n",
        "# we should statistics of ideal data(no anomaly) \n",
        "# hense we should standadize both sets of data based on this\n",
        "#x_train2 = StandardScaler().fit_transform(x_train)\n",
        "#x_test2 = StandardScaler().fit_transform(x_test)\n",
        "\n",
        "#2\n",
        "# zero mean and unit var \n",
        "# x_trainScaled = preprocessing.scale(x_train)\n",
        "# scaler = StandardScaler().fit(x_trainScaled)\n",
        "# x_train2 = scaler.transform(x_trainScaled)\n",
        "# x_test2 = scaler.transform(x_test)\n",
        "\n",
        "m1 = np.mean(x_train)\n",
        "s1 = np.std(x_train)\n",
        "\n",
        "x_train2 = (x_train-m1)/s1\n",
        "x_test2 = (x_test-m1)/s1\n",
        "#3\n",
        "#x_train2 = x_train\n",
        "#x_test2 = x_test\n",
        "\n",
        "#4\n",
        "#zero mean and unit var \n",
        "# scaler = StandardScaler().fit(x_test)\n",
        "# x_train2 = scaler.transform(x_train)\n",
        "# x_test2 = scaler.transform(x_test)\n",
        "\n",
        "#x_train2 = x_train2[:,:,np.newaxis]\n",
        "#x_test2 = x_test2[:,:,np.newaxis]\n",
        "\n",
        "#x_train2 = x_train2.astype('float32') / 255.\n",
        "#x_test2 = x_test2.astype('float32') / 255.\n",
        "\n",
        "display(x_train2.shape)\n",
        "\n",
        "input_dim = x_train.shape[1]\n",
        "\n",
        "# set size of autoencoder \n",
        "encoding_dim = 6\n",
        "\n",
        "# use elu because it is leaky tried both net and l1 and l2 : net and l1 worked the best \n",
        "input_layer = Input(shape=(input_dim, ))\n",
        "encoder = Dense(encoding_dim, activation=\"elu\",kernel_initializer= 'he_normal',\n",
        "                activity_regularizer=regularizers.l1_l2(l1=10e-5, l2=75.10e-5))(input_layer)\n",
        "#encoder = Dense(encoding_dim, activation=\"elu\",activity_regularizer=regularizers.l1(10e-5))(input_layer)\n",
        "encoder = Dense(int(encoding_dim / 2), activation=\"elu\",kernel_initializer= 'he_normal')(encoder)\n",
        "decoder = Dense(int(encoding_dim / 2), activation='elu',kernel_initializer= 'he_normal')(encoder)\n",
        "decoder = Dense(input_dim, activation='elu',kernel_initializer= 'he_normal')(decoder)\n",
        "autoencoder = Model(inputs=input_layer, outputs=decoder)\n",
        "\n",
        "autoencoder.summary()  \n"
      ],
      "execution_count": 978,
      "outputs": [
        {
          "output_type": "display_data",
          "data": {
            "text/plain": [
              "(602, 6)"
            ]
          },
          "metadata": {
            "tags": []
          }
        },
        {
          "output_type": "stream",
          "text": [
            "_________________________________________________________________\n",
            "Layer (type)                 Output Shape              Param #   \n",
            "=================================================================\n",
            "input_143 (InputLayer)       (None, 6)                 0         \n",
            "_________________________________________________________________\n",
            "dense_170 (Dense)            (None, 6)                 42        \n",
            "_________________________________________________________________\n",
            "dense_171 (Dense)            (None, 3)                 21        \n",
            "_________________________________________________________________\n",
            "dense_172 (Dense)            (None, 3)                 12        \n",
            "_________________________________________________________________\n",
            "dense_173 (Dense)            (None, 6)                 24        \n",
            "=================================================================\n",
            "Total params: 99\n",
            "Trainable params: 99\n",
            "Non-trainable params: 0\n",
            "_________________________________________________________________\n"
          ],
          "name": "stdout"
        }
      ]
    },
    {
      "metadata": {
        "id": "0HjRmdZ2FXk0",
        "colab_type": "code",
        "colab": {
          "base_uri": "https://localhost:8080/",
          "height": 459
        },
        "cellView": "both",
        "outputId": "f2292088-b356-42f4-c2b4-3c8924dd3d2b"
      },
      "cell_type": "code",
      "source": [
        "#@title Model 2 - LeakyRelu { form-width: \"20%\" }\n",
        "import keras\n",
        "from keras import regularizers\n",
        "from sklearn.preprocessing import StandardScaler\n",
        "# Make sure to run this after each new generation of data\n",
        "\n",
        "#1\n",
        "# zero mean and unit var\n",
        "# this makes train and test data zero mean and unit var individually \n",
        "# we should statistics of ideal data(no anomaly) \n",
        "# hense we should standadize both sets of data based on this\n",
        "#x_train2 = StandardScaler().fit_transform(x_train)\n",
        "#x_test2 = StandardScaler().fit_transform(x_test)\n",
        "\n",
        "#2\n",
        "# zero mean and unit var \n",
        "# scaler = StandardScaler().fit(x_train)\n",
        "# x_train2 = scaler.transform(x_train)\n",
        "# x_test2 = scaler.transform(x_test)\n",
        "\n",
        "m1 = np.mean(x_train)\n",
        "s1 = np.std(x_train)\n",
        "\n",
        "x_train2 = (x_train-m1)/s1\n",
        "x_test2 = (x_test-m1)/s1\n",
        "\n",
        "#3\n",
        "#x_train2 = x_train\n",
        "#x_test2 = x_test\n",
        "\n",
        "#4\n",
        "# zero mean and unit var \n",
        "# scaler = StandardScaler().fit(x_test)\n",
        "# x_train2 = scaler.transform(x_train)\n",
        "# x_test2 = scaler.transform(x_test)\n",
        "\n",
        "#x_train2 = x_train2[:,:,np.newaxis]\n",
        "#x_test2 = x_test2[:,:,np.newaxis]\n",
        "\n",
        "#x_train2 = x_train2.astype('float32') \n",
        "#x_test2 = x_test2.astype('float32')\n",
        "\n",
        "display(x_train2.shape)\n",
        "\n",
        "input_dim = x_train.shape[1]\n",
        "\n",
        "# set size of autoencoder \n",
        "encoding_dim = 6\n",
        "elu = keras.layers.ELU(alpha=1.2)\n",
        "lrlu= keras.layers.LeakyReLU(alpha=0.3)\n",
        "\n",
        "\n",
        "# use elu because it is leaky tried both net and l1 and l2 : net and l1 worked the best \n",
        "input_layer = Input(shape=(input_dim, ))\n",
        "encoder = Dense(encoding_dim,kernel_initializer= 'he_normal', \n",
        "                activity_regularizer=regularizers.l1_l2(l1=10e-5, l2=75.10e-5))(input_layer)\n",
        "encoder = keras.layers.LeakyReLU(alpha=0.011)(encoder)\n",
        "#encoder = Dense(encoding_dim, activation=\"elu\",activity_regularizer=regularizers.l1(10e-5))(input_layer)\n",
        "encoder = Dense(int(encoding_dim / 2),kernel_initializer= 'he_normal')(encoder)\n",
        "encoder = keras.layers.LeakyReLU(alpha=0.011)(encoder)\n",
        "decoder = Dense(int(encoding_dim / 2),kernel_initializer= 'he_normal')(encoder)\n",
        "decoder = keras.layers.LeakyReLU(alpha=0.011)(decoder)\n",
        "decoder = Dense(input_dim,kernel_initializer= 'he_normal')(decoder)\n",
        "decoder = keras.layers.LeakyReLU(alpha=0.011)(decoder)\n",
        "autoencoder2 = Model(inputs=input_layer, outputs=decoder)\n",
        "\n",
        "autoencoder2.summary()  \n"
      ],
      "execution_count": 979,
      "outputs": [
        {
          "output_type": "display_data",
          "data": {
            "text/plain": [
              "(602, 6)"
            ]
          },
          "metadata": {
            "tags": []
          }
        },
        {
          "output_type": "stream",
          "text": [
            "_________________________________________________________________\n",
            "Layer (type)                 Output Shape              Param #   \n",
            "=================================================================\n",
            "input_144 (InputLayer)       (None, 6)                 0         \n",
            "_________________________________________________________________\n",
            "dense_174 (Dense)            (None, 6)                 42        \n",
            "_________________________________________________________________\n",
            "leaky_re_lu_84 (LeakyReLU)   (None, 6)                 0         \n",
            "_________________________________________________________________\n",
            "dense_175 (Dense)            (None, 3)                 21        \n",
            "_________________________________________________________________\n",
            "leaky_re_lu_85 (LeakyReLU)   (None, 3)                 0         \n",
            "_________________________________________________________________\n",
            "dense_176 (Dense)            (None, 3)                 12        \n",
            "_________________________________________________________________\n",
            "leaky_re_lu_86 (LeakyReLU)   (None, 3)                 0         \n",
            "_________________________________________________________________\n",
            "dense_177 (Dense)            (None, 6)                 24        \n",
            "_________________________________________________________________\n",
            "leaky_re_lu_87 (LeakyReLU)   (None, 6)                 0         \n",
            "=================================================================\n",
            "Total params: 99\n",
            "Trainable params: 99\n",
            "Non-trainable params: 0\n",
            "_________________________________________________________________\n"
          ],
          "name": "stdout"
        }
      ]
    },
    {
      "metadata": {
        "id": "4CPzjtIuBAeA",
        "colab_type": "code",
        "colab": {
          "base_uri": "https://localhost:8080/",
          "height": 425
        },
        "outputId": "7f56dd50-feaf-4211-f0a3-75355f807ca8"
      },
      "cell_type": "code",
      "source": [
        "#@title Model 3 - Elu Maxout { form-width: \"20%\" }\n",
        "from keras import regularizers\n",
        "from sklearn.preprocessing import StandardScaler\n",
        "from sklearn import preprocessing\n",
        "from keras.layers import MaxoutDense, Activation\n",
        "# Make sure to run this after each new generation of data\n",
        "\n",
        "#1\n",
        "# zero mean and unit var\n",
        "# this makes train and test data zero mean and unit var individually \n",
        "# we should statistics of ideal data(no anomaly) \n",
        "# hense we should standadize both sets of data based on this\n",
        "#x_train2 = StandardScaler().fit_transform(x_train)\n",
        "#x_test2 = StandardScaler().fit_transform(x_test)\n",
        "\n",
        "#2\n",
        "# zero mean and unit var \n",
        "# x_trainScaled = preprocessing.scale(x_train)\n",
        "# scaler = StandardScaler().fit(x_trainScaled)\n",
        "# x_train2 = scaler.transform(x_trainScaled)\n",
        "# x_test2 = scaler.transform(x_test)\n",
        "\n",
        "m1 = np.mean(x_train)\n",
        "s1 = np.std(x_train)\n",
        "\n",
        "x_train2 = (x_train-m1)/s1\n",
        "x_test2 = (x_test-m1)/s1\n",
        "#3\n",
        "#x_train2 = x_train\n",
        "#x_test2 = x_test\n",
        "\n",
        "#4\n",
        "#zero mean and unit var \n",
        "# scaler = StandardScaler().fit(x_test)\n",
        "# x_train2 = scaler.transform(x_train)\n",
        "# x_test2 = scaler.transform(x_test)\n",
        "\n",
        "#x_train2 = x_train2[:,:,np.newaxis]\n",
        "#x_test2 = x_test2[:,:,np.newaxis]\n",
        "\n",
        "#x_train2 = x_train2.astype('float32') / 255.\n",
        "#x_test2 = x_test2.astype('float32') / 255.\n",
        "\n",
        "display(x_train2.shape)\n",
        "\n",
        "input_dim = x_train.shape[1]\n",
        "\n",
        "# set size of autoencoder \n",
        "encoding_dim = 6\n",
        "\n",
        "# use elu because it is leaky tried both net and l1 and l2 : net and l1 worked the best \n",
        "input_layer = Input(shape=(input_dim, ))\n",
        "encoder = MaxoutDense(encoding_dim,init= 'he_normal',\n",
        "                activity_regularizer=regularizers.l1_l2(l1=10e-5, l2=75.10e-5))(input_layer)\n",
        "encoder = Activation(\"elu\")(encoder)\n",
        "#encoder = Dense(encoding_dim, activation=\"elu\",activity_regularizer=regularizers.l1(10e-5))(input_layer)\n",
        "encoder = MaxoutDense(int(encoding_dim / 2),init= 'he_normal')(encoder)\n",
        "encoder = Activation(\"elu\")(encoder)\n",
        "\n",
        "decoder = MaxoutDense(int(encoding_dim / 2),init= 'he_normal')(encoder)\n",
        "encoder = Activation(\"elu\")(encoder)\n",
        "\n",
        "decoder = MaxoutDense(input_dim,init= 'he_normal')(decoder)\n",
        "encoder = Activation(\"elu\")(encoder)\n",
        "\n",
        "autoencoder3 = Model(inputs=input_layer, outputs=decoder)\n",
        "\n",
        "autoencoder3.summary()  \n"
      ],
      "execution_count": 980,
      "outputs": [
        {
          "output_type": "display_data",
          "data": {
            "text/plain": [
              "(602, 6)"
            ]
          },
          "metadata": {
            "tags": []
          }
        },
        {
          "output_type": "stream",
          "text": [
            "_________________________________________________________________\n",
            "Layer (type)                 Output Shape              Param #   \n",
            "=================================================================\n",
            "input_145 (InputLayer)       (None, 6)                 0         \n",
            "_________________________________________________________________\n",
            "maxout_dense_38 (MaxoutDense (None, 6)                 168       \n",
            "_________________________________________________________________\n",
            "activation_37 (Activation)   (None, 6)                 0         \n",
            "_________________________________________________________________\n",
            "maxout_dense_39 (MaxoutDense (None, 3)                 84        \n",
            "_________________________________________________________________\n",
            "activation_38 (Activation)   (None, 3)                 0         \n",
            "_________________________________________________________________\n",
            "maxout_dense_40 (MaxoutDense (None, 3)                 48        \n",
            "_________________________________________________________________\n",
            "maxout_dense_41 (MaxoutDense (None, 6)                 96        \n",
            "=================================================================\n",
            "Total params: 396\n",
            "Trainable params: 396\n",
            "Non-trainable params: 0\n",
            "_________________________________________________________________\n"
          ],
          "name": "stdout"
        },
        {
          "output_type": "stream",
          "text": [
            "/usr/local/lib/python3.6/dist-packages/keras/legacy/layers.py:534: UserWarning: The `MaxoutDense` layer is deprecated and will be removed after 06/2017.\n",
            "  warnings.warn('The `MaxoutDense` layer is deprecated '\n"
          ],
          "name": "stderr"
        }
      ]
    },
    {
      "metadata": {
        "id": "h5rNifyftGXf",
        "colab_type": "code",
        "colab": {
          "base_uri": "https://localhost:8080/",
          "height": 3485
        },
        "outputId": "efbb52ed-23e0-4d81-bef4-320ca8518303"
      },
      "cell_type": "code",
      "source": [
        "#@title Model 1 - Elu: Train/Test\n",
        "training_set = \"300 samples of anomaly free data \" #@param {type:\"string\"}\n",
        "validation_set = \"Here I use the validation set as the test data. Has 300 anomaly free and 280 instances of of anomoly. \" #@param {type:\"string\"}\n",
        "history = \"Contains both train and validation loss history\" #@param {type:\"string\"}\n",
        "\n",
        "#Results with 40 samples of anomily every 40 samples\n",
        "full_anom = 0\n",
        "anom_samples = 40\n",
        "nb_epoch = 100 # a bit overkill but wanted to see how it progressed w more epochs \n",
        "batch_size = 32\n",
        "import keras\n",
        "autoencoder.compile(optimizer='nadam', \n",
        "                    loss='mean_squared_error'\n",
        "                    #loss='kullback_leibler_divergence',\n",
        "                    )\n",
        "reduce_lr = keras.callbacks.ReduceLROnPlateau(monitor='loss', factor=0.2,min_lr=1e-6,min_delta=0.00001,\n",
        "                              patience=10,verbose = 1)\n",
        "\n",
        "\n",
        "checkpointer = ModelCheckpoint(filepath=\"model.h5\",\n",
        "                               verbose=0,\n",
        "                               save_best_only=True)\n",
        "tensorboard = TensorBoard(log_dir='./logs',\n",
        "                          histogram_freq=0,\n",
        "                          write_graph=True,\n",
        "                          write_images=True)\n",
        "history = autoencoder.fit(x_train2, x_train2,\n",
        "                    epochs=nb_epoch,\n",
        "                    batch_size=batch_size,\n",
        "                    validation_data=(x_test2, x_test2),\n",
        "                    validation_split=.1,\n",
        "                    shuffle=True,\n",
        "                    verbose=1,callbacks=[reduce_lr, checkpointer, tensorboard]).history \n",
        "\n",
        "score = autoencoder.evaluate(x_test2, x_test2, batch_size=batch_size, verbose=1, sample_weight=None, steps=None)\n",
        "\n",
        "display('[test_loss]')\n",
        "display(score)"
      ],
      "execution_count": 981,
      "outputs": [
        {
          "output_type": "stream",
          "text": [
            "Train on 602 samples, validate on 602 samples\n",
            "Epoch 1/100\n",
            "602/602 [==============================] - 2s 3ms/step - loss: 1.0897 - val_loss: 0.8312\n",
            "Epoch 2/100\n",
            "602/602 [==============================] - 0s 482us/step - loss: 0.6832 - val_loss: 0.5227\n",
            "Epoch 3/100\n",
            "602/602 [==============================] - 0s 471us/step - loss: 0.4057 - val_loss: 0.3271\n",
            "Epoch 4/100\n",
            "602/602 [==============================] - 0s 471us/step - loss: 0.2394 - val_loss: 0.2363\n",
            "Epoch 5/100\n",
            "602/602 [==============================] - 0s 479us/step - loss: 0.1696 - val_loss: 0.2045\n",
            "Epoch 6/100\n",
            "602/602 [==============================] - 0s 462us/step - loss: 0.1401 - val_loss: 0.1859\n",
            "Epoch 7/100\n",
            "602/602 [==============================] - 0s 466us/step - loss: 0.1200 - val_loss: 0.1705\n",
            "Epoch 8/100\n",
            "602/602 [==============================] - 0s 453us/step - loss: 0.1046 - val_loss: 0.1585\n",
            "Epoch 9/100\n",
            "602/602 [==============================] - 0s 481us/step - loss: 0.0929 - val_loss: 0.1480\n",
            "Epoch 10/100\n",
            "602/602 [==============================] - 0s 468us/step - loss: 0.0831 - val_loss: 0.1384\n",
            "Epoch 11/100\n",
            "602/602 [==============================] - 0s 489us/step - loss: 0.0748 - val_loss: 0.1303\n",
            "Epoch 12/100\n",
            "602/602 [==============================] - 0s 511us/step - loss: 0.0678 - val_loss: 0.1236\n",
            "Epoch 13/100\n",
            "602/602 [==============================] - 0s 450us/step - loss: 0.0620 - val_loss: 0.1175\n",
            "Epoch 14/100\n",
            "602/602 [==============================] - 0s 475us/step - loss: 0.0571 - val_loss: 0.1126\n",
            "Epoch 15/100\n",
            "602/602 [==============================] - 0s 456us/step - loss: 0.0529 - val_loss: 0.1082\n",
            "Epoch 16/100\n",
            "602/602 [==============================] - 0s 486us/step - loss: 0.0492 - val_loss: 0.1045\n",
            "Epoch 17/100\n",
            "602/602 [==============================] - 0s 478us/step - loss: 0.0458 - val_loss: 0.1011\n",
            "Epoch 18/100\n",
            "602/602 [==============================] - 0s 499us/step - loss: 0.0428 - val_loss: 0.0981\n",
            "Epoch 19/100\n",
            "602/602 [==============================] - 0s 477us/step - loss: 0.0401 - val_loss: 0.0953\n",
            "Epoch 20/100\n",
            "602/602 [==============================] - 0s 508us/step - loss: 0.0376 - val_loss: 0.0929\n",
            "Epoch 21/100\n",
            "602/602 [==============================] - 0s 481us/step - loss: 0.0352 - val_loss: 0.0906\n",
            "Epoch 22/100\n",
            "602/602 [==============================] - 0s 484us/step - loss: 0.0331 - val_loss: 0.0884\n",
            "Epoch 23/100\n",
            "602/602 [==============================] - 0s 503us/step - loss: 0.0310 - val_loss: 0.0863\n",
            "Epoch 24/100\n",
            "602/602 [==============================] - 0s 437us/step - loss: 0.0292 - val_loss: 0.0844\n",
            "Epoch 25/100\n",
            "602/602 [==============================] - 0s 453us/step - loss: 0.0274 - val_loss: 0.0828\n",
            "Epoch 26/100\n",
            "602/602 [==============================] - 0s 461us/step - loss: 0.0257 - val_loss: 0.0811\n",
            "Epoch 27/100\n",
            "602/602 [==============================] - 0s 485us/step - loss: 0.0242 - val_loss: 0.0795\n",
            "Epoch 28/100\n",
            "602/602 [==============================] - 0s 434us/step - loss: 0.0227 - val_loss: 0.0782\n",
            "Epoch 29/100\n",
            "602/602 [==============================] - 0s 447us/step - loss: 0.0214 - val_loss: 0.0769\n",
            "Epoch 30/100\n",
            "602/602 [==============================] - 0s 459us/step - loss: 0.0201 - val_loss: 0.0757\n",
            "Epoch 31/100\n",
            "602/602 [==============================] - 0s 508us/step - loss: 0.0189 - val_loss: 0.0748\n",
            "Epoch 32/100\n",
            "602/602 [==============================] - 0s 446us/step - loss: 0.0178 - val_loss: 0.0740\n",
            "Epoch 33/100\n",
            "602/602 [==============================] - 0s 470us/step - loss: 0.0168 - val_loss: 0.0731\n",
            "Epoch 34/100\n",
            "602/602 [==============================] - 0s 481us/step - loss: 0.0159 - val_loss: 0.0724\n",
            "Epoch 35/100\n",
            "602/602 [==============================] - 0s 487us/step - loss: 0.0150 - val_loss: 0.0717\n",
            "Epoch 36/100\n",
            "602/602 [==============================] - 0s 473us/step - loss: 0.0142 - val_loss: 0.0711\n",
            "Epoch 37/100\n",
            "602/602 [==============================] - 0s 483us/step - loss: 0.0134 - val_loss: 0.0706\n",
            "Epoch 38/100\n",
            "602/602 [==============================] - 0s 497us/step - loss: 0.0127 - val_loss: 0.0700\n",
            "Epoch 39/100\n",
            "602/602 [==============================] - 0s 466us/step - loss: 0.0120 - val_loss: 0.0694\n",
            "Epoch 40/100\n",
            "602/602 [==============================] - 0s 465us/step - loss: 0.0114 - val_loss: 0.0690\n",
            "Epoch 41/100\n",
            "602/602 [==============================] - 0s 457us/step - loss: 0.0108 - val_loss: 0.0687\n",
            "Epoch 42/100\n",
            "602/602 [==============================] - 0s 492us/step - loss: 0.0103 - val_loss: 0.0684\n",
            "Epoch 43/100\n",
            "602/602 [==============================] - 0s 443us/step - loss: 0.0098 - val_loss: 0.0681\n",
            "Epoch 44/100\n",
            "602/602 [==============================] - 0s 482us/step - loss: 0.0093 - val_loss: 0.0678\n",
            "Epoch 45/100\n",
            "602/602 [==============================] - 0s 449us/step - loss: 0.0089 - val_loss: 0.0675\n",
            "Epoch 46/100\n",
            "602/602 [==============================] - 0s 495us/step - loss: 0.0084 - val_loss: 0.0673\n",
            "Epoch 47/100\n",
            "602/602 [==============================] - 0s 464us/step - loss: 0.0080 - val_loss: 0.0671\n",
            "Epoch 48/100\n",
            "602/602 [==============================] - 0s 490us/step - loss: 0.0077 - val_loss: 0.0670\n",
            "Epoch 49/100\n",
            "602/602 [==============================] - 0s 500us/step - loss: 0.0073 - val_loss: 0.0669\n",
            "Epoch 50/100\n",
            "602/602 [==============================] - 0s 536us/step - loss: 0.0070 - val_loss: 0.0668\n",
            "Epoch 51/100\n",
            "602/602 [==============================] - 0s 457us/step - loss: 0.0066 - val_loss: 0.0666\n",
            "Epoch 52/100\n",
            "602/602 [==============================] - 0s 481us/step - loss: 0.0063 - val_loss: 0.0666\n",
            "Epoch 53/100\n",
            "602/602 [==============================] - 0s 516us/step - loss: 0.0060 - val_loss: 0.0666\n",
            "Epoch 54/100\n",
            "602/602 [==============================] - 0s 487us/step - loss: 0.0058 - val_loss: 0.0665\n",
            "Epoch 55/100\n",
            "602/602 [==============================] - 0s 457us/step - loss: 0.0055 - val_loss: 0.0665\n",
            "Epoch 56/100\n",
            "602/602 [==============================] - 0s 456us/step - loss: 0.0053 - val_loss: 0.0665\n",
            "Epoch 57/100\n",
            "602/602 [==============================] - 0s 488us/step - loss: 0.0050 - val_loss: 0.0665\n",
            "Epoch 58/100\n",
            "602/602 [==============================] - 0s 480us/step - loss: 0.0048 - val_loss: 0.0665\n",
            "Epoch 59/100\n",
            "602/602 [==============================] - 0s 456us/step - loss: 0.0046 - val_loss: 0.0667\n",
            "Epoch 60/100\n",
            "602/602 [==============================] - 0s 455us/step - loss: 0.0044 - val_loss: 0.0666\n",
            "Epoch 61/100\n",
            "602/602 [==============================] - 0s 461us/step - loss: 0.0042 - val_loss: 0.0666\n",
            "Epoch 62/100\n",
            "602/602 [==============================] - 0s 469us/step - loss: 0.0041 - val_loss: 0.0666\n",
            "Epoch 63/100\n",
            "602/602 [==============================] - 0s 454us/step - loss: 0.0039 - val_loss: 0.0667\n",
            "Epoch 64/100\n",
            "602/602 [==============================] - 0s 478us/step - loss: 0.0037 - val_loss: 0.0669\n",
            "Epoch 65/100\n",
            "602/602 [==============================] - 0s 468us/step - loss: 0.0036 - val_loss: 0.0669\n",
            "Epoch 66/100\n",
            "602/602 [==============================] - 0s 493us/step - loss: 0.0034 - val_loss: 0.0669\n",
            "Epoch 67/100\n",
            "602/602 [==============================] - 0s 478us/step - loss: 0.0033 - val_loss: 0.0670\n",
            "Epoch 68/100\n",
            "602/602 [==============================] - 0s 468us/step - loss: 0.0032 - val_loss: 0.0670\n",
            "Epoch 69/100\n",
            "602/602 [==============================] - 0s 482us/step - loss: 0.0030 - val_loss: 0.0671\n",
            "Epoch 70/100\n",
            "602/602 [==============================] - 0s 493us/step - loss: 0.0029 - val_loss: 0.0672\n",
            "Epoch 71/100\n",
            "602/602 [==============================] - 0s 462us/step - loss: 0.0028 - val_loss: 0.0672\n",
            "Epoch 72/100\n",
            "602/602 [==============================] - 0s 468us/step - loss: 0.0028 - val_loss: 0.0675\n",
            "Epoch 73/100\n",
            "602/602 [==============================] - 0s 455us/step - loss: 0.0027 - val_loss: 0.0674\n",
            "Epoch 74/100\n",
            "602/602 [==============================] - 0s 507us/step - loss: 0.0026 - val_loss: 0.0676\n",
            "Epoch 75/100\n",
            "602/602 [==============================] - 0s 492us/step - loss: 0.0025 - val_loss: 0.0676\n",
            "Epoch 76/100\n",
            "602/602 [==============================] - 0s 454us/step - loss: 0.0024 - val_loss: 0.0677\n",
            "Epoch 77/100\n",
            "602/602 [==============================] - 0s 451us/step - loss: 0.0023 - val_loss: 0.0677\n",
            "Epoch 78/100\n",
            "602/602 [==============================] - 0s 450us/step - loss: 0.0023 - val_loss: 0.0678\n",
            "Epoch 79/100\n",
            "602/602 [==============================] - 0s 490us/step - loss: 0.0022 - val_loss: 0.0679\n",
            "Epoch 80/100\n",
            "602/602 [==============================] - 0s 468us/step - loss: 0.0022 - val_loss: 0.0679\n",
            "Epoch 81/100\n",
            "602/602 [==============================] - 0s 461us/step - loss: 0.0021 - val_loss: 0.0680\n",
            "Epoch 82/100\n",
            "602/602 [==============================] - 0s 463us/step - loss: 0.0020 - val_loss: 0.0681\n",
            "Epoch 83/100\n",
            "602/602 [==============================] - 0s 498us/step - loss: 0.0020 - val_loss: 0.0682\n",
            "Epoch 84/100\n",
            "602/602 [==============================] - 0s 549us/step - loss: 0.0019 - val_loss: 0.0683\n",
            "Epoch 85/100\n",
            "602/602 [==============================] - 0s 533us/step - loss: 0.0019 - val_loss: 0.0683\n",
            "Epoch 86/100\n",
            "602/602 [==============================] - 0s 560us/step - loss: 0.0018 - val_loss: 0.0683\n",
            "Epoch 87/100\n",
            "602/602 [==============================] - 0s 608us/step - loss: 0.0018 - val_loss: 0.0685\n",
            "Epoch 88/100\n",
            "602/602 [==============================] - 0s 581us/step - loss: 0.0018 - val_loss: 0.0685\n",
            "Epoch 89/100\n",
            "602/602 [==============================] - 0s 494us/step - loss: 0.0017 - val_loss: 0.0687\n",
            "Epoch 90/100\n",
            "602/602 [==============================] - 0s 498us/step - loss: 0.0017 - val_loss: 0.0686\n",
            "Epoch 91/100\n",
            "602/602 [==============================] - 0s 459us/step - loss: 0.0017 - val_loss: 0.0688\n",
            "Epoch 92/100\n",
            "602/602 [==============================] - 0s 484us/step - loss: 0.0016 - val_loss: 0.0687\n",
            "Epoch 93/100\n",
            "602/602 [==============================] - 0s 454us/step - loss: 0.0016 - val_loss: 0.0689\n",
            "Epoch 94/100\n",
            "602/602 [==============================] - 0s 462us/step - loss: 0.0016 - val_loss: 0.0690\n",
            "Epoch 95/100\n",
            "602/602 [==============================] - 0s 490us/step - loss: 0.0015 - val_loss: 0.0691\n",
            "Epoch 96/100\n",
            "602/602 [==============================] - 0s 463us/step - loss: 0.0015 - val_loss: 0.0689\n",
            "Epoch 97/100\n",
            "602/602 [==============================] - 0s 470us/step - loss: 0.0015 - val_loss: 0.0691\n",
            "Epoch 98/100\n",
            "602/602 [==============================] - 0s 449us/step - loss: 0.0014 - val_loss: 0.0691\n",
            "Epoch 99/100\n",
            "602/602 [==============================] - 0s 470us/step - loss: 0.0014 - val_loss: 0.0692\n",
            "Epoch 100/100\n",
            "602/602 [==============================] - 0s 457us/step - loss: 0.0014 - val_loss: 0.0691\n",
            "602/602 [==============================] - 0s 124us/step\n"
          ],
          "name": "stdout"
        },
        {
          "output_type": "display_data",
          "data": {
            "text/plain": [
              "'[test_loss]'"
            ]
          },
          "metadata": {
            "tags": []
          }
        },
        {
          "output_type": "display_data",
          "data": {
            "text/plain": [
              "0.0690806443397686"
            ]
          },
          "metadata": {
            "tags": []
          }
        }
      ]
    },
    {
      "metadata": {
        "id": "VJlKTdCIKqA_",
        "colab_type": "text"
      },
      "cell_type": "markdown",
      "source": [
        "Model 1 gives us a good result. We have a large gap (13 units) between the loss of the training set which has no anomalies  and the validation set which has ~50/50 normal/anomaly data.  We also have the training accuracy at 95% and the testing accuracy at 19%. "
      ]
    },
    {
      "metadata": {
        "id": "KKqXDodwih00",
        "colab_type": "code",
        "colab": {
          "base_uri": "https://localhost:8080/",
          "height": 3485
        },
        "cellView": "both",
        "outputId": "04d9936f-dfa5-4e14-efca-61afcae81869"
      },
      "cell_type": "code",
      "source": [
        "#@title Model 2 - LeakyRelu: Train/Test\n",
        "\n",
        "#Results with 40 sample of anomily every 40 samples\n",
        "full_anom = 0\n",
        "anom_samples = 40\n",
        "nb_epoch = 100 # a bit overkill but wanted to see how it progressed w more epochs \n",
        "batch_size = 32\n",
        "import keras\n",
        "autoencoder2.compile(optimizer='nadam', \n",
        "                    loss='mean_squared_error' \n",
        "                    #loss='kullback_leibler_divergence',\n",
        "                    )\n",
        "reduce_lr = keras.callbacks.ReduceLROnPlateau(monitor='loss', factor=0.2,min_lr=1e-6,min_delta=0.0001,\n",
        "                              patience=10,verbose = 1)\n",
        "\n",
        "checkpointer = ModelCheckpoint(filepath=\"model2.h5\",\n",
        "                               verbose=0,\n",
        "                               save_best_only=True)\n",
        "tensorboard = TensorBoard(log_dir='./logs',\n",
        "                          histogram_freq=0,\n",
        "                          write_graph=True,\n",
        "                          write_images=True)\n",
        "history2 = autoencoder2.fit(x_train2, x_train2,\n",
        "                    epochs=nb_epoch,\n",
        "                    batch_size=batch_size,\n",
        "                    validation_data=(x_test2, x_test2),\n",
        "                    validation_split=.1,\n",
        "                    shuffle=True,\n",
        "                    verbose=1,callbacks=[reduce_lr, checkpointer, tensorboard]).history \n",
        "\n",
        "score2 = autoencoder2.evaluate(x_test2, x_test2, batch_size=batch_size, verbose=1, sample_weight=None, steps=None)\n",
        "\n",
        "display('[test_loss]')\n",
        "display(score2)"
      ],
      "execution_count": 982,
      "outputs": [
        {
          "output_type": "stream",
          "text": [
            "Train on 602 samples, validate on 602 samples\n",
            "Epoch 1/100\n",
            "602/602 [==============================] - 2s 3ms/step - loss: 1.2949 - val_loss: 1.1078\n",
            "Epoch 2/100\n",
            "602/602 [==============================] - 0s 489us/step - loss: 1.0529 - val_loss: 1.0176\n",
            "Epoch 3/100\n",
            "602/602 [==============================] - 0s 483us/step - loss: 0.9374 - val_loss: 0.9712\n",
            "Epoch 4/100\n",
            "602/602 [==============================] - 0s 479us/step - loss: 0.8682 - val_loss: 0.9331\n",
            "Epoch 5/100\n",
            "602/602 [==============================] - 0s 497us/step - loss: 0.8147 - val_loss: 0.9043\n",
            "Epoch 6/100\n",
            "602/602 [==============================] - 0s 471us/step - loss: 0.7721 - val_loss: 0.8806\n",
            "Epoch 7/100\n",
            "602/602 [==============================] - 0s 477us/step - loss: 0.7368 - val_loss: 0.8607\n",
            "Epoch 8/100\n",
            "602/602 [==============================] - 0s 485us/step - loss: 0.7070 - val_loss: 0.8436\n",
            "Epoch 9/100\n",
            "602/602 [==============================] - 0s 544us/step - loss: 0.6814 - val_loss: 0.8286\n",
            "Epoch 10/100\n",
            "602/602 [==============================] - 0s 516us/step - loss: 0.6590 - val_loss: 0.8154\n",
            "Epoch 11/100\n",
            "602/602 [==============================] - 0s 536us/step - loss: 0.6392 - val_loss: 0.8036\n",
            "Epoch 12/100\n",
            "602/602 [==============================] - 0s 531us/step - loss: 0.6214 - val_loss: 0.7930\n",
            "Epoch 13/100\n",
            "602/602 [==============================] - 0s 520us/step - loss: 0.6052 - val_loss: 0.7834\n",
            "Epoch 14/100\n",
            "602/602 [==============================] - 0s 526us/step - loss: 0.5906 - val_loss: 0.7728\n",
            "Epoch 15/100\n",
            "602/602 [==============================] - 0s 535us/step - loss: 0.5772 - val_loss: 0.7602\n",
            "Epoch 16/100\n",
            "602/602 [==============================] - 0s 599us/step - loss: 0.5650 - val_loss: 0.7474\n",
            "Epoch 17/100\n",
            "602/602 [==============================] - 0s 590us/step - loss: 0.5538 - val_loss: 0.7360\n",
            "Epoch 18/100\n",
            "602/602 [==============================] - 0s 581us/step - loss: 0.5437 - val_loss: 0.7271\n",
            "Epoch 19/100\n",
            "602/602 [==============================] - 0s 581us/step - loss: 0.5343 - val_loss: 0.7205\n",
            "Epoch 20/100\n",
            "602/602 [==============================] - 0s 581us/step - loss: 0.5257 - val_loss: 0.7173\n",
            "Epoch 21/100\n",
            "602/602 [==============================] - 0s 579us/step - loss: 0.5178 - val_loss: 0.7150\n",
            "Epoch 22/100\n",
            "602/602 [==============================] - 0s 544us/step - loss: 0.5106 - val_loss: 0.7134\n",
            "Epoch 23/100\n",
            "602/602 [==============================] - 0s 546us/step - loss: 0.5042 - val_loss: 0.7072\n",
            "Epoch 24/100\n",
            "602/602 [==============================] - 0s 537us/step - loss: 0.4984 - val_loss: 0.6879\n",
            "Epoch 25/100\n",
            "602/602 [==============================] - 0s 556us/step - loss: 0.4934 - val_loss: 0.6706\n",
            "Epoch 26/100\n",
            "602/602 [==============================] - 0s 514us/step - loss: 0.4892 - val_loss: 0.6568\n",
            "Epoch 27/100\n",
            "602/602 [==============================] - 0s 516us/step - loss: 0.4856 - val_loss: 0.6449\n",
            "Epoch 28/100\n",
            "602/602 [==============================] - 0s 539us/step - loss: 0.4826 - val_loss: 0.6351\n",
            "Epoch 29/100\n",
            "602/602 [==============================] - 0s 550us/step - loss: 0.4801 - val_loss: 0.6268\n",
            "Epoch 30/100\n",
            "602/602 [==============================] - 0s 528us/step - loss: 0.4781 - val_loss: 0.6193\n",
            "Epoch 31/100\n",
            "602/602 [==============================] - 0s 552us/step - loss: 0.4765 - val_loss: 0.6136\n",
            "Epoch 32/100\n",
            "602/602 [==============================] - 0s 552us/step - loss: 0.4751 - val_loss: 0.6076\n",
            "Epoch 33/100\n",
            "602/602 [==============================] - 0s 550us/step - loss: 0.4739 - val_loss: 0.6022\n",
            "Epoch 34/100\n",
            "602/602 [==============================] - 0s 527us/step - loss: 0.4728 - val_loss: 0.5957\n",
            "Epoch 35/100\n",
            "602/602 [==============================] - 0s 579us/step - loss: 0.4718 - val_loss: 0.5892\n",
            "Epoch 36/100\n",
            "602/602 [==============================] - 0s 539us/step - loss: 0.4709 - val_loss: 0.5834\n",
            "Epoch 37/100\n",
            "602/602 [==============================] - 0s 533us/step - loss: 0.4699 - val_loss: 0.5776\n",
            "Epoch 38/100\n",
            "602/602 [==============================] - 0s 553us/step - loss: 0.4690 - val_loss: 0.5719\n",
            "Epoch 39/100\n",
            "602/602 [==============================] - 0s 553us/step - loss: 0.4681 - val_loss: 0.5654\n",
            "Epoch 40/100\n",
            "602/602 [==============================] - 0s 551us/step - loss: 0.4672 - val_loss: 0.5592\n",
            "Epoch 41/100\n",
            "602/602 [==============================] - 0s 591us/step - loss: 0.4663 - val_loss: 0.5546\n",
            "Epoch 42/100\n",
            "602/602 [==============================] - 0s 551us/step - loss: 0.4653 - val_loss: 0.5519\n",
            "Epoch 43/100\n",
            "602/602 [==============================] - 0s 513us/step - loss: 0.4644 - val_loss: 0.5498\n",
            "Epoch 44/100\n",
            "602/602 [==============================] - 0s 580us/step - loss: 0.4634 - val_loss: 0.5476\n",
            "Epoch 45/100\n",
            "602/602 [==============================] - 0s 540us/step - loss: 0.4624 - val_loss: 0.5453\n",
            "Epoch 46/100\n",
            "602/602 [==============================] - 0s 541us/step - loss: 0.4614 - val_loss: 0.5430\n",
            "Epoch 47/100\n",
            "602/602 [==============================] - 0s 550us/step - loss: 0.4603 - val_loss: 0.5410\n",
            "Epoch 48/100\n",
            "602/602 [==============================] - 0s 594us/step - loss: 0.4593 - val_loss: 0.5399\n",
            "Epoch 49/100\n",
            "602/602 [==============================] - 0s 483us/step - loss: 0.4581 - val_loss: 0.5388\n",
            "Epoch 50/100\n",
            "602/602 [==============================] - 0s 470us/step - loss: 0.4570 - val_loss: 0.5377\n",
            "Epoch 51/100\n",
            "602/602 [==============================] - 0s 508us/step - loss: 0.4558 - val_loss: 0.5366\n",
            "Epoch 52/100\n",
            "602/602 [==============================] - 0s 483us/step - loss: 0.4546 - val_loss: 0.5353\n",
            "Epoch 53/100\n",
            "602/602 [==============================] - 0s 480us/step - loss: 0.4534 - val_loss: 0.5342\n",
            "Epoch 54/100\n",
            "602/602 [==============================] - 0s 467us/step - loss: 0.4521 - val_loss: 0.5330\n",
            "Epoch 55/100\n",
            "602/602 [==============================] - 0s 498us/step - loss: 0.4508 - val_loss: 0.5316\n",
            "Epoch 56/100\n",
            "602/602 [==============================] - 0s 470us/step - loss: 0.4494 - val_loss: 0.5302\n",
            "Epoch 57/100\n",
            "602/602 [==============================] - 0s 476us/step - loss: 0.4479 - val_loss: 0.5289\n",
            "Epoch 58/100\n",
            "602/602 [==============================] - 0s 474us/step - loss: 0.4464 - val_loss: 0.5275\n",
            "Epoch 59/100\n",
            "602/602 [==============================] - 0s 489us/step - loss: 0.4449 - val_loss: 0.5261\n",
            "Epoch 60/100\n",
            "602/602 [==============================] - 0s 478us/step - loss: 0.4433 - val_loss: 0.5246\n",
            "Epoch 61/100\n",
            "602/602 [==============================] - 0s 498us/step - loss: 0.4416 - val_loss: 0.5230\n",
            "Epoch 62/100\n",
            "602/602 [==============================] - 0s 553us/step - loss: 0.4398 - val_loss: 0.5213\n",
            "Epoch 63/100\n",
            "602/602 [==============================] - 0s 499us/step - loss: 0.4380 - val_loss: 0.5197\n",
            "Epoch 64/100\n",
            "602/602 [==============================] - 0s 526us/step - loss: 0.4361 - val_loss: 0.5178\n",
            "Epoch 65/100\n",
            "602/602 [==============================] - 0s 500us/step - loss: 0.4342 - val_loss: 0.5161\n",
            "Epoch 66/100\n",
            "602/602 [==============================] - 0s 501us/step - loss: 0.4321 - val_loss: 0.5143\n",
            "Epoch 67/100\n",
            "602/602 [==============================] - 0s 495us/step - loss: 0.4300 - val_loss: 0.5124\n",
            "Epoch 68/100\n",
            "602/602 [==============================] - 0s 467us/step - loss: 0.4278 - val_loss: 0.5103\n",
            "Epoch 69/100\n",
            "602/602 [==============================] - 0s 511us/step - loss: 0.4255 - val_loss: 0.5083\n",
            "Epoch 70/100\n",
            "602/602 [==============================] - 0s 477us/step - loss: 0.4232 - val_loss: 0.5061\n",
            "Epoch 71/100\n",
            "602/602 [==============================] - 0s 462us/step - loss: 0.4207 - val_loss: 0.5041\n",
            "Epoch 72/100\n",
            "602/602 [==============================] - 0s 489us/step - loss: 0.4182 - val_loss: 0.5017\n",
            "Epoch 73/100\n",
            "602/602 [==============================] - 0s 519us/step - loss: 0.4156 - val_loss: 0.4994\n",
            "Epoch 74/100\n",
            "602/602 [==============================] - 0s 481us/step - loss: 0.4130 - val_loss: 0.4971\n",
            "Epoch 75/100\n",
            "602/602 [==============================] - 0s 483us/step - loss: 0.4102 - val_loss: 0.4946\n",
            "Epoch 76/100\n",
            "602/602 [==============================] - 0s 516us/step - loss: 0.4074 - val_loss: 0.4922\n",
            "Epoch 77/100\n",
            "602/602 [==============================] - 0s 479us/step - loss: 0.4045 - val_loss: 0.4896\n",
            "Epoch 78/100\n",
            "602/602 [==============================] - 0s 468us/step - loss: 0.4015 - val_loss: 0.4867\n",
            "Epoch 79/100\n",
            "602/602 [==============================] - 0s 474us/step - loss: 0.3985 - val_loss: 0.4841\n",
            "Epoch 80/100\n",
            "602/602 [==============================] - 0s 521us/step - loss: 0.3954 - val_loss: 0.4815\n",
            "Epoch 81/100\n",
            "602/602 [==============================] - 0s 482us/step - loss: 0.3922 - val_loss: 0.4786\n",
            "Epoch 82/100\n",
            "602/602 [==============================] - 0s 469us/step - loss: 0.3890 - val_loss: 0.4758\n",
            "Epoch 83/100\n",
            "602/602 [==============================] - 0s 464us/step - loss: 0.3858 - val_loss: 0.4732\n",
            "Epoch 84/100\n",
            "602/602 [==============================] - 0s 502us/step - loss: 0.3825 - val_loss: 0.4699\n",
            "Epoch 85/100\n",
            "602/602 [==============================] - 0s 479us/step - loss: 0.3790 - val_loss: 0.4672\n",
            "Epoch 86/100\n",
            "602/602 [==============================] - 0s 469us/step - loss: 0.3756 - val_loss: 0.4640\n",
            "Epoch 87/100\n",
            "602/602 [==============================] - 0s 496us/step - loss: 0.3721 - val_loss: 0.4609\n",
            "Epoch 88/100\n",
            "602/602 [==============================] - 0s 467us/step - loss: 0.3686 - val_loss: 0.4576\n",
            "Epoch 89/100\n",
            "602/602 [==============================] - 0s 490us/step - loss: 0.3651 - val_loss: 0.4549\n",
            "Epoch 90/100\n",
            "602/602 [==============================] - 0s 479us/step - loss: 0.3615 - val_loss: 0.4519\n",
            "Epoch 91/100\n",
            "602/602 [==============================] - 0s 544us/step - loss: 0.3578 - val_loss: 0.4488\n",
            "Epoch 92/100\n",
            "602/602 [==============================] - 0s 508us/step - loss: 0.3541 - val_loss: 0.4456\n",
            "Epoch 93/100\n",
            "602/602 [==============================] - 0s 538us/step - loss: 0.3504 - val_loss: 0.4426\n",
            "Epoch 94/100\n",
            "602/602 [==============================] - 0s 597us/step - loss: 0.3467 - val_loss: 0.4395\n",
            "Epoch 95/100\n",
            "602/602 [==============================] - 0s 583us/step - loss: 0.3429 - val_loss: 0.4365\n",
            "Epoch 96/100\n",
            "602/602 [==============================] - 0s 557us/step - loss: 0.3391 - val_loss: 0.4333\n",
            "Epoch 97/100\n",
            "602/602 [==============================] - 0s 512us/step - loss: 0.3352 - val_loss: 0.4304\n",
            "Epoch 98/100\n",
            "602/602 [==============================] - 0s 488us/step - loss: 0.3314 - val_loss: 0.4272\n",
            "Epoch 99/100\n",
            "602/602 [==============================] - 0s 478us/step - loss: 0.3275 - val_loss: 0.4240\n",
            "Epoch 100/100\n",
            "602/602 [==============================] - 0s 489us/step - loss: 0.3236 - val_loss: 0.4202\n",
            "602/602 [==============================] - 0s 122us/step\n"
          ],
          "name": "stdout"
        },
        {
          "output_type": "display_data",
          "data": {
            "text/plain": [
              "'[test_loss]'"
            ]
          },
          "metadata": {
            "tags": []
          }
        },
        {
          "output_type": "display_data",
          "data": {
            "text/plain": [
              "0.42015900237615716"
            ]
          },
          "metadata": {
            "tags": []
          }
        }
      ]
    },
    {
      "metadata": {
        "id": "3z8fIVWSBK1K",
        "colab_type": "code",
        "colab": {
          "base_uri": "https://localhost:8080/",
          "height": 3519
        },
        "outputId": "3808f588-9f40-4be7-83b9-0b5915db94a3"
      },
      "cell_type": "code",
      "source": [
        "#@title Model 3 - Elu Maxout: Train/Test\n",
        "\n",
        "#Results with 40 sample of anomily every 40 samples\n",
        "full_anom = 0\n",
        "anom_samples = 40\n",
        "nb_epoch = 100 # a bit overkill but wanted to see how it progressed w more epochs \n",
        "batch_size = 32\n",
        "import keras\n",
        "autoencoder3.compile(optimizer='nadam', \n",
        "                    loss='mean_squared_error' \n",
        "                    #loss='kullback_leibler_divergence',\n",
        "                    )\n",
        "reduce_lr = keras.callbacks.ReduceLROnPlateau(monitor='loss', factor=0.2,min_lr=1e-6,min_delta=0.0001,\n",
        "                              patience=10,verbose = 1)\n",
        "\n",
        "checkpointer = ModelCheckpoint(filepath=\"model2.h5\",\n",
        "                               verbose=0,\n",
        "                               save_best_only=True)\n",
        "tensorboard = TensorBoard(log_dir='./logs',\n",
        "                          histogram_freq=0,\n",
        "                          write_graph=True,\n",
        "                          write_images=True)\n",
        "history3 = autoencoder3.fit(x_train2, x_train2,\n",
        "                    epochs=nb_epoch,\n",
        "                    batch_size=batch_size,\n",
        "                    validation_data=(x_test2, x_test2),\n",
        "                    validation_split=.1,\n",
        "                    shuffle=True,\n",
        "                    verbose=1,callbacks=[reduce_lr, checkpointer, tensorboard]).history \n",
        "\n",
        "score2 = autoencoder3.evaluate(x_test2, x_test2, batch_size=batch_size, verbose=1, sample_weight=None, steps=None)\n",
        "\n",
        "display('[test_loss]')\n",
        "display(score2)"
      ],
      "execution_count": 983,
      "outputs": [
        {
          "output_type": "stream",
          "text": [
            "Train on 602 samples, validate on 602 samples\n",
            "Epoch 1/100\n",
            "602/602 [==============================] - 2s 4ms/step - loss: 0.8220 - val_loss: 0.7496\n",
            "Epoch 2/100\n",
            "602/602 [==============================] - 0s 559us/step - loss: 0.7023 - val_loss: 0.6412\n",
            "Epoch 3/100\n",
            "602/602 [==============================] - 0s 546us/step - loss: 0.6019 - val_loss: 0.5569\n",
            "Epoch 4/100\n",
            "602/602 [==============================] - 0s 552us/step - loss: 0.5109 - val_loss: 0.4804\n",
            "Epoch 5/100\n",
            "602/602 [==============================] - 0s 585us/step - loss: 0.4272 - val_loss: 0.4191\n",
            "Epoch 6/100\n",
            "602/602 [==============================] - 0s 534us/step - loss: 0.3509 - val_loss: 0.3554\n",
            "Epoch 7/100\n",
            "602/602 [==============================] - 0s 572us/step - loss: 0.2824 - val_loss: 0.3087\n",
            "Epoch 8/100\n",
            "602/602 [==============================] - 0s 572us/step - loss: 0.2261 - val_loss: 0.2663\n",
            "Epoch 9/100\n",
            "602/602 [==============================] - 0s 565us/step - loss: 0.1790 - val_loss: 0.2328\n",
            "Epoch 10/100\n",
            "602/602 [==============================] - 0s 572us/step - loss: 0.1414 - val_loss: 0.2041\n",
            "Epoch 11/100\n",
            "602/602 [==============================] - 0s 597us/step - loss: 0.1107 - val_loss: 0.1792\n",
            "Epoch 12/100\n",
            "602/602 [==============================] - 0s 538us/step - loss: 0.0860 - val_loss: 0.1607\n",
            "Epoch 13/100\n",
            "602/602 [==============================] - 0s 572us/step - loss: 0.0669 - val_loss: 0.1422\n",
            "Epoch 14/100\n",
            "602/602 [==============================] - 0s 619us/step - loss: 0.0527 - val_loss: 0.1316\n",
            "Epoch 15/100\n",
            "602/602 [==============================] - 0s 582us/step - loss: 0.0430 - val_loss: 0.1251\n",
            "Epoch 16/100\n",
            "602/602 [==============================] - 0s 560us/step - loss: 0.0363 - val_loss: 0.1242\n",
            "Epoch 17/100\n",
            "602/602 [==============================] - 0s 558us/step - loss: 0.0318 - val_loss: 0.1255\n",
            "Epoch 18/100\n",
            "602/602 [==============================] - 0s 579us/step - loss: 0.0286 - val_loss: 0.1178\n",
            "Epoch 19/100\n",
            "602/602 [==============================] - 0s 554us/step - loss: 0.0262 - val_loss: 0.1219\n",
            "Epoch 20/100\n",
            "602/602 [==============================] - 0s 528us/step - loss: 0.0243 - val_loss: 0.1263\n",
            "Epoch 21/100\n",
            "602/602 [==============================] - 0s 563us/step - loss: 0.0228 - val_loss: 0.1299\n",
            "Epoch 22/100\n",
            "602/602 [==============================] - 0s 558us/step - loss: 0.0215 - val_loss: 0.1347\n",
            "Epoch 23/100\n",
            "602/602 [==============================] - 0s 551us/step - loss: 0.0205 - val_loss: 0.1392\n",
            "Epoch 24/100\n",
            "602/602 [==============================] - 0s 548us/step - loss: 0.0196 - val_loss: 0.1435\n",
            "Epoch 25/100\n",
            "602/602 [==============================] - 0s 563us/step - loss: 0.0188 - val_loss: 0.1479\n",
            "Epoch 26/100\n",
            "602/602 [==============================] - 0s 537us/step - loss: 0.0181 - val_loss: 0.1535\n",
            "Epoch 27/100\n",
            "602/602 [==============================] - 0s 537us/step - loss: 0.0176 - val_loss: 0.1587\n",
            "Epoch 28/100\n",
            "602/602 [==============================] - 0s 569us/step - loss: 0.0170 - val_loss: 0.1640\n",
            "Epoch 29/100\n",
            "602/602 [==============================] - 0s 560us/step - loss: 0.0164 - val_loss: 0.1666\n",
            "Epoch 30/100\n",
            "602/602 [==============================] - 0s 566us/step - loss: 0.0159 - val_loss: 0.1721\n",
            "Epoch 31/100\n",
            "602/602 [==============================] - 0s 578us/step - loss: 0.0155 - val_loss: 0.1769\n",
            "Epoch 32/100\n",
            "602/602 [==============================] - 0s 572us/step - loss: 0.0150 - val_loss: 0.1802\n",
            "Epoch 33/100\n",
            "602/602 [==============================] - 0s 547us/step - loss: 0.0146 - val_loss: 0.1830\n",
            "Epoch 34/100\n",
            "602/602 [==============================] - 0s 548us/step - loss: 0.0141 - val_loss: 0.1866\n",
            "Epoch 35/100\n",
            "602/602 [==============================] - 0s 554us/step - loss: 0.0149 - val_loss: 0.1834\n",
            "Epoch 36/100\n",
            "602/602 [==============================] - 0s 569us/step - loss: 0.0134 - val_loss: 0.1873\n",
            "Epoch 37/100\n",
            "602/602 [==============================] - 0s 601us/step - loss: 0.0130 - val_loss: 0.1904\n",
            "Epoch 38/100\n",
            "602/602 [==============================] - 0s 567us/step - loss: 0.0125 - val_loss: 0.1986\n",
            "Epoch 39/100\n",
            "602/602 [==============================] - 0s 574us/step - loss: 0.0117 - val_loss: 0.1988\n",
            "Epoch 40/100\n",
            "602/602 [==============================] - 0s 539us/step - loss: 0.0110 - val_loss: 0.2047\n",
            "Epoch 41/100\n",
            "602/602 [==============================] - 0s 534us/step - loss: 0.0105 - val_loss: 0.1973\n",
            "Epoch 42/100\n",
            "602/602 [==============================] - 0s 555us/step - loss: 0.0096 - val_loss: 0.1994\n",
            "Epoch 43/100\n",
            "602/602 [==============================] - 0s 580us/step - loss: 0.0089 - val_loss: 0.2002\n",
            "Epoch 44/100\n",
            "602/602 [==============================] - 0s 552us/step - loss: 0.0083 - val_loss: 0.2049\n",
            "Epoch 45/100\n",
            "602/602 [==============================] - 0s 544us/step - loss: 0.0074 - val_loss: 0.2061\n",
            "Epoch 46/100\n",
            "602/602 [==============================] - 0s 553us/step - loss: 0.0065 - val_loss: 0.2091\n",
            "Epoch 47/100\n",
            "602/602 [==============================] - 0s 551us/step - loss: 0.0058 - val_loss: 0.2125\n",
            "Epoch 48/100\n",
            "602/602 [==============================] - 0s 561us/step - loss: 0.0051 - val_loss: 0.2127\n",
            "Epoch 49/100\n",
            "602/602 [==============================] - 0s 552us/step - loss: 0.0045 - val_loss: 0.2132\n",
            "Epoch 50/100\n",
            "602/602 [==============================] - 0s 584us/step - loss: 0.0040 - val_loss: 0.2121\n",
            "Epoch 51/100\n",
            "602/602 [==============================] - 0s 552us/step - loss: 0.0036 - val_loss: 0.2122\n",
            "Epoch 52/100\n",
            "602/602 [==============================] - 0s 550us/step - loss: 0.0033 - val_loss: 0.2126\n",
            "Epoch 53/100\n",
            "602/602 [==============================] - 0s 524us/step - loss: 0.0030 - val_loss: 0.2093\n",
            "Epoch 54/100\n",
            "602/602 [==============================] - 0s 568us/step - loss: 0.0028 - val_loss: 0.2076\n",
            "Epoch 55/100\n",
            "602/602 [==============================] - 0s 539us/step - loss: 0.0026 - val_loss: 0.2058\n",
            "Epoch 56/100\n",
            "602/602 [==============================] - 0s 556us/step - loss: 0.0024 - val_loss: 0.2070\n",
            "Epoch 57/100\n",
            "602/602 [==============================] - 0s 573us/step - loss: 0.0023 - val_loss: 0.2050\n",
            "Epoch 58/100\n",
            "602/602 [==============================] - 0s 525us/step - loss: 0.0022 - val_loss: 0.2079\n",
            "Epoch 59/100\n",
            "602/602 [==============================] - 0s 539us/step - loss: 0.0022 - val_loss: 0.2067\n",
            "Epoch 60/100\n",
            "602/602 [==============================] - 0s 535us/step - loss: 0.0020 - val_loss: 0.2095\n",
            "Epoch 61/100\n",
            "602/602 [==============================] - 0s 596us/step - loss: 0.0019 - val_loss: 0.2086\n",
            "Epoch 62/100\n",
            "602/602 [==============================] - 0s 603us/step - loss: 0.0019 - val_loss: 0.2115\n",
            "Epoch 63/100\n",
            "602/602 [==============================] - 0s 609us/step - loss: 0.0018 - val_loss: 0.2100\n",
            "Epoch 64/100\n",
            "602/602 [==============================] - 0s 611us/step - loss: 0.0017 - val_loss: 0.2128\n",
            "Epoch 65/100\n",
            "602/602 [==============================] - 0s 615us/step - loss: 0.0016 - val_loss: 0.2119\n",
            "Epoch 66/100\n",
            "602/602 [==============================] - 0s 593us/step - loss: 0.0016 - val_loss: 0.2149\n",
            "Epoch 67/100\n",
            "602/602 [==============================] - 0s 572us/step - loss: 0.0016 - val_loss: 0.2142\n",
            "Epoch 68/100\n",
            "602/602 [==============================] - 0s 602us/step - loss: 0.0015 - val_loss: 0.2168\n",
            "Epoch 69/100\n",
            "602/602 [==============================] - 0s 553us/step - loss: 0.0014 - val_loss: 0.2163\n",
            "Epoch 70/100\n",
            "602/602 [==============================] - 0s 562us/step - loss: 0.0015 - val_loss: 0.2198\n",
            "Epoch 71/100\n",
            "602/602 [==============================] - 0s 559us/step - loss: 0.0013 - val_loss: 0.2173\n",
            "Epoch 72/100\n",
            "602/602 [==============================] - 0s 556us/step - loss: 0.0013 - val_loss: 0.2184\n",
            "Epoch 73/100\n",
            "602/602 [==============================] - 0s 549us/step - loss: 0.0013 - val_loss: 0.2166\n",
            "Epoch 74/100\n",
            "602/602 [==============================] - 0s 558us/step - loss: 0.0014 - val_loss: 0.2206\n",
            "Epoch 75/100\n",
            "602/602 [==============================] - 0s 562us/step - loss: 0.0013 - val_loss: 0.2189\n",
            "Epoch 76/100\n",
            "602/602 [==============================] - 0s 554us/step - loss: 0.0012 - val_loss: 0.2213\n",
            "Epoch 77/100\n",
            "602/602 [==============================] - 0s 551us/step - loss: 0.0014 - val_loss: 0.2196\n",
            "Epoch 78/100\n",
            "602/602 [==============================] - 0s 564us/step - loss: 0.0012 - val_loss: 0.2210\n",
            "Epoch 79/100\n",
            "602/602 [==============================] - 0s 595us/step - loss: 0.0012 - val_loss: 0.2182\n",
            "Epoch 80/100\n",
            "602/602 [==============================] - 0s 565us/step - loss: 0.0013 - val_loss: 0.2211\n",
            "Epoch 81/100\n",
            "602/602 [==============================] - 0s 552us/step - loss: 0.0011 - val_loss: 0.2188\n",
            "Epoch 82/100\n",
            "602/602 [==============================] - 0s 591us/step - loss: 0.0011 - val_loss: 0.2208\n",
            "Epoch 83/100\n",
            "602/602 [==============================] - 0s 566us/step - loss: 0.0011 - val_loss: 0.2187\n",
            "Epoch 84/100\n",
            "602/602 [==============================] - 0s 536us/step - loss: 0.0012 - val_loss: 0.2208\n",
            "Epoch 85/100\n",
            "602/602 [==============================] - 0s 572us/step - loss: 0.0011 - val_loss: 0.2168\n",
            "Epoch 86/100\n",
            "602/602 [==============================] - 0s 601us/step - loss: 0.0011 - val_loss: 0.2204\n",
            "Epoch 87/100\n",
            "602/602 [==============================] - 0s 578us/step - loss: 0.0011 - val_loss: 0.2169\n",
            "Epoch 88/100\n",
            "602/602 [==============================] - 0s 548us/step - loss: 9.4874e-04 - val_loss: 0.2190\n",
            "Epoch 89/100\n",
            "602/602 [==============================] - 0s 594us/step - loss: 0.0010 - val_loss: 0.2168\n",
            "Epoch 90/100\n",
            "602/602 [==============================] - 0s 551us/step - loss: 0.0010 - val_loss: 0.2207\n",
            "Epoch 91/100\n",
            "602/602 [==============================] - 0s 559us/step - loss: 0.0010 - val_loss: 0.2157\n",
            "Epoch 92/100\n",
            "602/602 [==============================] - 0s 556us/step - loss: 8.8718e-04 - val_loss: 0.2170\n",
            "Epoch 93/100\n",
            "602/602 [==============================] - 0s 574us/step - loss: 9.2885e-04 - val_loss: 0.2149\n",
            "Epoch 94/100\n",
            "602/602 [==============================] - 0s 555us/step - loss: 9.4151e-04 - val_loss: 0.2182\n",
            "Epoch 95/100\n",
            "602/602 [==============================] - 0s 558us/step - loss: 9.1077e-04 - val_loss: 0.2153\n",
            "Epoch 96/100\n",
            "602/602 [==============================] - 0s 543us/step - loss: 9.2003e-04 - val_loss: 0.2172\n",
            "Epoch 97/100\n",
            "602/602 [==============================] - 0s 542us/step - loss: 8.5274e-04 - val_loss: 0.2144\n",
            "Epoch 98/100\n",
            "602/602 [==============================] - 0s 547us/step - loss: 9.2777e-04 - val_loss: 0.2168\n",
            "\n",
            "Epoch 00098: ReduceLROnPlateau reducing learning rate to 0.0004000000189989805.\n",
            "Epoch 99/100\n",
            "602/602 [==============================] - 0s 544us/step - loss: 7.7101e-04 - val_loss: 0.2149\n",
            "Epoch 100/100\n",
            "602/602 [==============================] - 0s 589us/step - loss: 7.6010e-04 - val_loss: 0.2150\n",
            "602/602 [==============================] - 0s 160us/step\n"
          ],
          "name": "stdout"
        },
        {
          "output_type": "display_data",
          "data": {
            "text/plain": [
              "'[test_loss]'"
            ]
          },
          "metadata": {
            "tags": []
          }
        },
        {
          "output_type": "display_data",
          "data": {
            "text/plain": [
              "0.21495402678290376"
            ]
          },
          "metadata": {
            "tags": []
          }
        }
      ]
    },
    {
      "metadata": {
        "id": "ver4uGl7ROSu",
        "colab_type": "text"
      },
      "cell_type": "markdown",
      "source": [
        "Model 2 gives us a good result. We have a large gap (30 units) between the loss of the training set which has no anomalies  and the validation set which has ~50/50 normal/anomaly data.  We also have the training accuracy at 95% and the testing accuracy at 27%. \n",
        "\n",
        "We  see that the second model has a much larger gap in the loss but a smaller gap between the accuracies. "
      ]
    },
    {
      "metadata": {
        "id": "e8QD5MuQX-xc",
        "colab_type": "text"
      },
      "cell_type": "markdown",
      "source": [
        "## **Model Evaluations**"
      ]
    },
    {
      "metadata": {
        "id": "AVeSq6nUqU-a",
        "colab_type": "code",
        "colab": {
          "base_uri": "https://localhost:8080/",
          "height": 376
        },
        "cellView": "code",
        "outputId": "477c84a0-40fd-49b3-c5cb-6313de973042"
      },
      "cell_type": "code",
      "source": [
        "#@title Default title text\n",
        "plt.plot(history['loss'][0:100])\n",
        "plt.plot(history['val_loss'][0:100])\n",
        "plt.plot(history2['loss'][0:100])\n",
        "plt.plot(history2['val_loss'][0:100])\n",
        "plt.plot(history3['loss'][0:100])\n",
        "plt.plot(history3['val_loss'][0:100])\n",
        "plt.title('model losses')\n",
        "plt.ylabel('loss')\n",
        "plt.xlabel('epoch')\n",
        "plt.legend(['train', 'test','train2', 'test2','train3', 'test3'], loc='upper right');\n",
        "\n"
      ],
      "execution_count": 984,
      "outputs": [
        {
          "output_type": "display_data",
          "data": {
            "image/png": "[encoded data removed]",
            "text/plain": [
              "<matplotlib.figure.Figure at 0x7ff44c5effd0>"
            ]
          },
          "metadata": {
            "tags": []
          }
        }
      ]
    },
    {
      "metadata": {
        "id": "7nn-OSP4PI1d",
        "colab_type": "text"
      },
      "cell_type": "markdown",
      "source": [
        "Here we usually see a large(separable) gap in model losses. When the random starting cisoid parameters are not ideal the training set can actually have a higer loss than the test set. This is something  that needs to be fixed. Of all the times I have ran the code though I have not seen an instance where the test accuracy is consistantly higher than the train accuracy. It may be higher on the first eopch. "
      ]
    },
    {
      "metadata": {
        "id": "MO_MwWZozZZa",
        "colab_type": "text"
      },
      "cell_type": "markdown",
      "source": [
        "Here we see the large(separable) gap in model losses. "
      ]
    },
    {
      "metadata": {
        "id": "6g2xPivClyfH",
        "colab_type": "code",
        "colab": {
          "base_uri": "https://localhost:8080/",
          "height": 297
        },
        "cellView": "both",
        "outputId": "ce752da7-c301-40fd-ea72-db89d0de50a1"
      },
      "cell_type": "code",
      "source": [
        "#@title Data Statistics\n",
        "\n",
        "# Model 1 \n",
        "predictions = autoencoder.predict(x_test2,batch_size=32)\n",
        "mse = np.mean(np.power(x_test2 - predictions, 2), axis=1)\n",
        "#acc = K.categorical_accuracy(x_test,predictions)\n",
        "error_df = pd.DataFrame({'reconstruction_error': mse,\n",
        "                         'true_class': np.array(y_test)})\n",
        "\n",
        "display(error_df.describe())\n",
        "\n",
        "# # Model 2 \n",
        "\n",
        "# predictions2 = autoencoder2.predict(x_test2,batch_size=32)\n",
        "# mse2 = np.mean(np.power(x_test2 - predictions2, 2), axis=1)\n",
        "# error_df2 = pd.DataFrame({'reconstruction_error': mse2,\n",
        "#                          'true_class': np.array(y_test)})\n",
        "\n",
        "# error_df2.describe()"
      ],
      "execution_count": 985,
      "outputs": [
        {
          "output_type": "display_data",
          "data": {
            "text/html": [
              "<div>\n",
              "<style scoped>\n",
              "    .dataframe tbody tr th:only-of-type {\n",
              "        vertical-align: middle;\n",
              "    }\n",
              "\n",
              "    .dataframe tbody tr th {\n",
              "        vertical-align: top;\n",
              "    }\n",
              "\n",
              "    .dataframe thead th {\n",
              "        text-align: right;\n",
              "    }\n",
              "</style>\n",
              "<table border=\"1\" class=\"dataframe\">\n",
              "  <thead>\n",
              "    <tr style=\"text-align: right;\">\n",
              "      <th></th>\n",
              "      <th>reconstruction_error</th>\n",
              "      <th>true_class</th>\n",
              "    </tr>\n",
              "  </thead>\n",
              "  <tbody>\n",
              "    <tr>\n",
              "      <th>count</th>\n",
              "      <td>602.000000</td>\n",
              "      <td>602.000000</td>\n",
              "    </tr>\n",
              "    <tr>\n",
              "      <th>mean</th>\n",
              "      <td>0.061898</td>\n",
              "      <td>0.511628</td>\n",
              "    </tr>\n",
              "    <tr>\n",
              "      <th>std</th>\n",
              "      <td>0.074983</td>\n",
              "      <td>0.500280</td>\n",
              "    </tr>\n",
              "    <tr>\n",
              "      <th>min</th>\n",
              "      <td>0.000190</td>\n",
              "      <td>0.000000</td>\n",
              "    </tr>\n",
              "    <tr>\n",
              "      <th>25%</th>\n",
              "      <td>0.000195</td>\n",
              "      <td>0.000000</td>\n",
              "    </tr>\n",
              "    <tr>\n",
              "      <th>50%</th>\n",
              "      <td>0.000361</td>\n",
              "      <td>1.000000</td>\n",
              "    </tr>\n",
              "    <tr>\n",
              "      <th>75%</th>\n",
              "      <td>0.152940</td>\n",
              "      <td>1.000000</td>\n",
              "    </tr>\n",
              "    <tr>\n",
              "      <th>max</th>\n",
              "      <td>0.153142</td>\n",
              "      <td>1.000000</td>\n",
              "    </tr>\n",
              "  </tbody>\n",
              "</table>\n",
              "</div>"
            ],
            "text/plain": [
              "       reconstruction_error  true_class\n",
              "count            602.000000  602.000000\n",
              "mean               0.061898    0.511628\n",
              "std                0.074983    0.500280\n",
              "min                0.000190    0.000000\n",
              "25%                0.000195    0.000000\n",
              "50%                0.000361    1.000000\n",
              "75%                0.152940    1.000000\n",
              "max                0.153142    1.000000"
            ]
          },
          "metadata": {
            "tags": []
          }
        }
      ]
    },
    {
      "metadata": {
        "id": "tpGDX1NGiNda",
        "colab_type": "text"
      },
      "cell_type": "markdown",
      "source": [
        "**Reconstruction error without Anomaly**"
      ]
    },
    {
      "metadata": {
        "id": "Jnx1SYsdXKjA",
        "colab_type": "code",
        "colab": {
          "base_uri": "https://localhost:8080/",
          "height": 34
        },
        "outputId": "b49a6942-4636-4b68-8469-3a6721a3d6f3"
      },
      "cell_type": "code",
      "source": [
        "import tensorflow as tf\n",
        "from tensorflow.python.keras import backend as K\n",
        "\n",
        "\n",
        "acc = keras.metrics.categorical_accuracy(x_test2,predictions)\n",
        "sess = K.get_session()\n",
        "array = sess.run(acc)\n",
        "\n",
        "test_accuracy = np.logical_xor(array,np.array(y_test))\n",
        "np.sum(test_accuracy)\n",
        "\n"
      ],
      "execution_count": 986,
      "outputs": [
        {
          "output_type": "execute_result",
          "data": {
            "text/plain": [
              "537"
            ]
          },
          "metadata": {
            "tags": []
          },
          "execution_count": 986
        }
      ]
    },
    {
      "metadata": {
        "id": "xk24UhdciE0y",
        "colab_type": "code",
        "colab": {
          "base_uri": "https://localhost:8080/",
          "height": 348
        },
        "outputId": "77a13282-5eaf-48da-faf1-5912da36ff0a"
      },
      "cell_type": "code",
      "source": [
        "fig = plt.figure()\n",
        "ax = fig.add_subplot(111)\n",
        "normal_error_df = error_df[(error_df['true_class']== 0) & (error_df['reconstruction_error'] < 10)]\n",
        "_ = ax.hist(normal_error_df.reconstruction_error.values, bins=10)"
      ],
      "execution_count": 987,
      "outputs": [
        {
          "output_type": "display_data",
          "data": {
            "image/png": "[encoded data removed]",
            "text/plain": [
              "<matplotlib.figure.Figure at 0x7ff45f1d59b0>"
            ]
          },
          "metadata": {
            "tags": []
          }
        }
      ]
    },
    {
      "metadata": {
        "id": "x1Xx9JOa1p7P",
        "colab_type": "code",
        "colab": {
          "base_uri": "https://localhost:8080/",
          "height": 348
        },
        "outputId": "21a2b39b-e566-41da-80b6-f25a2ae32d0a"
      },
      "cell_type": "code",
      "source": [
        "fig = plt.figure()\n",
        "ax = fig.add_subplot(111)\n",
        "tmp = removeOutliers(normal_error_df.reconstruction_error.values,1)\n",
        "n, bins, patches = ax.hist(tmp, bins=10)"
      ],
      "execution_count": 988,
      "outputs": [
        {
          "output_type": "display_data",
          "data": {
            "image/png": "[encoded data removed]",
            "text/plain": [
              "<matplotlib.figure.Figure at 0x7ff47c009908>"
            ]
          },
          "metadata": {
            "tags": []
          }
        }
      ]
    },
    {
      "metadata": {
        "id": "7MeL-vqSiQ6t",
        "colab_type": "text"
      },
      "cell_type": "markdown",
      "source": [
        "**Reconstruction error with Anomaly**"
      ]
    },
    {
      "metadata": {
        "id": "nz0D8NDk1GQT",
        "colab_type": "code",
        "colab": {}
      },
      "cell_type": "code",
      "source": [
        ""
      ],
      "execution_count": 0,
      "outputs": []
    },
    {
      "metadata": {
        "id": "sf36f-tP1Hfj",
        "colab_type": "code",
        "colab": {}
      },
      "cell_type": "code",
      "source": [
        ""
      ],
      "execution_count": 0,
      "outputs": []
    },
    {
      "metadata": {
        "id": "EHz1hj1GiTyF",
        "colab_type": "code",
        "colab": {
          "base_uri": "https://localhost:8080/",
          "height": 347
        },
        "outputId": "223727b9-0ca1-4495-b8ec-d5520b75d219"
      },
      "cell_type": "code",
      "source": [
        "fig = plt.figure()\n",
        "ax = fig.add_subplot(111)\n",
        "anomaly_error_df = error_df[error_df['true_class'] == 1]\n",
        "_ = ax.hist(anomaly_error_df.reconstruction_error.values, bins=10)"
      ],
      "execution_count": 989,
      "outputs": [
        {
          "output_type": "display_data",
          "data": {
            "image/png": "[encoded data removed]",
            "text/plain": [
              "<matplotlib.figure.Figure at 0x7ff470cce518>"
            ]
          },
          "metadata": {
            "tags": []
          }
        }
      ]
    },
    {
      "metadata": {
        "id": "uvO2DOR1T7O3",
        "colab_type": "code",
        "colab": {}
      },
      "cell_type": "code",
      "source": [
        "threshold1 = (np.median(normal_error_df['reconstruction_error']) + np.median(anomaly_error_df['reconstruction_error']))/2"
      ],
      "execution_count": 0,
      "outputs": []
    },
    {
      "metadata": {
        "id": "rb7w8TAi2VWh",
        "colab_type": "code",
        "colab": {}
      },
      "cell_type": "code",
      "source": [
        "#threshold1 = np.median(np.hstack((normal_error_df['reconstruction_error'] , anomaly_error_df['reconstruction_error'])))"
      ],
      "execution_count": 0,
      "outputs": []
    },
    {
      "metadata": {
        "id": "Vv-kQTeG24nu",
        "colab_type": "code",
        "colab": {
          "base_uri": "https://localhost:8080/",
          "height": 34
        },
        "outputId": "708d22ff-2516-4616-d46e-369646c41dc9"
      },
      "cell_type": "code",
      "source": [
        "threshold1.shape"
      ],
      "execution_count": 992,
      "outputs": [
        {
          "output_type": "execute_result",
          "data": {
            "text/plain": [
              "()"
            ]
          },
          "metadata": {
            "tags": []
          },
          "execution_count": 992
        }
      ]
    },
    {
      "metadata": {
        "id": "YHjJFFSCoZLD",
        "colab_type": "code",
        "colab": {
          "base_uri": "https://localhost:8080/",
          "height": 376
        },
        "outputId": "50cdae9d-3b33-4df6-af10-7563cd1bf586"
      },
      "cell_type": "code",
      "source": [
        "from sklearn.metrics import (confusion_matrix, precision_recall_curve, auc,\n",
        "                             roc_curve, recall_score, classification_report, f1_score,\n",
        "                             precision_recall_fscore_support)\n",
        "\n",
        "fpr, tpr, thresholds = roc_curve(error_df.true_class, error_df.reconstruction_error)\n",
        "roc_auc = auc(fpr, tpr)\n",
        "\n",
        "#fpr2, tpr2, thresholds2 = roc_curve(error_df2.true_class, error_df2.reconstruction_error)\n",
        "#roc_auc2 = auc(fpr2, tpr2)\n",
        "\n",
        "plt.title('Receiver Operating Characteristic')\n",
        "plt.plot(fpr, tpr, label='AUC = %0.4f'% roc_auc)\n",
        "#plt.plot(fpr2, tpr2, 'go',label='AUC 2 = %0.4f'% roc_auc2)\n",
        "\n",
        "plt.legend(loc='lower right')\n",
        "plt.plot([0,1],[0,1],'r--')\n",
        "plt.xlim([-0.001, 1])\n",
        "plt.ylim([0, 1.001])\n",
        "plt.ylabel('True Positive Rate')\n",
        "plt.xlabel('False Positive Rate')\n",
        "plt.show();\n"
      ],
      "execution_count": 993,
      "outputs": [
        {
          "output_type": "display_data",
          "data": {
            "image/png": "[encoded data removed]",
            "text/plain": [
              "<matplotlib.figure.Figure at 0x7ff46fd367b8>"
            ]
          },
          "metadata": {
            "tags": []
          }
        }
      ]
    },
    {
      "metadata": {
        "id": "8FrDrdHcY7jP",
        "colab_type": "text"
      },
      "cell_type": "markdown",
      "source": [
        "# **Precision vs Recall**\n",
        "\n",
        "Ideally one would have a system with both precision and recall equal to one. This would result in a unity plot. We want to maximize the area under the graph given that the range of values is 0 to 1. "
      ]
    },
    {
      "metadata": {
        "id": "WbYf-y-zcEeZ",
        "colab_type": "text"
      },
      "cell_type": "markdown",
      "source": [
        "**Model 1**"
      ]
    },
    {
      "metadata": {
        "id": "7tJcX5FsoxfV",
        "colab_type": "code",
        "colab": {
          "base_uri": "https://localhost:8080/",
          "height": 376
        },
        "cellView": "code",
        "outputId": "60a483d4-c57c-41fd-cd1a-b4e8daa88c84"
      },
      "cell_type": "code",
      "source": [
        "#@title Default title text\n",
        "precision, recall, th = precision_recall_curve(error_df.true_class, error_df.reconstruction_error)\n",
        "plt.plot(recall, precision, 'b', label='Precision-Recall curve')\n",
        "#precision2, recall2, th2 = precision_recall_curve(error_df2.true_class, error_df2.reconstruction_error)\n",
        "#plt.plot(recall2, precision2, 'r--', label='Precision-Recall curve 2')\n",
        "plt.title('Recall vs Precision')\n",
        "plt.xlabel('Recall')\n",
        "plt.ylabel('Precision')\n",
        "plt.legend(loc='lower right')\n",
        "plt.show()"
      ],
      "execution_count": 994,
      "outputs": [
        {
          "output_type": "display_data",
          "data": {
            "image/png": "[encoded data removed]",
            "text/plain": [
              "<matplotlib.figure.Figure at 0x7ff468b8f8d0>"
            ]
          },
          "metadata": {
            "tags": []
          }
        }
      ]
    },
    {
      "metadata": {
        "id": "08sSOlaGa4QW",
        "colab_type": "text"
      },
      "cell_type": "markdown",
      "source": [
        "high precision ~ low false positives \\\\\n",
        "high recall ~ low false negatives "
      ]
    },
    {
      "metadata": {
        "id": "I321pp_8o0_n",
        "colab_type": "code",
        "colab": {
          "base_uri": "https://localhost:8080/",
          "height": 376
        },
        "outputId": "ded08927-1e6d-4a72-c9ef-509c68686475"
      },
      "cell_type": "code",
      "source": [
        "plt.plot(th, precision[1:], 'b', label='Threshold-Precision curve')\n",
        "plt.title('Precision for different threshold values')\n",
        "plt.xlabel('Threshold')\n",
        "plt.ylabel('Precision')\n",
        "plt.show()"
      ],
      "execution_count": 995,
      "outputs": [
        {
          "output_type": "display_data",
          "data": {
            "image/png": "[encoded data removed]",
            "text/plain": [
              "<matplotlib.figure.Figure at 0x7ff4707f2588>"
            ]
          },
          "metadata": {
            "tags": []
          }
        }
      ]
    },
    {
      "metadata": {
        "id": "wFVt_drhXz9U",
        "colab_type": "text"
      },
      "cell_type": "markdown",
      "source": [
        "This run of the code shows near ideal retults. Here precision is not a function of reconstruction error.\n",
        "\n"
      ]
    },
    {
      "metadata": {
        "id": "xuK0aMo5o4kQ",
        "colab_type": "code",
        "colab": {
          "base_uri": "https://localhost:8080/",
          "height": 376
        },
        "outputId": "c0a68fa4-808b-4971-df0e-3c93bb358a79"
      },
      "cell_type": "code",
      "source": [
        "plt.plot(th, recall[1:], 'b', label='Threshold-Recall curve')\n",
        "plt.title('Recall for different threshold values')\n",
        "plt.xlabel('Reconstruction error')\n",
        "plt.ylabel('Recall')\n",
        "plt.show()"
      ],
      "execution_count": 996,
      "outputs": [
        {
          "output_type": "display_data",
          "data": {
            "image/png": "[encoded data removed]",
            "text/plain": [
              "<matplotlib.figure.Figure at 0x7ff4a67ae978>"
            ]
          },
          "metadata": {
            "tags": []
          }
        }
      ]
    },
    {
      "metadata": {
        "id": "9k4dHi-NZ37U",
        "colab_type": "text"
      },
      "cell_type": "markdown",
      "source": [
        "Here we see that as reconstruction error increases recall decreases. \n",
        "\n",
        "\n",
        "\n"
      ]
    },
    {
      "metadata": {
        "id": "KTbeVkqraC_G",
        "colab_type": "text"
      },
      "cell_type": "markdown",
      "source": [
        "**Model 2**"
      ]
    },
    {
      "metadata": {
        "id": "p_eOCwO4I3h7",
        "colab_type": "code",
        "colab": {
          "base_uri": "https://localhost:8080/",
          "height": 297
        },
        "outputId": "29a6e299-3e6d-47a7-90a7-5b2f0161b5ed"
      },
      "cell_type": "code",
      "source": [
        "predictions2 = autoencoder2.predict(x_test2,batch_size=32)\n",
        "mse = np.mean(np.power(x_test2 - predictions2, 2), axis=1)\n",
        "error_df2 = pd.DataFrame({'reconstruction_error': mse,\n",
        "                         'true_class': np.array(y_test)})\n",
        "\n",
        "error_df2.describe()"
      ],
      "execution_count": 997,
      "outputs": [
        {
          "output_type": "execute_result",
          "data": {
            "text/html": [
              "<div>\n",
              "<style scoped>\n",
              "    .dataframe tbody tr th:only-of-type {\n",
              "        vertical-align: middle;\n",
              "    }\n",
              "\n",
              "    .dataframe tbody tr th {\n",
              "        vertical-align: top;\n",
              "    }\n",
              "\n",
              "    .dataframe thead th {\n",
              "        text-align: right;\n",
              "    }\n",
              "</style>\n",
              "<table border=\"1\" class=\"dataframe\">\n",
              "  <thead>\n",
              "    <tr style=\"text-align: right;\">\n",
              "      <th></th>\n",
              "      <th>reconstruction_error</th>\n",
              "      <th>true_class</th>\n",
              "    </tr>\n",
              "  </thead>\n",
              "  <tbody>\n",
              "    <tr>\n",
              "      <th>count</th>\n",
              "      <td>602.000000</td>\n",
              "      <td>602.000000</td>\n",
              "    </tr>\n",
              "    <tr>\n",
              "      <th>mean</th>\n",
              "      <td>0.395144</td>\n",
              "      <td>0.511628</td>\n",
              "    </tr>\n",
              "    <tr>\n",
              "      <th>std</th>\n",
              "      <td>0.090651</td>\n",
              "      <td>0.500280</td>\n",
              "    </tr>\n",
              "    <tr>\n",
              "      <th>min</th>\n",
              "      <td>0.319183</td>\n",
              "      <td>0.000000</td>\n",
              "    </tr>\n",
              "    <tr>\n",
              "      <th>25%</th>\n",
              "      <td>0.321461</td>\n",
              "      <td>0.000000</td>\n",
              "    </tr>\n",
              "    <tr>\n",
              "      <th>50%</th>\n",
              "      <td>0.321526</td>\n",
              "      <td>1.000000</td>\n",
              "    </tr>\n",
              "    <tr>\n",
              "      <th>75%</th>\n",
              "      <td>0.505203</td>\n",
              "      <td>1.000000</td>\n",
              "    </tr>\n",
              "    <tr>\n",
              "      <th>max</th>\n",
              "      <td>0.505575</td>\n",
              "      <td>1.000000</td>\n",
              "    </tr>\n",
              "  </tbody>\n",
              "</table>\n",
              "</div>"
            ],
            "text/plain": [
              "       reconstruction_error  true_class\n",
              "count            602.000000  602.000000\n",
              "mean               0.395144    0.511628\n",
              "std                0.090651    0.500280\n",
              "min                0.319183    0.000000\n",
              "25%                0.321461    0.000000\n",
              "50%                0.321526    1.000000\n",
              "75%                0.505203    1.000000\n",
              "max                0.505575    1.000000"
            ]
          },
          "metadata": {
            "tags": []
          },
          "execution_count": 997
        }
      ]
    },
    {
      "metadata": {
        "id": "7_3nWxqqk6y7",
        "colab_type": "code",
        "colab": {
          "base_uri": "https://localhost:8080/",
          "height": 34
        },
        "outputId": "d03f2bb6-fca3-4825-a124-bbb7fa7b79ea"
      },
      "cell_type": "code",
      "source": [
        "acc = keras.metrics.categorical_accuracy(x_test2,predictions2)\n",
        "sess = K.get_session()\n",
        "array = sess.run(acc)\n",
        "\n",
        "test_accuracy = np.logical_xor(array,np.array(y_test))\n",
        "np.sum(test_accuracy)"
      ],
      "execution_count": 998,
      "outputs": [
        {
          "output_type": "execute_result",
          "data": {
            "text/plain": [
              "537"
            ]
          },
          "metadata": {
            "tags": []
          },
          "execution_count": 998
        }
      ]
    },
    {
      "metadata": {
        "id": "w_mw7uR5-9ei",
        "colab_type": "code",
        "colab": {
          "base_uri": "https://localhost:8080/",
          "height": 347
        },
        "outputId": "980455ee-02f8-45c3-88f2-68a182bf6cff"
      },
      "cell_type": "code",
      "source": [
        "fig = plt.figure()\n",
        "ax = fig.add_subplot(111)\n",
        "normal_error_df2 = error_df2[(error_df2['true_class']== 0) & (error_df2['reconstruction_error'] < 0.25)]\n",
        "_ = ax.hist(normal_error_df2.reconstruction_error.values, bins=10)"
      ],
      "execution_count": 999,
      "outputs": [
        {
          "output_type": "display_data",
          "data": {
            "image/png": "[encoded data removed]",
            "text/plain": [
              "<matplotlib.figure.Figure at 0x7ff47bfbb6a0>"
            ]
          },
          "metadata": {
            "tags": []
          }
        }
      ]
    },
    {
      "metadata": {
        "id": "NROgqg6p_GcH",
        "colab_type": "code",
        "colab": {
          "base_uri": "https://localhost:8080/",
          "height": 347
        },
        "outputId": "0eea6fad-5e50-4f32-ef5c-6c056a8ec2fe"
      },
      "cell_type": "code",
      "source": [
        "fig = plt.figure()\n",
        "ax = fig.add_subplot(111)\n",
        "anomaly_error_df2 = error_df2[error_df2['true_class'] == 1]\n",
        "_ = ax.hist(anomaly_error_df2.reconstruction_error.values, bins=10)"
      ],
      "execution_count": 1000,
      "outputs": [
        {
          "output_type": "display_data",
          "data": {
            "image/png": "[encoded data removed]",
            "text/plain": [
              "<matplotlib.figure.Figure at 0x7ff46fd46358>"
            ]
          },
          "metadata": {
            "tags": []
          }
        }
      ]
    },
    {
      "metadata": {
        "id": "wWvXg9sLBira",
        "colab_type": "code",
        "colab": {}
      },
      "cell_type": "code",
      "source": [
        "threshold2 = (np.max(normal_error_df2)['reconstruction_error'] + np.min(anomaly_error_df2['reconstruction_error']))/2"
      ],
      "execution_count": 0,
      "outputs": []
    },
    {
      "metadata": {
        "id": "Wi8Qbutw4IMl",
        "colab_type": "code",
        "colab": {}
      },
      "cell_type": "code",
      "source": [
        "threshold2 = np.median(np.hstack((normal_error_df2['reconstruction_error'] , anomaly_error_df2['reconstruction_error'])))"
      ],
      "execution_count": 0,
      "outputs": []
    },
    {
      "metadata": {
        "id": "t_hSQlo4MHez",
        "colab_type": "code",
        "colab": {
          "base_uri": "https://localhost:8080/",
          "height": 376
        },
        "outputId": "9c8c39f0-98c9-41b1-9201-2646b4dbaa6c"
      },
      "cell_type": "code",
      "source": [
        "from sklearn.metrics import (confusion_matrix, precision_recall_curve, auc,\n",
        "                             roc_curve, recall_score, classification_report, f1_score,\n",
        "                             precision_recall_fscore_support)\n",
        "\n",
        "fpr2, tpr2, thresholds = roc_curve(error_df2.true_class, error_df2.reconstruction_error)\n",
        "roc_auc2 = auc(fpr2, tpr2)\n",
        "\n",
        "plt.title('Receiver Operating Characteristic')\n",
        "plt.plot(fpr2, tpr2, label='AUC = %0.4f'% roc_auc2)\n",
        "plt.legend(loc='lower right')\n",
        "plt.plot([0,1],[0,1],'r--')\n",
        "plt.xlim([-0.001, 1])\n",
        "plt.ylim([0, 1.001])\n",
        "plt.ylabel('True Positive Rate')\n",
        "plt.xlabel('False Positive Rate')\n",
        "plt.show();"
      ],
      "execution_count": 1003,
      "outputs": [
        {
          "output_type": "display_data",
          "data": {
            "image/png": "[encoded data removed]",
            "text/plain": [
              "<matplotlib.figure.Figure at 0x7ff47c038da0>"
            ]
          },
          "metadata": {
            "tags": []
          }
        }
      ]
    },
    {
      "metadata": {
        "id": "o1aszNDgPTiR",
        "colab_type": "code",
        "colab": {
          "base_uri": "https://localhost:8080/",
          "height": 376
        },
        "outputId": "5f3bbf50-fb3b-41cb-8a08-9c7233c6f69b"
      },
      "cell_type": "code",
      "source": [
        "precision2, recall2, th2 = precision_recall_curve(error_df2.true_class, error_df2.reconstruction_error)\n",
        "plt.plot(recall2, precision2, 'b', label='Precision-Recall curve')\n",
        "plt.title('Recall vs Precision')\n",
        "plt.xlabel('Recall')\n",
        "plt.ylabel('Precision')\n",
        "plt.show()\n",
        "\n"
      ],
      "execution_count": 1004,
      "outputs": [
        {
          "output_type": "display_data",
          "data": {
            "image/png": "[encoded data removed]",
            "text/plain": [
              "<matplotlib.figure.Figure at 0x7ff46fd1d160>"
            ]
          },
          "metadata": {
            "tags": []
          }
        }
      ]
    },
    {
      "metadata": {
        "id": "0dj2F34KR-TB",
        "colab_type": "code",
        "colab": {
          "base_uri": "https://localhost:8080/",
          "height": 376
        },
        "outputId": "fb9e9ec1-3f7d-4631-b3ff-bb04866b086e"
      },
      "cell_type": "code",
      "source": [
        "plt.plot(th2, precision2[1:], 'b', label='Threshold-Precision curve')\n",
        "plt.title('Precision for different threshold values')\n",
        "plt.xlabel('Threshold')\n",
        "plt.ylabel('Precision')\n",
        "plt.show()\n",
        "\n"
      ],
      "execution_count": 1005,
      "outputs": [
        {
          "output_type": "display_data",
          "data": {
            "image/png": "[encoded data removed]",
            "text/plain": [
              "<matplotlib.figure.Figure at 0x7ff4e84f7320>"
            ]
          },
          "metadata": {
            "tags": []
          }
        }
      ]
    },
    {
      "metadata": {
        "id": "O6Yj0uQvSCgB",
        "colab_type": "code",
        "colab": {
          "base_uri": "https://localhost:8080/",
          "height": 376
        },
        "outputId": "e0a627f2-5541-4005-9f5e-c9baf2e990cd"
      },
      "cell_type": "code",
      "source": [
        "plt.plot(th2, recall2[1:], 'b', label='Threshold-Recall curve')\n",
        "#plt.plot(th, recall[1:], 'r.', label='Threshold-Recall curve')\n",
        "plt.title('Recall for different threshold values')\n",
        "plt.xlabel('Reconstruction error')\n",
        "plt.ylabel('Recall')\n",
        "plt.show()"
      ],
      "execution_count": 1006,
      "outputs": [
        {
          "output_type": "display_data",
          "data": {
            "image/png": "[encoded data removed]",
            "text/plain": [
              "<matplotlib.figure.Figure at 0x7ff471df3cc0>"
            ]
          },
          "metadata": {
            "tags": []
          }
        }
      ]
    },
    {
      "metadata": {
        "id": "bp6G4eLwbU3v",
        "colab_type": "text"
      },
      "cell_type": "markdown",
      "source": [
        "As in model 1 we see that as reconstruction error increases recall decreases. But it occurs at a much higher value here."
      ]
    },
    {
      "metadata": {
        "id": "wfDZaTpCC_ic",
        "colab_type": "code",
        "colab": {
          "base_uri": "https://localhost:8080/",
          "height": 297
        },
        "outputId": "1b846dde-2d82-4263-907e-f7cb157ace2a"
      },
      "cell_type": "code",
      "source": [
        "#@title Data Statistics\n",
        "\n",
        "# Model 1 \n",
        "predictions3 = autoencoder3.predict(x_test2,batch_size=32)\n",
        "mse3 = np.mean(np.power(x_test2 - predictions3, 2), axis=1)\n",
        "#acc = K.categorical_accuracy(x_test,predictions)\n",
        "error_df3 = pd.DataFrame({'reconstruction_error': mse3,\n",
        "                         'true_class': np.array(y_test)})\n",
        "\n",
        "display(error_df3.describe())\n",
        "\n",
        "# # Model 2 \n",
        "\n",
        "# predictions2 = autoencoder2.predict(x_test2,batch_size=32)\n",
        "# mse2 = np.mean(np.power(x_test2 - predictions2, 2), axis=1)\n",
        "# error_df2 = pd.DataFrame({'reconstruction_error': mse2,\n",
        "#                          'true_class': np.array(y_test)})\n",
        "\n",
        "# error_df2.describe()"
      ],
      "execution_count": 1007,
      "outputs": [
        {
          "output_type": "display_data",
          "data": {
            "text/html": [
              "<div>\n",
              "<style scoped>\n",
              "    .dataframe tbody tr th:only-of-type {\n",
              "        vertical-align: middle;\n",
              "    }\n",
              "\n",
              "    .dataframe tbody tr th {\n",
              "        vertical-align: top;\n",
              "    }\n",
              "\n",
              "    .dataframe thead th {\n",
              "        text-align: right;\n",
              "    }\n",
              "</style>\n",
              "<table border=\"1\" class=\"dataframe\">\n",
              "  <thead>\n",
              "    <tr style=\"text-align: right;\">\n",
              "      <th></th>\n",
              "      <th>reconstruction_error</th>\n",
              "      <th>true_class</th>\n",
              "    </tr>\n",
              "  </thead>\n",
              "  <tbody>\n",
              "    <tr>\n",
              "      <th>count</th>\n",
              "      <td>602.000000</td>\n",
              "      <td>602.000000</td>\n",
              "    </tr>\n",
              "    <tr>\n",
              "      <th>mean</th>\n",
              "      <td>0.209597</td>\n",
              "      <td>0.511628</td>\n",
              "    </tr>\n",
              "    <tr>\n",
              "      <th>std</th>\n",
              "      <td>0.254946</td>\n",
              "      <td>0.500280</td>\n",
              "    </tr>\n",
              "    <tr>\n",
              "      <th>min</th>\n",
              "      <td>0.000015</td>\n",
              "      <td>0.000000</td>\n",
              "    </tr>\n",
              "    <tr>\n",
              "      <th>25%</th>\n",
              "      <td>0.000022</td>\n",
              "      <td>0.000000</td>\n",
              "    </tr>\n",
              "    <tr>\n",
              "      <th>50%</th>\n",
              "      <td>0.000023</td>\n",
              "      <td>1.000000</td>\n",
              "    </tr>\n",
              "    <tr>\n",
              "      <th>75%</th>\n",
              "      <td>0.519151</td>\n",
              "      <td>1.000000</td>\n",
              "    </tr>\n",
              "    <tr>\n",
              "      <th>max</th>\n",
              "      <td>0.519929</td>\n",
              "      <td>1.000000</td>\n",
              "    </tr>\n",
              "  </tbody>\n",
              "</table>\n",
              "</div>"
            ],
            "text/plain": [
              "       reconstruction_error  true_class\n",
              "count            602.000000  602.000000\n",
              "mean               0.209597    0.511628\n",
              "std                0.254946    0.500280\n",
              "min                0.000015    0.000000\n",
              "25%                0.000022    0.000000\n",
              "50%                0.000023    1.000000\n",
              "75%                0.519151    1.000000\n",
              "max                0.519929    1.000000"
            ]
          },
          "metadata": {
            "tags": []
          }
        }
      ]
    },
    {
      "metadata": {
        "id": "Q8AIzcEUDD4M",
        "colab_type": "code",
        "colab": {
          "base_uri": "https://localhost:8080/",
          "height": 347
        },
        "outputId": "4d087caf-1a7a-46c8-d0e5-c696d90f36b4"
      },
      "cell_type": "code",
      "source": [
        "fig = plt.figure()\n",
        "ax = fig.add_subplot(111)\n",
        "normal_error_df3 = error_df3[(error_df3['true_class']== 0) & (error_df3['reconstruction_error'] < 0.25)]\n",
        "_ = ax.hist(normal_error_df3.reconstruction_error.values, bins=10)"
      ],
      "execution_count": 1008,
      "outputs": [
        {
          "output_type": "display_data",
          "data": {
            "image/png": "[encoded data removed]",
            "text/plain": [
              "<matplotlib.figure.Figure at 0x7ff471dda080>"
            ]
          },
          "metadata": {
            "tags": []
          }
        }
      ]
    },
    {
      "metadata": {
        "id": "TFjAAdh4DGry",
        "colab_type": "code",
        "colab": {
          "base_uri": "https://localhost:8080/",
          "height": 347
        },
        "outputId": "bb8fc434-9b1f-475d-f0ae-aa9e2136d249"
      },
      "cell_type": "code",
      "source": [
        "fig = plt.figure()\n",
        "ax = fig.add_subplot(111)\n",
        "anomaly_error_df3 = error_df3[error_df3['true_class'] == 1]\n",
        "_ = ax.hist(anomaly_error_df3.reconstruction_error.values, bins=10)"
      ],
      "execution_count": 1009,
      "outputs": [
        {
          "output_type": "display_data",
          "data": {
            "image/png": "[encoded data removed]",
            "text/plain": [
              "<matplotlib.figure.Figure at 0x7ff467bd03c8>"
            ]
          },
          "metadata": {
            "tags": []
          }
        }
      ]
    },
    {
      "metadata": {
        "id": "B1SY1P-eDJI3",
        "colab_type": "code",
        "colab": {}
      },
      "cell_type": "code",
      "source": [
        "threshold3 = np.median(np.hstack((normal_error_df3['reconstruction_error'] , anomaly_error_df3['reconstruction_error'])))"
      ],
      "execution_count": 0,
      "outputs": []
    },
    {
      "metadata": {
        "id": "k_xUVOUQDLPh",
        "colab_type": "code",
        "colab": {
          "base_uri": "https://localhost:8080/",
          "height": 376
        },
        "outputId": "a6a64375-c384-4759-e0b8-cf8732614c80"
      },
      "cell_type": "code",
      "source": [
        "from sklearn.metrics import (confusion_matrix, precision_recall_curve, auc,\n",
        "                             roc_curve, recall_score, classification_report, f1_score,\n",
        "                             precision_recall_fscore_support)\n",
        "\n",
        "fpr3, tpr3, thresholds = roc_curve(error_df3.true_class, error_df3.reconstruction_error)\n",
        "roc_auc3 = auc(fpr3, tpr3)\n",
        "\n",
        "plt.title('Receiver Operating Characteristic')\n",
        "plt.plot(fpr3, tpr3, label='AUC = %0.4f'% roc_auc3)\n",
        "plt.legend(loc='lower right')\n",
        "plt.plot([0,1],[0,1],'r--')\n",
        "plt.xlim([-0.001, 1])\n",
        "plt.ylim([0, 1.001])\n",
        "plt.ylabel('True Positive Rate')\n",
        "plt.xlabel('False Positive Rate')\n",
        "plt.show();"
      ],
      "execution_count": 1011,
      "outputs": [
        {
          "output_type": "display_data",
          "data": {
            "image/png": "[encoded data removed]",
            "text/plain": [
              "<matplotlib.figure.Figure at 0x7ff471df3fd0>"
            ]
          },
          "metadata": {
            "tags": []
          }
        }
      ]
    },
    {
      "metadata": {
        "id": "vxiiffcdb9MR",
        "colab_type": "text"
      },
      "cell_type": "markdown",
      "source": [
        "# **Prediction**"
      ]
    },
    {
      "metadata": {
        "id": "jfKE-s-jlTsP",
        "colab_type": "code",
        "colab": {
          "base_uri": "https://localhost:8080/",
          "height": 376
        },
        "outputId": "84f0bb0d-e753-4749-e3bc-a1203941be19"
      },
      "cell_type": "code",
      "source": [
        "threshold = threshold1\n",
        "\n",
        "groups = error_df.groupby('true_class')\n",
        "fig, ax = plt.subplots()\n",
        "\n",
        "for name, group in groups:\n",
        "    ax.plot(group.index, group.reconstruction_error, marker='o', ms=3.5, linestyle='',\n",
        "            label= \"Anomaly\" if name == 1 else \"Normal\")\n",
        "ax.hlines(threshold, ax.get_xlim()[0], ax.get_xlim()[1], colors=\"r\", zorder=100, label='Threshold')\n",
        "ax.legend()\n",
        "plt.title(\"Reconstruction error for different classes\")\n",
        "plt.ylabel(\"Reconstruction error\")\n",
        "plt.xlabel(\"Data point index\")\n",
        "plt.show();"
      ],
      "execution_count": 1012,
      "outputs": [
        {
          "output_type": "display_data",
          "data": {
            "image/png": "[encoded data removed]",
            "text/plain": [
              "<matplotlib.figure.Figure at 0x7ff45133cdd8>"
            ]
          },
          "metadata": {
            "tags": []
          }
        }
      ]
    },
    {
      "metadata": {
        "id": "SROlKStTVzuK",
        "colab_type": "code",
        "colab": {
          "base_uri": "https://localhost:8080/",
          "height": 729
        },
        "outputId": "90d0aec1-fa94-451d-a7a6-e804e030a217"
      },
      "cell_type": "code",
      "source": [
        "LABELS = [\"Normal\", \"Anomaly\"]\n",
        "y_pred = [1 if e > threshold else 0 for e in error_df.reconstruction_error.values]\n",
        "conf_matrix = confusion_matrix(error_df.true_class, y_pred)\n",
        "\n",
        "plt.figure(figsize=(12, 12))\n",
        "sns.heatmap(conf_matrix, xticklabels=LABELS, yticklabels=LABELS, annot=True, fmt=\"d\");\n",
        "plt.title(\"Confusion matrix\")\n",
        "plt.ylabel('True class')\n",
        "plt.xlabel('Predicted class')\n",
        "plt.show()\n",
        "\n"
      ],
      "execution_count": 1013,
      "outputs": [
        {
          "output_type": "display_data",
          "data": {
            "image/png": "[encoded data removed]",
            "text/plain": [
              "<matplotlib.figure.Figure at 0x7ff472ea72b0>"
            ]
          },
          "metadata": {
            "tags": []
          }
        }
      ]
    },
    {
      "metadata": {
        "id": "f2mHfg2HsEXA",
        "colab_type": "code",
        "colab": {
          "base_uri": "https://localhost:8080/",
          "height": 376
        },
        "outputId": "6a58577b-d7a4-4400-f707-d7ce2b48942e"
      },
      "cell_type": "code",
      "source": [
        "threshold = .323\n",
        "\n",
        "groups = error_df2.groupby('true_class')\n",
        "fig, ax = plt.subplots()\n",
        "\n",
        "for name, group in groups:\n",
        "    ax.plot(group.index, group.reconstruction_error, marker='o', ms=3.5, linestyle='',\n",
        "            label= \"Anomaly\" if name == 1 else \"Normal\")\n",
        "ax.hlines(threshold, ax.get_xlim()[0], ax.get_xlim()[1], colors=\"r\", zorder=100, label='Threshold')\n",
        "ax.legend()\n",
        "plt.title(\"Reconstruction error for different classes\")\n",
        "plt.ylabel(\"Reconstruction error\")\n",
        "plt.xlabel(\"Data point index\")\n",
        "plt.show();"
      ],
      "execution_count": 1032,
      "outputs": [
        {
          "output_type": "display_data",
          "data": {
            "image/png": "[encoded data removed]",
            "text/plain": [
              "<matplotlib.figure.Figure at 0x7ff4463c3908>"
            ]
          },
          "metadata": {
            "tags": []
          }
        }
      ]
    },
    {
      "metadata": {
        "id": "EQyPGCFasHSR",
        "colab_type": "code",
        "colab": {
          "base_uri": "https://localhost:8080/",
          "height": 729
        },
        "outputId": "5802e755-b40a-44ab-ebe5-e67eb07e12a6"
      },
      "cell_type": "code",
      "source": [
        "LABELS = [\"Normal\", \"Anomaly\"]\n",
        "y_pred = [1 if e > threshold else 0 for e in error_df2.reconstruction_error.values]\n",
        "conf_matrix = confusion_matrix(error_df2.true_class, y_pred)\n",
        "\n",
        "plt.figure(figsize=(12, 12))\n",
        "sns.heatmap(conf_matrix, xticklabels=LABELS, yticklabels=LABELS, annot=True, fmt=\"d\");\n",
        "plt.title(\"Confusion matrix\")\n",
        "plt.ylabel('True class')\n",
        "plt.xlabel('Predicted class')\n",
        "plt.show()\n",
        "\n"
      ],
      "execution_count": 1033,
      "outputs": [
        {
          "output_type": "display_data",
          "data": {
            "image/png": "[encoded data removed]",
            "text/plain": [
              "<matplotlib.figure.Figure at 0x7ff4468206a0>"
            ]
          },
          "metadata": {
            "tags": []
          }
        }
      ]
    },
    {
      "metadata": {
        "id": "jd9-EY0x_nzs",
        "colab_type": "code",
        "colab": {
          "base_uri": "https://localhost:8080/",
          "height": 376
        },
        "outputId": "4de9f920-3dda-4dfa-f703-bd00ff820343"
      },
      "cell_type": "code",
      "source": [
        "threshold = threshold3\n",
        "\n",
        "groups = error_df3.groupby('true_class')\n",
        "fig, ax = plt.subplots()\n",
        "\n",
        "for name, group in groups:\n",
        "    ax.plot(group.index, group.reconstruction_error, marker='o', ms=3.5, linestyle='',\n",
        "            label= \"Anomaly\" if name == 1 else \"Normal\")\n",
        "ax.hlines(threshold, ax.get_xlim()[0], ax.get_xlim()[1], colors=\"r\", zorder=100, label='Threshold')\n",
        "ax.legend()\n",
        "plt.title(\"Reconstruction error for different classes\")\n",
        "plt.ylabel(\"Reconstruction error\")\n",
        "plt.xlabel(\"Data point index\")\n",
        "plt.show();"
      ],
      "execution_count": 1016,
      "outputs": [
        {
          "output_type": "display_data",
          "data": {
            "image/png": "[encoded data removed]",
            "text/plain": [
              "<matplotlib.figure.Figure at 0x7ff472df0588>"
            ]
          },
          "metadata": {
            "tags": []
          }
        }
      ]
    },
    {
      "metadata": {
        "id": "YjZnfHWhDr6Y",
        "colab_type": "code",
        "colab": {
          "base_uri": "https://localhost:8080/",
          "height": 729
        },
        "outputId": "0aabe828-8e53-435c-c20d-ddec06aad33f"
      },
      "cell_type": "code",
      "source": [
        "LABELS = [\"Normal\", \"Anomaly\"]\n",
        "y_pred = [1 if e > threshold else 0 for e in error_df3.reconstruction_error.values]\n",
        "conf_matrix = confusion_matrix(error_df3.true_class, y_pred)\n",
        "\n",
        "plt.figure(figsize=(12, 12))\n",
        "sns.heatmap(conf_matrix, xticklabels=LABELS, yticklabels=LABELS, annot=True, fmt=\"d\");\n",
        "plt.title(\"Confusion matrix\")\n",
        "plt.ylabel('True class')\n",
        "plt.xlabel('Predicted class')\n",
        "plt.show()\n",
        "\n"
      ],
      "execution_count": 1017,
      "outputs": [
        {
          "output_type": "display_data",
          "data": {
            "image/png": "[encoded data removed]",
            "text/plain": [
              "<matplotlib.figure.Figure at 0x7ff47c06bd68>"
            ]
          },
          "metadata": {
            "tags": []
          }
        }
      ]
    },
    {
      "metadata": {
        "id": "zXk6dRTEFqJ6",
        "colab_type": "code",
        "colab": {
          "base_uri": "https://localhost:8080/",
          "height": 323
        },
        "outputId": "4808451d-e156-42ba-a49c-d69a0789925f"
      },
      "cell_type": "code",
      "source": [
        "#@title Model 1 - Elu { form-width: \"20%\" }\n",
        "from keras import regularizers\n",
        "from sklearn.preprocessing import StandardScaler\n",
        "from sklearn import preprocessing\n",
        "# Make sure to run this after each new generation of data\n",
        "\n",
        "#1\n",
        "# zero mean and unit var\n",
        "# this makes train and test data zero mean and unit var individually \n",
        "# we should statistics of ideal data(no anomaly) \n",
        "# hense we should standadize both sets of data based on this\n",
        "#x_train2 = StandardScaler().fit_transform(x_train)\n",
        "#x_test2 = StandardScaler().fit_transform(x_test)\n",
        "\n",
        "#2\n",
        "# zero mean and unit var \n",
        "# x_trainScaled = preprocessing.scale(x_train)\n",
        "# scaler = StandardScaler().fit(x_trainScaled)\n",
        "# x_train2 = scaler.transform(x_trainScaled)\n",
        "# x_test2 = scaler.transform(x_test)\n",
        "\n",
        "m1 = np.mean(x_train)\n",
        "s1 = np.std(x_train)\n",
        "\n",
        "x_train2 = (x_train-m1)/s1\n",
        "x_test2 = (x_test-m1)/s1\n",
        "#3\n",
        "#x_train2 = x_train\n",
        "#x_test2 = x_test\n",
        "\n",
        "#4\n",
        "#zero mean and unit var \n",
        "# scaler = StandardScaler().fit(x_test)\n",
        "# x_train2 = scaler.transform(x_train)\n",
        "# x_test2 = scaler.transform(x_test)\n",
        "\n",
        "#x_train2 = x_train2[:,:,np.newaxis]\n",
        "#x_test2 = x_test2[:,:,np.newaxis]\n",
        "\n",
        "#x_train2 = x_train2.astype('float32') / 255.\n",
        "#x_test2 = x_test2.astype('float32') / 255.\n",
        "\n",
        "display(x_train2.shape)\n",
        "\n",
        "input_dim = x_train.shape[1]\n",
        "\n",
        "# set size of autoencoder \n",
        "encoding_dim = 6\n",
        "\n",
        "# use elu because it is leaky tried both net and l1 and l2 : net and l1 worked the best \n",
        "input_layer = Input(shape=(input_dim, ))\n",
        "encoder = Dense(encoding_dim, activation=\"elu\",kernel_initializer= 'he_normal',\n",
        "                activity_regularizer=regularizers.l1_l2(l1=10e-5, l2=75.10e-5))(input_layer)\n",
        "#encoder = Dense(encoding_dim, activation=\"elu\",activity_regularizer=regularizers.l1(10e-5))(input_layer)\n",
        "encoder = Dense(int(encoding_dim / 2), activation=\"elu\",kernel_initializer= 'he_normal')(encoder)\n",
        "decoder = Dense(int(encoding_dim / 2), activation='elu',kernel_initializer= 'he_normal')(encoder)\n",
        "decoder = Dense(input_dim, activation='elu',kernel_initializer= 'he_normal')(decoder)\n",
        "autoencoder = Model(inputs=input_layer, outputs=decoder)\n",
        "\n",
        "autoencoder.summary()  \n"
      ],
      "execution_count": 1018,
      "outputs": [
        {
          "output_type": "display_data",
          "data": {
            "text/plain": [
              "(602, 6)"
            ]
          },
          "metadata": {
            "tags": []
          }
        },
        {
          "output_type": "stream",
          "text": [
            "_________________________________________________________________\n",
            "Layer (type)                 Output Shape              Param #   \n",
            "=================================================================\n",
            "input_146 (InputLayer)       (None, 6)                 0         \n",
            "_________________________________________________________________\n",
            "dense_178 (Dense)            (None, 6)                 42        \n",
            "_________________________________________________________________\n",
            "dense_179 (Dense)            (None, 3)                 21        \n",
            "_________________________________________________________________\n",
            "dense_180 (Dense)            (None, 3)                 12        \n",
            "_________________________________________________________________\n",
            "dense_181 (Dense)            (None, 6)                 24        \n",
            "=================================================================\n",
            "Total params: 99\n",
            "Trainable params: 99\n",
            "Non-trainable params: 0\n",
            "_________________________________________________________________\n"
          ],
          "name": "stdout"
        }
      ]
    },
    {
      "metadata": {
        "id": "NNL2h8dGD24A",
        "colab_type": "code",
        "colab": {
          "base_uri": "https://localhost:8080/",
          "height": 612
        },
        "outputId": "5c158499-451e-4e83-a781-2b23fe016a07"
      },
      "cell_type": "code",
      "source": [
        "from keras.layers import Input, Dense, Conv2D, MaxPooling2D, UpSampling2D,Conv1D,MaxPooling1D\n",
        "from keras.models import Model\n",
        "from keras import backend as K\n",
        "\n",
        "m1 = np.mean(x_train)\n",
        "s1 = np.std(x_train)\n",
        "\n",
        "x_train2 = (x_train-m1)/s1\n",
        "x_test2 = (x_test-m1)/s1\n",
        "\n",
        "x_train2 = x_train2[:,:,np.newaxis]\n",
        "x_test2 = x_test2[:,:,np.newaxis]\n",
        "\n",
        "input_dim = x_train.shape[1]\n",
        "\n",
        "# set size of autoencoder \n",
        "encoding_dim = 6\n",
        "\n",
        "# use elu because it is leaky tried both net and l1 and l2 : net and l1 worked the best \n",
        "input_layer = Input(shape=(input_dim,1))\n",
        "x = Conv1D(16,  kernel_size=(3), activation='elu', padding='same',kernel_initializer= 'he_normal',\n",
        "          activity_regularizer=regularizers.l1_l2(l1=10e-5, l2=75.10e-5))(input_layer)\n",
        "x = MaxPooling1D(pool_size=2, strides=None, padding='same')(x)\n",
        "x = Conv1D(8,  3, activation='elu', padding='same',kernel_initializer= 'he_normal')(x)\n",
        "x = MaxPooling1D(pool_size=2, strides=None, padding='same')(x)\n",
        "x = Conv1D(8,  3, activation='elu', padding='same',kernel_initializer= 'he_normal')(x)\n",
        "encoded = MaxPooling1D( 2, padding='same')(x)\n",
        "\n",
        "# # at this point the representation is (4, 4, 8) i.e. 128-dimensional\n",
        "\n",
        "x = Conv1D(8, 3, activation='elu', padding='same',kernel_initializer= 'he_normal')(encoded)\n",
        "x = UpSampling1D( 2)(x)\n",
        "x = Conv1D(8, 3, activation='elu', padding='same',kernel_initializer= 'he_normal')(x)\n",
        "x = UpSampling1D( 2)(x)\n",
        "x = Conv1D(16, 3, activation='elu',kernel_initializer= 'he_normal')(x)\n",
        "x = UpSampling1D( 3)(x)\n",
        "x = Conv1D(1,  3, activation='elu', padding='same',kernel_initializer= 'he_normal')(x)\n",
        "decoded = Dense(input_dim, activation='softmax',kernel_initializer= 'he_normal')(decoder)\n",
        "\n",
        "autoencoder4 = Model(input_layer, x)\n",
        "autoencoder4.summary()  \n"
      ],
      "execution_count": 1019,
      "outputs": [
        {
          "output_type": "stream",
          "text": [
            "_________________________________________________________________\n",
            "Layer (type)                 Output Shape              Param #   \n",
            "=================================================================\n",
            "input_147 (InputLayer)       (None, 6, 1)              0         \n",
            "_________________________________________________________________\n",
            "conv1d_372 (Conv1D)          (None, 6, 16)             64        \n",
            "_________________________________________________________________\n",
            "max_pooling1d_173 (MaxPoolin (None, 3, 16)             0         \n",
            "_________________________________________________________________\n",
            "conv1d_373 (Conv1D)          (None, 3, 8)              392       \n",
            "_________________________________________________________________\n",
            "max_pooling1d_174 (MaxPoolin (None, 2, 8)              0         \n",
            "_________________________________________________________________\n",
            "conv1d_374 (Conv1D)          (None, 2, 8)              200       \n",
            "_________________________________________________________________\n",
            "max_pooling1d_175 (MaxPoolin (None, 1, 8)              0         \n",
            "_________________________________________________________________\n",
            "conv1d_375 (Conv1D)          (None, 1, 8)              200       \n",
            "_________________________________________________________________\n",
            "up_sampling1d_117 (UpSamplin (None, 2, 8)              0         \n",
            "_________________________________________________________________\n",
            "conv1d_376 (Conv1D)          (None, 2, 8)              200       \n",
            "_________________________________________________________________\n",
            "up_sampling1d_118 (UpSamplin (None, 4, 8)              0         \n",
            "_________________________________________________________________\n",
            "conv1d_377 (Conv1D)          (None, 2, 16)             400       \n",
            "_________________________________________________________________\n",
            "up_sampling1d_119 (UpSamplin (None, 6, 16)             0         \n",
            "_________________________________________________________________\n",
            "conv1d_378 (Conv1D)          (None, 6, 1)              49        \n",
            "=================================================================\n",
            "Total params: 1,505\n",
            "Trainable params: 1,505\n",
            "Non-trainable params: 0\n",
            "_________________________________________________________________\n"
          ],
          "name": "stdout"
        }
      ]
    },
    {
      "metadata": {
        "id": "sGHjNGISGJVl",
        "colab_type": "code",
        "colab": {
          "base_uri": "https://localhost:8080/",
          "height": 3485
        },
        "outputId": "9d38a334-10a2-4436-c12f-27df47a94fab"
      },
      "cell_type": "code",
      "source": [
        "#@title Model 3 - Elu Maxout: Train/Test\n",
        "\n",
        "#Results with 40 sample of anomily every 40 samples\n",
        "full_anom = 0\n",
        "anom_samples = 40\n",
        "nb_epoch = 100 # a bit overkill but wanted to see how it progressed w more epochs \n",
        "batch_size = 32\n",
        "import keras\n",
        "autoencoder4.compile(optimizer='nadam', \n",
        "                    loss='mean_squared_error' \n",
        "                    #loss='kullback_leibler_divergence',\n",
        "                    )\n",
        "reduce_lr = keras.callbacks.ReduceLROnPlateau(monitor='loss', factor=0.2,min_lr=1e-6,min_delta=0.0001,\n",
        "                              patience=37,verbose = 1)\n",
        "\n",
        "checkpointer = ModelCheckpoint(filepath=\"model2.h5\",\n",
        "                               verbose=0,\n",
        "                               save_best_only=True)\n",
        "tensorboard = TensorBoard(log_dir='./logs',\n",
        "                          histogram_freq=0,\n",
        "                          write_graph=True,\n",
        "                          write_images=True)\n",
        "history4 = autoencoder4.fit(x_train2, x_train2,\n",
        "                    epochs=nb_epoch,\n",
        "                    batch_size=batch_size,\n",
        "                    validation_data=(x_test2, x_test2),\n",
        "                    validation_split=.1,\n",
        "                    shuffle=True,\n",
        "                    verbose=1,callbacks=[reduce_lr, checkpointer, tensorboard]).history \n",
        "\n",
        "score4 = autoencoder4.evaluate(x_test2, x_test2, batch_size=batch_size, verbose=1, sample_weight=None, steps=None)\n",
        "\n",
        "display('[test_loss]')\n",
        "display(score2)"
      ],
      "execution_count": 1020,
      "outputs": [
        {
          "output_type": "stream",
          "text": [
            "Train on 602 samples, validate on 602 samples\n",
            "Epoch 1/100\n",
            "602/602 [==============================] - 3s 4ms/step - loss: 2.7124 - val_loss: 2.2056\n",
            "Epoch 2/100\n",
            "602/602 [==============================] - 0s 774us/step - loss: 2.0605 - val_loss: 1.9285\n",
            "Epoch 3/100\n",
            "602/602 [==============================] - 0s 781us/step - loss: 1.7976 - val_loss: 1.7270\n",
            "Epoch 4/100\n",
            "602/602 [==============================] - 0s 770us/step - loss: 1.6061 - val_loss: 1.5606\n",
            "Epoch 5/100\n",
            "602/602 [==============================] - 0s 792us/step - loss: 1.4481 - val_loss: 1.4091\n",
            "Epoch 6/100\n",
            "602/602 [==============================] - 0s 768us/step - loss: 1.3047 - val_loss: 1.2846\n",
            "Epoch 7/100\n",
            "602/602 [==============================] - 0s 768us/step - loss: 1.1889 - val_loss: 1.1741\n",
            "Epoch 8/100\n",
            "602/602 [==============================] - 0s 758us/step - loss: 1.0794 - val_loss: 1.0769\n",
            "Epoch 9/100\n",
            "602/602 [==============================] - 0s 774us/step - loss: 0.9848 - val_loss: 0.9901\n",
            "Epoch 10/100\n",
            "602/602 [==============================] - 0s 811us/step - loss: 0.9126 - val_loss: 0.9116\n",
            "Epoch 11/100\n",
            "602/602 [==============================] - 0s 784us/step - loss: 0.8278 - val_loss: 0.8455\n",
            "Epoch 12/100\n",
            "602/602 [==============================] - 0s 792us/step - loss: 0.7606 - val_loss: 0.7845\n",
            "Epoch 13/100\n",
            "602/602 [==============================] - 0s 765us/step - loss: 0.6998 - val_loss: 0.7274\n",
            "Epoch 14/100\n",
            "602/602 [==============================] - 0s 751us/step - loss: 0.6586 - val_loss: 0.6796\n",
            "Epoch 15/100\n",
            "602/602 [==============================] - 0s 750us/step - loss: 0.5963 - val_loss: 0.6358\n",
            "Epoch 16/100\n",
            "602/602 [==============================] - 0s 758us/step - loss: 0.5522 - val_loss: 0.5953\n",
            "Epoch 17/100\n",
            "602/602 [==============================] - 0s 775us/step - loss: 0.5131 - val_loss: 0.5614\n",
            "Epoch 18/100\n",
            "602/602 [==============================] - 0s 733us/step - loss: 0.4848 - val_loss: 0.5342\n",
            "Epoch 19/100\n",
            "602/602 [==============================] - 0s 762us/step - loss: 0.4500 - val_loss: 0.4989\n",
            "Epoch 20/100\n",
            "602/602 [==============================] - 0s 782us/step - loss: 0.4186 - val_loss: 0.4721\n",
            "Epoch 21/100\n",
            "602/602 [==============================] - 0s 770us/step - loss: 0.3929 - val_loss: 0.4470\n",
            "Epoch 22/100\n",
            "602/602 [==============================] - 0s 773us/step - loss: 0.3695 - val_loss: 0.4253\n",
            "Epoch 23/100\n",
            "602/602 [==============================] - 0s 751us/step - loss: 0.3496 - val_loss: 0.4080\n",
            "Epoch 24/100\n",
            "602/602 [==============================] - 0s 787us/step - loss: 0.3384 - val_loss: 0.3882\n",
            "Epoch 25/100\n",
            "602/602 [==============================] - 0s 747us/step - loss: 0.3116 - val_loss: 0.3709\n",
            "Epoch 26/100\n",
            "602/602 [==============================] - 0s 783us/step - loss: 0.2952 - val_loss: 0.3551\n",
            "Epoch 27/100\n",
            "602/602 [==============================] - 0s 765us/step - loss: 0.2800 - val_loss: 0.3410\n",
            "Epoch 28/100\n",
            "602/602 [==============================] - 0s 798us/step - loss: 0.2660 - val_loss: 0.3269\n",
            "Epoch 29/100\n",
            "602/602 [==============================] - 0s 792us/step - loss: 0.2592 - val_loss: 0.3281\n",
            "Epoch 30/100\n",
            "602/602 [==============================] - 0s 782us/step - loss: 0.2426 - val_loss: 0.3033\n",
            "Epoch 31/100\n",
            "602/602 [==============================] - 1s 864us/step - loss: 0.2297 - val_loss: 0.2931\n",
            "Epoch 32/100\n",
            "602/602 [==============================] - 0s 777us/step - loss: 0.2192 - val_loss: 0.2834\n",
            "Epoch 33/100\n",
            "602/602 [==============================] - 0s 794us/step - loss: 0.2094 - val_loss: 0.2746\n",
            "Epoch 34/100\n",
            "602/602 [==============================] - 0s 768us/step - loss: 0.2027 - val_loss: 0.2715\n",
            "Epoch 35/100\n",
            "602/602 [==============================] - 0s 779us/step - loss: 0.1944 - val_loss: 0.2577\n",
            "Epoch 36/100\n",
            "602/602 [==============================] - 0s 764us/step - loss: 0.1831 - val_loss: 0.2491\n",
            "Epoch 37/100\n",
            "602/602 [==============================] - 0s 788us/step - loss: 0.1750 - val_loss: 0.2417\n",
            "Epoch 38/100\n",
            "602/602 [==============================] - 0s 798us/step - loss: 0.1673 - val_loss: 0.2346\n",
            "Epoch 39/100\n",
            "602/602 [==============================] - 0s 774us/step - loss: 0.1603 - val_loss: 0.2309\n",
            "Epoch 40/100\n",
            "602/602 [==============================] - 0s 809us/step - loss: 0.1587 - val_loss: 0.2204\n",
            "Epoch 41/100\n",
            "602/602 [==============================] - 0s 780us/step - loss: 0.1454 - val_loss: 0.2119\n",
            "Epoch 42/100\n",
            "602/602 [==============================] - 0s 805us/step - loss: 0.1383 - val_loss: 0.2064\n",
            "Epoch 43/100\n",
            "602/602 [==============================] - 0s 756us/step - loss: 0.1318 - val_loss: 0.1978\n",
            "Epoch 44/100\n",
            "602/602 [==============================] - 0s 749us/step - loss: 0.1244 - val_loss: 0.1933\n",
            "Epoch 45/100\n",
            "602/602 [==============================] - 0s 796us/step - loss: 0.1178 - val_loss: 0.1871\n",
            "Epoch 46/100\n",
            "602/602 [==============================] - 0s 811us/step - loss: 0.1135 - val_loss: 0.1787\n",
            "Epoch 47/100\n",
            "602/602 [==============================] - 1s 957us/step - loss: 0.1051 - val_loss: 0.1711\n",
            "Epoch 48/100\n",
            "602/602 [==============================] - 0s 802us/step - loss: 0.0971 - val_loss: 0.1676\n",
            "Epoch 49/100\n",
            "602/602 [==============================] - 0s 818us/step - loss: 0.0912 - val_loss: 0.1598\n",
            "Epoch 50/100\n",
            "602/602 [==============================] - 0s 806us/step - loss: 0.0858 - val_loss: 0.1579\n",
            "Epoch 51/100\n",
            "602/602 [==============================] - 0s 827us/step - loss: 0.0791 - val_loss: 0.1496\n",
            "Epoch 52/100\n",
            "602/602 [==============================] - 0s 773us/step - loss: 0.0752 - val_loss: 0.1464\n",
            "Epoch 53/100\n",
            "602/602 [==============================] - 0s 760us/step - loss: 0.0701 - val_loss: 0.1439\n",
            "Epoch 54/100\n",
            "602/602 [==============================] - 0s 768us/step - loss: 0.0633 - val_loss: 0.1450\n",
            "Epoch 55/100\n",
            "602/602 [==============================] - 0s 759us/step - loss: 0.0590 - val_loss: 0.1305\n",
            "Epoch 56/100\n",
            "602/602 [==============================] - 0s 774us/step - loss: 0.0541 - val_loss: 0.1332\n",
            "Epoch 57/100\n",
            "602/602 [==============================] - 0s 769us/step - loss: 0.0497 - val_loss: 0.1241\n",
            "Epoch 58/100\n",
            "602/602 [==============================] - 0s 758us/step - loss: 0.0481 - val_loss: 0.1302\n",
            "Epoch 59/100\n",
            "602/602 [==============================] - 0s 809us/step - loss: 0.0453 - val_loss: 0.1185\n",
            "Epoch 60/100\n",
            "602/602 [==============================] - 0s 780us/step - loss: 0.0381 - val_loss: 0.1125\n",
            "Epoch 61/100\n",
            "602/602 [==============================] - 0s 806us/step - loss: 0.0356 - val_loss: 0.1123\n",
            "Epoch 62/100\n",
            "602/602 [==============================] - 0s 804us/step - loss: 0.0317 - val_loss: 0.1060\n",
            "Epoch 63/100\n",
            "602/602 [==============================] - 0s 799us/step - loss: 0.0295 - val_loss: 0.1051\n",
            "Epoch 64/100\n",
            "602/602 [==============================] - 0s 770us/step - loss: 0.0284 - val_loss: 0.1046\n",
            "Epoch 65/100\n",
            "602/602 [==============================] - 0s 776us/step - loss: 0.0245 - val_loss: 0.1019\n",
            "Epoch 66/100\n",
            "602/602 [==============================] - 0s 777us/step - loss: 0.0225 - val_loss: 0.1035\n",
            "Epoch 67/100\n",
            "602/602 [==============================] - 0s 801us/step - loss: 0.0187 - val_loss: 0.0948\n",
            "Epoch 68/100\n",
            "602/602 [==============================] - 0s 776us/step - loss: 0.0176 - val_loss: 0.1025\n",
            "Epoch 69/100\n",
            "602/602 [==============================] - 0s 754us/step - loss: 0.0160 - val_loss: 0.0894\n",
            "Epoch 70/100\n",
            "602/602 [==============================] - 0s 805us/step - loss: 0.0127 - val_loss: 0.0928\n",
            "Epoch 71/100\n",
            "602/602 [==============================] - 0s 783us/step - loss: 0.0140 - val_loss: 0.0863\n",
            "Epoch 72/100\n",
            "602/602 [==============================] - 0s 778us/step - loss: 0.0144 - val_loss: 0.0887\n",
            "Epoch 73/100\n",
            "602/602 [==============================] - 0s 787us/step - loss: 0.0121 - val_loss: 0.0806\n",
            "Epoch 74/100\n",
            "602/602 [==============================] - 0s 763us/step - loss: 0.0091 - val_loss: 0.0801\n",
            "Epoch 75/100\n",
            "602/602 [==============================] - 0s 795us/step - loss: 0.0074 - val_loss: 0.0846\n",
            "Epoch 76/100\n",
            "602/602 [==============================] - 0s 760us/step - loss: 0.0097 - val_loss: 0.0772\n",
            "Epoch 77/100\n",
            "602/602 [==============================] - 0s 747us/step - loss: 0.0067 - val_loss: 0.0765\n",
            "Epoch 78/100\n",
            "602/602 [==============================] - 0s 776us/step - loss: 0.0093 - val_loss: 0.0811\n",
            "Epoch 79/100\n",
            "602/602 [==============================] - 0s 749us/step - loss: 0.0085 - val_loss: 0.0744\n",
            "Epoch 80/100\n",
            "602/602 [==============================] - 0s 830us/step - loss: 0.0079 - val_loss: 0.0753\n",
            "Epoch 81/100\n",
            "602/602 [==============================] - 0s 760us/step - loss: 0.0053 - val_loss: 0.0726\n",
            "Epoch 82/100\n",
            "602/602 [==============================] - 0s 783us/step - loss: 0.0061 - val_loss: 0.0805\n",
            "Epoch 83/100\n",
            "602/602 [==============================] - 0s 778us/step - loss: 0.0059 - val_loss: 0.0707\n",
            "Epoch 84/100\n",
            "602/602 [==============================] - 0s 765us/step - loss: 0.0058 - val_loss: 0.0740\n",
            "Epoch 85/100\n",
            "602/602 [==============================] - 0s 809us/step - loss: 0.0051 - val_loss: 0.0702\n",
            "Epoch 86/100\n",
            "602/602 [==============================] - 0s 780us/step - loss: 0.0067 - val_loss: 0.0711\n",
            "Epoch 87/100\n",
            "602/602 [==============================] - 0s 778us/step - loss: 0.0038 - val_loss: 0.0700\n",
            "Epoch 88/100\n",
            "602/602 [==============================] - 0s 750us/step - loss: 0.0045 - val_loss: 0.0694\n",
            "Epoch 89/100\n",
            "602/602 [==============================] - 0s 759us/step - loss: 0.0049 - val_loss: 0.0693\n",
            "Epoch 90/100\n",
            "602/602 [==============================] - 0s 789us/step - loss: 0.0053 - val_loss: 0.0684\n",
            "Epoch 91/100\n",
            "602/602 [==============================] - 0s 782us/step - loss: 0.0046 - val_loss: 0.0695\n",
            "Epoch 92/100\n",
            "602/602 [==============================] - 0s 797us/step - loss: 0.0033 - val_loss: 0.0680\n",
            "Epoch 93/100\n",
            "602/602 [==============================] - 0s 768us/step - loss: 0.0072 - val_loss: 0.0685\n",
            "Epoch 94/100\n",
            "602/602 [==============================] - 0s 778us/step - loss: 0.0031 - val_loss: 0.0671\n",
            "Epoch 95/100\n",
            "602/602 [==============================] - 0s 793us/step - loss: 0.0030 - val_loss: 0.0671\n",
            "Epoch 96/100\n",
            "602/602 [==============================] - 0s 782us/step - loss: 0.0066 - val_loss: 0.0718\n",
            "Epoch 97/100\n",
            "602/602 [==============================] - 0s 797us/step - loss: 0.0036 - val_loss: 0.0660\n",
            "Epoch 98/100\n",
            "602/602 [==============================] - 0s 748us/step - loss: 0.0045 - val_loss: 0.0716\n",
            "Epoch 99/100\n",
            "602/602 [==============================] - 0s 766us/step - loss: 0.0039 - val_loss: 0.0660\n",
            "Epoch 100/100\n",
            "602/602 [==============================] - 0s 799us/step - loss: 0.0025 - val_loss: 0.0677\n",
            "602/602 [==============================] - 0s 183us/step\n"
          ],
          "name": "stdout"
        },
        {
          "output_type": "display_data",
          "data": {
            "text/plain": [
              "'[test_loss]'"
            ]
          },
          "metadata": {
            "tags": []
          }
        },
        {
          "output_type": "display_data",
          "data": {
            "text/plain": [
              "0.21495402678290376"
            ]
          },
          "metadata": {
            "tags": []
          }
        }
      ]
    },
    {
      "metadata": {
        "id": "yT06xWoTT3o_",
        "colab_type": "code",
        "colab": {
          "base_uri": "https://localhost:8080/",
          "height": 34
        },
        "outputId": "13f1bb5c-0caf-4937-b31d-9eea7b74c2ca"
      },
      "cell_type": "code",
      "source": [
        "predictions4.squeeze().shape"
      ],
      "execution_count": 1021,
      "outputs": [
        {
          "output_type": "execute_result",
          "data": {
            "text/plain": [
              "(602, 6)"
            ]
          },
          "metadata": {
            "tags": []
          },
          "execution_count": 1021
        }
      ]
    },
    {
      "metadata": {
        "id": "hPqanp-SKFO6",
        "colab_type": "code",
        "colab": {
          "base_uri": "https://localhost:8080/",
          "height": 297
        },
        "outputId": "825a77a0-b1e9-4764-b99e-ca6009b9fe9a"
      },
      "cell_type": "code",
      "source": [
        "\n",
        "# Model 1 \n",
        "predictions4 = autoencoder4.predict(x_test2,batch_size=32)\n",
        "\n",
        "mse4 = np.mean(np.power(x_test2.squeeze() - predictions4.squeeze(), 2), axis=1)\n",
        "#acc = K.categorical_accuracy(x_test,predictions)\n",
        "error_df4 = pd.DataFrame({'reconstruction_error': mse4,\n",
        "                         'true_class': np.array(y_test)})\n",
        "\n",
        "display(error_df4.describe())\n",
        "\n",
        "# # Model 2 \n",
        "\n",
        "# predictions2 = autoencoder2.predict(x_test2,batch_size=32)\n",
        "# mse2 = np.mean(np.power(x_test2 - predictions2, 2), axis=1)\n",
        "# error_df2 = pd.DataFrame({'reconstruction_error': mse2,\n",
        "#                          'true_class': np.array(y_test)})\n",
        "\n",
        "# error_df2.describe()\n"
      ],
      "execution_count": 1022,
      "outputs": [
        {
          "output_type": "display_data",
          "data": {
            "text/html": [
              "<div>\n",
              "<style scoped>\n",
              "    .dataframe tbody tr th:only-of-type {\n",
              "        vertical-align: middle;\n",
              "    }\n",
              "\n",
              "    .dataframe tbody tr th {\n",
              "        vertical-align: top;\n",
              "    }\n",
              "\n",
              "    .dataframe thead th {\n",
              "        text-align: right;\n",
              "    }\n",
              "</style>\n",
              "<table border=\"1\" class=\"dataframe\">\n",
              "  <thead>\n",
              "    <tr style=\"text-align: right;\">\n",
              "      <th></th>\n",
              "      <th>reconstruction_error</th>\n",
              "      <th>true_class</th>\n",
              "    </tr>\n",
              "  </thead>\n",
              "  <tbody>\n",
              "    <tr>\n",
              "      <th>count</th>\n",
              "      <td>602.000000</td>\n",
              "      <td>602.000000</td>\n",
              "    </tr>\n",
              "    <tr>\n",
              "      <th>mean</th>\n",
              "      <td>0.065620</td>\n",
              "      <td>0.511628</td>\n",
              "    </tr>\n",
              "    <tr>\n",
              "      <th>std</th>\n",
              "      <td>0.078962</td>\n",
              "      <td>0.500280</td>\n",
              "    </tr>\n",
              "    <tr>\n",
              "      <th>min</th>\n",
              "      <td>0.000191</td>\n",
              "      <td>0.000000</td>\n",
              "    </tr>\n",
              "    <tr>\n",
              "      <th>25%</th>\n",
              "      <td>0.001037</td>\n",
              "      <td>0.000000</td>\n",
              "    </tr>\n",
              "    <tr>\n",
              "      <th>50%</th>\n",
              "      <td>0.001040</td>\n",
              "      <td>1.000000</td>\n",
              "    </tr>\n",
              "    <tr>\n",
              "      <th>75%</th>\n",
              "      <td>0.161493</td>\n",
              "      <td>1.000000</td>\n",
              "    </tr>\n",
              "    <tr>\n",
              "      <th>max</th>\n",
              "      <td>0.161712</td>\n",
              "      <td>1.000000</td>\n",
              "    </tr>\n",
              "  </tbody>\n",
              "</table>\n",
              "</div>"
            ],
            "text/plain": [
              "       reconstruction_error  true_class\n",
              "count            602.000000  602.000000\n",
              "mean               0.065620    0.511628\n",
              "std                0.078962    0.500280\n",
              "min                0.000191    0.000000\n",
              "25%                0.001037    0.000000\n",
              "50%                0.001040    1.000000\n",
              "75%                0.161493    1.000000\n",
              "max                0.161712    1.000000"
            ]
          },
          "metadata": {
            "tags": []
          }
        }
      ]
    },
    {
      "metadata": {
        "id": "iNPd9ZFrTkIJ",
        "colab_type": "code",
        "colab": {
          "base_uri": "https://localhost:8080/",
          "height": 348
        },
        "outputId": "67380cba-d05d-4db4-9478-1df703ff149a"
      },
      "cell_type": "code",
      "source": [
        "fig = plt.figure()\n",
        "ax = fig.add_subplot(111)\n",
        "normal_error_df4 = error_df4[(error_df4['true_class']== 0) & (error_df4['reconstruction_error'] < 10)]\n",
        "_ = ax.hist(normal_error_df4.reconstruction_error.values, bins=10)\n"
      ],
      "execution_count": 1023,
      "outputs": [
        {
          "output_type": "display_data",
          "data": {
            "image/png": "[encoded data removed]",
            "text/plain": [
              "<matplotlib.figure.Figure at 0x7ff4493a8828>"
            ]
          },
          "metadata": {
            "tags": []
          }
        }
      ]
    },
    {
      "metadata": {
        "id": "Hdm2DS1LUDeq",
        "colab_type": "code",
        "colab": {
          "base_uri": "https://localhost:8080/",
          "height": 347
        },
        "outputId": "3de8568c-ef31-491e-a97c-f42456c5d884"
      },
      "cell_type": "code",
      "source": [
        "fig = plt.figure()\n",
        "ax = fig.add_subplot(111)\n",
        "anomaly_error_df4 = error_df4[error_df4['true_class'] == 1]\n",
        "_ = ax.hist(anomaly_error_df4.reconstruction_error.values, bins=10)\n",
        "threshold4 = np.median(np.hstack((normal_error_df4['reconstruction_error'] , anomaly_error_df4['reconstruction_error'])))\n"
      ],
      "execution_count": 1024,
      "outputs": [
        {
          "output_type": "display_data",
          "data": {
            "image/png": "[encoded data removed]",
            "text/plain": [
              "<matplotlib.figure.Figure at 0x7ff4608d1be0>"
            ]
          },
          "metadata": {
            "tags": []
          }
        }
      ]
    },
    {
      "metadata": {
        "id": "KnyTt44aUNV3",
        "colab_type": "code",
        "colab": {
          "base_uri": "https://localhost:8080/",
          "height": 376
        },
        "outputId": "c9b97dd2-6298-4aeb-8729-4fab343b7f12"
      },
      "cell_type": "code",
      "source": [
        "from sklearn.metrics import (confusion_matrix, precision_recall_curve, auc,\n",
        "                             roc_curve, recall_score, classification_report, f1_score,\n",
        "                             precision_recall_fscore_support)\n",
        "\n",
        "fpr4, tpr4, thresholds = roc_curve(error_df4.true_class, error_df4.reconstruction_error)\n",
        "roc_auc4 = auc(fpr4, tpr4)\n",
        "\n",
        "plt.title('Receiver Operating Characteristic')\n",
        "plt.plot(fpr4, tpr4, label='AUC = %0.4f'% roc_auc4)\n",
        "plt.legend(loc='lower right')\n",
        "plt.plot([0,1],[0,1],'r--')\n",
        "plt.xlim([-0.001, 1])\n",
        "plt.ylim([0, 1.001])\n",
        "plt.ylabel('True Positive Rate')\n",
        "plt.xlabel('False Positive Rate')\n",
        "plt.show();"
      ],
      "execution_count": 1025,
      "outputs": [
        {
          "output_type": "display_data",
          "data": {
            "image/png": "[encoded data removed]",
            "text/plain": [
              "<matplotlib.figure.Figure at 0x7ff4493b1a90>"
            ]
          },
          "metadata": {
            "tags": []
          }
        }
      ]
    },
    {
      "metadata": {
        "id": "cvQpOga5fchk",
        "colab_type": "code",
        "colab": {
          "base_uri": "https://localhost:8080/",
          "height": 34
        },
        "outputId": "6e1fcd10-85e1-4f83-fe5c-0d780d6b8ce8"
      },
      "cell_type": "code",
      "source": [
        "threshold4"
      ],
      "execution_count": 1026,
      "outputs": [
        {
          "output_type": "execute_result",
          "data": {
            "text/plain": [
              "0.0010398110216724883"
            ]
          },
          "metadata": {
            "tags": []
          },
          "execution_count": 1026
        }
      ]
    },
    {
      "metadata": {
        "id": "5vzWfdzIUPdO",
        "colab_type": "code",
        "colab": {
          "base_uri": "https://localhost:8080/",
          "height": 376
        },
        "outputId": "36bf4434-5995-4691-d6a7-a1308d0e7b1f"
      },
      "cell_type": "code",
      "source": [
        "threshold = threshold4\n",
        "\n",
        "groups = error_df4.groupby('true_class')\n",
        "fig, ax = plt.subplots()\n",
        "\n",
        "for name, group in groups:\n",
        "    ax.plot(group.index, group.reconstruction_error, marker='o', ms=3.5, linestyle='',\n",
        "            label= \"Anomaly\" if name == 1 else \"Normal\")\n",
        "ax.hlines(threshold, ax.get_xlim()[0], ax.get_xlim()[1], colors=\"r\", zorder=100, label='Threshold')\n",
        "ax.legend()\n",
        "plt.title(\"Reconstruction error for different classes\")\n",
        "plt.ylabel(\"Reconstruction error\")\n",
        "plt.xlabel(\"Data point index\")\n",
        "plt.show();"
      ],
      "execution_count": 1027,
      "outputs": [
        {
          "output_type": "display_data",
          "data": {
            "image/png": "[encoded data removed]",
            "text/plain": [
              "<matplotlib.figure.Figure at 0x7ff47f62a630>"
            ]
          },
          "metadata": {
            "tags": []
          }
        }
      ]
    },
    {
      "metadata": {
        "id": "9COnrZoEfOCu",
        "colab_type": "code",
        "colab": {
          "base_uri": "https://localhost:8080/",
          "height": 729
        },
        "outputId": "a81a2d02-1d68-4ef6-ba38-5bbe21a32aa7"
      },
      "cell_type": "code",
      "source": [
        "LABELS = [\"Normal\", \"Anomaly\"]\n",
        "y_pred = [1 if e > threshold else 0 for e in error_df4.reconstruction_error.values]\n",
        "conf_matrix = confusion_matrix(error_df4.true_class, y_pred)\n",
        "\n",
        "plt.figure(figsize=(12, 12))\n",
        "sns.heatmap(conf_matrix, xticklabels=LABELS, yticklabels=LABELS, annot=True, fmt=\"d\");\n",
        "plt.title(\"Confusion matrix\")\n",
        "plt.ylabel('True class')\n",
        "plt.xlabel('Predicted class')\n",
        "plt.show()\n",
        "\n"
      ],
      "execution_count": 1028,
      "outputs": [
        {
          "output_type": "display_data",
          "data": {
            "image/png": "[encoded data removed]",
            "text/plain": [
              "<matplotlib.figure.Figure at 0x7ff4464ff6a0>"
            ]
          },
          "metadata": {
            "tags": []
          }
        }
      ]
    },
    {
      "metadata": {
        "id": "Lrbm4QCdfUqS",
        "colab_type": "code",
        "colab": {}
      },
      "cell_type": "code",
      "source": [
        ""
      ],
      "execution_count": 0,
      "outputs": []
    }
  ]
}